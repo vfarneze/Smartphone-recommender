{
 "cells": [
  {
   "cell_type": "code",
   "execution_count": 1,
   "metadata": {},
   "outputs": [],
   "source": [
    "import requests\n",
    "from bs4 import BeautifulSoup\n",
    "from tqdm import tqdm\n",
    "import pandas as pd\n",
    "import re\n",
    "from datetime import datetime\n",
    "import time\n",
    "from selenium import webdriver"
   ]
  },
  {
   "cell_type": "code",
   "execution_count": 2,
   "metadata": {},
   "outputs": [
    {
     "name": "stdout",
     "output_type": "stream",
     "text": [
      "requests version: 2.22.0\n"
     ]
    }
   ],
   "source": [
    "print('requests version:', requests.__version__)"
   ]
  },
  {
   "cell_type": "markdown",
   "metadata": {},
   "source": [
    "# Web scraping https://www.fastshop.com.br/web/"
   ]
  },
  {
   "cell_type": "markdown",
   "metadata": {},
   "source": [
    "Main search: https://www.fastshop.com.br/web/c/22561/smartphones\n",
    "\n",
    "Possible \"marcas\": Apple (107), Samsung (80), Asus (31), Motorola (25), Multilaser (18), Huawei (7), LG (3), Sony (1). (as of 2020-05-07)\n",
    "\n",
    "This website generate the tags with javascript, so we will need an advanced webscraping!\n",
    "Only requests.get and beautiful soup won't be enough! We will need to use **selenium**!"
   ]
  },
  {
   "cell_type": "markdown",
   "metadata": {},
   "source": [
    "The best aproach until now was:\n",
    "* 1- Since products only load when we scroll down the page, we will use selenium until all products are shown\n",
    "* 2- We then do a for loop and analyse each soup product, collect values/text/links and store in a datafram.\n",
    "* 3- The dataframe is then stored in a csv."
   ]
  },
  {
   "cell_type": "markdown",
   "metadata": {},
   "source": [
    "# General Functions and main code"
   ]
  },
  {
   "cell_type": "code",
   "execution_count": 3,
   "metadata": {
    "code_folding": [
     0
    ]
   },
   "outputs": [],
   "source": [
    "def get_products_with_selenium(url):\n",
    "    \"\"\"This function uses selenium to access a url/website from fastshop.\n",
    "    It will use scrolling down to load all products, since fastshop.com uses\n",
    "    javascript to generate values, so seeking the page html source won't work.\n",
    "    It returns a list with products selected from the html elements.\n",
    "    This function works like this:\n",
    "    1- instantiate driver and get url.\n",
    "    2- scroll down and detect the number of products.\n",
    "    3- it returns the products list when the number of \"detected\" products\n",
    "    doen't change.\n",
    "    \n",
    "    \"\"\"\n",
    "    \n",
    "    driver = webdriver.Chrome(executable_path='../../chromedriver.exe')\n",
    "\n",
    "    driver.get(url)\n",
    "\n",
    "    product_number = 1\n",
    "\n",
    "    while True:\n",
    "\n",
    "        driver.execute_script(\"window.scrollTo(0, document.body.scrollHeight);\")\n",
    "        time.sleep(10)\n",
    "\n",
    "        content_element = driver.find_element_by_css_selector('body')\n",
    "        content_html = content_element.get_attribute(\"innerHTML\")\n",
    "        soup = BeautifulSoup(content_html, \"html.parser\")\n",
    "        products = soup.find_all('app-product-item')\n",
    "\n",
    "        if product_number == len(products):\n",
    "            break\n",
    "        else:\n",
    "            product_number = len(products)\n",
    "\n",
    "    return products"
   ]
  },
  {
   "cell_type": "code",
   "execution_count": 4,
   "metadata": {
    "code_folding": [
     0
    ]
   },
   "outputs": [],
   "source": [
    "def tagslist_to_dataframe(products):\n",
    "    \"\"\"This function receives a bs4.element.Tags list scraped from the fastshop.com website\n",
    "    and returns a dataframe with informations like: title, prod_description, link for product\n",
    "    link for image and a timestamp\n",
    "    \"\"\"\n",
    "    results = pd.DataFrame()\n",
    "\n",
    "    for product in products:\n",
    "        image = product.find_all('img')[1]\n",
    "        minidf = pd.DataFrame({'title':image['title'],\n",
    "                               'prod_description':product.text,\n",
    "                               'prod_link':'https://www.fastshop.com.br/' + product.find_all('a')[0]['href'],\n",
    "                               'img_src':image['src'],\n",
    "                               'timestamp':datetime.now()}, index=[0])\n",
    "        results = pd.concat([results,minidf])\n",
    "\n",
    "    return results.reset_index()"
   ]
  },
  {
   "cell_type": "code",
   "execution_count": 5,
   "metadata": {
    "code_folding": []
   },
   "outputs": [],
   "source": [
    "def save_to_csv(dataframe, name):\n",
    "    \"\"\"This function takes a dataframe and stores it with a yyyy-mm-dd-hh.csv stamp,\n",
    "    with cp1252 enconding\"\"\"\n",
    "    t = datetime.now()\n",
    "    time = f'{str(t.year)}y-{str(t.month)}m-{str(t.day)}d-{str(t.hour)}h'\n",
    "    dataframe.to_csv('storage/' + name + time + '.csv', encoding='cp1252', index=False)\n",
    "    print(name + ' saved at: ' + time)"
   ]
  },
  {
   "cell_type": "code",
   "execution_count": 6,
   "metadata": {},
   "outputs": [],
   "source": [
    "url = 'https://www.fastshop.com.br/web/c/22561/smartphones'\n",
    "products = get_products_with_selenium(url)"
   ]
  },
  {
   "cell_type": "code",
   "execution_count": 7,
   "metadata": {},
   "outputs": [
    {
     "name": "stdout",
     "output_type": "stream",
     "text": [
      "fastshop_raw saved at: 2020y-5m-14d-15h\n"
     ]
    }
   ],
   "source": [
    "results = tagslist_to_dataframe(products)\n",
    "save_to_csv(results, 'fastshop_raw')"
   ]
  }
 ],
 "metadata": {
  "kernelspec": {
   "display_name": "Python 3",
   "language": "python",
   "name": "python3"
  },
  "language_info": {
   "codemirror_mode": {
    "name": "ipython",
    "version": 3
   },
   "file_extension": ".py",
   "mimetype": "text/x-python",
   "name": "python",
   "nbconvert_exporter": "python",
   "pygments_lexer": "ipython3",
   "version": "3.8.1"
  },
  "toc": {
   "base_numbering": 1,
   "nav_menu": {},
   "number_sections": true,
   "sideBar": true,
   "skip_h1_title": false,
   "title_cell": "Table of Contents",
   "title_sidebar": "Contents",
   "toc_cell": false,
   "toc_position": {},
   "toc_section_display": true,
   "toc_window_display": false
  },
  "varInspector": {
   "cols": {
    "lenName": 16,
    "lenType": 16,
    "lenVar": 40
   },
   "kernels_config": {
    "python": {
     "delete_cmd_postfix": "",
     "delete_cmd_prefix": "del ",
     "library": "var_list.py",
     "varRefreshCmd": "print(var_dic_list())"
    },
    "r": {
     "delete_cmd_postfix": ") ",
     "delete_cmd_prefix": "rm(",
     "library": "var_list.r",
     "varRefreshCmd": "cat(var_dic_list()) "
    }
   },
   "types_to_exclude": [
    "module",
    "function",
    "builtin_function_or_method",
    "instance",
    "_Feature"
   ],
   "window_display": false
  }
 },
 "nbformat": 4,
 "nbformat_minor": 4
}
