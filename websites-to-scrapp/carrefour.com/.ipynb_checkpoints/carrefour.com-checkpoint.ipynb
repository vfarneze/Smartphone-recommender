{
 "cells": [
  {
   "cell_type": "code",
   "execution_count": 2,
   "metadata": {},
   "outputs": [],
   "source": [
    "import requests\n",
    "from bs4 import BeautifulSoup\n",
    "from tqdm import tqdm\n",
    "import pandas as pd\n",
    "import re\n",
    "from datetime import datetime\n",
    "import time\n",
    "from selenium import webdriver"
   ]
  },
  {
   "cell_type": "code",
   "execution_count": 31,
   "metadata": {},
   "outputs": [
    {
     "name": "stdout",
     "output_type": "stream",
     "text": [
      "requests version: 2.22.0\n"
     ]
    }
   ],
   "source": [
    "print('requests version:', requests.__version__)"
   ]
  },
  {
   "cell_type": "markdown",
   "metadata": {},
   "source": [
    "# Web scraping https://"
   ]
  },
  {
   "cell_type": "markdown",
   "metadata": {},
   "source": [
    "Main search: https://busca.carrefour.com.br/busca?q=smartphone&common_filter[1]=12668&results_per_page=2000&sort=6&page=1\n",
    "\n",
    "This website's products can be accessed with only a main url and different pages. There are many products listed, but some have prices (available) and others are \"unavailable\", but you can get the price within the source code."
   ]
  },
  {
   "cell_type": "markdown",
   "metadata": {},
   "source": [
    "The best aproach until now was:\n",
    "* 1- Load the main search page and get 1st soup.\n",
    "* 2- Load products from soup, store on a list of product_tags (html_chunks), and load next page.\n",
    "* 3- Process is kept until the last page has a number of products of\n",
    "* 4- The products infos are extracted from the list and stored in a dataframe."
   ]
  },
  {
   "cell_type": "markdown",
   "metadata": {},
   "source": [
    "# General Functions and main code"
   ]
  },
  {
   "cell_type": "markdown",
   "metadata": {},
   "source": [
    "## Extraction"
   ]
  },
  {
   "cell_type": "code",
   "execution_count": 32,
   "metadata": {
    "code_folding": [
     0
    ]
   },
   "outputs": [],
   "source": [
    "def get_url(page, results_per_page=1000):\n",
    "    \"\"\"This function receives a number (page) and returns an url for the website from carrefour.com\"\"\"\n",
    "    url1 = 'https://busca.carrefour.com.br/busca?q=smartphone&common_filter[1]=12668'\n",
    "    url2 = f'&results_per_page={results_per_page}&sort=6'\n",
    "    url3 = f'&page={page}'\n",
    "\n",
    "    url = url1 + url2 + url3\n",
    "    \n",
    "    return url"
   ]
  },
  {
   "cell_type": "code",
   "execution_count": 33,
   "metadata": {
    "code_folding": [
     0
    ]
   },
   "outputs": [],
   "source": [
    "def get_soup_from_url(url):\n",
    "    \"\"\"This function gets an url and returns a bs4 soup\"\"\"\n",
    "    \n",
    "    headers = {\n",
    "            'user-agent': 'Mozilla/5.0 (Macintosh; Intel Mac OS X 10_11_6) AppleWebKit/537.36 (KHTML, like Gecko) Chrome/56.0.2924.87 Safari/537.36',\n",
    "        }\n",
    "    response = requests.get(url,headers=headers)\n",
    "    soup = BeautifulSoup(response.content)\n",
    "    return soup"
   ]
  },
  {
   "cell_type": "code",
   "execution_count": 46,
   "metadata": {
    "code_folding": [
     0
    ],
    "scrolled": false
   },
   "outputs": [],
   "source": [
    "def get_products_from_soup(soup, show=False):\n",
    "    \"\"\"This function receives a soup  comming from carrefour.com and gets products 'available' and 'unavailable' from it,\n",
    "    by using different tags/classes. It returns a list containing the products which are pieces of the soup.\"\"\"\n",
    "\n",
    "    products_container = soup.find_all('ul', attrs= {'class':\"neemu-products-container nm-view-type-grid\"})[0]\n",
    "\n",
    "    products = products_container.find_all('li', attrs= {'class':\"nm-product-item nm-no-quantity\"})\n",
    "    products_unavailable = products_container.find_all('li', attrs= {'class':\"nm-product-item nm-no-quantity is-unavailable\"})\n",
    "    \n",
    "    if show:\n",
    "        print(f'foram encontrados {len(products)} produtos disponíveis e {len(products_unavailable)} indisponíveis')\n",
    "        print(f'\\ntotalizando {len(products)+len(products_unavailable)} produtos.')\n",
    "    \n",
    "    return products, products_unavailable"
   ]
  },
  {
   "cell_type": "code",
   "execution_count": 56,
   "metadata": {
    "code_folding": [
     0
    ]
   },
   "outputs": [],
   "source": [
    "def extraction_from_carrefour(results_per_page=1000, show=False):\n",
    "    \"\"\"This function excecutes the main extraction code for getting all products from carrefour.com, as a list of\n",
    "    'soup pieces' ( bs4 elements or html_chunks), which are html codes with information for each product from carrefour.com.\n",
    "    It receives nothing and returns a list of products.\n",
    "    If 'show' = True, it prints amount of available and unavailable products for each page.\"\"\"\n",
    "    \n",
    "    \n",
    "    #starting conditions\n",
    "    page, total_available_products, total_unavailable_products = 1, [], []\n",
    "    \n",
    "    while True:\n",
    "\n",
    "        url = get_url(page)\n",
    "        soup = get_soup_from_url(url)\n",
    "        \n",
    "        try:\n",
    "            products, products_unavailable = get_products_from_soup(soup, show)        \n",
    "        except:\n",
    "            print('there are no products on this url, extraction concluded!')\n",
    "            break\n",
    "\n",
    "        total_products = products + products_unavailable        \n",
    "        total_available_products += products\n",
    "        total_unavailable_products += products_unavailable\n",
    "        \n",
    "        #if the amount of products is less than 1000\n",
    "        if len(total_products) != results_per_page:\n",
    "            break\n",
    "        \n",
    "        page += 1\n",
    "        \n",
    "    return total_available_products, total_unavailable_products"
   ]
  },
  {
   "cell_type": "markdown",
   "metadata": {},
   "source": [
    "## Transform"
   ]
  },
  {
   "cell_type": "code",
   "execution_count": 63,
   "metadata": {
    "code_folding": [
     0
    ]
   },
   "outputs": [],
   "source": [
    "def get_info_from_product(product, product_available=True):\n",
    "    \"\"\"This function receives a list of products (list of bs4 elements) and extracts useful information regarding\n",
    "    products from a website (here, its carrefour.com). It returns a single-row dataframe with the following data: \n",
    "    'title', 'old_price', 'price', 'parcelas' (installments or payment plan), 'image_link', 'product_link'\n",
    "    and 'produto_disponível' (Yes/No representing if a product is available)\"\"\"\n",
    "\n",
    "    title = product.find_all('a')[0]['title']\n",
    "\n",
    "    price = product.find_all('span', attrs={'class':\"nm-price-value\"})[0].text.strip()\n",
    "    price = int(''.join(re.findall('\\d',price)))/100\n",
    "    \n",
    "    old_price_list = product.find_all('span', attrs={'class':\"nm-old-price-value\"})\n",
    "    try:\n",
    "        old_price = int(''.join(re.findall('\\d',old_price_list[0].text)))/100\n",
    "    except:\n",
    "        old_price = price\n",
    "\n",
    "    parcelas = product.find_all('div', attrs={'class':\"nm-installment-container\"})[0].text.strip().split(' ')\n",
    "    parcelas = ''.join(parcelas).replace('\\n',' ')\n",
    "\n",
    "    image_link = product.find_all('img')[0]['src'].split('//')[1]\n",
    "    product_link = product.find_all('a')[0]['href'].split('//')[1]\n",
    "\n",
    "    if product_available:       \n",
    "        produto_disponível = \"Yes\"\n",
    "    else:\n",
    "        produto_disponível = \"No\"\n",
    "    \n",
    "    minidf = pd.DataFrame({'title' : title, \n",
    "                           'old_price' : old_price, \n",
    "                           'price' : price, \n",
    "                           'parcelas' : parcelas, \n",
    "                           'image_link' : image_link, \n",
    "                           'product_link' : product_link,\n",
    "                           'produto_disponível' : produto_disponível}, index=[0])\n",
    "    \n",
    "    return minidf"
   ]
  },
  {
   "cell_type": "code",
   "execution_count": 37,
   "metadata": {
    "code_folding": [
     0
    ]
   },
   "outputs": [],
   "source": [
    "def get_info_from_all_products(products, product_available=True):\n",
    "    \"\"\"This function is the main function for getting all products information from a website (here, its carrefour.com).\n",
    "    It receives a list of products (list of bs4 elements) and iterate over each product, and extracts the data using\n",
    "    another function (get_info_from_product), concatenating all data in a single dataframe, which is then returned\"\"\"\n",
    "    \n",
    "    results = pd.DataFrame()\n",
    "\n",
    "    for product in tqdm(products):\n",
    "        minidf = get_info_from_product(product, product_available)\n",
    "        results = pd.concat([results,minidf])\n",
    "\n",
    "    results.reset_index(drop=True, inplace=True)\n",
    "\n",
    "    return results"
   ]
  },
  {
   "cell_type": "markdown",
   "metadata": {},
   "source": [
    "## Load"
   ]
  },
  {
   "cell_type": "code",
   "execution_count": 1,
   "metadata": {
    "code_folding": []
   },
   "outputs": [],
   "source": [
    "def save_to_csv(dataframe, name):\n",
    "    \"\"\"This function takes a dataframe and stores it with a yyyy-mm-dd-hh.csv stamp,\n",
    "    with cp1252 enconding\"\"\"\n",
    "    t = datetime.now()\n",
    "    time = f'{str(t.year)}y-{str(t.month)}m-{str(t.day)}d-{str(t.hour)}h'\n",
    "    dataframe.to_csv('storage/' + name + time + '.csv', encoding='cp1252', index=False)\n",
    "    print(name + ' saved at: ' + time)"
   ]
  },
  {
   "cell_type": "markdown",
   "metadata": {},
   "source": [
    "# Main code"
   ]
  },
  {
   "cell_type": "code",
   "execution_count": 68,
   "metadata": {},
   "outputs": [
    {
     "name": "stdout",
     "output_type": "stream",
     "text": [
      "extracting products\n",
      "extraction concluded: \n",
      "727 available products\n",
      "3448 unavailable products\n",
      "getting available products:\n"
     ]
    },
    {
     "name": "stderr",
     "output_type": "stream",
     "text": [
      "100%|██████████| 727/727 [00:09<00:00, 75.10it/s]\n"
     ]
    },
    {
     "name": "stdout",
     "output_type": "stream",
     "text": [
      "getting unavailable products:\n"
     ]
    },
    {
     "name": "stderr",
     "output_type": "stream",
     "text": [
      "100%|██████████| 3448/3448 [00:47<00:00, 73.18it/s]\n"
     ]
    },
    {
     "name": "stdout",
     "output_type": "stream",
     "text": [
      "carrefour_raw saved at: 2020y-5m-15d-11h\n"
     ]
    }
   ],
   "source": [
    "print('extracting products')\n",
    "products, products_unavailable = extraction_from_carrefour()\n",
    "print(f'extraction concluded: \\n{len(products)} available products\\n{len(products_unavailable)} unavailable products')\n",
    "print('getting available products:')\n",
    "time.sleep(1)\n",
    "prod_av_res = get_info_from_all_products(products, product_available=True)\n",
    "print('getting unavailable products:')\n",
    "time.sleep(1)\n",
    "prod_un_res = get_info_from_all_products(products_unavailable, product_available=False)\n",
    "results = pd.concat([prod_av_res, prod_un_res]).reset_index(drop=True)\n",
    "save_to_csv(results, 'carrefour_raw')"
   ]
  },
  {
   "cell_type": "code",
   "execution_count": 69,
   "metadata": {},
   "outputs": [
    {
     "data": {
      "text/html": [
       "<div>\n",
       "<style scoped>\n",
       "    .dataframe tbody tr th:only-of-type {\n",
       "        vertical-align: middle;\n",
       "    }\n",
       "\n",
       "    .dataframe tbody tr th {\n",
       "        vertical-align: top;\n",
       "    }\n",
       "\n",
       "    .dataframe thead th {\n",
       "        text-align: right;\n",
       "    }\n",
       "</style>\n",
       "<table border=\"1\" class=\"dataframe\">\n",
       "  <thead>\n",
       "    <tr style=\"text-align: right;\">\n",
       "      <th></th>\n",
       "      <th>title</th>\n",
       "      <th>old_price</th>\n",
       "      <th>price</th>\n",
       "      <th>parcelas</th>\n",
       "      <th>image_link</th>\n",
       "      <th>product_link</th>\n",
       "      <th>produto_disponível</th>\n",
       "    </tr>\n",
       "  </thead>\n",
       "  <tbody>\n",
       "    <tr>\n",
       "      <th>727</th>\n",
       "      <td>Iphone 11 256gb Desbloqueado Mwm72bz a Apple P...</td>\n",
       "      <td>9800.00</td>\n",
       "      <td>9800.00</td>\n",
       "      <td>Até 10xdeR$980,00  sem juros</td>\n",
       "      <td>static.carrefour.com.br/medias/sys_master/imag...</td>\n",
       "      <td>www.carrefour.com.br/Iphone-11-256gb-Desbloque...</td>\n",
       "      <td>No</td>\n",
       "    </tr>\n",
       "    <tr>\n",
       "      <th>728</th>\n",
       "      <td>iPhone 11 Pro Max 256GB - Prata</td>\n",
       "      <td>8599.00</td>\n",
       "      <td>8599.00</td>\n",
       "      <td>Até 10xdeR$955,44  sem juros</td>\n",
       "      <td>static.carrefour.com.br/medias/sys_master/imag...</td>\n",
       "      <td>www.carrefour.com.br/iPhone-11-Pro-Max-256GB-P...</td>\n",
       "      <td>No</td>\n",
       "    </tr>\n",
       "    <tr>\n",
       "      <th>729</th>\n",
       "      <td>iPhone XS Max Apple Prata, 512GB Desbloqueado ...</td>\n",
       "      <td>9280.98</td>\n",
       "      <td>9280.98</td>\n",
       "      <td>Até 10xdeR$928,10  sem juros</td>\n",
       "      <td>static.carrefour.com.br/medias/sys_master/imag...</td>\n",
       "      <td>www.carrefour.com.br/iPhone-XS-Max-Apple-Prata...</td>\n",
       "      <td>No</td>\n",
       "    </tr>\n",
       "    <tr>\n",
       "      <th>730</th>\n",
       "      <td>iPhone 11 Pro 512GB - Dourado</td>\n",
       "      <td>8805.55</td>\n",
       "      <td>8805.55</td>\n",
       "      <td>Até 10xdeR$926,90  sem juros</td>\n",
       "      <td>static.carrefour.com.br/medias/sys_master/imag...</td>\n",
       "      <td>www.carrefour.com.br/iPhone-11-Pro-512GB-Doura...</td>\n",
       "      <td>No</td>\n",
       "    </tr>\n",
       "    <tr>\n",
       "      <th>731</th>\n",
       "      <td>Smartphone Xiaomi Mi 9 6.39Pol Ram 6GB 128GB 4...</td>\n",
       "      <td>8942.91</td>\n",
       "      <td>8942.91</td>\n",
       "      <td>Até 10xdeR$894,29  sem juros</td>\n",
       "      <td>static.carrefour.com.br/medias/sys_master/imag...</td>\n",
       "      <td>www.carrefour.com.br/Smartphone-Xiaomi-Mi-9-6-...</td>\n",
       "      <td>No</td>\n",
       "    </tr>\n",
       "    <tr>\n",
       "      <th>...</th>\n",
       "      <td>...</td>\n",
       "      <td>...</td>\n",
       "      <td>...</td>\n",
       "      <td>...</td>\n",
       "      <td>...</td>\n",
       "      <td>...</td>\n",
       "      <td>...</td>\n",
       "    </tr>\n",
       "    <tr>\n",
       "      <th>4170</th>\n",
       "      <td>Cabo Flex com Conector de Carga iPhone 6 Plus ...</td>\n",
       "      <td>55.00</td>\n",
       "      <td>55.00</td>\n",
       "      <td>em1xnoCartãoouBoleto</td>\n",
       "      <td>static.carrefour.com.br/medias/sys_master/imag...</td>\n",
       "      <td>www.carrefour.com.br/Cabo-Flex-com-Conector-de...</td>\n",
       "      <td>No</td>\n",
       "    </tr>\n",
       "    <tr>\n",
       "      <th>4171</th>\n",
       "      <td>Cabo Flex com Conector de Carga iPhone 5S Pret...</td>\n",
       "      <td>37.00</td>\n",
       "      <td>37.00</td>\n",
       "      <td>em1xnoCartãoouBoleto</td>\n",
       "      <td>static.carrefour.com.br/medias/sys_master/imag...</td>\n",
       "      <td>www.carrefour.com.br/Cabo-Flex-com-Conector-de...</td>\n",
       "      <td>No</td>\n",
       "    </tr>\n",
       "    <tr>\n",
       "      <th>4172</th>\n",
       "      <td>Cabo Flex com Conector de Carga iPhone 6 Branco</td>\n",
       "      <td>36.90</td>\n",
       "      <td>36.90</td>\n",
       "      <td>em1xnoCartãoouBoleto</td>\n",
       "      <td>static.carrefour.com.br/medias/sys_master/imag...</td>\n",
       "      <td>www.carrefour.com.br/Cabo-Flex-com-Conector-de...</td>\n",
       "      <td>No</td>\n",
       "    </tr>\n",
       "    <tr>\n",
       "      <th>4173</th>\n",
       "      <td>SUPORTE UNIVERSAL DE CELULAR SMARTPHONE VEICUL...</td>\n",
       "      <td>28.16</td>\n",
       "      <td>28.16</td>\n",
       "      <td>em1xnoCartãoouBoleto</td>\n",
       "      <td>static.carrefour.com.br/medias/sys_master/imag...</td>\n",
       "      <td>www.carrefour.com.br/SUPORTE-UNIVERSAL-DE-CELU...</td>\n",
       "      <td>No</td>\n",
       "    </tr>\n",
       "    <tr>\n",
       "      <th>4174</th>\n",
       "      <td>Iluminador Circular LED Celular/SmartPhone Sel...</td>\n",
       "      <td>20.16</td>\n",
       "      <td>20.16</td>\n",
       "      <td>em1xnoCartãoouBoleto</td>\n",
       "      <td>static.carrefour.com.br/medias/sys_master/imag...</td>\n",
       "      <td>www.carrefour.com.br/Iluminador-Circular-LED-C...</td>\n",
       "      <td>No</td>\n",
       "    </tr>\n",
       "  </tbody>\n",
       "</table>\n",
       "<p>3448 rows × 7 columns</p>\n",
       "</div>"
      ],
      "text/plain": [
       "                                                  title  old_price    price  \\\n",
       "727   Iphone 11 256gb Desbloqueado Mwm72bz a Apple P...    9800.00  9800.00   \n",
       "728                     iPhone 11 Pro Max 256GB - Prata    8599.00  8599.00   \n",
       "729   iPhone XS Max Apple Prata, 512GB Desbloqueado ...    9280.98  9280.98   \n",
       "730                       iPhone 11 Pro 512GB - Dourado    8805.55  8805.55   \n",
       "731   Smartphone Xiaomi Mi 9 6.39Pol Ram 6GB 128GB 4...    8942.91  8942.91   \n",
       "...                                                 ...        ...      ...   \n",
       "4170  Cabo Flex com Conector de Carga iPhone 6 Plus ...      55.00    55.00   \n",
       "4171  Cabo Flex com Conector de Carga iPhone 5S Pret...      37.00    37.00   \n",
       "4172    Cabo Flex com Conector de Carga iPhone 6 Branco      36.90    36.90   \n",
       "4173  SUPORTE UNIVERSAL DE CELULAR SMARTPHONE VEICUL...      28.16    28.16   \n",
       "4174  Iluminador Circular LED Celular/SmartPhone Sel...      20.16    20.16   \n",
       "\n",
       "                          parcelas  \\\n",
       "727   Até 10xdeR$980,00  sem juros   \n",
       "728   Até 10xdeR$955,44  sem juros   \n",
       "729   Até 10xdeR$928,10  sem juros   \n",
       "730   Até 10xdeR$926,90  sem juros   \n",
       "731   Até 10xdeR$894,29  sem juros   \n",
       "...                            ...   \n",
       "4170          em1xnoCartãoouBoleto   \n",
       "4171          em1xnoCartãoouBoleto   \n",
       "4172          em1xnoCartãoouBoleto   \n",
       "4173          em1xnoCartãoouBoleto   \n",
       "4174          em1xnoCartãoouBoleto   \n",
       "\n",
       "                                             image_link  \\\n",
       "727   static.carrefour.com.br/medias/sys_master/imag...   \n",
       "728   static.carrefour.com.br/medias/sys_master/imag...   \n",
       "729   static.carrefour.com.br/medias/sys_master/imag...   \n",
       "730   static.carrefour.com.br/medias/sys_master/imag...   \n",
       "731   static.carrefour.com.br/medias/sys_master/imag...   \n",
       "...                                                 ...   \n",
       "4170  static.carrefour.com.br/medias/sys_master/imag...   \n",
       "4171  static.carrefour.com.br/medias/sys_master/imag...   \n",
       "4172  static.carrefour.com.br/medias/sys_master/imag...   \n",
       "4173  static.carrefour.com.br/medias/sys_master/imag...   \n",
       "4174  static.carrefour.com.br/medias/sys_master/imag...   \n",
       "\n",
       "                                           product_link produto_disponível  \n",
       "727   www.carrefour.com.br/Iphone-11-256gb-Desbloque...                 No  \n",
       "728   www.carrefour.com.br/iPhone-11-Pro-Max-256GB-P...                 No  \n",
       "729   www.carrefour.com.br/iPhone-XS-Max-Apple-Prata...                 No  \n",
       "730   www.carrefour.com.br/iPhone-11-Pro-512GB-Doura...                 No  \n",
       "731   www.carrefour.com.br/Smartphone-Xiaomi-Mi-9-6-...                 No  \n",
       "...                                                 ...                ...  \n",
       "4170  www.carrefour.com.br/Cabo-Flex-com-Conector-de...                 No  \n",
       "4171  www.carrefour.com.br/Cabo-Flex-com-Conector-de...                 No  \n",
       "4172  www.carrefour.com.br/Cabo-Flex-com-Conector-de...                 No  \n",
       "4173  www.carrefour.com.br/SUPORTE-UNIVERSAL-DE-CELU...                 No  \n",
       "4174  www.carrefour.com.br/Iluminador-Circular-LED-C...                 No  \n",
       "\n",
       "[3448 rows x 7 columns]"
      ]
     },
     "execution_count": 69,
     "metadata": {},
     "output_type": "execute_result"
    }
   ],
   "source": [
    "results.loc[(results.produto_disponível == 'No')]"
   ]
  },
  {
   "cell_type": "code",
   "execution_count": null,
   "metadata": {},
   "outputs": [],
   "source": []
  }
 ],
 "metadata": {
  "kernelspec": {
   "display_name": "Python 3",
   "language": "python",
   "name": "python3"
  },
  "language_info": {
   "codemirror_mode": {
    "name": "ipython",
    "version": 3
   },
   "file_extension": ".py",
   "mimetype": "text/x-python",
   "name": "python",
   "nbconvert_exporter": "python",
   "pygments_lexer": "ipython3",
   "version": "3.8.1"
  },
  "toc": {
   "base_numbering": 1,
   "nav_menu": {},
   "number_sections": true,
   "sideBar": true,
   "skip_h1_title": false,
   "title_cell": "Table of Contents",
   "title_sidebar": "Contents",
   "toc_cell": false,
   "toc_position": {},
   "toc_section_display": true,
   "toc_window_display": false
  },
  "varInspector": {
   "cols": {
    "lenName": 16,
    "lenType": 16,
    "lenVar": 40
   },
   "kernels_config": {
    "python": {
     "delete_cmd_postfix": "",
     "delete_cmd_prefix": "del ",
     "library": "var_list.py",
     "varRefreshCmd": "print(var_dic_list())"
    },
    "r": {
     "delete_cmd_postfix": ") ",
     "delete_cmd_prefix": "rm(",
     "library": "var_list.r",
     "varRefreshCmd": "cat(var_dic_list()) "
    }
   },
   "types_to_exclude": [
    "module",
    "function",
    "builtin_function_or_method",
    "instance",
    "_Feature"
   ],
   "window_display": false
  }
 },
 "nbformat": 4,
 "nbformat_minor": 4
}
