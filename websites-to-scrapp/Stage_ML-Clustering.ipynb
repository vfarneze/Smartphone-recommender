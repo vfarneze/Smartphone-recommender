{
 "cells": [
  {
   "cell_type": "code",
   "execution_count": 1,
   "metadata": {},
   "outputs": [],
   "source": [
    "import requests\n",
    "from bs4 import BeautifulSoup\n",
    "from tqdm import tqdm\n",
    "import numpy as np\n",
    "import pandas as pd\n",
    "import re\n",
    "from datetime import datetime\n",
    "import time\n",
    "from selenium import webdriver\n",
    "import math\n",
    "import matplotlib.pyplot as plt\n",
    "from unidecode import unidecode\n",
    "from sklearn.cluster import KMeans\n",
    "from sklearn.preprocessing import StandardScaler\n",
    "from sklearn.decomposition import PCA\n",
    "import seaborn as sns"
   ]
  },
  {
   "cell_type": "markdown",
   "metadata": {},
   "source": [
    "## Loading data"
   ]
  },
  {
   "cell_type": "code",
   "execution_count": 2,
   "metadata": {},
   "outputs": [],
   "source": [
    "data = pd.read_csv('devices.csv')"
   ]
  },
  {
   "cell_type": "markdown",
   "metadata": {},
   "source": [
    "## PCA"
   ]
  },
  {
   "cell_type": "markdown",
   "metadata": {},
   "source": [
    "**dropping NaNs for quick PCA**"
   ]
  },
  {
   "cell_type": "markdown",
   "metadata": {},
   "source": [
    "Now, the column with most missings has 6% of missing values, so it might be ok do drop those..."
   ]
  },
  {
   "cell_type": "code",
   "execution_count": 3,
   "metadata": {},
   "outputs": [
    {
     "ename": "SyntaxError",
     "evalue": "invalid syntax (<ipython-input-3-0d92d259d9be>, line 2)",
     "output_type": "error",
     "traceback": [
      "\u001b[1;36m  File \u001b[1;32m\"<ipython-input-3-0d92d259d9be>\"\u001b[1;36m, line \u001b[1;32m2\u001b[0m\n\u001b[1;33m    data = data.dropna()\u001b[0m\n\u001b[1;37m    ^\u001b[0m\n\u001b[1;31mSyntaxError\u001b[0m\u001b[1;31m:\u001b[0m invalid syntax\n"
     ]
    }
   ],
   "source": [
    "print('numero de aparelhos antes do drop: ', data.shape[0]_\n",
    "data = data.dropna()\n",
    "print('numero de aparelhos depois do drop: ', data.shape[0])"
   ]
  },
  {
   "cell_type": "code",
   "execution_count": null,
   "metadata": {},
   "outputs": [],
   "source": [
    "X = data.drop(columns=['modelo_celular'])\n",
    "X = pd.get_dummies(X, prefix='prop_')"
   ]
  },
  {
   "cell_type": "markdown",
   "metadata": {},
   "source": [
    "We will create functions that do things:\n",
    "- Apply PCA tecnique to help us see all columns as two variables. This will improve analysis and see how people are distanced..."
   ]
  },
  {
   "cell_type": "code",
   "execution_count": null,
   "metadata": {},
   "outputs": [],
   "source": [
    "# def pca_fit():\n",
    "X = X\n",
    "n_components = 2\n",
    "# instantiate and fit the pca object\n",
    "X_std = StandardScaler().fit_transform(X)\n",
    "# X_std = X\n",
    "\n",
    "pca = PCA(n_components)\n",
    "pca.fit(X_std)\n",
    "\n",
    "print(f'each pca explains: {pca.explained_variance_ratio_}')\n",
    "explains = pca.explained_variance_ratio_.sum()\n",
    "print(f'Both components explain together {round(explains*100,2)}% of the data')\n",
    "\n",
    "#now transform!\n",
    "X_pca = pca.transform(X_std)\n",
    "\n",
    "#check results\n",
    "print(\"\\noriginal shape:   \", X.shape)\n",
    "print(\"\\ntransformed shape:\", X_pca.shape)\n",
    "pc1 = X_pca[:,0]\n",
    "pc2 = X_pca[:,1]"
   ]
  },
  {
   "cell_type": "code",
   "execution_count": null,
   "metadata": {},
   "outputs": [],
   "source": [
    "c = data.modelo_celular.apply(lambda x: 'blue' if 'iphone' in x \\\n",
    "                                          else ('red' if 'samsung' in x \\\n",
    "                                                else ('green' if 'huawei' in x \\\n",
    "                                                      else ('black' if 'motorola' in x else 'yellow'))))"
   ]
  },
  {
   "cell_type": "code",
   "execution_count": null,
   "metadata": {},
   "outputs": [],
   "source": [
    "# c = np.array(data.ios.apply(lambda x: 'blue' if x != 0 else 'red'))\n",
    "# c = data.modelo_celular.apply(lambda x: 'blue' if 'iphone' in x else ('red' if 'samsung' in x else 'yellow'))\n",
    "plt.scatter(x=pc1, y=pc2, c=c)"
   ]
  },
  {
   "cell_type": "markdown",
   "metadata": {},
   "source": [
    "- We will also create a function for ploting Kmeans using different number of clusters"
   ]
  },
  {
   "cell_type": "markdown",
   "metadata": {},
   "source": [
    "## KMeas: dividing all smartphones in groups of 4-5"
   ]
  },
  {
   "cell_type": "code",
   "execution_count": null,
   "metadata": {},
   "outputs": [],
   "source": [
    "#making clusters of somewhat 5 smartphones\n",
    "n_clusters = round(X.shape[0]/5)\n",
    "\n",
    "kmeans = KMeans(n_clusters)\n",
    "\n",
    "kmeans.fit(X_std)\n",
    "\n",
    "labels = kmeans.labels_\n",
    "\n",
    "#add to the dataframe as groups\n",
    "data['cluster'] = labels + 1\n",
    "\n",
    "#generate data for plot\n",
    "pc1 = X_pca[:,0]\n",
    "pc2 = X_pca[:,1]\n",
    "\n",
    "c_labels = kmeans.labels_"
   ]
  },
  {
   "cell_type": "markdown",
   "metadata": {},
   "source": [
    "- Now let us see the results"
   ]
  },
  {
   "cell_type": "code",
   "execution_count": null,
   "metadata": {},
   "outputs": [],
   "source": [
    "fig, axis = plt.subplots(nrows=1,ncols=1,figsize=(6,6))\n",
    "\n",
    "axis.scatter(x=pc1, y=pc2, c=c_labels, cmap='rainbow')\n",
    "axis.set_title(f'clusters: {n_clusters}')\n",
    "axis.set_xlabel('pca-1')\n",
    "axis.set_ylabel('pca-2')\n",
    "plt.show()"
   ]
  },
  {
   "cell_type": "code",
   "execution_count": null,
   "metadata": {},
   "outputs": [],
   "source": []
  },
  {
   "cell_type": "code",
   "execution_count": null,
   "metadata": {},
   "outputs": [],
   "source": []
  },
  {
   "cell_type": "code",
   "execution_count": null,
   "metadata": {},
   "outputs": [],
   "source": []
  }
 ],
 "metadata": {
  "kernelspec": {
   "display_name": "Python 3",
   "language": "python",
   "name": "python3"
  },
  "language_info": {
   "codemirror_mode": {
    "name": "ipython",
    "version": 3
   },
   "file_extension": ".py",
   "mimetype": "text/x-python",
   "name": "python",
   "nbconvert_exporter": "python",
   "pygments_lexer": "ipython3",
   "version": "3.8.1"
  },
  "toc": {
   "base_numbering": 1,
   "nav_menu": {},
   "number_sections": true,
   "sideBar": true,
   "skip_h1_title": false,
   "title_cell": "Table of Contents",
   "title_sidebar": "Contents",
   "toc_cell": false,
   "toc_position": {},
   "toc_section_display": true,
   "toc_window_display": false
  },
  "varInspector": {
   "cols": {
    "lenName": 16,
    "lenType": 16,
    "lenVar": 40
   },
   "kernels_config": {
    "python": {
     "delete_cmd_postfix": "",
     "delete_cmd_prefix": "del ",
     "library": "var_list.py",
     "varRefreshCmd": "print(var_dic_list())"
    },
    "r": {
     "delete_cmd_postfix": ") ",
     "delete_cmd_prefix": "rm(",
     "library": "var_list.r",
     "varRefreshCmd": "cat(var_dic_list()) "
    }
   },
   "types_to_exclude": [
    "module",
    "function",
    "builtin_function_or_method",
    "instance",
    "_Feature"
   ],
   "window_display": false
  }
 },
 "nbformat": 4,
 "nbformat_minor": 4
}
