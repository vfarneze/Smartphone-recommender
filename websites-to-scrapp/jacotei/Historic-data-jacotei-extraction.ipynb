{
 "cells": [
  {
   "cell_type": "code",
   "execution_count": 3,
   "metadata": {},
   "outputs": [],
   "source": [
    "import warnings\n",
    "warnings.filterwarnings(\"ignore\")"
   ]
  },
  {
   "cell_type": "code",
   "execution_count": 4,
   "metadata": {},
   "outputs": [],
   "source": [
    "from bs4 import BeautifulSoup\n",
    "import requests\n",
    "from tqdm import tqdm\n",
    "import pandas as pd\n",
    "import re\n",
    "from datetime import datetime"
   ]
  },
  {
   "cell_type": "code",
   "execution_count": 3,
   "metadata": {
    "code_folding": [
     0
    ]
   },
   "outputs": [],
   "source": [
    "def extract_price_canvas(url):\n",
    "    \n",
    "    response = requests.get(url)\n",
    "    \n",
    "    if response.status_code != 200:\n",
    "        print('response not [200]!!!')\n",
    "\n",
    "    soup = BeautifulSoup(response.content)\n",
    "    \n",
    "    model = soup.find_all('h1', attrs = {'itemprop':\"name\"})[0].text\n",
    "    scripts = soup.find_all('script', attrs = {'type':'text/javascript'})\n",
    "    \n",
    "    storage = []\n",
    "\n",
    "    for script in scripts:\n",
    "        if 'function grafico()' in script.text:\n",
    "            storage.append(script)\n",
    "        elif 'categories:' in script.text:\n",
    "            storage.append(script)\n",
    "\n",
    "    storage2 = []\n",
    "\n",
    "    for trecho in storage:\n",
    "        for piece in re.findall('\\[(.*?)\\]',trecho.text):\n",
    "            storage2.append(piece)\n",
    "\n",
    "    numeros = []\n",
    "    datass = []\n",
    "\n",
    "    for element in storage2:    \n",
    "        #detecta 1o e 2o de numeros\n",
    "        if element.split(',')[0][0] in ['1','2','3','4','5','6','7','8','9']:\n",
    "            numeros.append(element)\n",
    "\n",
    "        #detecta se string é um ano, como data\n",
    "        elif element.split('-')[0][3] in ['1','2','3','4','5','6','7','8','9']:\n",
    "            datass.append(element)\n",
    "\n",
    "    df = pd.DataFrame()\n",
    "\n",
    "    for nlist in numeros:\n",
    "        minidf = pd.DataFrame([float(x) for x in nlist.split(',')])\n",
    "        df = pd.concat([df,minidf],axis=1)\n",
    "\n",
    "    for ndata in datass:\n",
    "        minidf = pd.DataFrame([x.strip('\"') for x in ndata.split(',')])\n",
    "        df = pd.concat([df,minidf],axis=1)\n",
    "    \n",
    "    df.columns = ['maxprice', 'minprice1', 'minprice2', 'date']\n",
    "    df['model'] = model\n",
    "    df['url'] = url\n",
    "\n",
    "    return df"
   ]
  },
  {
   "cell_type": "code",
   "execution_count": 4,
   "metadata": {},
   "outputs": [],
   "source": [
    "dados = pd.read_csv('../data_storage/transformed/jcttreated2020-05-02.csv', encoding='cp1252')\n",
    "\n",
    "urls = dados.link_aunicio.unique()"
   ]
  },
  {
   "cell_type": "code",
   "execution_count": 5,
   "metadata": {},
   "outputs": [
    {
     "name": "stderr",
     "output_type": "stream",
     "text": [
      " 48%|████▊     | 1092/2272 [11:51<09:44,  2.02it/s]"
     ]
    },
    {
     "name": "stdout",
     "output_type": "stream",
     "text": [
      "response not [200]!!!\n"
     ]
    },
    {
     "name": "stderr",
     "output_type": "stream",
     "text": [
      "100%|██████████| 2272/2272 [25:42<00:00,  1.47it/s]  \n"
     ]
    }
   ],
   "source": [
    "results = pd.DataFrame()\n",
    "\n",
    "for url in tqdm(urls):\n",
    "    try:\n",
    "        data = extract_price_canvas(url)\n",
    "    except:\n",
    "        model = dados.loc[dados.link_aunicio == url].iloc[0,0]\n",
    "        \n",
    "        data = pd.DataFrame({'maxprice':'not possible', \n",
    "                             'minprice1':'not possible', \n",
    "                             'minprice2':'not possible',\n",
    "                             'date':'not possible',\n",
    "                             'model':model,\n",
    "                             'url':url}, index=[0])\n",
    "        \n",
    "    results = pd.concat([results,data]).reset_index(drop=True)"
   ]
  },
  {
   "cell_type": "code",
   "execution_count": 11,
   "metadata": {},
   "outputs": [
    {
     "data": {
      "text/plain": [
       "maxprice                                               9178.98\n",
       "minprice1                                              5949.15\n",
       "minprice2                                              5949.15\n",
       "date                                                2019-12-08\n",
       "model        iPhone Apple 11 Pro 64GB Desbloqueado 5.8 Cinz...\n",
       "url          https://www.jacotei.com.br/iphone-apple-11-pro...\n",
       "Name: 1091, dtype: object"
      ]
     },
     "execution_count": 11,
     "metadata": {},
     "output_type": "execute_result"
    }
   ],
   "source": [
    "results.iloc[1091,:]"
   ]
  },
  {
   "cell_type": "code",
   "execution_count": 8,
   "metadata": {},
   "outputs": [
    {
     "data": {
      "text/html": [
       "<div>\n",
       "<style scoped>\n",
       "    .dataframe tbody tr th:only-of-type {\n",
       "        vertical-align: middle;\n",
       "    }\n",
       "\n",
       "    .dataframe tbody tr th {\n",
       "        vertical-align: top;\n",
       "    }\n",
       "\n",
       "    .dataframe thead th {\n",
       "        text-align: right;\n",
       "    }\n",
       "</style>\n",
       "<table border=\"1\" class=\"dataframe\">\n",
       "  <thead>\n",
       "    <tr style=\"text-align: right;\">\n",
       "      <th></th>\n",
       "      <th>maxprice</th>\n",
       "      <th>minprice1</th>\n",
       "      <th>minprice2</th>\n",
       "      <th>date</th>\n",
       "      <th>model</th>\n",
       "      <th>url</th>\n",
       "    </tr>\n",
       "  </thead>\n",
       "  <tbody>\n",
       "    <tr>\n",
       "      <th>0</th>\n",
       "      <td>not possible</td>\n",
       "      <td>not possible</td>\n",
       "      <td>not possible</td>\n",
       "      <td>not possible</td>\n",
       "      <td>Apple iPhone 8 Plus 5,5 polegadas 4G LTE 12MP ...</td>\n",
       "      <td>https://track2.jacotei.com.br/r?h=eJxVUdGK2zAQ...</td>\n",
       "    </tr>\n",
       "    <tr>\n",
       "      <th>1</th>\n",
       "      <td>not possible</td>\n",
       "      <td>not possible</td>\n",
       "      <td>not possible</td>\n",
       "      <td>not possible</td>\n",
       "      <td>Apple iPhone 8 Plus 5,5 polegadas 4G LTE 12MP ...</td>\n",
       "      <td>https://track2.jacotei.com.br/r?h=eJxVUdGK2zAQ...</td>\n",
       "    </tr>\n",
       "    <tr>\n",
       "      <th>2</th>\n",
       "      <td>not possible</td>\n",
       "      <td>not possible</td>\n",
       "      <td>not possible</td>\n",
       "      <td>not possible</td>\n",
       "      <td>iPhone 11 Pro Max 512GB Prateado iOS 4G + Wi-F...</td>\n",
       "      <td>https://track2.jacotei.com.br/r?h=eJxVUcFq4zAU...</td>\n",
       "    </tr>\n",
       "    <tr>\n",
       "      <th>3</th>\n",
       "      <td>not possible</td>\n",
       "      <td>not possible</td>\n",
       "      <td>not possible</td>\n",
       "      <td>not possible</td>\n",
       "      <td>64G 5,0 5,5 polegadas Smart Phone 7+12MP Telef...</td>\n",
       "      <td>https://track2.jacotei.com.br/r?h=eJxVUWFr2zAU...</td>\n",
       "    </tr>\n",
       "    <tr>\n",
       "      <th>4</th>\n",
       "      <td>8499</td>\n",
       "      <td>8499</td>\n",
       "      <td>8499</td>\n",
       "      <td>2020-03-13</td>\n",
       "      <td>Smartphone Samsung Galaxy S20 Ultra SM-G988B D...</td>\n",
       "      <td>https://www.jacotei.com.br/smartphone-samsung-...</td>\n",
       "    </tr>\n",
       "    <tr>\n",
       "      <th>5</th>\n",
       "      <td>8499</td>\n",
       "      <td>8499</td>\n",
       "      <td>8499</td>\n",
       "      <td>2020-03-23</td>\n",
       "      <td>Smartphone Samsung Galaxy S20 Ultra SM-G988B D...</td>\n",
       "      <td>https://www.jacotei.com.br/smartphone-samsung-...</td>\n",
       "    </tr>\n",
       "    <tr>\n",
       "      <th>6</th>\n",
       "      <td>8499</td>\n",
       "      <td>8074.05</td>\n",
       "      <td>8074.05</td>\n",
       "      <td>2020-04-04</td>\n",
       "      <td>Smartphone Samsung Galaxy S20 Ultra SM-G988B D...</td>\n",
       "      <td>https://www.jacotei.com.br/smartphone-samsung-...</td>\n",
       "    </tr>\n",
       "    <tr>\n",
       "      <th>7</th>\n",
       "      <td>8499</td>\n",
       "      <td>8074.05</td>\n",
       "      <td>8074.05</td>\n",
       "      <td>2020-04-08</td>\n",
       "      <td>Smartphone Samsung Galaxy S20 Ultra SM-G988B D...</td>\n",
       "      <td>https://www.jacotei.com.br/smartphone-samsung-...</td>\n",
       "    </tr>\n",
       "    <tr>\n",
       "      <th>8</th>\n",
       "      <td>8499</td>\n",
       "      <td>7999</td>\n",
       "      <td>7999</td>\n",
       "      <td>2020-04-16</td>\n",
       "      <td>Smartphone Samsung Galaxy S20 Ultra SM-G988B D...</td>\n",
       "      <td>https://www.jacotei.com.br/smartphone-samsung-...</td>\n",
       "    </tr>\n",
       "    <tr>\n",
       "      <th>9</th>\n",
       "      <td>8499</td>\n",
       "      <td>7999</td>\n",
       "      <td>7999</td>\n",
       "      <td>2020-04-19</td>\n",
       "      <td>Smartphone Samsung Galaxy S20 Ultra SM-G988B D...</td>\n",
       "      <td>https://www.jacotei.com.br/smartphone-samsung-...</td>\n",
       "    </tr>\n",
       "    <tr>\n",
       "      <th>10</th>\n",
       "      <td>8499</td>\n",
       "      <td>8499</td>\n",
       "      <td>8499</td>\n",
       "      <td>2020-04-28</td>\n",
       "      <td>Smartphone Samsung Galaxy S20 Ultra SM-G988B D...</td>\n",
       "      <td>https://www.jacotei.com.br/smartphone-samsung-...</td>\n",
       "    </tr>\n",
       "    <tr>\n",
       "      <th>11</th>\n",
       "      <td>8499</td>\n",
       "      <td>8499</td>\n",
       "      <td>8499</td>\n",
       "      <td>2020-05-03</td>\n",
       "      <td>Smartphone Samsung Galaxy S20 Ultra SM-G988B D...</td>\n",
       "      <td>https://www.jacotei.com.br/smartphone-samsung-...</td>\n",
       "    </tr>\n",
       "    <tr>\n",
       "      <th>12</th>\n",
       "      <td>8499</td>\n",
       "      <td>8499</td>\n",
       "      <td>8499</td>\n",
       "      <td>2020-05-03</td>\n",
       "      <td>Smartphone Samsung Galaxy S20 Ultra SM-G988B D...</td>\n",
       "      <td>https://www.jacotei.com.br/smartphone-samsung-...</td>\n",
       "    </tr>\n",
       "    <tr>\n",
       "      <th>13</th>\n",
       "      <td>not possible</td>\n",
       "      <td>not possible</td>\n",
       "      <td>not possible</td>\n",
       "      <td>not possible</td>\n",
       "      <td>Smartphone Samsung Galaxy Z Flip 256GB - Ultra...</td>\n",
       "      <td>https://track2.jacotei.com.br/r?h=eJxVkUtvGyEU...</td>\n",
       "    </tr>\n",
       "    <tr>\n",
       "      <th>14</th>\n",
       "      <td>12980</td>\n",
       "      <td>8999</td>\n",
       "      <td>8999</td>\n",
       "      <td>2020-03-24</td>\n",
       "      <td>Smartphone Samsung Galaxy Z Flip SM-F700F Desb...</td>\n",
       "      <td>https://www.jacotei.com.br/smartphone-samsung-...</td>\n",
       "    </tr>\n",
       "    <tr>\n",
       "      <th>15</th>\n",
       "      <td>12980</td>\n",
       "      <td>12980</td>\n",
       "      <td>12980</td>\n",
       "      <td>2020-03-29</td>\n",
       "      <td>Smartphone Samsung Galaxy Z Flip SM-F700F Desb...</td>\n",
       "      <td>https://www.jacotei.com.br/smartphone-samsung-...</td>\n",
       "    </tr>\n",
       "    <tr>\n",
       "      <th>16</th>\n",
       "      <td>8369.07</td>\n",
       "      <td>8369.07</td>\n",
       "      <td>8369.07</td>\n",
       "      <td>2020-04-14</td>\n",
       "      <td>Smartphone Samsung Galaxy Z Flip SM-F700F Desb...</td>\n",
       "      <td>https://www.jacotei.com.br/smartphone-samsung-...</td>\n",
       "    </tr>\n",
       "    <tr>\n",
       "      <th>17</th>\n",
       "      <td>8369.07</td>\n",
       "      <td>8369.07</td>\n",
       "      <td>8369.07</td>\n",
       "      <td>2020-04-20</td>\n",
       "      <td>Smartphone Samsung Galaxy Z Flip SM-F700F Desb...</td>\n",
       "      <td>https://www.jacotei.com.br/smartphone-samsung-...</td>\n",
       "    </tr>\n",
       "    <tr>\n",
       "      <th>18</th>\n",
       "      <td>8999</td>\n",
       "      <td>8369.07</td>\n",
       "      <td>8369.07</td>\n",
       "      <td>2020-04-30</td>\n",
       "      <td>Smartphone Samsung Galaxy Z Flip SM-F700F Desb...</td>\n",
       "      <td>https://www.jacotei.com.br/smartphone-samsung-...</td>\n",
       "    </tr>\n",
       "    <tr>\n",
       "      <th>19</th>\n",
       "      <td>8999</td>\n",
       "      <td>8369.07</td>\n",
       "      <td>8369.07</td>\n",
       "      <td>2020-05-03</td>\n",
       "      <td>Smartphone Samsung Galaxy Z Flip SM-F700F Desb...</td>\n",
       "      <td>https://www.jacotei.com.br/smartphone-samsung-...</td>\n",
       "    </tr>\n",
       "  </tbody>\n",
       "</table>\n",
       "</div>"
      ],
      "text/plain": [
       "        maxprice     minprice1     minprice2          date  \\\n",
       "0   not possible  not possible  not possible  not possible   \n",
       "1   not possible  not possible  not possible  not possible   \n",
       "2   not possible  not possible  not possible  not possible   \n",
       "3   not possible  not possible  not possible  not possible   \n",
       "4           8499          8499          8499    2020-03-13   \n",
       "5           8499          8499          8499    2020-03-23   \n",
       "6           8499       8074.05       8074.05    2020-04-04   \n",
       "7           8499       8074.05       8074.05    2020-04-08   \n",
       "8           8499          7999          7999    2020-04-16   \n",
       "9           8499          7999          7999    2020-04-19   \n",
       "10          8499          8499          8499    2020-04-28   \n",
       "11          8499          8499          8499    2020-05-03   \n",
       "12          8499          8499          8499    2020-05-03   \n",
       "13  not possible  not possible  not possible  not possible   \n",
       "14         12980          8999          8999    2020-03-24   \n",
       "15         12980         12980         12980    2020-03-29   \n",
       "16       8369.07       8369.07       8369.07    2020-04-14   \n",
       "17       8369.07       8369.07       8369.07    2020-04-20   \n",
       "18          8999       8369.07       8369.07    2020-04-30   \n",
       "19          8999       8369.07       8369.07    2020-05-03   \n",
       "\n",
       "                                                model  \\\n",
       "0   Apple iPhone 8 Plus 5,5 polegadas 4G LTE 12MP ...   \n",
       "1   Apple iPhone 8 Plus 5,5 polegadas 4G LTE 12MP ...   \n",
       "2   iPhone 11 Pro Max 512GB Prateado iOS 4G + Wi-F...   \n",
       "3   64G 5,0 5,5 polegadas Smart Phone 7+12MP Telef...   \n",
       "4   Smartphone Samsung Galaxy S20 Ultra SM-G988B D...   \n",
       "5   Smartphone Samsung Galaxy S20 Ultra SM-G988B D...   \n",
       "6   Smartphone Samsung Galaxy S20 Ultra SM-G988B D...   \n",
       "7   Smartphone Samsung Galaxy S20 Ultra SM-G988B D...   \n",
       "8   Smartphone Samsung Galaxy S20 Ultra SM-G988B D...   \n",
       "9   Smartphone Samsung Galaxy S20 Ultra SM-G988B D...   \n",
       "10  Smartphone Samsung Galaxy S20 Ultra SM-G988B D...   \n",
       "11  Smartphone Samsung Galaxy S20 Ultra SM-G988B D...   \n",
       "12  Smartphone Samsung Galaxy S20 Ultra SM-G988B D...   \n",
       "13  Smartphone Samsung Galaxy Z Flip 256GB - Ultra...   \n",
       "14  Smartphone Samsung Galaxy Z Flip SM-F700F Desb...   \n",
       "15  Smartphone Samsung Galaxy Z Flip SM-F700F Desb...   \n",
       "16  Smartphone Samsung Galaxy Z Flip SM-F700F Desb...   \n",
       "17  Smartphone Samsung Galaxy Z Flip SM-F700F Desb...   \n",
       "18  Smartphone Samsung Galaxy Z Flip SM-F700F Desb...   \n",
       "19  Smartphone Samsung Galaxy Z Flip SM-F700F Desb...   \n",
       "\n",
       "                                                  url  \n",
       "0   https://track2.jacotei.com.br/r?h=eJxVUdGK2zAQ...  \n",
       "1   https://track2.jacotei.com.br/r?h=eJxVUdGK2zAQ...  \n",
       "2   https://track2.jacotei.com.br/r?h=eJxVUcFq4zAU...  \n",
       "3   https://track2.jacotei.com.br/r?h=eJxVUWFr2zAU...  \n",
       "4   https://www.jacotei.com.br/smartphone-samsung-...  \n",
       "5   https://www.jacotei.com.br/smartphone-samsung-...  \n",
       "6   https://www.jacotei.com.br/smartphone-samsung-...  \n",
       "7   https://www.jacotei.com.br/smartphone-samsung-...  \n",
       "8   https://www.jacotei.com.br/smartphone-samsung-...  \n",
       "9   https://www.jacotei.com.br/smartphone-samsung-...  \n",
       "10  https://www.jacotei.com.br/smartphone-samsung-...  \n",
       "11  https://www.jacotei.com.br/smartphone-samsung-...  \n",
       "12  https://www.jacotei.com.br/smartphone-samsung-...  \n",
       "13  https://track2.jacotei.com.br/r?h=eJxVkUtvGyEU...  \n",
       "14  https://www.jacotei.com.br/smartphone-samsung-...  \n",
       "15  https://www.jacotei.com.br/smartphone-samsung-...  \n",
       "16  https://www.jacotei.com.br/smartphone-samsung-...  \n",
       "17  https://www.jacotei.com.br/smartphone-samsung-...  \n",
       "18  https://www.jacotei.com.br/smartphone-samsung-...  \n",
       "19  https://www.jacotei.com.br/smartphone-samsung-...  "
      ]
     },
     "execution_count": 8,
     "metadata": {},
     "output_type": "execute_result"
    }
   ],
   "source": [
    "results.head(20)"
   ]
  },
  {
   "cell_type": "code",
   "execution_count": 12,
   "metadata": {},
   "outputs": [],
   "source": [
    "now = datetime.now()\n",
    "now = str(now.year) +'y-'+ str(now.month) +'m-'+ str(now.day)+'d-'+ str(now.hour)+'h'\n",
    "\n",
    "results.to_csv('phone_prices'+now+'.csv',sep=',',index=False, na_rep='NaN', encoding='cp1252')"
   ]
  },
  {
   "cell_type": "markdown",
   "metadata": {},
   "source": [
    "# TESTING"
   ]
  },
  {
   "cell_type": "code",
   "execution_count": 189,
   "metadata": {},
   "outputs": [
    {
     "data": {
      "text/plain": [
       "array(['produto.casasbahia', 'www.amazon', 'produto.pontofrio',\n",
       "       'produto.extra', 'www.carrefour', 'www.fastshop',\n",
       "       'www.tabaratotolevando', 'www.supermuffato', 'lojasmm',\n",
       "       'tracker.adtools1', 'www.cissamagazine', 'ad.zanox', 'www.colombo',\n",
       "       'www.onofreagora', 'www.liberatti', 'clube2.magazineluiza'],\n",
       "      dtype=object)"
      ]
     },
     "execution_count": 189,
     "metadata": {},
     "output_type": "execute_result"
    }
   ],
   "source": [
    "df.link_aunicio.apply(lambda x: x.split('.com')[0].split('//')[1]).unique()"
   ]
  },
  {
   "cell_type": "code",
   "execution_count": 62,
   "metadata": {},
   "outputs": [],
   "source": [
    "lojas = ['www.lojasmm.com','shopfato.vteximg.com.br','29028l.ha.azioncdn.net', \n",
    "         'suc.webcontinental.com.br', 'images-shoptime.b2w.io','statics.angeloni.com.br',\n",
    "         'upload.onofreagora.com.br','a-static.mlcdn.com.br']\n",
    "\n",
    "links = [df.loc[df.destino_do_link == loja].link_aunicio.iloc[0] for loja in lojas]"
   ]
  },
  {
   "cell_type": "code",
   "execution_count": 217,
   "metadata": {},
   "outputs": [],
   "source": [
    "websites = ['tabaratotolevando', 'supermuffato', 'cissamagazine', 'americanas',\n",
    "       'webcontinental', 'shoptime', 'angeloni', 'onofreagora',\n",
    "       'magazineluiza', 'casasbahia', 'amazon', 'pontofrio', 'extra',\n",
    "       'carrefour', 'fastshop', 'lojasmm', 'CissaMagazine', 'compracerta',\n",
    "       'colombo', 'liberatti']"
   ]
  },
  {
   "cell_type": "code",
   "execution_count": 216,
   "metadata": {},
   "outputs": [
    {
     "data": {
      "text/plain": [
       "23"
      ]
     },
     "execution_count": 216,
     "metadata": {},
     "output_type": "execute_result"
    }
   ],
   "source": [
    "len(websites"
   ]
  }
 ],
 "metadata": {
  "kernelspec": {
   "display_name": "Python 3",
   "language": "python",
   "name": "python3"
  },
  "language_info": {
   "codemirror_mode": {
    "name": "ipython",
    "version": 3
   },
   "file_extension": ".py",
   "mimetype": "text/x-python",
   "name": "python",
   "nbconvert_exporter": "python",
   "pygments_lexer": "ipython3",
   "version": "3.8.1"
  },
  "toc": {
   "base_numbering": 1,
   "nav_menu": {},
   "number_sections": true,
   "sideBar": true,
   "skip_h1_title": false,
   "title_cell": "Table of Contents",
   "title_sidebar": "Contents",
   "toc_cell": false,
   "toc_position": {},
   "toc_section_display": true,
   "toc_window_display": false
  },
  "varInspector": {
   "cols": {
    "lenName": 16,
    "lenType": 16,
    "lenVar": 40
   },
   "kernels_config": {
    "python": {
     "delete_cmd_postfix": "",
     "delete_cmd_prefix": "del ",
     "library": "var_list.py",
     "varRefreshCmd": "print(var_dic_list())"
    },
    "r": {
     "delete_cmd_postfix": ") ",
     "delete_cmd_prefix": "rm(",
     "library": "var_list.r",
     "varRefreshCmd": "cat(var_dic_list()) "
    }
   },
   "types_to_exclude": [
    "module",
    "function",
    "builtin_function_or_method",
    "instance",
    "_Feature"
   ],
   "window_display": false
  }
 },
 "nbformat": 4,
 "nbformat_minor": 4
}
