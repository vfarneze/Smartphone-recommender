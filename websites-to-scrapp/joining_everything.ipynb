{
 "cells": [
  {
   "cell_type": "code",
   "execution_count": 525,
   "metadata": {},
   "outputs": [],
   "source": [
    "import requests\n",
    "from bs4 import BeautifulSoup\n",
    "from tqdm import tqdm\n",
    "import pandas as pd\n",
    "import re\n",
    "from datetime import datetime\n",
    "import time\n",
    "from selenium import webdriver\n",
    "import math"
   ]
  },
  {
   "cell_type": "markdown",
   "metadata": {},
   "source": [
    "# Previous filtration"
   ]
  },
  {
   "cell_type": "code",
   "execution_count": 588,
   "metadata": {
    "scrolled": false
   },
   "outputs": [],
   "source": [
    "tecnical = pd.read_csv('maiscelular.com.br/smartphones.csv', encoding='utf-8')\n",
    "\n",
    "# filter by the following regions of selling:\n",
    "mylist = ['Internacional', 'especificação não cadastrada', 'Global', 'Latina', 'Brasil']\n",
    "pattern = '|'.join(mylist)\n",
    "\n",
    "tecnical = tecnical.loc[tecnical.loc[:,'Pais ou regiao onde e vendido'].str.contains(pattern)]\n",
    "tecnical.drop(columns='Pais ou regiao onde e vendido', inplace=True)\n",
    "\n",
    "#lower all columns names and replace spaces\n",
    "tecnical.columns = [col.lower().replace(' ','_') for col in tecnical.columns]"
   ]
  },
  {
   "cell_type": "markdown",
   "metadata": {},
   "source": [
    "**filtering columns in order to do the match**"
   ]
  },
  {
   "cell_type": "code",
   "execution_count": 589,
   "metadata": {},
   "outputs": [],
   "source": [
    "#getting the only essential columns for the joining process\n",
    "datajoin = tecnical.loc[:,['smartphone','memoria_interna','best_price']]\n",
    "\n",
    "#lowering all cases\n",
    "datajoin.loc[:,['smartphone','memoria_interna']] = datajoin.loc[:,['smartphone','memoria_interna']]\\\n",
    "                                                                            .applymap(lambda x: x.lower())\n",
    "\n",
    "#getting only prices with missing value\n",
    "# datajoin = datajoin.loc[datajoin.best_price.isna()]\n",
    "\n",
    "#treating memory\n",
    "datajoin.loc[:,'memoria_interna'] = datajoin.loc[:,'memoria_interna'].apply(lambda x: x.split(' (')[0] if '(' in x else x)\n",
    "\n",
    "#adding manufacturing year\n",
    "datajoin['ano'] = tecnical.loc[:,'lancamento'].apply(lambda x: x.split(',')[1] if ',' in x else x)"
   ]
  },
  {
   "cell_type": "code",
   "execution_count": 590,
   "metadata": {},
   "outputs": [
    {
     "data": {
      "text/html": [
       "<div>\n",
       "<style scoped>\n",
       "    .dataframe tbody tr th:only-of-type {\n",
       "        vertical-align: middle;\n",
       "    }\n",
       "\n",
       "    .dataframe tbody tr th {\n",
       "        vertical-align: top;\n",
       "    }\n",
       "\n",
       "    .dataframe thead th {\n",
       "        text-align: right;\n",
       "    }\n",
       "</style>\n",
       "<table border=\"1\" class=\"dataframe\">\n",
       "  <thead>\n",
       "    <tr style=\"text-align: right;\">\n",
       "      <th></th>\n",
       "      <th>smartphone</th>\n",
       "      <th>memoria_interna</th>\n",
       "      <th>best_price</th>\n",
       "      <th>ano</th>\n",
       "    </tr>\n",
       "  </thead>\n",
       "  <tbody>\n",
       "    <tr>\n",
       "      <th>0</th>\n",
       "      <td>motorola edge</td>\n",
       "      <td>128gb</td>\n",
       "      <td>NaN</td>\n",
       "      <td>2020</td>\n",
       "    </tr>\n",
       "    <tr>\n",
       "      <th>3</th>\n",
       "      <td>motorola moto e6s</td>\n",
       "      <td>32gb</td>\n",
       "      <td>819.0</td>\n",
       "      <td>2020</td>\n",
       "    </tr>\n",
       "    <tr>\n",
       "      <th>4</th>\n",
       "      <td>motorola moto e6s</td>\n",
       "      <td>32gb</td>\n",
       "      <td>819.0</td>\n",
       "      <td>2020</td>\n",
       "    </tr>\n",
       "    <tr>\n",
       "      <th>6</th>\n",
       "      <td>samsung galaxy a31</td>\n",
       "      <td>128gb</td>\n",
       "      <td>2069.0</td>\n",
       "      <td>2020</td>\n",
       "    </tr>\n",
       "    <tr>\n",
       "      <th>7</th>\n",
       "      <td>samsung galaxy a31</td>\n",
       "      <td>128gb</td>\n",
       "      <td>2069.0</td>\n",
       "      <td>2020</td>\n",
       "    </tr>\n",
       "  </tbody>\n",
       "</table>\n",
       "</div>"
      ],
      "text/plain": [
       "           smartphone memoria_interna  best_price    ano\n",
       "0       motorola edge           128gb         NaN   2020\n",
       "3   motorola moto e6s            32gb       819.0   2020\n",
       "4   motorola moto e6s            32gb       819.0   2020\n",
       "6  samsung galaxy a31           128gb      2069.0   2020\n",
       "7  samsung galaxy a31           128gb      2069.0   2020"
      ]
     },
     "execution_count": 590,
     "metadata": {},
     "output_type": "execute_result"
    }
   ],
   "source": [
    "datajoin.head()"
   ]
  },
  {
   "cell_type": "markdown",
   "metadata": {},
   "source": [
    "# Datasets with phone prices"
   ]
  },
  {
   "cell_type": "markdown",
   "metadata": {},
   "source": [
    "## Carrefour"
   ]
  },
  {
   "cell_type": "code",
   "execution_count": 392,
   "metadata": {
    "code_folding": [
     0
    ]
   },
   "outputs": [],
   "source": [
    "# def get_ram(x):\n",
    "#     try:\n",
    "#         try:\n",
    "#             return re.findall('\\d+gb ram',x)[0]\n",
    "#         except:\n",
    "#             return re.findall('\\d+mb ram',x)[0]\n",
    "#     except:\n",
    "#         return np.nan"
   ]
  },
  {
   "cell_type": "code",
   "execution_count": null,
   "metadata": {
    "code_folding": [
     0
    ]
   },
   "outputs": [],
   "source": [
    "# def get_sd(x)\n",
    "#     try:\n",
    "#         return re.findall('\\d+gb',x)[0]\n",
    "#     except:\n",
    "#         return np.nan"
   ]
  },
  {
   "cell_type": "code",
   "execution_count": 430,
   "metadata": {
    "code_folding": [
     0
    ]
   },
   "outputs": [],
   "source": [
    "def findgb(x, ifnot=np.nan):\n",
    "    \"\"\"This function detects all gigabites from a string and returns the biggest.\"\"\"\n",
    "    gigas = [int(number) for number in map(lambda x: x.strip('gb'), re.findall('\\d+gb',x))]\n",
    "    \n",
    "    if len(gigas) != 0:\n",
    "        return str(max(gigas)) + 'gb'\n",
    "    else:\n",
    "        return ifnot"
   ]
  },
  {
   "cell_type": "code",
   "execution_count": 622,
   "metadata": {
    "code_folding": [
     0
    ]
   },
   "outputs": [],
   "source": [
    "def remove_spchar(x):\n",
    "    \"\"\"This function removes special characters from received string and return it stripped\"\"\"\n",
    "    \n",
    "    to_remove = ['-','/',',',' '+' ',' '+' '+' ','+']\n",
    "    for char in to_remove:\n",
    "        x = x.replace(char,' ')\n",
    "        \n",
    "    return x.strip()"
   ]
  },
  {
   "cell_type": "code",
   "execution_count": 623,
   "metadata": {
    "code_folding": [
     0
    ]
   },
   "outputs": [],
   "source": [
    "# first load last results\n",
    "carrefour = pd.read_csv('carrefour.com/storage/carrefour_raw2020y-5m-15d-11h.csv', encoding='cp1252').drop(columns='Unnamed: 0')\n",
    "\n",
    "#removing columns with links\n",
    "carrefour.drop(columns=['old_price','parcelas','image_link', 'product_link'], inplace=True)\n",
    "\n",
    "#create new column 'used'\n",
    "carrefour['used'] = carrefour.title.apply(lambda x: 'Usado:' in x)\n",
    "\n",
    "# treating title column\n",
    "carrefour.loc[:,'title'] = carrefour.loc[:,'title'].apply(lambda x: x.lower().replace(' gb', 'gb'))\n",
    "carrefour.loc[:,'title'] = carrefour.loc[:,'title'].apply(lambda x: x.lower().replace(' mb', 'mb'))\n",
    "carrefour.loc[:,'title'] = carrefour.loc[:,'title'].apply(lambda x: x.split('usado:')[1]\\\n",
    "                                                          if len(x.split('usado:')) == 2 else x)\n",
    "\n",
    "#rename columns\n",
    "carrefour.columns = ['title', 'price', 'available', 'used']\n",
    "\n",
    "# dropping some last rows because they are not devices but accessories\n",
    "carrefour.drop(np.arange(4166,4175), inplace=True)\n",
    "\n",
    "# create colum of HD\n",
    "carrefour['HD'] = carrefour.loc[:,'title'].apply(lambda x: findgb(x, ifnot=np.nan))\n",
    "\n",
    "# removing '-' ',' and '/'. Also removing double or more spaces.\n",
    "carrefour.loc[:,'title'] = carrefour.loc[:,'title'].apply(lambda x: remove_spchar(x))\n",
    "\n",
    "# remove 'smartphone' from titles\n",
    "\n",
    "#get ram\n",
    "# carrefour['ram'] = carrefour.loc[:,'title'].apply(lambda x: get_ram(x))\n",
    "\n",
    "#get "
   ]
  },
  {
   "cell_type": "markdown",
   "metadata": {},
   "source": [
    "## Americanas\n",
    "parece que vai demorar para conseguir os preços aki, e além de pegar infos... usar outro!"
   ]
  },
  {
   "cell_type": "code",
   "execution_count": 64,
   "metadata": {},
   "outputs": [],
   "source": [
    "americanas = pd.read_csv('americanas.com/storage/americanas_raw2020y-5m-7d-11h.csv', encoding='cp1252').drop(columns=['Unnamed: 0','page'])\n",
    "americanas = americanas.loc[:,['texto_produto']]\n",
    "americanas['available'] = americanas.texto_produto.apply(lambda x: 'Já vendemos todo o estoque' not in x)\n",
    "\n",
    "#dropping used smartphones\n",
    "americanas['new'] = americanas.texto_produto.apply(lambda x: np.nan if 'USADO' in x else True)\n",
    "americanas = americanas.dropna()"
   ]
  },
  {
   "cell_type": "code",
   "execution_count": 416,
   "metadata": {
    "collapsed": true
   },
   "outputs": [
    {
     "data": {
      "text/html": [
       "<div>\n",
       "<style scoped>\n",
       "    .dataframe tbody tr th:only-of-type {\n",
       "        vertical-align: middle;\n",
       "    }\n",
       "\n",
       "    .dataframe tbody tr th {\n",
       "        vertical-align: top;\n",
       "    }\n",
       "\n",
       "    .dataframe thead th {\n",
       "        text-align: right;\n",
       "    }\n",
       "</style>\n",
       "<table border=\"1\" class=\"dataframe\">\n",
       "  <thead>\n",
       "    <tr style=\"text-align: right;\">\n",
       "      <th></th>\n",
       "      <th>texto_produto</th>\n",
       "      <th>available</th>\n",
       "      <th>new</th>\n",
       "    </tr>\n",
       "  </thead>\n",
       "  <tbody>\n",
       "    <tr>\n",
       "      <th>0</th>\n",
       "      <td>iPhone Xs Max Prata 512GB IOS12 4G + Wi-fi Câm...</td>\n",
       "      <td>True</td>\n",
       "      <td>True</td>\n",
       "    </tr>\n",
       "    <tr>\n",
       "      <th>1</th>\n",
       "      <td>iPhone 11 Pro Max 512GB Verde Meia-Noite iOS 4...</td>\n",
       "      <td>True</td>\n",
       "      <td>True</td>\n",
       "    </tr>\n",
       "    <tr>\n",
       "      <th>2</th>\n",
       "      <td>iPhone 11 Pro Max 512GB Dourado iOS 4G + Wi-Fi...</td>\n",
       "      <td>True</td>\n",
       "      <td>True</td>\n",
       "    </tr>\n",
       "    <tr>\n",
       "      <th>3</th>\n",
       "      <td>iPhone Xs 512GB Cinza Espacial IOS12 4G + Wi-f...</td>\n",
       "      <td>True</td>\n",
       "      <td>True</td>\n",
       "    </tr>\n",
       "    <tr>\n",
       "      <th>4</th>\n",
       "      <td>iPhone 11 Pro Max 512GB Cinza Espacial iOS 4G ...</td>\n",
       "      <td>True</td>\n",
       "      <td>True</td>\n",
       "    </tr>\n",
       "    <tr>\n",
       "      <th>...</th>\n",
       "      <td>...</td>\n",
       "      <td>...</td>\n",
       "      <td>...</td>\n",
       "    </tr>\n",
       "    <tr>\n",
       "      <th>2321</th>\n",
       "      <td>Celular Dual Chip Nokia Asha 500 Desbloqueado ...</td>\n",
       "      <td>False</td>\n",
       "      <td>True</td>\n",
       "    </tr>\n",
       "    <tr>\n",
       "      <th>2322</th>\n",
       "      <td>Smartphone Microsoft Lumia 640 Dual DTV Dual C...</td>\n",
       "      <td>False</td>\n",
       "      <td>True</td>\n",
       "    </tr>\n",
       "    <tr>\n",
       "      <th>2323</th>\n",
       "      <td>Smartphone Nokia Lumia 530 Desbloqueado Window...</td>\n",
       "      <td>False</td>\n",
       "      <td>True</td>\n",
       "    </tr>\n",
       "    <tr>\n",
       "      <th>2324</th>\n",
       "      <td>Smartphone Microsoft Lumia 640 Xl Single 3g Te...</td>\n",
       "      <td>False</td>\n",
       "      <td>True</td>\n",
       "    </tr>\n",
       "    <tr>\n",
       "      <th>2325</th>\n",
       "      <td>Smartphone Microsoft Lumia 535 Dual Chip Desbl...</td>\n",
       "      <td>False</td>\n",
       "      <td>True</td>\n",
       "    </tr>\n",
       "  </tbody>\n",
       "</table>\n",
       "<p>2045 rows × 3 columns</p>\n",
       "</div>"
      ],
      "text/plain": [
       "                                          texto_produto  available   new\n",
       "0     iPhone Xs Max Prata 512GB IOS12 4G + Wi-fi Câm...       True  True\n",
       "1     iPhone 11 Pro Max 512GB Verde Meia-Noite iOS 4...       True  True\n",
       "2     iPhone 11 Pro Max 512GB Dourado iOS 4G + Wi-Fi...       True  True\n",
       "3     iPhone Xs 512GB Cinza Espacial IOS12 4G + Wi-f...       True  True\n",
       "4     iPhone 11 Pro Max 512GB Cinza Espacial iOS 4G ...       True  True\n",
       "...                                                 ...        ...   ...\n",
       "2321  Celular Dual Chip Nokia Asha 500 Desbloqueado ...      False  True\n",
       "2322  Smartphone Microsoft Lumia 640 Dual DTV Dual C...      False  True\n",
       "2323  Smartphone Nokia Lumia 530 Desbloqueado Window...      False  True\n",
       "2324  Smartphone Microsoft Lumia 640 Xl Single 3g Te...      False  True\n",
       "2325  Smartphone Microsoft Lumia 535 Dual Chip Desbl...      False  True\n",
       "\n",
       "[2045 rows x 3 columns]"
      ]
     },
     "execution_count": 416,
     "metadata": {},
     "output_type": "execute_result"
    }
   ],
   "source": [
    "americanas"
   ]
  },
  {
   "cell_type": "code",
   "execution_count": 48,
   "metadata": {
    "scrolled": true
   },
   "outputs": [
    {
     "name": "stdout",
     "output_type": "stream",
     "text": [
      "Celular Dual Chip Nokia Asha 500 Desbloqueado Preto Câmera 2MP 2G/Wi Fi Memória Interna 128MB Cartão de Memória 4GBOps! Já vendemos todo o estoque.\n",
      "-------\n",
      "Smartphone Microsoft Lumia 640 Dual DTV Dual Chip Desbloqueado Windows Phone 8.1 Tela 5\" 8GB 3G Wi-Fi Câmera 8MP com TV Digital - PretoOps! Já vendemos todo o estoque.\n",
      "-------\n",
      "Smartphone Nokia Lumia 530 Desbloqueado Windows Phone 8.1 Tela 4\" 4GB 3G Wi-Fi Câmera 5MP GPS - PretoOps! Já vendemos todo o estoque.\n",
      "-------\n",
      "Smartphone Microsoft Lumia 640 Xl Single 3g Tela 5.7 8gb Câmera 13mpOps! Já vendemos todo o estoque.\n",
      "-------\n",
      "Smartphone Microsoft Lumia 535 Dual Chip Desbloqueado Windows Phone 8.1 Tela 5\" 8GB 3G Wi-Fi Câmera 5MP PretoOps! Já vendemos todo o estoque.\n",
      "-------\n"
     ]
    },
    {
     "data": {
      "text/plain": [
       "[None, None, None, None, None]"
      ]
     },
     "execution_count": 48,
     "metadata": {},
     "output_type": "execute_result"
    }
   ],
   "source": [
    "[print(i + '\\n' + '-------') for i in americanas.texto_produto[2321:]]"
   ]
  },
  {
   "cell_type": "markdown",
   "metadata": {},
   "source": [
    "## fastshop"
   ]
  },
  {
   "cell_type": "markdown",
   "metadata": {},
   "source": [
    "nao tem muitos celulares aqui..."
   ]
  },
  {
   "cell_type": "code",
   "execution_count": 115,
   "metadata": {},
   "outputs": [],
   "source": [
    "fastshop = pd.read_csv('fastshop.com/storage/fastshop_raw2020y-5m-14d-15h.csv', encoding='cp1252').drop(columns=['Unnamed: 0','index'])\n",
    "fastshop.prod_description = fastshop.prod_description.apply(lambda x: x.split('Favoritos')[1])\n",
    "fast = pd.DataFrame()\n",
    "fast['modelo'] = fastshop.title.apply(lambda x: x.split(',')[0])"
   ]
  },
  {
   "cell_type": "code",
   "execution_count": 127,
   "metadata": {},
   "outputs": [
    {
     "data": {
      "text/plain": [
       "' com Tela de 6'"
      ]
     },
     "execution_count": 127,
     "metadata": {},
     "output_type": "execute_result"
    }
   ],
   "source": [
    "fastshop.title[0].split(',')[1]"
   ]
  },
  {
   "cell_type": "code",
   "execution_count": 503,
   "metadata": {},
   "outputs": [],
   "source": [
    "fastshop.title.apply(lambda x: x.split(',')[1])"
   ]
  },
  {
   "cell_type": "code",
   "execution_count": 116,
   "metadata": {},
   "outputs": [],
   "source": [
    "fast['modelo'] = fastshop.title.apply(lambda x: x.split(',')[0])"
   ]
  },
  {
   "cell_type": "code",
   "execution_count": 502,
   "metadata": {},
   "outputs": [],
   "source": [
    "fastshop.prod_description.apply(lambda x: x.split(','))[0]"
   ]
  },
  {
   "cell_type": "code",
   "execution_count": 501,
   "metadata": {},
   "outputs": [],
   "source": [
    "[print(i + '\\n' + '-------') for i in fastshop.prod_description[:20]]"
   ]
  },
  {
   "cell_type": "markdown",
   "metadata": {},
   "source": [
    "# Joining data!"
   ]
  },
  {
   "cell_type": "markdown",
   "metadata": {},
   "source": [
    "**Strategy here**\n",
    "check the dataframe from tecnica and compare first based on the internal memory, then "
   ]
  },
  {
   "cell_type": "code",
   "execution_count": 880,
   "metadata": {
    "code_folding": [
     0
    ]
   },
   "outputs": [],
   "source": [
    "def common_words(x,y,pair=True):\n",
    "    \"\"\"This func gets two strings and returns the number of how many words in common each string has,\n",
    "    plus the combination of pairs of words in order\n",
    "    \n",
    "    e.g: if string is 'pera banana abacaxi nabo', it will give a search for the words/pairs\n",
    "    ['pera', 'banana', 'abacaxi', 'nabo', 'pera banana', 'banana abacaxi', 'abacaxi nabo']\n",
    "    \n",
    "    \"\"\"   \n",
    "    import itertools\n",
    "    \n",
    "    lista1 = x.split(' ')\n",
    "    lista2 = y.split(' ')\n",
    "    \n",
    "    if pair:\n",
    "        lista1 = [lista1[i] + ' ' + lista1[i+1] if i < len(lista1)-1 else '' for i in np.arange(len(lista1))][:-1]\n",
    "        lista2 = [lista2[i] + ' ' + lista2[i+1] if i < len(lista2)-1 else '' for i in np.arange(len(lista2))][:-1]\n",
    "    \n",
    "#     return lista1, lista2\n",
    "    \n",
    "    number_found = len(list(set(lista1).intersection(lista2)))\n",
    "\n",
    "    return number_found\n",
    "    \n",
    "#     comblista1 = [tupla[0]+ ' '+ tupla[1] for tupla in list(itertools.combinations(lista1, 2))]\n",
    "#     comblista2 = [tupla[0]+ ' '+ tupla[1] for tupla in list(itertools.combinations(lista2, 2))]\n",
    "    \n",
    "#     number_found += len(list(set(comblista1).intersection(comblista2)))\n",
    "    \n",
    "#     return number_found\n",
    "\n",
    "# common_words('heyheyhey heyheyhey banana abacaxi nabo', 'pera banana abacaxi nabo')"
   ]
  },
  {
   "cell_type": "code",
   "execution_count": 907,
   "metadata": {
    "code_folding": [
     0
    ]
   },
   "outputs": [],
   "source": [
    "def get_number_of_matches(string, pandas_series):\n",
    "    \"\"\"This function gets a string and a pandas series and returns a list of how many words inside the string\n",
    "    are inside each row of the pandas_series, using the function common_words(), which also checks pair combinations\n",
    "    of words. It returns a list of the indexes of the pandas_series of each row.\"\"\"\n",
    "\n",
    "#     number_matched_row = []\n",
    "    \n",
    "    match_per_row = pandas_series.apply(lambda x: common_words(x, string, pair=False))\n",
    "    max_matched = match_per_row.max()\n",
    "    \n",
    "    if max_matched == 0:\n",
    "        return 0\n",
    "#         match_per_row = pandas_series.apply(lambda x: common_words(x, string, pair=False))\n",
    "#         max_matched = match_per_row.max()\n",
    "    \n",
    "    index_of_matchs = pandas_series[match_per_row == max_matched].index\n",
    "    \n",
    "    return index_of_matchs"
   ]
  },
  {
   "cell_type": "code",
   "execution_count": 909,
   "metadata": {},
   "outputs": [],
   "source": [
    "memmories = carrefour.HD.dropna().unique()\n",
    "harddisk = memmories[0]\n",
    "\n",
    "# separate based on memmorie ()\n",
    "comdindin = carrefour.loc[carrefour.HD == harddisk].loc[:,['title', 'price']]\n",
    "semdindin = datajoin.loc[datajoin.memoria_interna == harddisk].loc[:,'smartphone']\n",
    "\n",
    "#removing redundant string\n",
    "comdindin.loc[:,'title'] = comdindin.loc[:,'title'].apply(lambda x: x.replace('apple',''))"
   ]
  },
  {
   "cell_type": "code",
   "execution_count": 934,
   "metadata": {},
   "outputs": [
    {
     "data": {
      "text/plain": [
       "0              motorola edge\n",
       "3          motorola moto e6s\n",
       "4          motorola moto e6s\n",
       "6         samsung galaxy a31\n",
       "7         samsung galaxy a31\n",
       "                ...         \n",
       "4916              nokia 3310\n",
       "4917    motorola startac 130\n",
       "4919     motorola startac 75\n",
       "4920    motorola startac 75+\n",
       "4921     motorola startac 85\n",
       "Name: smartphone, Length: 2821, dtype: object"
      ]
     },
     "execution_count": 934,
     "metadata": {},
     "output_type": "execute_result"
    }
   ],
   "source": []
  },
  {
   "cell_type": "code",
   "execution_count": 939,
   "metadata": {},
   "outputs": [
    {
     "name": "stderr",
     "output_type": "stream",
     "text": [
      "  0%|          | 0/53 [00:00<?, ?it/s]"
     ]
    },
    {
     "name": "stdout",
     "output_type": "stream",
     "text": [
      "apple iphone se (2020) --- 12\n",
      "oneplus 8 --- 15\n"
     ]
    },
    {
     "name": "stderr",
     "output_type": "stream",
     "text": [
      "\n"
     ]
    },
    {
     "ename": "ValueError",
     "evalue": "could not broadcast input array from shape (56) into shape (1)",
     "output_type": "error",
     "traceback": [
      "\u001b[1;31m---------------------------------------------------------------------------\u001b[0m",
      "\u001b[1;31mValueError\u001b[0m                                Traceback (most recent call last)",
      "\u001b[1;32m<ipython-input-939-200f40d42e91>\u001b[0m in \u001b[0;36m<module>\u001b[1;34m\u001b[0m\n\u001b[0;32m      6\u001b[0m     \u001b[0mstring\u001b[0m \u001b[1;33m=\u001b[0m \u001b[0msemdindin\u001b[0m\u001b[1;33m[\u001b[0m\u001b[0mind\u001b[0m\u001b[1;33m]\u001b[0m\u001b[1;33m\u001b[0m\u001b[1;33m\u001b[0m\u001b[0m\n\u001b[0;32m      7\u001b[0m     \u001b[0mprint\u001b[0m\u001b[1;33m(\u001b[0m\u001b[0mstring\u001b[0m\u001b[1;33m,\u001b[0m \u001b[1;34m'---'\u001b[0m\u001b[1;33m,\u001b[0m\u001b[0mind\u001b[0m\u001b[1;33m)\u001b[0m\u001b[1;33m\u001b[0m\u001b[1;33m\u001b[0m\u001b[0m\n\u001b[1;32m----> 8\u001b[1;33m     minidf = pd.DataFrame({'index_from_1':ind,\n\u001b[0m\u001b[0;32m      9\u001b[0m                            'matched_indexes': get_number_of_matches(string, pandas_series)}, index=[0])\n\u001b[0;32m     10\u001b[0m     \u001b[0mdf\u001b[0m \u001b[1;33m=\u001b[0m \u001b[0mpd\u001b[0m\u001b[1;33m.\u001b[0m\u001b[0mconcat\u001b[0m\u001b[1;33m(\u001b[0m\u001b[1;33m[\u001b[0m\u001b[0mdf\u001b[0m\u001b[1;33m,\u001b[0m\u001b[0mminidf\u001b[0m\u001b[1;33m]\u001b[0m\u001b[1;33m)\u001b[0m\u001b[1;33m.\u001b[0m\u001b[0mreset_index\u001b[0m\u001b[1;33m(\u001b[0m\u001b[0mdrop\u001b[0m\u001b[1;33m=\u001b[0m\u001b[1;32mTrue\u001b[0m\u001b[1;33m)\u001b[0m\u001b[1;33m\u001b[0m\u001b[1;33m\u001b[0m\u001b[0m\n",
      "\u001b[1;32mc:\\users\\vfarn\\appdata\\local\\programs\\python\\python38-32\\lib\\site-packages\\pandas\\core\\frame.py\u001b[0m in \u001b[0;36m__init__\u001b[1;34m(self, data, index, columns, dtype, copy)\u001b[0m\n\u001b[0;32m    433\u001b[0m             )\n\u001b[0;32m    434\u001b[0m         \u001b[1;32melif\u001b[0m \u001b[0misinstance\u001b[0m\u001b[1;33m(\u001b[0m\u001b[0mdata\u001b[0m\u001b[1;33m,\u001b[0m \u001b[0mdict\u001b[0m\u001b[1;33m)\u001b[0m\u001b[1;33m:\u001b[0m\u001b[1;33m\u001b[0m\u001b[1;33m\u001b[0m\u001b[0m\n\u001b[1;32m--> 435\u001b[1;33m             \u001b[0mmgr\u001b[0m \u001b[1;33m=\u001b[0m \u001b[0minit_dict\u001b[0m\u001b[1;33m(\u001b[0m\u001b[0mdata\u001b[0m\u001b[1;33m,\u001b[0m \u001b[0mindex\u001b[0m\u001b[1;33m,\u001b[0m \u001b[0mcolumns\u001b[0m\u001b[1;33m,\u001b[0m \u001b[0mdtype\u001b[0m\u001b[1;33m=\u001b[0m\u001b[0mdtype\u001b[0m\u001b[1;33m)\u001b[0m\u001b[1;33m\u001b[0m\u001b[1;33m\u001b[0m\u001b[0m\n\u001b[0m\u001b[0;32m    436\u001b[0m         \u001b[1;32melif\u001b[0m \u001b[0misinstance\u001b[0m\u001b[1;33m(\u001b[0m\u001b[0mdata\u001b[0m\u001b[1;33m,\u001b[0m \u001b[0mma\u001b[0m\u001b[1;33m.\u001b[0m\u001b[0mMaskedArray\u001b[0m\u001b[1;33m)\u001b[0m\u001b[1;33m:\u001b[0m\u001b[1;33m\u001b[0m\u001b[1;33m\u001b[0m\u001b[0m\n\u001b[0;32m    437\u001b[0m             \u001b[1;32mimport\u001b[0m \u001b[0mnumpy\u001b[0m\u001b[1;33m.\u001b[0m\u001b[0mma\u001b[0m\u001b[1;33m.\u001b[0m\u001b[0mmrecords\u001b[0m \u001b[1;32mas\u001b[0m \u001b[0mmrecords\u001b[0m\u001b[1;33m\u001b[0m\u001b[1;33m\u001b[0m\u001b[0m\n",
      "\u001b[1;32mc:\\users\\vfarn\\appdata\\local\\programs\\python\\python38-32\\lib\\site-packages\\pandas\\core\\internals\\construction.py\u001b[0m in \u001b[0;36minit_dict\u001b[1;34m(data, index, columns, dtype)\u001b[0m\n\u001b[0;32m    252\u001b[0m             \u001b[0marr\u001b[0m \u001b[1;32mif\u001b[0m \u001b[1;32mnot\u001b[0m \u001b[0mis_datetime64tz_dtype\u001b[0m\u001b[1;33m(\u001b[0m\u001b[0marr\u001b[0m\u001b[1;33m)\u001b[0m \u001b[1;32melse\u001b[0m \u001b[0marr\u001b[0m\u001b[1;33m.\u001b[0m\u001b[0mcopy\u001b[0m\u001b[1;33m(\u001b[0m\u001b[1;33m)\u001b[0m \u001b[1;32mfor\u001b[0m \u001b[0marr\u001b[0m \u001b[1;32min\u001b[0m \u001b[0marrays\u001b[0m\u001b[1;33m\u001b[0m\u001b[1;33m\u001b[0m\u001b[0m\n\u001b[0;32m    253\u001b[0m         ]\n\u001b[1;32m--> 254\u001b[1;33m     \u001b[1;32mreturn\u001b[0m \u001b[0marrays_to_mgr\u001b[0m\u001b[1;33m(\u001b[0m\u001b[0marrays\u001b[0m\u001b[1;33m,\u001b[0m \u001b[0mdata_names\u001b[0m\u001b[1;33m,\u001b[0m \u001b[0mindex\u001b[0m\u001b[1;33m,\u001b[0m \u001b[0mcolumns\u001b[0m\u001b[1;33m,\u001b[0m \u001b[0mdtype\u001b[0m\u001b[1;33m=\u001b[0m\u001b[0mdtype\u001b[0m\u001b[1;33m)\u001b[0m\u001b[1;33m\u001b[0m\u001b[1;33m\u001b[0m\u001b[0m\n\u001b[0m\u001b[0;32m    255\u001b[0m \u001b[1;33m\u001b[0m\u001b[0m\n\u001b[0;32m    256\u001b[0m \u001b[1;33m\u001b[0m\u001b[0m\n",
      "\u001b[1;32mc:\\users\\vfarn\\appdata\\local\\programs\\python\\python38-32\\lib\\site-packages\\pandas\\core\\internals\\construction.py\u001b[0m in \u001b[0;36marrays_to_mgr\u001b[1;34m(arrays, arr_names, index, columns, dtype)\u001b[0m\n\u001b[0;32m     72\u001b[0m     \u001b[0maxes\u001b[0m \u001b[1;33m=\u001b[0m \u001b[1;33m[\u001b[0m\u001b[0mensure_index\u001b[0m\u001b[1;33m(\u001b[0m\u001b[0mcolumns\u001b[0m\u001b[1;33m)\u001b[0m\u001b[1;33m,\u001b[0m \u001b[0mindex\u001b[0m\u001b[1;33m]\u001b[0m\u001b[1;33m\u001b[0m\u001b[1;33m\u001b[0m\u001b[0m\n\u001b[0;32m     73\u001b[0m \u001b[1;33m\u001b[0m\u001b[0m\n\u001b[1;32m---> 74\u001b[1;33m     \u001b[1;32mreturn\u001b[0m \u001b[0mcreate_block_manager_from_arrays\u001b[0m\u001b[1;33m(\u001b[0m\u001b[0marrays\u001b[0m\u001b[1;33m,\u001b[0m \u001b[0marr_names\u001b[0m\u001b[1;33m,\u001b[0m \u001b[0maxes\u001b[0m\u001b[1;33m)\u001b[0m\u001b[1;33m\u001b[0m\u001b[1;33m\u001b[0m\u001b[0m\n\u001b[0m\u001b[0;32m     75\u001b[0m \u001b[1;33m\u001b[0m\u001b[0m\n\u001b[0;32m     76\u001b[0m \u001b[1;33m\u001b[0m\u001b[0m\n",
      "\u001b[1;32mc:\\users\\vfarn\\appdata\\local\\programs\\python\\python38-32\\lib\\site-packages\\pandas\\core\\internals\\managers.py\u001b[0m in \u001b[0;36mcreate_block_manager_from_arrays\u001b[1;34m(arrays, names, axes)\u001b[0m\n\u001b[0;32m   1673\u001b[0m         \u001b[1;32mreturn\u001b[0m \u001b[0mmgr\u001b[0m\u001b[1;33m\u001b[0m\u001b[1;33m\u001b[0m\u001b[0m\n\u001b[0;32m   1674\u001b[0m     \u001b[1;32mexcept\u001b[0m \u001b[0mValueError\u001b[0m \u001b[1;32mas\u001b[0m \u001b[0me\u001b[0m\u001b[1;33m:\u001b[0m\u001b[1;33m\u001b[0m\u001b[1;33m\u001b[0m\u001b[0m\n\u001b[1;32m-> 1675\u001b[1;33m         \u001b[0mconstruction_error\u001b[0m\u001b[1;33m(\u001b[0m\u001b[0mlen\u001b[0m\u001b[1;33m(\u001b[0m\u001b[0marrays\u001b[0m\u001b[1;33m)\u001b[0m\u001b[1;33m,\u001b[0m \u001b[0marrays\u001b[0m\u001b[1;33m[\u001b[0m\u001b[1;36m0\u001b[0m\u001b[1;33m]\u001b[0m\u001b[1;33m.\u001b[0m\u001b[0mshape\u001b[0m\u001b[1;33m,\u001b[0m \u001b[0maxes\u001b[0m\u001b[1;33m,\u001b[0m \u001b[0me\u001b[0m\u001b[1;33m)\u001b[0m\u001b[1;33m\u001b[0m\u001b[1;33m\u001b[0m\u001b[0m\n\u001b[0m\u001b[0;32m   1676\u001b[0m \u001b[1;33m\u001b[0m\u001b[0m\n\u001b[0;32m   1677\u001b[0m \u001b[1;33m\u001b[0m\u001b[0m\n",
      "\u001b[1;32mc:\\users\\vfarn\\appdata\\local\\programs\\python\\python38-32\\lib\\site-packages\\pandas\\core\\internals\\managers.py\u001b[0m in \u001b[0;36mconstruction_error\u001b[1;34m(tot_items, block_shape, axes, e)\u001b[0m\n\u001b[0;32m   1689\u001b[0m \u001b[1;33m\u001b[0m\u001b[0m\n\u001b[0;32m   1690\u001b[0m     \u001b[1;32mif\u001b[0m \u001b[0mpassed\u001b[0m \u001b[1;33m==\u001b[0m \u001b[0mimplied\u001b[0m \u001b[1;32mand\u001b[0m \u001b[0me\u001b[0m \u001b[1;32mis\u001b[0m \u001b[1;32mnot\u001b[0m \u001b[1;32mNone\u001b[0m\u001b[1;33m:\u001b[0m\u001b[1;33m\u001b[0m\u001b[1;33m\u001b[0m\u001b[0m\n\u001b[1;32m-> 1691\u001b[1;33m         \u001b[1;32mraise\u001b[0m \u001b[0me\u001b[0m\u001b[1;33m\u001b[0m\u001b[1;33m\u001b[0m\u001b[0m\n\u001b[0m\u001b[0;32m   1692\u001b[0m     \u001b[1;32mif\u001b[0m \u001b[0mblock_shape\u001b[0m\u001b[1;33m[\u001b[0m\u001b[1;36m0\u001b[0m\u001b[1;33m]\u001b[0m \u001b[1;33m==\u001b[0m \u001b[1;36m0\u001b[0m\u001b[1;33m:\u001b[0m\u001b[1;33m\u001b[0m\u001b[1;33m\u001b[0m\u001b[0m\n\u001b[0;32m   1693\u001b[0m         \u001b[1;32mraise\u001b[0m \u001b[0mValueError\u001b[0m\u001b[1;33m(\u001b[0m\u001b[1;34m\"Empty data passed with indices specified.\"\u001b[0m\u001b[1;33m)\u001b[0m\u001b[1;33m\u001b[0m\u001b[1;33m\u001b[0m\u001b[0m\n",
      "\u001b[1;32mc:\\users\\vfarn\\appdata\\local\\programs\\python\\python38-32\\lib\\site-packages\\pandas\\core\\internals\\managers.py\u001b[0m in \u001b[0;36mcreate_block_manager_from_arrays\u001b[1;34m(arrays, names, axes)\u001b[0m\n\u001b[0;32m   1668\u001b[0m \u001b[1;33m\u001b[0m\u001b[0m\n\u001b[0;32m   1669\u001b[0m     \u001b[1;32mtry\u001b[0m\u001b[1;33m:\u001b[0m\u001b[1;33m\u001b[0m\u001b[1;33m\u001b[0m\u001b[0m\n\u001b[1;32m-> 1670\u001b[1;33m         \u001b[0mblocks\u001b[0m \u001b[1;33m=\u001b[0m \u001b[0mform_blocks\u001b[0m\u001b[1;33m(\u001b[0m\u001b[0marrays\u001b[0m\u001b[1;33m,\u001b[0m \u001b[0mnames\u001b[0m\u001b[1;33m,\u001b[0m \u001b[0maxes\u001b[0m\u001b[1;33m)\u001b[0m\u001b[1;33m\u001b[0m\u001b[1;33m\u001b[0m\u001b[0m\n\u001b[0m\u001b[0;32m   1671\u001b[0m         \u001b[0mmgr\u001b[0m \u001b[1;33m=\u001b[0m \u001b[0mBlockManager\u001b[0m\u001b[1;33m(\u001b[0m\u001b[0mblocks\u001b[0m\u001b[1;33m,\u001b[0m \u001b[0maxes\u001b[0m\u001b[1;33m)\u001b[0m\u001b[1;33m\u001b[0m\u001b[1;33m\u001b[0m\u001b[0m\n\u001b[0;32m   1672\u001b[0m         \u001b[0mmgr\u001b[0m\u001b[1;33m.\u001b[0m\u001b[0m_consolidate_inplace\u001b[0m\u001b[1;33m(\u001b[0m\u001b[1;33m)\u001b[0m\u001b[1;33m\u001b[0m\u001b[1;33m\u001b[0m\u001b[0m\n",
      "\u001b[1;32mc:\\users\\vfarn\\appdata\\local\\programs\\python\\python38-32\\lib\\site-packages\\pandas\\core\\internals\\managers.py\u001b[0m in \u001b[0;36mform_blocks\u001b[1;34m(arrays, names, axes)\u001b[0m\n\u001b[0;32m   1736\u001b[0m \u001b[1;33m\u001b[0m\u001b[0m\n\u001b[0;32m   1737\u001b[0m     \u001b[1;32mif\u001b[0m \u001b[0mlen\u001b[0m\u001b[1;33m(\u001b[0m\u001b[0mitems_dict\u001b[0m\u001b[1;33m[\u001b[0m\u001b[1;34m\"IntBlock\"\u001b[0m\u001b[1;33m]\u001b[0m\u001b[1;33m)\u001b[0m\u001b[1;33m:\u001b[0m\u001b[1;33m\u001b[0m\u001b[1;33m\u001b[0m\u001b[0m\n\u001b[1;32m-> 1738\u001b[1;33m         \u001b[0mint_blocks\u001b[0m \u001b[1;33m=\u001b[0m \u001b[0m_multi_blockify\u001b[0m\u001b[1;33m(\u001b[0m\u001b[0mitems_dict\u001b[0m\u001b[1;33m[\u001b[0m\u001b[1;34m\"IntBlock\"\u001b[0m\u001b[1;33m]\u001b[0m\u001b[1;33m)\u001b[0m\u001b[1;33m\u001b[0m\u001b[1;33m\u001b[0m\u001b[0m\n\u001b[0m\u001b[0;32m   1739\u001b[0m         \u001b[0mblocks\u001b[0m\u001b[1;33m.\u001b[0m\u001b[0mextend\u001b[0m\u001b[1;33m(\u001b[0m\u001b[0mint_blocks\u001b[0m\u001b[1;33m)\u001b[0m\u001b[1;33m\u001b[0m\u001b[1;33m\u001b[0m\u001b[0m\n\u001b[0;32m   1740\u001b[0m \u001b[1;33m\u001b[0m\u001b[0m\n",
      "\u001b[1;32mc:\\users\\vfarn\\appdata\\local\\programs\\python\\python38-32\\lib\\site-packages\\pandas\\core\\internals\\managers.py\u001b[0m in \u001b[0;36m_multi_blockify\u001b[1;34m(tuples, dtype)\u001b[0m\n\u001b[0;32m   1818\u001b[0m     \u001b[1;32mfor\u001b[0m \u001b[0mdtype\u001b[0m\u001b[1;33m,\u001b[0m \u001b[0mtup_block\u001b[0m \u001b[1;32min\u001b[0m \u001b[0mgrouper\u001b[0m\u001b[1;33m:\u001b[0m\u001b[1;33m\u001b[0m\u001b[1;33m\u001b[0m\u001b[0m\n\u001b[0;32m   1819\u001b[0m \u001b[1;33m\u001b[0m\u001b[0m\n\u001b[1;32m-> 1820\u001b[1;33m         \u001b[0mvalues\u001b[0m\u001b[1;33m,\u001b[0m \u001b[0mplacement\u001b[0m \u001b[1;33m=\u001b[0m \u001b[0m_stack_arrays\u001b[0m\u001b[1;33m(\u001b[0m\u001b[0mlist\u001b[0m\u001b[1;33m(\u001b[0m\u001b[0mtup_block\u001b[0m\u001b[1;33m)\u001b[0m\u001b[1;33m,\u001b[0m \u001b[0mdtype\u001b[0m\u001b[1;33m)\u001b[0m\u001b[1;33m\u001b[0m\u001b[1;33m\u001b[0m\u001b[0m\n\u001b[0m\u001b[0;32m   1821\u001b[0m \u001b[1;33m\u001b[0m\u001b[0m\n\u001b[0;32m   1822\u001b[0m         \u001b[0mblock\u001b[0m \u001b[1;33m=\u001b[0m \u001b[0mmake_block\u001b[0m\u001b[1;33m(\u001b[0m\u001b[0mvalues\u001b[0m\u001b[1;33m,\u001b[0m \u001b[0mplacement\u001b[0m\u001b[1;33m=\u001b[0m\u001b[0mplacement\u001b[0m\u001b[1;33m)\u001b[0m\u001b[1;33m\u001b[0m\u001b[1;33m\u001b[0m\u001b[0m\n",
      "\u001b[1;32mc:\\users\\vfarn\\appdata\\local\\programs\\python\\python38-32\\lib\\site-packages\\pandas\\core\\internals\\managers.py\u001b[0m in \u001b[0;36m_stack_arrays\u001b[1;34m(tuples, dtype)\u001b[0m\n\u001b[0;32m   1848\u001b[0m     \u001b[0mstacked\u001b[0m \u001b[1;33m=\u001b[0m \u001b[0mnp\u001b[0m\u001b[1;33m.\u001b[0m\u001b[0mempty\u001b[0m\u001b[1;33m(\u001b[0m\u001b[0mshape\u001b[0m\u001b[1;33m,\u001b[0m \u001b[0mdtype\u001b[0m\u001b[1;33m=\u001b[0m\u001b[0mdtype\u001b[0m\u001b[1;33m)\u001b[0m\u001b[1;33m\u001b[0m\u001b[1;33m\u001b[0m\u001b[0m\n\u001b[0;32m   1849\u001b[0m     \u001b[1;32mfor\u001b[0m \u001b[0mi\u001b[0m\u001b[1;33m,\u001b[0m \u001b[0marr\u001b[0m \u001b[1;32min\u001b[0m \u001b[0menumerate\u001b[0m\u001b[1;33m(\u001b[0m\u001b[0marrays\u001b[0m\u001b[1;33m)\u001b[0m\u001b[1;33m:\u001b[0m\u001b[1;33m\u001b[0m\u001b[1;33m\u001b[0m\u001b[0m\n\u001b[1;32m-> 1850\u001b[1;33m         \u001b[0mstacked\u001b[0m\u001b[1;33m[\u001b[0m\u001b[0mi\u001b[0m\u001b[1;33m]\u001b[0m \u001b[1;33m=\u001b[0m \u001b[0m_asarray_compat\u001b[0m\u001b[1;33m(\u001b[0m\u001b[0marr\u001b[0m\u001b[1;33m)\u001b[0m\u001b[1;33m\u001b[0m\u001b[1;33m\u001b[0m\u001b[0m\n\u001b[0m\u001b[0;32m   1851\u001b[0m \u001b[1;33m\u001b[0m\u001b[0m\n\u001b[0;32m   1852\u001b[0m     \u001b[1;32mreturn\u001b[0m \u001b[0mstacked\u001b[0m\u001b[1;33m,\u001b[0m \u001b[0mplacement\u001b[0m\u001b[1;33m\u001b[0m\u001b[1;33m\u001b[0m\u001b[0m\n",
      "\u001b[1;31mValueError\u001b[0m: could not broadcast input array from shape (56) into shape (1)"
     ]
    }
   ],
   "source": [
    "df = pd.DataFrame()\n",
    "pandas_series = comdindin.loc[:,'title']\n",
    "\n",
    "# Comparation\n",
    "for ind in tqdm(semdindin.index):\n",
    "    string = semdindin[ind]\n",
    "    print(string, '---',ind)\n",
    "    minidf = pd.DataFrame({'index_from_1':ind,\n",
    "                           'matched_indexes': get_number_of_matches(string, pandas_series)}, index=[0])\n",
    "    df = pd.concat([df,minidf]).reset_index(drop=True)\n",
    "    \n",
    "    \n",
    "# df.matched_indexes.apply(lambda x: len(x))\n",
    "df.head()"
   ]
  },
  {
   "cell_type": "code",
   "execution_count": 930,
   "metadata": {},
   "outputs": [
    {
     "data": {
      "text/plain": [
       "15023.76"
      ]
     },
     "execution_count": 930,
     "metadata": {},
     "output_type": "execute_result"
    }
   ],
   "source": [
    "comdindin.loc[x].price"
   ]
  },
  {
   "cell_type": "code",
   "execution_count": 940,
   "metadata": {},
   "outputs": [
    {
     "data": {
      "text/html": [
       "<div>\n",
       "<style scoped>\n",
       "    .dataframe tbody tr th:only-of-type {\n",
       "        vertical-align: middle;\n",
       "    }\n",
       "\n",
       "    .dataframe tbody tr th {\n",
       "        vertical-align: top;\n",
       "    }\n",
       "\n",
       "    .dataframe thead th {\n",
       "        text-align: right;\n",
       "    }\n",
       "</style>\n",
       "<table border=\"1\" class=\"dataframe\">\n",
       "  <thead>\n",
       "    <tr style=\"text-align: right;\">\n",
       "      <th></th>\n",
       "      <th>index_from_1</th>\n",
       "      <th>matched_indexes</th>\n",
       "      <th>tudocelular</th>\n",
       "      <th>carrefour</th>\n",
       "      <th>prices</th>\n",
       "    </tr>\n",
       "  </thead>\n",
       "  <tbody>\n",
       "    <tr>\n",
       "      <th>0</th>\n",
       "      <td>12</td>\n",
       "      <td>122</td>\n",
       "      <td>apple iphone se (2020)</td>\n",
       "      <td>iphone se 256gb  preto</td>\n",
       "      <td>4499.0</td>\n",
       "    </tr>\n",
       "  </tbody>\n",
       "</table>\n",
       "</div>"
      ],
      "text/plain": [
       "   index_from_1  matched_indexes             tudocelular  \\\n",
       "0            12              122  apple iphone se (2020)   \n",
       "\n",
       "                carrefour  prices  \n",
       "0  iphone se 256gb  preto  4499.0  "
      ]
     },
     "execution_count": 940,
     "metadata": {},
     "output_type": "execute_result"
    }
   ],
   "source": [
    "df['tudocelular'] = df.index_from_1.apply(lambda x: datajoin.loc[x].smartphone)\n",
    "df['carrefour'] = df.matched_indexes.apply(lambda x: comdindin.loc[x].title)\n",
    "df['prices'] = df.matched_indexes.apply(lambda x: comdindin.loc[x].price)\n",
    "df"
   ]
  },
  {
   "cell_type": "code",
   "execution_count": 937,
   "metadata": {},
   "outputs": [
    {
     "data": {
      "text/html": [
       "<div>\n",
       "<style scoped>\n",
       "    .dataframe tbody tr th:only-of-type {\n",
       "        vertical-align: middle;\n",
       "    }\n",
       "\n",
       "    .dataframe tbody tr th {\n",
       "        vertical-align: top;\n",
       "    }\n",
       "\n",
       "    .dataframe thead th {\n",
       "        text-align: right;\n",
       "    }\n",
       "</style>\n",
       "<table border=\"1\" class=\"dataframe\">\n",
       "  <thead>\n",
       "    <tr style=\"text-align: right;\">\n",
       "      <th></th>\n",
       "      <th>index_from_1</th>\n",
       "      <th>matched_indexes</th>\n",
       "      <th>tudocelular</th>\n",
       "      <th>carrefour</th>\n",
       "      <th>prices</th>\n",
       "    </tr>\n",
       "  </thead>\n",
       "  <tbody>\n",
       "    <tr>\n",
       "      <th>0</th>\n",
       "      <td>12</td>\n",
       "      <td>122</td>\n",
       "      <td>apple iphone se (2020)</td>\n",
       "      <td>iphone se 256gb  preto</td>\n",
       "      <td>4499.00</td>\n",
       "    </tr>\n",
       "    <tr>\n",
       "      <th>1</th>\n",
       "      <td>15</td>\n",
       "      <td>133</td>\n",
       "      <td>oneplus 8</td>\n",
       "      <td>iphone 8  prata 256gb desbloqueado  mq7d2br a</td>\n",
       "      <td>4282.98</td>\n",
       "    </tr>\n",
       "    <tr>\n",
       "      <th>2</th>\n",
       "      <td>15</td>\n",
       "      <td>172</td>\n",
       "      <td>oneplus 8</td>\n",
       "      <td>iphone 8 plus 256gb gold</td>\n",
       "      <td>3690.00</td>\n",
       "    </tr>\n",
       "    <tr>\n",
       "      <th>3</th>\n",
       "      <td>15</td>\n",
       "      <td>741</td>\n",
       "      <td>oneplus 8</td>\n",
       "      <td>iphone 11 pro 256gb dourado 4g tela 5 8 câmera...</td>\n",
       "      <td>7665.56</td>\n",
       "    </tr>\n",
       "    <tr>\n",
       "      <th>4</th>\n",
       "      <td>15</td>\n",
       "      <td>742</td>\n",
       "      <td>oneplus 8</td>\n",
       "      <td>iphone 11 pro 256gb verde meia noite 4g tela 5...</td>\n",
       "      <td>7665.56</td>\n",
       "    </tr>\n",
       "    <tr>\n",
       "      <th>5</th>\n",
       "      <td>15</td>\n",
       "      <td>783</td>\n",
       "      <td>oneplus 8</td>\n",
       "      <td>smartphone samsung galaxy note 10 plus prata 2...</td>\n",
       "      <td>5999.00</td>\n",
       "    </tr>\n",
       "    <tr>\n",
       "      <th>6</th>\n",
       "      <td>15</td>\n",
       "      <td>784</td>\n",
       "      <td>oneplus 8</td>\n",
       "      <td>smartphone samsung galaxy note 10 plus preto 2...</td>\n",
       "      <td>5999.00</td>\n",
       "    </tr>\n",
       "    <tr>\n",
       "      <th>7</th>\n",
       "      <td>15</td>\n",
       "      <td>853</td>\n",
       "      <td>oneplus 8</td>\n",
       "      <td>iphone xs  com 256gb tela super retina hd de 5...</td>\n",
       "      <td>4899.00</td>\n",
       "    </tr>\n",
       "    <tr>\n",
       "      <th>8</th>\n",
       "      <td>15</td>\n",
       "      <td>854</td>\n",
       "      <td>oneplus 8</td>\n",
       "      <td>iphone 8 plus  cinza espacial 256gb desbloquea...</td>\n",
       "      <td>4894.98</td>\n",
       "    </tr>\n",
       "    <tr>\n",
       "      <th>9</th>\n",
       "      <td>15</td>\n",
       "      <td>855</td>\n",
       "      <td>oneplus 8</td>\n",
       "      <td>iphone 8 plus  dourado 256gb desbloqueado  mq8...</td>\n",
       "      <td>4894.98</td>\n",
       "    </tr>\n",
       "    <tr>\n",
       "      <th>10</th>\n",
       "      <td>15</td>\n",
       "      <td>862</td>\n",
       "      <td>oneplus 8</td>\n",
       "      <td>iphone 8 plus  prata 256gb desbloqueado  mq8q2...</td>\n",
       "      <td>4799.00</td>\n",
       "    </tr>\n",
       "    <tr>\n",
       "      <th>11</th>\n",
       "      <td>15</td>\n",
       "      <td>872</td>\n",
       "      <td>oneplus 8</td>\n",
       "      <td>iphone 8  prata 256gb câmera 12 megapixels</td>\n",
       "      <td>4706.93</td>\n",
       "    </tr>\n",
       "    <tr>\n",
       "      <th>12</th>\n",
       "      <td>15</td>\n",
       "      <td>885</td>\n",
       "      <td>oneplus 8</td>\n",
       "      <td>iphone 8 mq7c2bz a 256gb bra 4.7'' cinza espa...</td>\n",
       "      <td>4599.00</td>\n",
       "    </tr>\n",
       "    <tr>\n",
       "      <th>13</th>\n",
       "      <td>15</td>\n",
       "      <td>887</td>\n",
       "      <td>oneplus 8</td>\n",
       "      <td>iphone 8 dourado 256gb</td>\n",
       "      <td>4518.74</td>\n",
       "    </tr>\n",
       "    <tr>\n",
       "      <th>14</th>\n",
       "      <td>15</td>\n",
       "      <td>896</td>\n",
       "      <td>oneplus 8</td>\n",
       "      <td>iphone 8  256gb cinza espacial tela retina hd ...</td>\n",
       "      <td>4475.51</td>\n",
       "    </tr>\n",
       "    <tr>\n",
       "      <th>15</th>\n",
       "      <td>15</td>\n",
       "      <td>925</td>\n",
       "      <td>oneplus 8</td>\n",
       "      <td>iphone 8  dourado 256gb desbloqueado  mq7e2bz a</td>\n",
       "      <td>4282.98</td>\n",
       "    </tr>\n",
       "    <tr>\n",
       "      <th>16</th>\n",
       "      <td>15</td>\n",
       "      <td>926</td>\n",
       "      <td>oneplus 8</td>\n",
       "      <td>iphone 8 256gb  dourado</td>\n",
       "      <td>4282.98</td>\n",
       "    </tr>\n",
       "    <tr>\n",
       "      <th>17</th>\n",
       "      <td>15</td>\n",
       "      <td>927</td>\n",
       "      <td>oneplus 8</td>\n",
       "      <td>iphone 8  cinza espacial 256gb desbloqueado  m...</td>\n",
       "      <td>4282.98</td>\n",
       "    </tr>\n",
       "    <tr>\n",
       "      <th>18</th>\n",
       "      <td>15</td>\n",
       "      <td>978</td>\n",
       "      <td>oneplus 8</td>\n",
       "      <td>iphone 8 plus 256gb cinza espacial (excelente)...</td>\n",
       "      <td>3849.00</td>\n",
       "    </tr>\n",
       "    <tr>\n",
       "      <th>19</th>\n",
       "      <td>15</td>\n",
       "      <td>1007</td>\n",
       "      <td>oneplus 8</td>\n",
       "      <td>iphone 8 plus  256gb vermelho (muito bom)  mai...</td>\n",
       "      <td>3689.00</td>\n",
       "    </tr>\n",
       "    <tr>\n",
       "      <th>20</th>\n",
       "      <td>15</td>\n",
       "      <td>1008</td>\n",
       "      <td>oneplus 8</td>\n",
       "      <td>iphone 8 plus  256gb dourado (muito bom)  mais...</td>\n",
       "      <td>3689.00</td>\n",
       "    </tr>\n",
       "    <tr>\n",
       "      <th>21</th>\n",
       "      <td>15</td>\n",
       "      <td>1009</td>\n",
       "      <td>oneplus 8</td>\n",
       "      <td>iphone 8 plus  256gb prata (muito bom)  mais b...</td>\n",
       "      <td>3689.00</td>\n",
       "    </tr>\n",
       "    <tr>\n",
       "      <th>22</th>\n",
       "      <td>15</td>\n",
       "      <td>1010</td>\n",
       "      <td>oneplus 8</td>\n",
       "      <td>iphone 8 plus 256gb cinza espacial (muito bom)...</td>\n",
       "      <td>3689.00</td>\n",
       "    </tr>\n",
       "    <tr>\n",
       "      <th>23</th>\n",
       "      <td>15</td>\n",
       "      <td>1040</td>\n",
       "      <td>oneplus 8</td>\n",
       "      <td>iphone 8 plus 256gb space tela 5.5' 4g câmera ...</td>\n",
       "      <td>3500.00</td>\n",
       "    </tr>\n",
       "    <tr>\n",
       "      <th>24</th>\n",
       "      <td>15</td>\n",
       "      <td>1063</td>\n",
       "      <td>oneplus 8</td>\n",
       "      <td>iphone 8 plus 256gb prata tela 5.5' 4g câmera ...</td>\n",
       "      <td>3399.00</td>\n",
       "    </tr>\n",
       "    <tr>\n",
       "      <th>25</th>\n",
       "      <td>15</td>\n",
       "      <td>1083</td>\n",
       "      <td>oneplus 8</td>\n",
       "      <td>iphone 8 plus  256gb prata (excelente)  mais b...</td>\n",
       "      <td>3269.00</td>\n",
       "    </tr>\n",
       "    <tr>\n",
       "      <th>26</th>\n",
       "      <td>15</td>\n",
       "      <td>1085</td>\n",
       "      <td>oneplus 8</td>\n",
       "      <td>iphone 8 plus  256gb dourado (excelente)  mais...</td>\n",
       "      <td>3269.00</td>\n",
       "    </tr>\n",
       "    <tr>\n",
       "      <th>27</th>\n",
       "      <td>15</td>\n",
       "      <td>1098</td>\n",
       "      <td>oneplus 8</td>\n",
       "      <td>iphone 8 plus  256gb prata (bom)  mais barato ...</td>\n",
       "      <td>3199.00</td>\n",
       "    </tr>\n",
       "    <tr>\n",
       "      <th>28</th>\n",
       "      <td>15</td>\n",
       "      <td>1099</td>\n",
       "      <td>oneplus 8</td>\n",
       "      <td>iphone 8 plus 256gb cinza espacial (bom)  mais...</td>\n",
       "      <td>3199.00</td>\n",
       "    </tr>\n",
       "    <tr>\n",
       "      <th>29</th>\n",
       "      <td>15</td>\n",
       "      <td>1120</td>\n",
       "      <td>oneplus 8</td>\n",
       "      <td>iphone 8 silver mq7d2bz a tela de 4.7 256gb 12...</td>\n",
       "      <td>3079.00</td>\n",
       "    </tr>\n",
       "    <tr>\n",
       "      <th>30</th>\n",
       "      <td>15</td>\n",
       "      <td>1129</td>\n",
       "      <td>oneplus 8</td>\n",
       "      <td>iphone 8 plus  256gb vermelho (excelente)  mai...</td>\n",
       "      <td>3039.05</td>\n",
       "    </tr>\n",
       "    <tr>\n",
       "      <th>31</th>\n",
       "      <td>15</td>\n",
       "      <td>1133</td>\n",
       "      <td>oneplus 8</td>\n",
       "      <td>iphone 8 plus  cinza espacial 256gb desbloquea...</td>\n",
       "      <td>3009.00</td>\n",
       "    </tr>\n",
       "    <tr>\n",
       "      <th>32</th>\n",
       "      <td>15</td>\n",
       "      <td>1134</td>\n",
       "      <td>oneplus 8</td>\n",
       "      <td>iphone 8 plus  256gb dourado (bom)  mais barat...</td>\n",
       "      <td>3009.00</td>\n",
       "    </tr>\n",
       "    <tr>\n",
       "      <th>33</th>\n",
       "      <td>15</td>\n",
       "      <td>1162</td>\n",
       "      <td>oneplus 8</td>\n",
       "      <td>iphone 8  256gb cinza espacial (excelente)  ma...</td>\n",
       "      <td>2919.00</td>\n",
       "    </tr>\n",
       "    <tr>\n",
       "      <th>34</th>\n",
       "      <td>15</td>\n",
       "      <td>1163</td>\n",
       "      <td>oneplus 8</td>\n",
       "      <td>iphone 8  256gb dourado (excelente)  mais bara...</td>\n",
       "      <td>2919.00</td>\n",
       "    </tr>\n",
       "    <tr>\n",
       "      <th>35</th>\n",
       "      <td>15</td>\n",
       "      <td>1175</td>\n",
       "      <td>oneplus 8</td>\n",
       "      <td>iphone 8  256gb vermelho (excelente)  mais bar...</td>\n",
       "      <td>2899.00</td>\n",
       "    </tr>\n",
       "    <tr>\n",
       "      <th>36</th>\n",
       "      <td>15</td>\n",
       "      <td>1178</td>\n",
       "      <td>oneplus 8</td>\n",
       "      <td>iphone 8  256gb prata (excelente)  mais barato...</td>\n",
       "      <td>2879.00</td>\n",
       "    </tr>\n",
       "    <tr>\n",
       "      <th>37</th>\n",
       "      <td>15</td>\n",
       "      <td>1203</td>\n",
       "      <td>oneplus 8</td>\n",
       "      <td>iphone 8  256gb prata (bom)  mais barato store</td>\n",
       "      <td>2789.00</td>\n",
       "    </tr>\n",
       "    <tr>\n",
       "      <th>38</th>\n",
       "      <td>15</td>\n",
       "      <td>1210</td>\n",
       "      <td>oneplus 8</td>\n",
       "      <td>iphone 8  256gb dourado (muito bom)  mais bara...</td>\n",
       "      <td>2779.00</td>\n",
       "    </tr>\n",
       "    <tr>\n",
       "      <th>39</th>\n",
       "      <td>15</td>\n",
       "      <td>1211</td>\n",
       "      <td>oneplus 8</td>\n",
       "      <td>iphone 8  256gb cinza espacial (muito bom)  ma...</td>\n",
       "      <td>2779.00</td>\n",
       "    </tr>\n",
       "    <tr>\n",
       "      <th>40</th>\n",
       "      <td>15</td>\n",
       "      <td>1212</td>\n",
       "      <td>oneplus 8</td>\n",
       "      <td>iphone 8  256gb prata (muito bom)  mais barato...</td>\n",
       "      <td>2779.00</td>\n",
       "    </tr>\n",
       "    <tr>\n",
       "      <th>41</th>\n",
       "      <td>15</td>\n",
       "      <td>1227</td>\n",
       "      <td>oneplus 8</td>\n",
       "      <td>iphone 8  256gb vermelho (muito bom)  mais bar...</td>\n",
       "      <td>2729.00</td>\n",
       "    </tr>\n",
       "    <tr>\n",
       "      <th>42</th>\n",
       "      <td>15</td>\n",
       "      <td>1230</td>\n",
       "      <td>oneplus 8</td>\n",
       "      <td>iphone 8 plus 256gb prateado excelente  trocafone</td>\n",
       "      <td>2709.00</td>\n",
       "    </tr>\n",
       "    <tr>\n",
       "      <th>43</th>\n",
       "      <td>15</td>\n",
       "      <td>1250</td>\n",
       "      <td>oneplus 8</td>\n",
       "      <td>iphone 8 plus 256gb cinza espacial excelente  ...</td>\n",
       "      <td>2679.00</td>\n",
       "    </tr>\n",
       "    <tr>\n",
       "      <th>44</th>\n",
       "      <td>15</td>\n",
       "      <td>1252</td>\n",
       "      <td>oneplus 8</td>\n",
       "      <td>iphone 8 plus 256gb vermelho excelente  trocafone</td>\n",
       "      <td>2679.00</td>\n",
       "    </tr>\n",
       "    <tr>\n",
       "      <th>45</th>\n",
       "      <td>15</td>\n",
       "      <td>1271</td>\n",
       "      <td>oneplus 8</td>\n",
       "      <td>iphone 8  256gb cinza espacial (bom)  mais bar...</td>\n",
       "      <td>2619.00</td>\n",
       "    </tr>\n",
       "    <tr>\n",
       "      <th>46</th>\n",
       "      <td>15</td>\n",
       "      <td>1301</td>\n",
       "      <td>oneplus 8</td>\n",
       "      <td>iphone 8 plus 256gb prateado muito bom  trocafone</td>\n",
       "      <td>2549.00</td>\n",
       "    </tr>\n",
       "    <tr>\n",
       "      <th>47</th>\n",
       "      <td>15</td>\n",
       "      <td>1302</td>\n",
       "      <td>oneplus 8</td>\n",
       "      <td>iphone 8 plus 256gb cinza espacial muito bom  ...</td>\n",
       "      <td>2549.00</td>\n",
       "    </tr>\n",
       "    <tr>\n",
       "      <th>48</th>\n",
       "      <td>15</td>\n",
       "      <td>1303</td>\n",
       "      <td>oneplus 8</td>\n",
       "      <td>iphone 8 plus 256gb dourado muito bom  trocafone</td>\n",
       "      <td>2549.00</td>\n",
       "    </tr>\n",
       "    <tr>\n",
       "      <th>49</th>\n",
       "      <td>15</td>\n",
       "      <td>1336</td>\n",
       "      <td>oneplus 8</td>\n",
       "      <td>iphone 8 256gb vermelho bom  trocafone</td>\n",
       "      <td>2489.00</td>\n",
       "    </tr>\n",
       "    <tr>\n",
       "      <th>50</th>\n",
       "      <td>15</td>\n",
       "      <td>1337</td>\n",
       "      <td>oneplus 8</td>\n",
       "      <td>iphone 8 plus 256gb vermelho muito bom  trocafone</td>\n",
       "      <td>2479.00</td>\n",
       "    </tr>\n",
       "    <tr>\n",
       "      <th>51</th>\n",
       "      <td>15</td>\n",
       "      <td>1379</td>\n",
       "      <td>oneplus 8</td>\n",
       "      <td>iphone 8 plus 256gb cinza espacial bom  trocafone</td>\n",
       "      <td>2359.00</td>\n",
       "    </tr>\n",
       "    <tr>\n",
       "      <th>52</th>\n",
       "      <td>15</td>\n",
       "      <td>1569</td>\n",
       "      <td>oneplus 8</td>\n",
       "      <td>iphone 8 256gb cinza espacial excelente  troca...</td>\n",
       "      <td>1999.00</td>\n",
       "    </tr>\n",
       "    <tr>\n",
       "      <th>53</th>\n",
       "      <td>15</td>\n",
       "      <td>1570</td>\n",
       "      <td>oneplus 8</td>\n",
       "      <td>iphone 8 256gb dourado excelente  trocafone</td>\n",
       "      <td>1999.00</td>\n",
       "    </tr>\n",
       "    <tr>\n",
       "      <th>54</th>\n",
       "      <td>15</td>\n",
       "      <td>1613</td>\n",
       "      <td>oneplus 8</td>\n",
       "      <td>iphone 8 256gb prateado excelente  trocafone</td>\n",
       "      <td>1959.00</td>\n",
       "    </tr>\n",
       "    <tr>\n",
       "      <th>55</th>\n",
       "      <td>15</td>\n",
       "      <td>1642</td>\n",
       "      <td>oneplus 8</td>\n",
       "      <td>iphone 8 256gb cinza espacial muito bom  troca...</td>\n",
       "      <td>1929.00</td>\n",
       "    </tr>\n",
       "    <tr>\n",
       "      <th>56</th>\n",
       "      <td>15</td>\n",
       "      <td>1672</td>\n",
       "      <td>oneplus 8</td>\n",
       "      <td>iphone 8 256gb vermelho muito bom  trocafone</td>\n",
       "      <td>1899.00</td>\n",
       "    </tr>\n",
       "  </tbody>\n",
       "</table>\n",
       "</div>"
      ],
      "text/plain": [
       "    index_from_1  matched_indexes             tudocelular  \\\n",
       "0             12              122  apple iphone se (2020)   \n",
       "1             15              133               oneplus 8   \n",
       "2             15              172               oneplus 8   \n",
       "3             15              741               oneplus 8   \n",
       "4             15              742               oneplus 8   \n",
       "5             15              783               oneplus 8   \n",
       "6             15              784               oneplus 8   \n",
       "7             15              853               oneplus 8   \n",
       "8             15              854               oneplus 8   \n",
       "9             15              855               oneplus 8   \n",
       "10            15              862               oneplus 8   \n",
       "11            15              872               oneplus 8   \n",
       "12            15              885               oneplus 8   \n",
       "13            15              887               oneplus 8   \n",
       "14            15              896               oneplus 8   \n",
       "15            15              925               oneplus 8   \n",
       "16            15              926               oneplus 8   \n",
       "17            15              927               oneplus 8   \n",
       "18            15              978               oneplus 8   \n",
       "19            15             1007               oneplus 8   \n",
       "20            15             1008               oneplus 8   \n",
       "21            15             1009               oneplus 8   \n",
       "22            15             1010               oneplus 8   \n",
       "23            15             1040               oneplus 8   \n",
       "24            15             1063               oneplus 8   \n",
       "25            15             1083               oneplus 8   \n",
       "26            15             1085               oneplus 8   \n",
       "27            15             1098               oneplus 8   \n",
       "28            15             1099               oneplus 8   \n",
       "29            15             1120               oneplus 8   \n",
       "30            15             1129               oneplus 8   \n",
       "31            15             1133               oneplus 8   \n",
       "32            15             1134               oneplus 8   \n",
       "33            15             1162               oneplus 8   \n",
       "34            15             1163               oneplus 8   \n",
       "35            15             1175               oneplus 8   \n",
       "36            15             1178               oneplus 8   \n",
       "37            15             1203               oneplus 8   \n",
       "38            15             1210               oneplus 8   \n",
       "39            15             1211               oneplus 8   \n",
       "40            15             1212               oneplus 8   \n",
       "41            15             1227               oneplus 8   \n",
       "42            15             1230               oneplus 8   \n",
       "43            15             1250               oneplus 8   \n",
       "44            15             1252               oneplus 8   \n",
       "45            15             1271               oneplus 8   \n",
       "46            15             1301               oneplus 8   \n",
       "47            15             1302               oneplus 8   \n",
       "48            15             1303               oneplus 8   \n",
       "49            15             1336               oneplus 8   \n",
       "50            15             1337               oneplus 8   \n",
       "51            15             1379               oneplus 8   \n",
       "52            15             1569               oneplus 8   \n",
       "53            15             1570               oneplus 8   \n",
       "54            15             1613               oneplus 8   \n",
       "55            15             1642               oneplus 8   \n",
       "56            15             1672               oneplus 8   \n",
       "\n",
       "                                            carrefour   prices  \n",
       "0                              iphone se 256gb  preto  4499.00  \n",
       "1       iphone 8  prata 256gb desbloqueado  mq7d2br a  4282.98  \n",
       "2                           iphone 8 plus 256gb gold   3690.00  \n",
       "3   iphone 11 pro 256gb dourado 4g tela 5 8 câmera...  7665.56  \n",
       "4   iphone 11 pro 256gb verde meia noite 4g tela 5...  7665.56  \n",
       "5   smartphone samsung galaxy note 10 plus prata 2...  5999.00  \n",
       "6   smartphone samsung galaxy note 10 plus preto 2...  5999.00  \n",
       "7   iphone xs  com 256gb tela super retina hd de 5...  4899.00  \n",
       "8   iphone 8 plus  cinza espacial 256gb desbloquea...  4894.98  \n",
       "9   iphone 8 plus  dourado 256gb desbloqueado  mq8...  4894.98  \n",
       "10  iphone 8 plus  prata 256gb desbloqueado  mq8q2...  4799.00  \n",
       "11         iphone 8  prata 256gb câmera 12 megapixels  4706.93  \n",
       "12   iphone 8 mq7c2bz a 256gb bra 4.7'' cinza espa...  4599.00  \n",
       "13                             iphone 8 dourado 256gb  4518.74  \n",
       "14  iphone 8  256gb cinza espacial tela retina hd ...  4475.51  \n",
       "15    iphone 8  dourado 256gb desbloqueado  mq7e2bz a  4282.98  \n",
       "16                            iphone 8 256gb  dourado  4282.98  \n",
       "17  iphone 8  cinza espacial 256gb desbloqueado  m...  4282.98  \n",
       "18  iphone 8 plus 256gb cinza espacial (excelente)...  3849.00  \n",
       "19  iphone 8 plus  256gb vermelho (muito bom)  mai...  3689.00  \n",
       "20  iphone 8 plus  256gb dourado (muito bom)  mais...  3689.00  \n",
       "21  iphone 8 plus  256gb prata (muito bom)  mais b...  3689.00  \n",
       "22  iphone 8 plus 256gb cinza espacial (muito bom)...  3689.00  \n",
       "23  iphone 8 plus 256gb space tela 5.5' 4g câmera ...  3500.00  \n",
       "24  iphone 8 plus 256gb prata tela 5.5' 4g câmera ...  3399.00  \n",
       "25  iphone 8 plus  256gb prata (excelente)  mais b...  3269.00  \n",
       "26  iphone 8 plus  256gb dourado (excelente)  mais...  3269.00  \n",
       "27  iphone 8 plus  256gb prata (bom)  mais barato ...  3199.00  \n",
       "28  iphone 8 plus 256gb cinza espacial (bom)  mais...  3199.00  \n",
       "29  iphone 8 silver mq7d2bz a tela de 4.7 256gb 12...  3079.00  \n",
       "30  iphone 8 plus  256gb vermelho (excelente)  mai...  3039.05  \n",
       "31  iphone 8 plus  cinza espacial 256gb desbloquea...  3009.00  \n",
       "32  iphone 8 plus  256gb dourado (bom)  mais barat...  3009.00  \n",
       "33  iphone 8  256gb cinza espacial (excelente)  ma...  2919.00  \n",
       "34  iphone 8  256gb dourado (excelente)  mais bara...  2919.00  \n",
       "35  iphone 8  256gb vermelho (excelente)  mais bar...  2899.00  \n",
       "36  iphone 8  256gb prata (excelente)  mais barato...  2879.00  \n",
       "37     iphone 8  256gb prata (bom)  mais barato store  2789.00  \n",
       "38  iphone 8  256gb dourado (muito bom)  mais bara...  2779.00  \n",
       "39  iphone 8  256gb cinza espacial (muito bom)  ma...  2779.00  \n",
       "40  iphone 8  256gb prata (muito bom)  mais barato...  2779.00  \n",
       "41  iphone 8  256gb vermelho (muito bom)  mais bar...  2729.00  \n",
       "42  iphone 8 plus 256gb prateado excelente  trocafone  2709.00  \n",
       "43  iphone 8 plus 256gb cinza espacial excelente  ...  2679.00  \n",
       "44  iphone 8 plus 256gb vermelho excelente  trocafone  2679.00  \n",
       "45  iphone 8  256gb cinza espacial (bom)  mais bar...  2619.00  \n",
       "46  iphone 8 plus 256gb prateado muito bom  trocafone  2549.00  \n",
       "47  iphone 8 plus 256gb cinza espacial muito bom  ...  2549.00  \n",
       "48   iphone 8 plus 256gb dourado muito bom  trocafone  2549.00  \n",
       "49             iphone 8 256gb vermelho bom  trocafone  2489.00  \n",
       "50  iphone 8 plus 256gb vermelho muito bom  trocafone  2479.00  \n",
       "51  iphone 8 plus 256gb cinza espacial bom  trocafone  2359.00  \n",
       "52  iphone 8 256gb cinza espacial excelente  troca...  1999.00  \n",
       "53        iphone 8 256gb dourado excelente  trocafone  1999.00  \n",
       "54       iphone 8 256gb prateado excelente  trocafone  1959.00  \n",
       "55  iphone 8 256gb cinza espacial muito bom  troca...  1929.00  \n",
       "56       iphone 8 256gb vermelho muito bom  trocafone  1899.00  "
      ]
     },
     "execution_count": 937,
     "metadata": {},
     "output_type": "execute_result"
    }
   ],
   "source": []
  },
  {
   "cell_type": "code",
   "execution_count": 923,
   "metadata": {},
   "outputs": [
    {
     "data": {
      "text/plain": [
       "('oneplus 8', 'iphone 8 plus 256gb gold ')"
      ]
     },
     "execution_count": 923,
     "metadata": {},
     "output_type": "execute_result"
    }
   ],
   "source": [
    "semdindin.loc[15], comdindin.loc[172]['title']"
   ]
  },
  {
   "cell_type": "code",
   "execution_count": 629,
   "metadata": {},
   "outputs": [],
   "source": [
    "gogogo = np.array(comdindin.title)"
   ]
  },
  {
   "cell_type": "code",
   "execution_count": 638,
   "metadata": {
    "scrolled": true
   },
   "outputs": [
    {
     "data": {
      "text/plain": [
       "array(['128gb', '32gb', '256gb', '64gb', '512gb', '16gb', '8gb',\n",
       "       'não suporta', '4gb', '128mb', '10gbemmc 5.1', '32mbflash', '32mb',\n",
       "       '24mb', '4mb', '2,39mb', '256mb', '64mb', '512mb', '16mb', '5mb',\n",
       "       '16gbemmc 5.0', '32gbemmc 5.0', '64gbemmc 5.0', '16gbemmc 4.5',\n",
       "       '32gbemmc 4.5', '64gbemmc 4.5', '8mb', '20mb', '1gb', '300kb',\n",
       "       '78,39mb', '34mb', '20gb', '2gb', '1mb', '2,5gb', '50mb', '3gb',\n",
       "       '30mb', '43mb', '150mb', '2,33gb', '120mb', '10mb', '15mb',\n",
       "       '100mb', '100kb', '22mb', '18mb', '26mb', '40mb', '78mb', '45mb',\n",
       "       '140mb', '54mb', '90mb', '260mb', '270mb', '280mb', '42mb', '19mb',\n",
       "       '512kb', '500kb', '48mb', '4gbflash', '38mb', '118mb', '80mb',\n",
       "       '200mb', '110mb', '11mb', '600kb', '35mb', '96mb', '14mb', '2mb',\n",
       "       '12mb', '473kb', '1,78mb', '484kb', '400kb', '7mb', '610kb',\n",
       "       '800kb', '1kb'], dtype=object)"
      ]
     },
     "execution_count": 638,
     "metadata": {},
     "output_type": "execute_result"
    }
   ],
   "source": [
    "datajoin.memoria_interna.unique()"
   ]
  },
  {
   "cell_type": "markdown",
   "metadata": {},
   "source": [
    "# Wont have a deploy here"
   ]
  },
  {
   "cell_type": "markdown",
   "metadata": {
    "heading_collapsed": true
   },
   "source": [
    "## Useless properties (for now)"
   ]
  },
  {
   "cell_type": "code",
   "execution_count": 115,
   "metadata": {
    "code_folding": [
     0
    ],
    "hidden": true
   },
   "outputs": [],
   "source": [
    "# HERE ARE THE USELESS (FOR NOW)\n",
    "# 9-Antena: useless for now\n",
    "# 13 e 14: sistema operacional não interessa muito ja que mesmo um tendo um anterior ao outro é passivel de atualização.\n",
    "# isso seria uma informação que conteria no release date\n",
    "# 32 frequencias, bandas: has no info\n",
    "# 43 'mensagens': os unicos que diferem é o tipo de SMS, mas retirar nao removeria informacao útil\n",
    "# 46-Controle de chamada: irrelevante por enquanto\n",
    "# 52-Distancia focal: alguns celulares nao tem especificação pra isso, irrelevante por enquanto\n",
    "# 53-Tamanho sensor: irrelevante por enquanto\n",
    "# 55-Autofocus: irrelevante por enquanto\n",
    "# 56-Touch focus:  irrelevante por enquanto\n",
    "# 59-Face/smile detection: irrelevante por enquanto\n",
    "# 66-Abertura focal.1: camera da frente, irrelevante por enquanto\n",
    "# 66-Abertura focal.1:  camera da frente, irrelevante por enquanto\n",
    "# 67-Distancia focal.1:  camera da frente, irrelevante por enquanto\n",
    "# 68-Tamanho sensor.1:  camera da frente, irrelevante por enquanto\n",
    "# 69-Tamanho pixel.1:  camera da frente, irrelevante por enquanto\n",
    "# 70-Radio: irrelevante por enquanto\n",
    "# 71-TV: irrelevante por enquanto\n",
    "# 72-Formatos de video: irrelevante por enquanto\n",
    "# 73-Formatos de audio: irrelevante por enquanto\n",
    "# 74-USB: irrelevante por enquanto\n",
    "# 76-Saida para audio: irrelevante por enquanto\n",
    "# 81-GPS: irrelevante por enquanto (nao tem mtas diferenças)\n",
    "# 85-Toques, ringtones: irrelevante por enquanto\n",
    "# 95-SAR 1.6W/kg (EUA, Argentina, etc.): não usaremos já que há para o brazil\n",
    "\n",
    "\n",
    "\n",
    "######## take a look later:\n",
    "# 54-Tamanho pixel: esse é o tamanho pixel da camera, ainda n sei o como diferenciasr <<<<<<<<<<<<<<"
   ]
  },
  {
   "cell_type": "code",
   "execution_count": 146,
   "metadata": {
    "hidden": true
   },
   "outputs": [
    {
     "data": {
      "text/plain": [
       "(2821, 98)"
      ]
     },
     "execution_count": 146,
     "metadata": {},
     "output_type": "execute_result"
    }
   ],
   "source": [
    "tecnical.shape"
   ]
  },
  {
   "cell_type": "code",
   "execution_count": 148,
   "metadata": {
    "hidden": true
   },
   "outputs": [],
   "source": [
    "# columns_to_drop = [9,13,14,32,43,46,52,53,55,56,59,66,66,67,68,69,70,71,72,73,74,76,81,85,95]\n",
    "# columns_to_drop = tecnical.iloc[:,columns_to_drop].columns.tolist()\n",
    "# tecnical.drop(columns=columns_to_drop, inplace=True)"
   ]
  },
  {
   "cell_type": "code",
   "execution_count": 149,
   "metadata": {
    "hidden": true
   },
   "outputs": [
    {
     "data": {
      "text/plain": [
       "(2821, 74)"
      ]
     },
     "execution_count": 149,
     "metadata": {},
     "output_type": "execute_result"
    }
   ],
   "source": [
    "tecnical.shape"
   ]
  },
  {
   "cell_type": "markdown",
   "metadata": {
    "heading_collapsed": true
   },
   "source": [
    "## Modifying Properties"
   ]
  },
  {
   "cell_type": "code",
   "execution_count": null,
   "metadata": {
    "hidden": true
   },
   "outputs": [],
   "source": [
    "# Changin properties to avoid get_dummies\n",
    "#33 to 42: sobre frequencias, se 2G, 3G, 4G, 5G, etc. melhor trocar isso por 'frequencia_suportada' e colocar 2,3,4 e 5...\n",
    "# 44 e 45 trocar por: suporta viva voz e suporta video chamada com booleanos\n",
    "# 57-Estabilizacao de imagem: da para colocar escala de 0-5\n",
    "# 58-Zoom: da para colocar escala de 0-5\n",
    "# 60-Sensor BSI: se tem é bom"
   ]
  },
  {
   "cell_type": "code",
   "execution_count": 130,
   "metadata": {
    "hidden": true
   },
   "outputs": [],
   "source": [
    "# tecnical.loc[tecnical.loc[:,'Teclado Qwerty fisico'] == 'Teclado QWERTY Fixo']"
   ]
  }
 ],
 "metadata": {
  "kernelspec": {
   "display_name": "Python 3",
   "language": "python",
   "name": "python3"
  },
  "language_info": {
   "codemirror_mode": {
    "name": "ipython",
    "version": 3
   },
   "file_extension": ".py",
   "mimetype": "text/x-python",
   "name": "python",
   "nbconvert_exporter": "python",
   "pygments_lexer": "ipython3",
   "version": "3.8.1"
  },
  "toc": {
   "base_numbering": 1,
   "nav_menu": {},
   "number_sections": true,
   "sideBar": true,
   "skip_h1_title": false,
   "title_cell": "Table of Contents",
   "title_sidebar": "Contents",
   "toc_cell": false,
   "toc_position": {},
   "toc_section_display": true,
   "toc_window_display": false
  },
  "varInspector": {
   "cols": {
    "lenName": 16,
    "lenType": 16,
    "lenVar": 40
   },
   "kernels_config": {
    "python": {
     "delete_cmd_postfix": "",
     "delete_cmd_prefix": "del ",
     "library": "var_list.py",
     "varRefreshCmd": "print(var_dic_list())"
    },
    "r": {
     "delete_cmd_postfix": ") ",
     "delete_cmd_prefix": "rm(",
     "library": "var_list.r",
     "varRefreshCmd": "cat(var_dic_list()) "
    }
   },
   "types_to_exclude": [
    "module",
    "function",
    "builtin_function_or_method",
    "instance",
    "_Feature"
   ],
   "window_display": false
  }
 },
 "nbformat": 4,
 "nbformat_minor": 4
}
