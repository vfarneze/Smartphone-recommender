{
 "cells": [
  {
   "cell_type": "code",
   "execution_count": 1,
   "metadata": {},
   "outputs": [],
   "source": [
    "import requests\n",
    "from bs4 import BeautifulSoup\n",
    "from tqdm import tqdm\n",
    "import pandas as pd\n",
    "import re\n",
    "from datetime import datetime\n",
    "import time\n",
    "from selenium import webdriver\n",
    "import math"
   ]
  },
  {
   "cell_type": "markdown",
   "metadata": {
    "heading_collapsed": true
   },
   "source": [
    "# Previous filtration"
   ]
  },
  {
   "cell_type": "code",
   "execution_count": 2,
   "metadata": {
    "hidden": true,
    "scrolled": false
   },
   "outputs": [],
   "source": [
    "tecnical = pd.read_csv('maiscelular.com.br/smartphones.csv', encoding='utf-8')\n",
    "\n",
    "# filter by the following regions of selling:\n",
    "mylist = ['Internacional', 'especificação não cadastrada', 'Global', 'Latina', 'Brasil']\n",
    "pattern = '|'.join(mylist)\n",
    "\n",
    "tecnical = tecnical.loc[tecnical.loc[:,'Pais ou regiao onde e vendido'].str.contains(pattern)]\n",
    "tecnical.drop(columns='Pais ou regiao onde e vendido', inplace=True)\n",
    "\n",
    "#lower all columns names and replace spaces\n",
    "tecnical.columns = [col.lower().replace(' ','_') for col in tecnical.columns]"
   ]
  },
  {
   "cell_type": "markdown",
   "metadata": {
    "hidden": true
   },
   "source": [
    "**filtering columns in order to do the match**"
   ]
  },
  {
   "cell_type": "code",
   "execution_count": 3,
   "metadata": {
    "hidden": true
   },
   "outputs": [],
   "source": [
    "#getting the only essential columns for the joining process\n",
    "datajoin = tecnical.loc[:,['smartphone','memoria_interna','best_price']]\n",
    "\n",
    "#lowering all cases\n",
    "datajoin.loc[:,['smartphone','memoria_interna']] = datajoin.loc[:,['smartphone','memoria_interna']]\\\n",
    "                                                                            .applymap(lambda x: x.lower())\n",
    "\n",
    "#getting only prices with missing value\n",
    "# datajoin = datajoin.loc[datajoin.best_price.isna()]\n",
    "\n",
    "#treating memory\n",
    "datajoin.loc[:,'memoria_interna'] = datajoin.loc[:,'memoria_interna'].apply(lambda x: x.split(' (')[0] if '(' in x else x)\n",
    "\n",
    "#adding manufacturing year\n",
    "datajoin['ano'] = tecnical.loc[:,'lancamento'].apply(lambda x: x.split(',')[1] if ',' in x else x)"
   ]
  },
  {
   "cell_type": "code",
   "execution_count": 4,
   "metadata": {
    "hidden": true
   },
   "outputs": [
    {
     "data": {
      "text/html": [
       "<div>\n",
       "<style scoped>\n",
       "    .dataframe tbody tr th:only-of-type {\n",
       "        vertical-align: middle;\n",
       "    }\n",
       "\n",
       "    .dataframe tbody tr th {\n",
       "        vertical-align: top;\n",
       "    }\n",
       "\n",
       "    .dataframe thead th {\n",
       "        text-align: right;\n",
       "    }\n",
       "</style>\n",
       "<table border=\"1\" class=\"dataframe\">\n",
       "  <thead>\n",
       "    <tr style=\"text-align: right;\">\n",
       "      <th></th>\n",
       "      <th>smartphone</th>\n",
       "      <th>memoria_interna</th>\n",
       "      <th>best_price</th>\n",
       "      <th>ano</th>\n",
       "    </tr>\n",
       "  </thead>\n",
       "  <tbody>\n",
       "    <tr>\n",
       "      <th>0</th>\n",
       "      <td>motorola edge</td>\n",
       "      <td>128gb</td>\n",
       "      <td>NaN</td>\n",
       "      <td>2020</td>\n",
       "    </tr>\n",
       "    <tr>\n",
       "      <th>3</th>\n",
       "      <td>motorola moto e6s</td>\n",
       "      <td>32gb</td>\n",
       "      <td>819.0</td>\n",
       "      <td>2020</td>\n",
       "    </tr>\n",
       "    <tr>\n",
       "      <th>4</th>\n",
       "      <td>motorola moto e6s</td>\n",
       "      <td>32gb</td>\n",
       "      <td>819.0</td>\n",
       "      <td>2020</td>\n",
       "    </tr>\n",
       "    <tr>\n",
       "      <th>6</th>\n",
       "      <td>samsung galaxy a31</td>\n",
       "      <td>128gb</td>\n",
       "      <td>2069.0</td>\n",
       "      <td>2020</td>\n",
       "    </tr>\n",
       "    <tr>\n",
       "      <th>7</th>\n",
       "      <td>samsung galaxy a31</td>\n",
       "      <td>128gb</td>\n",
       "      <td>2069.0</td>\n",
       "      <td>2020</td>\n",
       "    </tr>\n",
       "  </tbody>\n",
       "</table>\n",
       "</div>"
      ],
      "text/plain": [
       "           smartphone memoria_interna  best_price    ano\n",
       "0       motorola edge           128gb         NaN   2020\n",
       "3   motorola moto e6s            32gb       819.0   2020\n",
       "4   motorola moto e6s            32gb       819.0   2020\n",
       "6  samsung galaxy a31           128gb      2069.0   2020\n",
       "7  samsung galaxy a31           128gb      2069.0   2020"
      ]
     },
     "execution_count": 4,
     "metadata": {},
     "output_type": "execute_result"
    }
   ],
   "source": [
    "datajoin.head()"
   ]
  },
  {
   "cell_type": "markdown",
   "metadata": {
    "heading_collapsed": true
   },
   "source": [
    "# Datasets with phone prices"
   ]
  },
  {
   "cell_type": "markdown",
   "metadata": {
    "hidden": true
   },
   "source": [
    "## Carrefour"
   ]
  },
  {
   "cell_type": "code",
   "execution_count": 5,
   "metadata": {
    "code_folding": [
     0
    ],
    "hidden": true
   },
   "outputs": [],
   "source": [
    "# def get_ram(x):\n",
    "#     try:\n",
    "#         try:\n",
    "#             return re.findall('\\d+gb ram',x)[0]\n",
    "#         except:\n",
    "#             return re.findall('\\d+mb ram',x)[0]\n",
    "#     except:\n",
    "#         return np.nan"
   ]
  },
  {
   "cell_type": "code",
   "execution_count": 6,
   "metadata": {
    "code_folding": [
     0
    ],
    "hidden": true
   },
   "outputs": [],
   "source": [
    "# def get_sd(x)\n",
    "#     try:\n",
    "#         return re.findall('\\d+gb',x)[0]\n",
    "#     except:\n",
    "#         return np.nan"
   ]
  },
  {
   "cell_type": "code",
   "execution_count": 7,
   "metadata": {
    "code_folding": [
     0
    ],
    "hidden": true
   },
   "outputs": [],
   "source": [
    "def findgb(x, ifnot=np.nan):\n",
    "    \"\"\"This function detects all gigabites from a string and returns the biggest.\"\"\"\n",
    "    gigas = [int(number) for number in map(lambda x: x.strip('gb'), re.findall('\\d+gb',x))]\n",
    "    \n",
    "    if len(gigas) != 0:\n",
    "        return str(max(gigas)) + 'gb'\n",
    "    else:\n",
    "        return ifnot"
   ]
  },
  {
   "cell_type": "code",
   "execution_count": 8,
   "metadata": {
    "code_folding": [
     0
    ],
    "hidden": true
   },
   "outputs": [],
   "source": [
    "def remove_spchar(x):\n",
    "    \"\"\"This function removes special characters from received string and return it stripped\"\"\"\n",
    "    \n",
    "    to_remove = ['-','/',',',' '+' ',' '+' '+' ','+']\n",
    "    for char in to_remove:\n",
    "        x = x.replace(char,' ')\n",
    "        \n",
    "    return x.strip()"
   ]
  },
  {
   "cell_type": "code",
   "execution_count": 9,
   "metadata": {
    "code_folding": [
     0
    ],
    "hidden": true
   },
   "outputs": [],
   "source": [
    "# first load last results\n",
    "carrefour = pd.read_csv('carrefour.com/storage/carrefour_raw2020y-5m-15d-11h.csv', encoding='cp1252').drop(columns='Unnamed: 0')\n",
    "\n",
    "#removing columns with links\n",
    "carrefour.drop(columns=['old_price','parcelas','image_link', 'product_link'], inplace=True)\n",
    "\n",
    "#create new column 'used'\n",
    "carrefour['used'] = carrefour.title.apply(lambda x: 'Usado:' in x)\n",
    "\n",
    "# treating title column\n",
    "carrefour.loc[:,'title'] = carrefour.loc[:,'title'].apply(lambda x: x.lower().replace(' gb', 'gb'))\n",
    "carrefour.loc[:,'title'] = carrefour.loc[:,'title'].apply(lambda x: x.lower().replace(' mb', 'mb'))\n",
    "carrefour.loc[:,'title'] = carrefour.loc[:,'title'].apply(lambda x: x.split('usado:')[1]\\\n",
    "                                                          if len(x.split('usado:')) == 2 else x)\n",
    "\n",
    "#rename columns\n",
    "carrefour.columns = ['title', 'price', 'available', 'used']\n",
    "\n",
    "# dropping some last rows because they are not devices but accessories\n",
    "carrefour.drop(np.arange(4166,4175), inplace=True)\n",
    "\n",
    "# create colum of HD\n",
    "carrefour['HD'] = carrefour.loc[:,'title'].apply(lambda x: findgb(x, ifnot=np.nan))\n",
    "\n",
    "# removing '-' ',' and '/'. Also removing double or more spaces.\n",
    "carrefour.loc[:,'title'] = carrefour.loc[:,'title'].apply(lambda x: remove_spchar(x))\n",
    "\n",
    "# remove 'smartphone' from titles\n",
    "\n",
    "#get ram\n",
    "# carrefour['ram'] = carrefour.loc[:,'title'].apply(lambda x: get_ram(x))\n",
    "\n",
    "#get "
   ]
  },
  {
   "cell_type": "markdown",
   "metadata": {
    "heading_collapsed": true,
    "hidden": true
   },
   "source": [
    "## Americanas\n",
    "parece que vai demorar para conseguir os preços aki, e além de pegar infos... usar outro!"
   ]
  },
  {
   "cell_type": "code",
   "execution_count": 64,
   "metadata": {
    "hidden": true
   },
   "outputs": [],
   "source": [
    "americanas = pd.read_csv('americanas.com/storage/americanas_raw2020y-5m-7d-11h.csv', encoding='cp1252').drop(columns=['Unnamed: 0','page'])\n",
    "americanas = americanas.loc[:,['texto_produto']]\n",
    "americanas['available'] = americanas.texto_produto.apply(lambda x: 'Já vendemos todo o estoque' not in x)\n",
    "\n",
    "#dropping used smartphones\n",
    "americanas['new'] = americanas.texto_produto.apply(lambda x: np.nan if 'USADO' in x else True)\n",
    "americanas = americanas.dropna()"
   ]
  },
  {
   "cell_type": "code",
   "execution_count": 416,
   "metadata": {
    "collapsed": true,
    "hidden": true
   },
   "outputs": [
    {
     "data": {
      "text/html": [
       "<div>\n",
       "<style scoped>\n",
       "    .dataframe tbody tr th:only-of-type {\n",
       "        vertical-align: middle;\n",
       "    }\n",
       "\n",
       "    .dataframe tbody tr th {\n",
       "        vertical-align: top;\n",
       "    }\n",
       "\n",
       "    .dataframe thead th {\n",
       "        text-align: right;\n",
       "    }\n",
       "</style>\n",
       "<table border=\"1\" class=\"dataframe\">\n",
       "  <thead>\n",
       "    <tr style=\"text-align: right;\">\n",
       "      <th></th>\n",
       "      <th>texto_produto</th>\n",
       "      <th>available</th>\n",
       "      <th>new</th>\n",
       "    </tr>\n",
       "  </thead>\n",
       "  <tbody>\n",
       "    <tr>\n",
       "      <th>0</th>\n",
       "      <td>iPhone Xs Max Prata 512GB IOS12 4G + Wi-fi Câm...</td>\n",
       "      <td>True</td>\n",
       "      <td>True</td>\n",
       "    </tr>\n",
       "    <tr>\n",
       "      <th>1</th>\n",
       "      <td>iPhone 11 Pro Max 512GB Verde Meia-Noite iOS 4...</td>\n",
       "      <td>True</td>\n",
       "      <td>True</td>\n",
       "    </tr>\n",
       "    <tr>\n",
       "      <th>2</th>\n",
       "      <td>iPhone 11 Pro Max 512GB Dourado iOS 4G + Wi-Fi...</td>\n",
       "      <td>True</td>\n",
       "      <td>True</td>\n",
       "    </tr>\n",
       "    <tr>\n",
       "      <th>3</th>\n",
       "      <td>iPhone Xs 512GB Cinza Espacial IOS12 4G + Wi-f...</td>\n",
       "      <td>True</td>\n",
       "      <td>True</td>\n",
       "    </tr>\n",
       "    <tr>\n",
       "      <th>4</th>\n",
       "      <td>iPhone 11 Pro Max 512GB Cinza Espacial iOS 4G ...</td>\n",
       "      <td>True</td>\n",
       "      <td>True</td>\n",
       "    </tr>\n",
       "    <tr>\n",
       "      <th>...</th>\n",
       "      <td>...</td>\n",
       "      <td>...</td>\n",
       "      <td>...</td>\n",
       "    </tr>\n",
       "    <tr>\n",
       "      <th>2321</th>\n",
       "      <td>Celular Dual Chip Nokia Asha 500 Desbloqueado ...</td>\n",
       "      <td>False</td>\n",
       "      <td>True</td>\n",
       "    </tr>\n",
       "    <tr>\n",
       "      <th>2322</th>\n",
       "      <td>Smartphone Microsoft Lumia 640 Dual DTV Dual C...</td>\n",
       "      <td>False</td>\n",
       "      <td>True</td>\n",
       "    </tr>\n",
       "    <tr>\n",
       "      <th>2323</th>\n",
       "      <td>Smartphone Nokia Lumia 530 Desbloqueado Window...</td>\n",
       "      <td>False</td>\n",
       "      <td>True</td>\n",
       "    </tr>\n",
       "    <tr>\n",
       "      <th>2324</th>\n",
       "      <td>Smartphone Microsoft Lumia 640 Xl Single 3g Te...</td>\n",
       "      <td>False</td>\n",
       "      <td>True</td>\n",
       "    </tr>\n",
       "    <tr>\n",
       "      <th>2325</th>\n",
       "      <td>Smartphone Microsoft Lumia 535 Dual Chip Desbl...</td>\n",
       "      <td>False</td>\n",
       "      <td>True</td>\n",
       "    </tr>\n",
       "  </tbody>\n",
       "</table>\n",
       "<p>2045 rows × 3 columns</p>\n",
       "</div>"
      ],
      "text/plain": [
       "                                          texto_produto  available   new\n",
       "0     iPhone Xs Max Prata 512GB IOS12 4G + Wi-fi Câm...       True  True\n",
       "1     iPhone 11 Pro Max 512GB Verde Meia-Noite iOS 4...       True  True\n",
       "2     iPhone 11 Pro Max 512GB Dourado iOS 4G + Wi-Fi...       True  True\n",
       "3     iPhone Xs 512GB Cinza Espacial IOS12 4G + Wi-f...       True  True\n",
       "4     iPhone 11 Pro Max 512GB Cinza Espacial iOS 4G ...       True  True\n",
       "...                                                 ...        ...   ...\n",
       "2321  Celular Dual Chip Nokia Asha 500 Desbloqueado ...      False  True\n",
       "2322  Smartphone Microsoft Lumia 640 Dual DTV Dual C...      False  True\n",
       "2323  Smartphone Nokia Lumia 530 Desbloqueado Window...      False  True\n",
       "2324  Smartphone Microsoft Lumia 640 Xl Single 3g Te...      False  True\n",
       "2325  Smartphone Microsoft Lumia 535 Dual Chip Desbl...      False  True\n",
       "\n",
       "[2045 rows x 3 columns]"
      ]
     },
     "execution_count": 416,
     "metadata": {},
     "output_type": "execute_result"
    }
   ],
   "source": [
    "americanas"
   ]
  },
  {
   "cell_type": "code",
   "execution_count": 48,
   "metadata": {
    "hidden": true,
    "scrolled": true
   },
   "outputs": [
    {
     "name": "stdout",
     "output_type": "stream",
     "text": [
      "Celular Dual Chip Nokia Asha 500 Desbloqueado Preto Câmera 2MP 2G/Wi Fi Memória Interna 128MB Cartão de Memória 4GBOps! Já vendemos todo o estoque.\n",
      "-------\n",
      "Smartphone Microsoft Lumia 640 Dual DTV Dual Chip Desbloqueado Windows Phone 8.1 Tela 5\" 8GB 3G Wi-Fi Câmera 8MP com TV Digital - PretoOps! Já vendemos todo o estoque.\n",
      "-------\n",
      "Smartphone Nokia Lumia 530 Desbloqueado Windows Phone 8.1 Tela 4\" 4GB 3G Wi-Fi Câmera 5MP GPS - PretoOps! Já vendemos todo o estoque.\n",
      "-------\n",
      "Smartphone Microsoft Lumia 640 Xl Single 3g Tela 5.7 8gb Câmera 13mpOps! Já vendemos todo o estoque.\n",
      "-------\n",
      "Smartphone Microsoft Lumia 535 Dual Chip Desbloqueado Windows Phone 8.1 Tela 5\" 8GB 3G Wi-Fi Câmera 5MP PretoOps! Já vendemos todo o estoque.\n",
      "-------\n"
     ]
    },
    {
     "data": {
      "text/plain": [
       "[None, None, None, None, None]"
      ]
     },
     "execution_count": 48,
     "metadata": {},
     "output_type": "execute_result"
    }
   ],
   "source": [
    "[print(i + '\\n' + '-------') for i in americanas.texto_produto[2321:]]"
   ]
  },
  {
   "cell_type": "markdown",
   "metadata": {
    "heading_collapsed": true,
    "hidden": true
   },
   "source": [
    "## fastshop"
   ]
  },
  {
   "cell_type": "markdown",
   "metadata": {
    "hidden": true
   },
   "source": [
    "nao tem muitos celulares aqui..."
   ]
  },
  {
   "cell_type": "code",
   "execution_count": 115,
   "metadata": {
    "hidden": true
   },
   "outputs": [],
   "source": [
    "fastshop = pd.read_csv('fastshop.com/storage/fastshop_raw2020y-5m-14d-15h.csv', encoding='cp1252').drop(columns=['Unnamed: 0','index'])\n",
    "fastshop.prod_description = fastshop.prod_description.apply(lambda x: x.split('Favoritos')[1])\n",
    "fast = pd.DataFrame()\n",
    "fast['modelo'] = fastshop.title.apply(lambda x: x.split(',')[0])"
   ]
  },
  {
   "cell_type": "code",
   "execution_count": 127,
   "metadata": {
    "hidden": true
   },
   "outputs": [
    {
     "data": {
      "text/plain": [
       "' com Tela de 6'"
      ]
     },
     "execution_count": 127,
     "metadata": {},
     "output_type": "execute_result"
    }
   ],
   "source": [
    "fastshop.title[0].split(',')[1]"
   ]
  },
  {
   "cell_type": "code",
   "execution_count": 503,
   "metadata": {
    "hidden": true
   },
   "outputs": [],
   "source": [
    "fastshop.title.apply(lambda x: x.split(',')[1])"
   ]
  },
  {
   "cell_type": "code",
   "execution_count": 116,
   "metadata": {
    "hidden": true
   },
   "outputs": [],
   "source": [
    "fast['modelo'] = fastshop.title.apply(lambda x: x.split(',')[0])"
   ]
  },
  {
   "cell_type": "code",
   "execution_count": 502,
   "metadata": {
    "hidden": true
   },
   "outputs": [],
   "source": [
    "fastshop.prod_description.apply(lambda x: x.split(','))[0]"
   ]
  },
  {
   "cell_type": "code",
   "execution_count": 501,
   "metadata": {
    "hidden": true
   },
   "outputs": [],
   "source": [
    "[print(i + '\\n' + '-------') for i in fastshop.prod_description[:20]]"
   ]
  },
  {
   "cell_type": "markdown",
   "metadata": {
    "heading_collapsed": true
   },
   "source": [
    "# Joining data!"
   ]
  },
  {
   "cell_type": "markdown",
   "metadata": {
    "hidden": true
   },
   "source": [
    "**Strategy here**\n",
    "check the dataframe from tecnica and compare first based on the internal memory, then "
   ]
  },
  {
   "cell_type": "code",
   "execution_count": null,
   "metadata": {
    "hidden": true
   },
   "outputs": [],
   "source": [
    "x = \n",
    "y = "
   ]
  },
  {
   "cell_type": "code",
   "execution_count": 53,
   "metadata": {
    "code_folding": [
     0
    ],
    "hidden": true
   },
   "outputs": [],
   "source": [
    "# def common_words(x,y,pair=True):\n",
    "#     \"\"\"This func gets two strings and returns the number of how many words in common each string has,\n",
    "#     plus the combination of pairs of words in order\n",
    "    \n",
    "#     e.g: if string is 'pera banana abacaxi nabo', it will give a search for the words/pairs\n",
    "#     ['pera', 'banana', 'abacaxi', 'nabo', 'pera banana', 'banana abacaxi', 'abacaxi nabo']\n",
    "    \n",
    "#     \"\"\"   \n",
    "#     import itertools\n",
    "    \n",
    "# #     lista1 = x.split(' ')\n",
    "#     lista2 = y.split(' ')\n",
    "    \n",
    "#     if pair:\n",
    "# #         lista1 = [lista1[i] + ' ' + lista1[i+1] if i < len(lista1)-1 else '' for i in np.arange(len(lista1))][:-1]\n",
    "#         lista2 = [lista2[i] + ' ' + lista2[i+1] if i < len(lista2)-1 else '' for i in np.arange(len(lista2))][:-1]\n",
    "    \n",
    "#     number_found = sum([element in x for element in lista2])\n",
    "    \n",
    "    \n",
    "# #     return lista1, lista2\n",
    "# #     number_found = len(list(set(lista1).intersection(lista2)))\n",
    "\n",
    "#     return number_found\n",
    "    \n",
    "# #     comblista1 = [tupla[0]+ ' '+ tupla[1] for tupla in list(itertools.combinations(lista1, 2))]\n",
    "# #     comblista2 = [tupla[0]+ ' '+ tupla[1] for tupla in list(itertools.combinations(lista2, 2))]\n",
    "    \n",
    "# #     number_found += len(list(set(comblista1).intersection(comblista2)))\n",
    "    \n",
    "# #     return number_found\n",
    "\n",
    "# # common_words('heyheyhey heyheyhey banana abacaxi nabo', 'pera banana abacaxi nabo')"
   ]
  },
  {
   "cell_type": "code",
   "execution_count": 89,
   "metadata": {
    "code_folding": [
     0
    ],
    "hidden": true
   },
   "outputs": [],
   "source": [
    "def n_common_words(target_string, search_string):\n",
    "    \"\"\"This function receives a search_string and check if pair words are in the target_string.\"\"\"\n",
    "    search = search_string.split(' ')\n",
    "    search_pairs = [search[i] + ' ' + search[i+1] if i < len(search)-1 else '' for i in np.arange(len(search))][:-1]\n",
    "    print(search_pairs)\n",
    "    nmatches = sum([i in target_string for i in search_pairs])\n",
    "    \n",
    "    return nmatches"
   ]
  },
  {
   "cell_type": "code",
   "execution_count": 90,
   "metadata": {
    "code_folding": [],
    "hidden": true
   },
   "outputs": [],
   "source": [
    "def get_nmatches_per_row(string, pandas_series):\n",
    "    \"\"\"This function gets a string and a pandas series and returns a list of how many words inside the string\n",
    "    are inside each row of the pandas_series, using the function common_words(), which also checks pair combinations\n",
    "    of words. It returns a list of the indexes of the pandas_series of each row.\"\"\"\n",
    "   \n",
    "    match_per_row = pandas_series.apply(lambda x: n_common_words(x, string))\n",
    "    max_matched = match_per_row.max()\n",
    "    \n",
    "    if max_matched == 0:\n",
    "        return 0\n",
    "    \n",
    "    index_of_matchs = pandas_series[match_per_row == max_matched].index\n",
    "    \n",
    "    return index_of_matchs"
   ]
  },
  {
   "cell_type": "code",
   "execution_count": null,
   "metadata": {
    "hidden": true
   },
   "outputs": [],
   "source": []
  },
  {
   "cell_type": "code",
   "execution_count": 95,
   "metadata": {
    "hidden": true
   },
   "outputs": [],
   "source": [
    "memmories = carrefour.HD.dropna().unique()\n",
    "harddisk = memmories[0]\n",
    "\n",
    "# separate based on memmorie ()\n",
    "target = carrefour.loc[carrefour.HD == harddisk].loc[:,['title', 'price']]\n",
    "tofill = datajoin.loc[datajoin.memoria_interna == harddisk].loc[:,['smartphone']]\n",
    "\n",
    "#removing redundant string\n",
    "target.loc[:,'title'] = target.loc[:,'title'].apply(lambda x: x.replace('apple',''))"
   ]
  },
  {
   "cell_type": "code",
   "execution_count": 96,
   "metadata": {
    "collapsed": true,
    "hidden": true
   },
   "outputs": [
    {
     "data": {
      "text/html": [
       "<div>\n",
       "<style scoped>\n",
       "    .dataframe tbody tr th:only-of-type {\n",
       "        vertical-align: middle;\n",
       "    }\n",
       "\n",
       "    .dataframe tbody tr th {\n",
       "        vertical-align: top;\n",
       "    }\n",
       "\n",
       "    .dataframe thead th {\n",
       "        text-align: right;\n",
       "    }\n",
       "</style>\n",
       "<table border=\"1\" class=\"dataframe\">\n",
       "  <thead>\n",
       "    <tr style=\"text-align: right;\">\n",
       "      <th></th>\n",
       "      <th>smartphone</th>\n",
       "    </tr>\n",
       "  </thead>\n",
       "  <tbody>\n",
       "    <tr>\n",
       "      <th>12</th>\n",
       "      <td>apple iphone se (2020)</td>\n",
       "    </tr>\n",
       "    <tr>\n",
       "      <th>15</th>\n",
       "      <td>oneplus 8</td>\n",
       "    </tr>\n",
       "    <tr>\n",
       "      <th>17</th>\n",
       "      <td>oneplus 8 pro</td>\n",
       "    </tr>\n",
       "    <tr>\n",
       "      <th>19</th>\n",
       "      <td>xiaomi redmi k30 pro zoom</td>\n",
       "    </tr>\n",
       "    <tr>\n",
       "      <th>29</th>\n",
       "      <td>xiaomi redmi k30 pro</td>\n",
       "    </tr>\n",
       "    <tr>\n",
       "      <th>43</th>\n",
       "      <td>realme x50 pro 5g</td>\n",
       "    </tr>\n",
       "    <tr>\n",
       "      <th>47</th>\n",
       "      <td>samsung galaxy z flip</td>\n",
       "    </tr>\n",
       "    <tr>\n",
       "      <th>52</th>\n",
       "      <td>samsung galaxy z flip thom browne</td>\n",
       "    </tr>\n",
       "    <tr>\n",
       "      <th>68</th>\n",
       "      <td>realme x50 5g</td>\n",
       "    </tr>\n",
       "    <tr>\n",
       "      <th>69</th>\n",
       "      <td>realme x50 5g</td>\n",
       "    </tr>\n",
       "    <tr>\n",
       "      <th>81</th>\n",
       "      <td>xiaomi redmi k30 5g</td>\n",
       "    </tr>\n",
       "    <tr>\n",
       "      <th>96</th>\n",
       "      <td>xiaomi mi note 10 pro</td>\n",
       "    </tr>\n",
       "    <tr>\n",
       "      <th>99</th>\n",
       "      <td>xiaomi redmi k30</td>\n",
       "    </tr>\n",
       "    <tr>\n",
       "      <th>125</th>\n",
       "      <td>oneplus 7t pro</td>\n",
       "    </tr>\n",
       "    <tr>\n",
       "      <th>128</th>\n",
       "      <td>realme x2 pro</td>\n",
       "    </tr>\n",
       "    <tr>\n",
       "      <th>147</th>\n",
       "      <td>apple iphone 11</td>\n",
       "    </tr>\n",
       "    <tr>\n",
       "      <th>149</th>\n",
       "      <td>apple iphone 11 pro</td>\n",
       "    </tr>\n",
       "    <tr>\n",
       "      <th>152</th>\n",
       "      <td>apple iphone 11 pro max</td>\n",
       "    </tr>\n",
       "    <tr>\n",
       "      <th>199</th>\n",
       "      <td>samsung galaxy note 10</td>\n",
       "    </tr>\n",
       "    <tr>\n",
       "      <th>201</th>\n",
       "      <td>samsung galaxy note 10</td>\n",
       "    </tr>\n",
       "    <tr>\n",
       "      <th>206</th>\n",
       "      <td>samsung galaxy note 10 plus</td>\n",
       "    </tr>\n",
       "    <tr>\n",
       "      <th>208</th>\n",
       "      <td>samsung galaxy note 10 plus</td>\n",
       "    </tr>\n",
       "    <tr>\n",
       "      <th>213</th>\n",
       "      <td>samsung galaxy note 10 plus 5g</td>\n",
       "    </tr>\n",
       "    <tr>\n",
       "      <th>225</th>\n",
       "      <td>xiaomi black shark 2 pro</td>\n",
       "    </tr>\n",
       "    <tr>\n",
       "      <th>227</th>\n",
       "      <td>xiaomi mi 9t pro</td>\n",
       "    </tr>\n",
       "    <tr>\n",
       "      <th>314</th>\n",
       "      <td>oneplus 7</td>\n",
       "    </tr>\n",
       "    <tr>\n",
       "      <th>317</th>\n",
       "      <td>oneplus 7 pro</td>\n",
       "    </tr>\n",
       "    <tr>\n",
       "      <th>348</th>\n",
       "      <td>asus zenfone 6</td>\n",
       "    </tr>\n",
       "    <tr>\n",
       "      <th>441</th>\n",
       "      <td>huawei p30 pro</td>\n",
       "    </tr>\n",
       "    <tr>\n",
       "      <th>497</th>\n",
       "      <td>xiaomi black shark 2</td>\n",
       "    </tr>\n",
       "    <tr>\n",
       "      <th>498</th>\n",
       "      <td>xiaomi black shark 2</td>\n",
       "    </tr>\n",
       "    <tr>\n",
       "      <th>502</th>\n",
       "      <td>xiaomi mi 9 explorer</td>\n",
       "    </tr>\n",
       "    <tr>\n",
       "      <th>562</th>\n",
       "      <td>huawei mate 20 rs porsche</td>\n",
       "    </tr>\n",
       "    <tr>\n",
       "      <th>573</th>\n",
       "      <td>oneplus 6t mclaren</td>\n",
       "    </tr>\n",
       "    <tr>\n",
       "      <th>593</th>\n",
       "      <td>huawei mate 20 pro</td>\n",
       "    </tr>\n",
       "    <tr>\n",
       "      <th>608</th>\n",
       "      <td>xiaomi mi mix 3</td>\n",
       "    </tr>\n",
       "    <tr>\n",
       "      <th>617</th>\n",
       "      <td>apple iphone xr</td>\n",
       "    </tr>\n",
       "    <tr>\n",
       "      <th>668</th>\n",
       "      <td>apple iphone xs</td>\n",
       "    </tr>\n",
       "    <tr>\n",
       "      <th>671</th>\n",
       "      <td>apple iphone xs max</td>\n",
       "    </tr>\n",
       "    <tr>\n",
       "      <th>714</th>\n",
       "      <td>xiaomi pocophone f1</td>\n",
       "    </tr>\n",
       "    <tr>\n",
       "      <th>778</th>\n",
       "      <td>oppo find x</td>\n",
       "    </tr>\n",
       "    <tr>\n",
       "      <th>816</th>\n",
       "      <td>asus zenfone 5z</td>\n",
       "    </tr>\n",
       "    <tr>\n",
       "      <th>878</th>\n",
       "      <td>vivo nex s</td>\n",
       "    </tr>\n",
       "    <tr>\n",
       "      <th>884</th>\n",
       "      <td>xiaomi mi 8</td>\n",
       "    </tr>\n",
       "    <tr>\n",
       "      <th>903</th>\n",
       "      <td>oneplus 6</td>\n",
       "    </tr>\n",
       "    <tr>\n",
       "      <th>1031</th>\n",
       "      <td>huawei mate rs porsche</td>\n",
       "    </tr>\n",
       "    <tr>\n",
       "      <th>1267</th>\n",
       "      <td>apple iphone 8</td>\n",
       "    </tr>\n",
       "    <tr>\n",
       "      <th>1269</th>\n",
       "      <td>apple iphone 8 plus</td>\n",
       "    </tr>\n",
       "    <tr>\n",
       "      <th>1271</th>\n",
       "      <td>apple iphone x</td>\n",
       "    </tr>\n",
       "    <tr>\n",
       "      <th>1480</th>\n",
       "      <td>asus zenfone ar</td>\n",
       "    </tr>\n",
       "    <tr>\n",
       "      <th>1825</th>\n",
       "      <td>apple iphone 7</td>\n",
       "    </tr>\n",
       "    <tr>\n",
       "      <th>1828</th>\n",
       "      <td>apple iphone 7 plus</td>\n",
       "    </tr>\n",
       "    <tr>\n",
       "      <th>1888</th>\n",
       "      <td>asus zenfone 3 deluxe</td>\n",
       "    </tr>\n",
       "  </tbody>\n",
       "</table>\n",
       "</div>"
      ],
      "text/plain": [
       "                             smartphone\n",
       "12               apple iphone se (2020)\n",
       "15                            oneplus 8\n",
       "17                        oneplus 8 pro\n",
       "19            xiaomi redmi k30 pro zoom\n",
       "29                 xiaomi redmi k30 pro\n",
       "43                    realme x50 pro 5g\n",
       "47                samsung galaxy z flip\n",
       "52    samsung galaxy z flip thom browne\n",
       "68                        realme x50 5g\n",
       "69                        realme x50 5g\n",
       "81                  xiaomi redmi k30 5g\n",
       "96                xiaomi mi note 10 pro\n",
       "99                     xiaomi redmi k30\n",
       "125                      oneplus 7t pro\n",
       "128                       realme x2 pro\n",
       "147                     apple iphone 11\n",
       "149                 apple iphone 11 pro\n",
       "152             apple iphone 11 pro max\n",
       "199              samsung galaxy note 10\n",
       "201              samsung galaxy note 10\n",
       "206         samsung galaxy note 10 plus\n",
       "208         samsung galaxy note 10 plus\n",
       "213      samsung galaxy note 10 plus 5g\n",
       "225            xiaomi black shark 2 pro\n",
       "227                    xiaomi mi 9t pro\n",
       "314                           oneplus 7\n",
       "317                       oneplus 7 pro\n",
       "348                      asus zenfone 6\n",
       "441                      huawei p30 pro\n",
       "497                xiaomi black shark 2\n",
       "498                xiaomi black shark 2\n",
       "502                xiaomi mi 9 explorer\n",
       "562           huawei mate 20 rs porsche\n",
       "573                  oneplus 6t mclaren\n",
       "593                  huawei mate 20 pro\n",
       "608                     xiaomi mi mix 3\n",
       "617                     apple iphone xr\n",
       "668                     apple iphone xs\n",
       "671                 apple iphone xs max\n",
       "714                 xiaomi pocophone f1\n",
       "778                         oppo find x\n",
       "816                     asus zenfone 5z\n",
       "878                          vivo nex s\n",
       "884                         xiaomi mi 8\n",
       "903                           oneplus 6\n",
       "1031             huawei mate rs porsche\n",
       "1267                     apple iphone 8\n",
       "1269                apple iphone 8 plus\n",
       "1271                     apple iphone x\n",
       "1480                    asus zenfone ar\n",
       "1825                     apple iphone 7\n",
       "1828                apple iphone 7 plus\n",
       "1888              asus zenfone 3 deluxe"
      ]
     },
     "execution_count": 96,
     "metadata": {},
     "output_type": "execute_result"
    }
   ],
   "source": [
    "tofill.smartphone.apply(lambda x: )"
   ]
  },
  {
   "cell_type": "code",
   "execution_count": 87,
   "metadata": {
    "hidden": true,
    "scrolled": true
   },
   "outputs": [
    {
     "name": "stderr",
     "output_type": "stream",
     "text": [
      "\n",
      "  0%|          | 0/53 [00:00<?, ?it/s]\u001b[A\n",
      " 13%|█▎        | 7/53 [00:00<00:00, 67.35it/s]\u001b[A\n"
     ]
    },
    {
     "name": "stdout",
     "output_type": "stream",
     "text": [
      "apple iphone se (2020) --- 12\n",
      "oneplus 8 --- 15\n",
      "oneplus 8 pro --- 17\n",
      "xiaomi redmi k30 pro zoom --- 19\n",
      "xiaomi redmi k30 pro --- 29\n",
      "realme x50 pro 5g --- 43\n",
      "samsung galaxy z flip --- 47\n",
      "samsung galaxy z flip thom browne --- 52\n",
      "realme x50 5g --- 68\n",
      "realme x50 5g --- 69\n",
      "xiaomi redmi k30 5g --- 81\n",
      "xiaomi mi note 10 pro --- 96\n",
      "xiaomi redmi k30 --- 99\n"
     ]
    },
    {
     "name": "stderr",
     "output_type": "stream",
     "text": [
      " 25%|██▍       | 13/53 [00:00<00:00, 63.53it/s]\u001b[A\n",
      " 36%|███▌      | 19/53 [00:00<00:00, 62.05it/s]\u001b[A\n",
      " 47%|████▋     | 25/53 [00:00<00:00, 60.51it/s]\u001b[A\n"
     ]
    },
    {
     "name": "stdout",
     "output_type": "stream",
     "text": [
      "oneplus 7t pro --- 125\n",
      "realme x2 pro --- 128\n",
      "apple iphone 11 --- 147\n",
      "apple iphone 11 pro --- 149\n",
      "apple iphone 11 pro max --- 152\n",
      "samsung galaxy note 10 --- 199\n",
      "samsung galaxy note 10 --- 201\n",
      "samsung galaxy note 10 plus --- 206\n",
      "samsung galaxy note 10 plus --- 208\n",
      "samsung galaxy note 10 plus 5g --- 213\n",
      "xiaomi black shark 2 pro --- 225\n",
      "xiaomi mi 9t pro --- 227\n",
      "oneplus 7 --- 314\n",
      "oneplus 7 pro --- 317\n",
      "asus zenfone 6 --- 348\n",
      "huawei p30 pro --- 441\n",
      "xiaomi black shark 2 --- 497\n",
      "xiaomi black shark 2 --- 498\n",
      "xiaomi mi 9 explorer --- 502\n",
      "huawei mate 20 rs porsche --- 562\n"
     ]
    },
    {
     "name": "stderr",
     "output_type": "stream",
     "text": [
      " 62%|██████▏   | 33/53 [00:00<00:00, 64.03it/s]\u001b[A\n",
      " 75%|███████▌  | 40/53 [00:00<00:00, 63.58it/s]\u001b[A\n",
      " 91%|█████████ | 48/53 [00:00<00:00, 66.91it/s]\u001b[A"
     ]
    },
    {
     "name": "stdout",
     "output_type": "stream",
     "text": [
      "oneplus 6t mclaren --- 573\n",
      "huawei mate 20 pro --- 593\n",
      "xiaomi mi mix 3 --- 608\n",
      "apple iphone xr --- 617\n",
      "apple iphone xs --- 668\n",
      "apple iphone xs max --- 671\n",
      "xiaomi pocophone f1 --- 714\n",
      "oppo find x --- 778\n",
      "asus zenfone 5z --- 816\n",
      "vivo nex s --- 878\n",
      "xiaomi mi 8 --- 884\n",
      "oneplus 6 --- 903\n",
      "huawei mate rs porsche --- 1031\n",
      "apple iphone 8 --- 1267\n",
      "apple iphone 8 plus --- 1269\n",
      "apple iphone x --- 1271\n",
      "asus zenfone ar --- 1480\n"
     ]
    },
    {
     "name": "stderr",
     "output_type": "stream",
     "text": [
      "\r",
      "100%|██████████| 53/53 [00:00<00:00, 63.66it/s]"
     ]
    },
    {
     "name": "stdout",
     "output_type": "stream",
     "text": [
      "apple iphone 7 --- 1825\n",
      "apple iphone 7 plus --- 1828\n",
      "asus zenfone 3 deluxe --- 1888\n"
     ]
    },
    {
     "name": "stderr",
     "output_type": "stream",
     "text": [
      "\n"
     ]
    },
    {
     "data": {
      "text/plain": [
       "[(12, Int64Index([122], dtype='int64')),\n",
       " (15, 0),\n",
       " (17, 0),\n",
       " (19, 0),\n",
       " (29, 0),\n",
       " (43, 0),\n",
       " (47,\n",
       "  Int64Index([10, 124, 175, 783, 784, 810, 823, 824, 888, 889, 898, 899, 997], dtype='int64')),\n",
       " (52,\n",
       "  Int64Index([10, 124, 175, 783, 784, 810, 823, 824, 888, 889, 898, 899, 997], dtype='int64')),\n",
       " (68, 0),\n",
       " (69, 0),\n",
       " (81, 0),\n",
       " (96,\n",
       "  Int64Index([10, 31, 124, 175, 783, 784, 810, 823, 824, 888, 889, 898, 899,\n",
       "              997],\n",
       "             dtype='int64')),\n",
       " (99, 0),\n",
       " (125, 0),\n",
       " (128, 0),\n",
       " (147,\n",
       "  Int64Index([  0,   2,  17,  20,  24,  25,  29,  34,  36,  43,  44,  61,  87,\n",
       "              727, 728, 734, 735, 737, 738, 741, 742, 760, 795, 803, 804, 805,\n",
       "              806, 818, 819, 820, 841, 875, 876],\n",
       "             dtype='int64')),\n",
       " (149,\n",
       "  Int64Index([0, 2, 17, 20, 24, 25, 29, 34, 36, 43, 44, 728, 734, 737, 738, 741,\n",
       "              742],\n",
       "             dtype='int64')),\n",
       " (152, Int64Index([0, 2, 17, 20, 24, 728, 734, 737, 738], dtype='int64')),\n",
       " (199,\n",
       "  Int64Index([10, 124, 175, 783, 784, 810, 823, 824, 888, 889, 898, 899, 997], dtype='int64')),\n",
       " (201,\n",
       "  Int64Index([10, 124, 175, 783, 784, 810, 823, 824, 888, 889, 898, 899, 997], dtype='int64')),\n",
       " (206, Int64Index([783, 784, 898, 899], dtype='int64')),\n",
       " (208, Int64Index([783, 784, 898, 899], dtype='int64')),\n",
       " (213, Int64Index([783, 784, 898, 899], dtype='int64')),\n",
       " (225, 0),\n",
       " (227, 0),\n",
       " (314, 0),\n",
       " (317, 0),\n",
       " (348, Int64Index([832, 991], dtype='int64')),\n",
       " (441, Int64Index([740], dtype='int64')),\n",
       " (497, 0),\n",
       " (498, 0),\n",
       " (502, 0),\n",
       " (562, 0),\n",
       " (573, 0),\n",
       " (593, 0),\n",
       " (608, 0),\n",
       " (617,\n",
       "  Int64Index([  52,   53,   62,   63,   64,   65,   91,  773,  786,  787,  833,\n",
       "               834,  901,  902,  903,  904, 1000, 1035],\n",
       "             dtype='int64')),\n",
       " (668,\n",
       "  Int64Index([ 30,  33, 123, 138, 139, 748, 754, 756, 757, 758, 761, 762, 763,\n",
       "              764, 765, 766, 767, 794, 853, 880, 905, 907, 933, 934, 935, 939,\n",
       "              940, 962, 968, 988],\n",
       "             dtype='int64')),\n",
       " (671,\n",
       "  Int64Index([ 30, 123, 748, 756, 757, 758, 762, 763, 764, 765, 766, 767, 794,\n",
       "              880, 905, 907, 933, 934, 935, 940],\n",
       "             dtype='int64')),\n",
       " (714, 0),\n",
       " (778, 0),\n",
       " (816, Int64Index([1214, 1298], dtype='int64')),\n",
       " (878, 0),\n",
       " (884, 0),\n",
       " (903, 0),\n",
       " (1031, 0),\n",
       " (1267,\n",
       "  Int64Index([ 133,  172,  854,  855,  862,  872,  885,  887,  896,  925,  926,\n",
       "               927,  978, 1007, 1008, 1009, 1010, 1040, 1063, 1083, 1085, 1098,\n",
       "              1099, 1120, 1129, 1133, 1134, 1162, 1163, 1175, 1178, 1203, 1210,\n",
       "              1211, 1212, 1227, 1230, 1250, 1252, 1271, 1301, 1302, 1303, 1336,\n",
       "              1337, 1379, 1569, 1570, 1613, 1642, 1672],\n",
       "             dtype='int64')),\n",
       " (1269,\n",
       "  Int64Index([ 172,  854,  855,  862,  978, 1007, 1008, 1009, 1010, 1040, 1063,\n",
       "              1083, 1085, 1098, 1099, 1129, 1133, 1134, 1230, 1250, 1252, 1301,\n",
       "              1302, 1303, 1337, 1379],\n",
       "             dtype='int64')),\n",
       " (1271,\n",
       "  Int64Index([  30,   33,   52,   53,   62,   63,   64,   65,   91,  123,  138,\n",
       "               139,  148,  748,  749,  753,  754,  755,  756,  757,  758,  761,\n",
       "               762,  763,  764,  765,  766,  767,  773,  775,  786,  787,  794,\n",
       "               833,  834,  853,  880,  901,  902,  903,  904,  905,  907,  933,\n",
       "               934,  935,  939,  940,  949,  962,  968,  977,  988, 1000, 1011,\n",
       "              1014, 1021, 1022, 1031, 1035, 1036, 1066, 1074],\n",
       "             dtype='int64')),\n",
       " (1480, Int64Index([832, 991, 1214, 1298], dtype='int64')),\n",
       " (1825,\n",
       "  Int64Index([ 893,  894,  895, 1150, 1151, 1152, 1153, 1154, 1157, 1200, 1225,\n",
       "              1228, 1229, 1238, 1253, 1254, 1255, 1270, 1285, 1286, 1293, 1294,\n",
       "              1319, 1342, 1362, 1367, 1374, 1375, 1384, 1407, 1492, 1516, 1517,\n",
       "              1518, 1519, 1520, 1551, 1552, 1553, 1559, 1574, 1577, 1603, 1605,\n",
       "              1606, 1607, 1623, 1635, 1641, 1670, 1674, 1676, 1733, 1734, 1735,\n",
       "              1736, 1737, 1811, 1812],\n",
       "             dtype='int64')),\n",
       " (1828,\n",
       "  Int64Index([1150, 1151, 1152, 1153, 1154, 1157, 1200, 1225, 1228, 1229, 1238,\n",
       "              1253, 1254, 1255, 1270, 1285, 1286, 1293, 1294, 1319, 1342, 1362,\n",
       "              1367, 1374, 1375, 1384, 1407],\n",
       "             dtype='int64')),\n",
       " (1888, Int64Index([832, 991, 1214, 1298], dtype='int64'))]"
      ]
     },
     "execution_count": 87,
     "metadata": {},
     "output_type": "execute_result"
    }
   ],
   "source": [
    "# df = pd.DataFrame()\n",
    "df = []\n",
    "pandas_series = comdindin.loc[:,'title']\n",
    "\n",
    "# Comparation\n",
    "for ind in tqdm(semdindin.index):\n",
    "    string = semdindin[ind]\n",
    "    print(string, '---',ind)\n",
    "#     minidf = pd.DataFrame({'index_from_1':ind,\n",
    "#                            'matched_indexes': get_number_of_matches(string, pandas_series)}, index=[0])\n",
    "    minidf = (ind, get_number_of_matches(string, pandas_series))\n",
    "    df.append(minidf)\n",
    "    \n",
    "#     df = pd.concat([df,minidf]).reset_index(drop=True)\n",
    "    \n",
    "    \n",
    "# df.matched_indexes.apply(lambda x: len(x))\n",
    "df"
   ]
  },
  {
   "cell_type": "code",
   "execution_count": 88,
   "metadata": {
    "hidden": true,
    "scrolled": false
   },
   "outputs": [
    {
     "data": {
      "text/plain": [
       "('xiaomi redmi k30 5g', 'iphone 11 pro max 256gb  dourado')"
      ]
     },
     "execution_count": 88,
     "metadata": {},
     "output_type": "execute_result"
    }
   ],
   "source": [
    "search = df[10]\n",
    "semdindin.loc[search[0]], comdindin.loc[search[1]].title\n"
   ]
  },
  {
   "cell_type": "code",
   "execution_count": 930,
   "metadata": {
    "hidden": true
   },
   "outputs": [
    {
     "data": {
      "text/plain": [
       "15023.76"
      ]
     },
     "execution_count": 930,
     "metadata": {},
     "output_type": "execute_result"
    }
   ],
   "source": [
    "comdindin.loc[x].price"
   ]
  },
  {
   "cell_type": "code",
   "execution_count": 14,
   "metadata": {
    "hidden": true
   },
   "outputs": [
    {
     "data": {
      "text/html": [
       "<div>\n",
       "<style scoped>\n",
       "    .dataframe tbody tr th:only-of-type {\n",
       "        vertical-align: middle;\n",
       "    }\n",
       "\n",
       "    .dataframe tbody tr th {\n",
       "        vertical-align: top;\n",
       "    }\n",
       "\n",
       "    .dataframe thead th {\n",
       "        text-align: right;\n",
       "    }\n",
       "</style>\n",
       "<table border=\"1\" class=\"dataframe\">\n",
       "  <thead>\n",
       "    <tr style=\"text-align: right;\">\n",
       "      <th></th>\n",
       "      <th>index_from_1</th>\n",
       "      <th>matched_indexes</th>\n",
       "      <th>tudocelular</th>\n",
       "      <th>carrefour</th>\n",
       "      <th>prices</th>\n",
       "    </tr>\n",
       "  </thead>\n",
       "  <tbody>\n",
       "    <tr>\n",
       "      <th>0</th>\n",
       "      <td>12</td>\n",
       "      <td>122</td>\n",
       "      <td>apple iphone se (2020)</td>\n",
       "      <td>iphone se 256gb  preto</td>\n",
       "      <td>4499.0</td>\n",
       "    </tr>\n",
       "  </tbody>\n",
       "</table>\n",
       "</div>"
      ],
      "text/plain": [
       "   index_from_1  matched_indexes             tudocelular  \\\n",
       "0            12              122  apple iphone se (2020)   \n",
       "\n",
       "                carrefour  prices  \n",
       "0  iphone se 256gb  preto  4499.0  "
      ]
     },
     "execution_count": 14,
     "metadata": {},
     "output_type": "execute_result"
    }
   ],
   "source": [
    "df['tudocelular'] = df.index_from_1.apply(lambda x: datajoin.loc[x].smartphone)\n",
    "df['carrefour'] = df.matched_indexes.apply(lambda x: comdindin.loc[x].title)\n",
    "df['prices'] = df.matched_indexes.apply(lambda x: comdindin.loc[x].price)\n",
    "df"
   ]
  },
  {
   "cell_type": "code",
   "execution_count": 937,
   "metadata": {
    "hidden": true,
    "scrolled": true
   },
   "outputs": [
    {
     "data": {
      "text/html": [
       "<div>\n",
       "<style scoped>\n",
       "    .dataframe tbody tr th:only-of-type {\n",
       "        vertical-align: middle;\n",
       "    }\n",
       "\n",
       "    .dataframe tbody tr th {\n",
       "        vertical-align: top;\n",
       "    }\n",
       "\n",
       "    .dataframe thead th {\n",
       "        text-align: right;\n",
       "    }\n",
       "</style>\n",
       "<table border=\"1\" class=\"dataframe\">\n",
       "  <thead>\n",
       "    <tr style=\"text-align: right;\">\n",
       "      <th></th>\n",
       "      <th>index_from_1</th>\n",
       "      <th>matched_indexes</th>\n",
       "      <th>tudocelular</th>\n",
       "      <th>carrefour</th>\n",
       "      <th>prices</th>\n",
       "    </tr>\n",
       "  </thead>\n",
       "  <tbody>\n",
       "    <tr>\n",
       "      <th>0</th>\n",
       "      <td>12</td>\n",
       "      <td>122</td>\n",
       "      <td>apple iphone se (2020)</td>\n",
       "      <td>iphone se 256gb  preto</td>\n",
       "      <td>4499.00</td>\n",
       "    </tr>\n",
       "    <tr>\n",
       "      <th>1</th>\n",
       "      <td>15</td>\n",
       "      <td>133</td>\n",
       "      <td>oneplus 8</td>\n",
       "      <td>iphone 8  prata 256gb desbloqueado  mq7d2br a</td>\n",
       "      <td>4282.98</td>\n",
       "    </tr>\n",
       "    <tr>\n",
       "      <th>2</th>\n",
       "      <td>15</td>\n",
       "      <td>172</td>\n",
       "      <td>oneplus 8</td>\n",
       "      <td>iphone 8 plus 256gb gold</td>\n",
       "      <td>3690.00</td>\n",
       "    </tr>\n",
       "    <tr>\n",
       "      <th>3</th>\n",
       "      <td>15</td>\n",
       "      <td>741</td>\n",
       "      <td>oneplus 8</td>\n",
       "      <td>iphone 11 pro 256gb dourado 4g tela 5 8 câmera...</td>\n",
       "      <td>7665.56</td>\n",
       "    </tr>\n",
       "    <tr>\n",
       "      <th>4</th>\n",
       "      <td>15</td>\n",
       "      <td>742</td>\n",
       "      <td>oneplus 8</td>\n",
       "      <td>iphone 11 pro 256gb verde meia noite 4g tela 5...</td>\n",
       "      <td>7665.56</td>\n",
       "    </tr>\n",
       "    <tr>\n",
       "      <th>5</th>\n",
       "      <td>15</td>\n",
       "      <td>783</td>\n",
       "      <td>oneplus 8</td>\n",
       "      <td>smartphone samsung galaxy note 10 plus prata 2...</td>\n",
       "      <td>5999.00</td>\n",
       "    </tr>\n",
       "    <tr>\n",
       "      <th>6</th>\n",
       "      <td>15</td>\n",
       "      <td>784</td>\n",
       "      <td>oneplus 8</td>\n",
       "      <td>smartphone samsung galaxy note 10 plus preto 2...</td>\n",
       "      <td>5999.00</td>\n",
       "    </tr>\n",
       "    <tr>\n",
       "      <th>7</th>\n",
       "      <td>15</td>\n",
       "      <td>853</td>\n",
       "      <td>oneplus 8</td>\n",
       "      <td>iphone xs  com 256gb tela super retina hd de 5...</td>\n",
       "      <td>4899.00</td>\n",
       "    </tr>\n",
       "    <tr>\n",
       "      <th>8</th>\n",
       "      <td>15</td>\n",
       "      <td>854</td>\n",
       "      <td>oneplus 8</td>\n",
       "      <td>iphone 8 plus  cinza espacial 256gb desbloquea...</td>\n",
       "      <td>4894.98</td>\n",
       "    </tr>\n",
       "    <tr>\n",
       "      <th>9</th>\n",
       "      <td>15</td>\n",
       "      <td>855</td>\n",
       "      <td>oneplus 8</td>\n",
       "      <td>iphone 8 plus  dourado 256gb desbloqueado  mq8...</td>\n",
       "      <td>4894.98</td>\n",
       "    </tr>\n",
       "    <tr>\n",
       "      <th>10</th>\n",
       "      <td>15</td>\n",
       "      <td>862</td>\n",
       "      <td>oneplus 8</td>\n",
       "      <td>iphone 8 plus  prata 256gb desbloqueado  mq8q2...</td>\n",
       "      <td>4799.00</td>\n",
       "    </tr>\n",
       "    <tr>\n",
       "      <th>11</th>\n",
       "      <td>15</td>\n",
       "      <td>872</td>\n",
       "      <td>oneplus 8</td>\n",
       "      <td>iphone 8  prata 256gb câmera 12 megapixels</td>\n",
       "      <td>4706.93</td>\n",
       "    </tr>\n",
       "    <tr>\n",
       "      <th>12</th>\n",
       "      <td>15</td>\n",
       "      <td>885</td>\n",
       "      <td>oneplus 8</td>\n",
       "      <td>iphone 8 mq7c2bz a 256gb bra 4.7'' cinza espa...</td>\n",
       "      <td>4599.00</td>\n",
       "    </tr>\n",
       "    <tr>\n",
       "      <th>13</th>\n",
       "      <td>15</td>\n",
       "      <td>887</td>\n",
       "      <td>oneplus 8</td>\n",
       "      <td>iphone 8 dourado 256gb</td>\n",
       "      <td>4518.74</td>\n",
       "    </tr>\n",
       "    <tr>\n",
       "      <th>14</th>\n",
       "      <td>15</td>\n",
       "      <td>896</td>\n",
       "      <td>oneplus 8</td>\n",
       "      <td>iphone 8  256gb cinza espacial tela retina hd ...</td>\n",
       "      <td>4475.51</td>\n",
       "    </tr>\n",
       "    <tr>\n",
       "      <th>15</th>\n",
       "      <td>15</td>\n",
       "      <td>925</td>\n",
       "      <td>oneplus 8</td>\n",
       "      <td>iphone 8  dourado 256gb desbloqueado  mq7e2bz a</td>\n",
       "      <td>4282.98</td>\n",
       "    </tr>\n",
       "    <tr>\n",
       "      <th>16</th>\n",
       "      <td>15</td>\n",
       "      <td>926</td>\n",
       "      <td>oneplus 8</td>\n",
       "      <td>iphone 8 256gb  dourado</td>\n",
       "      <td>4282.98</td>\n",
       "    </tr>\n",
       "    <tr>\n",
       "      <th>17</th>\n",
       "      <td>15</td>\n",
       "      <td>927</td>\n",
       "      <td>oneplus 8</td>\n",
       "      <td>iphone 8  cinza espacial 256gb desbloqueado  m...</td>\n",
       "      <td>4282.98</td>\n",
       "    </tr>\n",
       "    <tr>\n",
       "      <th>18</th>\n",
       "      <td>15</td>\n",
       "      <td>978</td>\n",
       "      <td>oneplus 8</td>\n",
       "      <td>iphone 8 plus 256gb cinza espacial (excelente)...</td>\n",
       "      <td>3849.00</td>\n",
       "    </tr>\n",
       "    <tr>\n",
       "      <th>19</th>\n",
       "      <td>15</td>\n",
       "      <td>1007</td>\n",
       "      <td>oneplus 8</td>\n",
       "      <td>iphone 8 plus  256gb vermelho (muito bom)  mai...</td>\n",
       "      <td>3689.00</td>\n",
       "    </tr>\n",
       "    <tr>\n",
       "      <th>20</th>\n",
       "      <td>15</td>\n",
       "      <td>1008</td>\n",
       "      <td>oneplus 8</td>\n",
       "      <td>iphone 8 plus  256gb dourado (muito bom)  mais...</td>\n",
       "      <td>3689.00</td>\n",
       "    </tr>\n",
       "    <tr>\n",
       "      <th>21</th>\n",
       "      <td>15</td>\n",
       "      <td>1009</td>\n",
       "      <td>oneplus 8</td>\n",
       "      <td>iphone 8 plus  256gb prata (muito bom)  mais b...</td>\n",
       "      <td>3689.00</td>\n",
       "    </tr>\n",
       "    <tr>\n",
       "      <th>22</th>\n",
       "      <td>15</td>\n",
       "      <td>1010</td>\n",
       "      <td>oneplus 8</td>\n",
       "      <td>iphone 8 plus 256gb cinza espacial (muito bom)...</td>\n",
       "      <td>3689.00</td>\n",
       "    </tr>\n",
       "    <tr>\n",
       "      <th>23</th>\n",
       "      <td>15</td>\n",
       "      <td>1040</td>\n",
       "      <td>oneplus 8</td>\n",
       "      <td>iphone 8 plus 256gb space tela 5.5' 4g câmera ...</td>\n",
       "      <td>3500.00</td>\n",
       "    </tr>\n",
       "    <tr>\n",
       "      <th>24</th>\n",
       "      <td>15</td>\n",
       "      <td>1063</td>\n",
       "      <td>oneplus 8</td>\n",
       "      <td>iphone 8 plus 256gb prata tela 5.5' 4g câmera ...</td>\n",
       "      <td>3399.00</td>\n",
       "    </tr>\n",
       "    <tr>\n",
       "      <th>25</th>\n",
       "      <td>15</td>\n",
       "      <td>1083</td>\n",
       "      <td>oneplus 8</td>\n",
       "      <td>iphone 8 plus  256gb prata (excelente)  mais b...</td>\n",
       "      <td>3269.00</td>\n",
       "    </tr>\n",
       "    <tr>\n",
       "      <th>26</th>\n",
       "      <td>15</td>\n",
       "      <td>1085</td>\n",
       "      <td>oneplus 8</td>\n",
       "      <td>iphone 8 plus  256gb dourado (excelente)  mais...</td>\n",
       "      <td>3269.00</td>\n",
       "    </tr>\n",
       "    <tr>\n",
       "      <th>27</th>\n",
       "      <td>15</td>\n",
       "      <td>1098</td>\n",
       "      <td>oneplus 8</td>\n",
       "      <td>iphone 8 plus  256gb prata (bom)  mais barato ...</td>\n",
       "      <td>3199.00</td>\n",
       "    </tr>\n",
       "    <tr>\n",
       "      <th>28</th>\n",
       "      <td>15</td>\n",
       "      <td>1099</td>\n",
       "      <td>oneplus 8</td>\n",
       "      <td>iphone 8 plus 256gb cinza espacial (bom)  mais...</td>\n",
       "      <td>3199.00</td>\n",
       "    </tr>\n",
       "    <tr>\n",
       "      <th>29</th>\n",
       "      <td>15</td>\n",
       "      <td>1120</td>\n",
       "      <td>oneplus 8</td>\n",
       "      <td>iphone 8 silver mq7d2bz a tela de 4.7 256gb 12...</td>\n",
       "      <td>3079.00</td>\n",
       "    </tr>\n",
       "    <tr>\n",
       "      <th>30</th>\n",
       "      <td>15</td>\n",
       "      <td>1129</td>\n",
       "      <td>oneplus 8</td>\n",
       "      <td>iphone 8 plus  256gb vermelho (excelente)  mai...</td>\n",
       "      <td>3039.05</td>\n",
       "    </tr>\n",
       "    <tr>\n",
       "      <th>31</th>\n",
       "      <td>15</td>\n",
       "      <td>1133</td>\n",
       "      <td>oneplus 8</td>\n",
       "      <td>iphone 8 plus  cinza espacial 256gb desbloquea...</td>\n",
       "      <td>3009.00</td>\n",
       "    </tr>\n",
       "    <tr>\n",
       "      <th>32</th>\n",
       "      <td>15</td>\n",
       "      <td>1134</td>\n",
       "      <td>oneplus 8</td>\n",
       "      <td>iphone 8 plus  256gb dourado (bom)  mais barat...</td>\n",
       "      <td>3009.00</td>\n",
       "    </tr>\n",
       "    <tr>\n",
       "      <th>33</th>\n",
       "      <td>15</td>\n",
       "      <td>1162</td>\n",
       "      <td>oneplus 8</td>\n",
       "      <td>iphone 8  256gb cinza espacial (excelente)  ma...</td>\n",
       "      <td>2919.00</td>\n",
       "    </tr>\n",
       "    <tr>\n",
       "      <th>34</th>\n",
       "      <td>15</td>\n",
       "      <td>1163</td>\n",
       "      <td>oneplus 8</td>\n",
       "      <td>iphone 8  256gb dourado (excelente)  mais bara...</td>\n",
       "      <td>2919.00</td>\n",
       "    </tr>\n",
       "    <tr>\n",
       "      <th>35</th>\n",
       "      <td>15</td>\n",
       "      <td>1175</td>\n",
       "      <td>oneplus 8</td>\n",
       "      <td>iphone 8  256gb vermelho (excelente)  mais bar...</td>\n",
       "      <td>2899.00</td>\n",
       "    </tr>\n",
       "    <tr>\n",
       "      <th>36</th>\n",
       "      <td>15</td>\n",
       "      <td>1178</td>\n",
       "      <td>oneplus 8</td>\n",
       "      <td>iphone 8  256gb prata (excelente)  mais barato...</td>\n",
       "      <td>2879.00</td>\n",
       "    </tr>\n",
       "    <tr>\n",
       "      <th>37</th>\n",
       "      <td>15</td>\n",
       "      <td>1203</td>\n",
       "      <td>oneplus 8</td>\n",
       "      <td>iphone 8  256gb prata (bom)  mais barato store</td>\n",
       "      <td>2789.00</td>\n",
       "    </tr>\n",
       "    <tr>\n",
       "      <th>38</th>\n",
       "      <td>15</td>\n",
       "      <td>1210</td>\n",
       "      <td>oneplus 8</td>\n",
       "      <td>iphone 8  256gb dourado (muito bom)  mais bara...</td>\n",
       "      <td>2779.00</td>\n",
       "    </tr>\n",
       "    <tr>\n",
       "      <th>39</th>\n",
       "      <td>15</td>\n",
       "      <td>1211</td>\n",
       "      <td>oneplus 8</td>\n",
       "      <td>iphone 8  256gb cinza espacial (muito bom)  ma...</td>\n",
       "      <td>2779.00</td>\n",
       "    </tr>\n",
       "    <tr>\n",
       "      <th>40</th>\n",
       "      <td>15</td>\n",
       "      <td>1212</td>\n",
       "      <td>oneplus 8</td>\n",
       "      <td>iphone 8  256gb prata (muito bom)  mais barato...</td>\n",
       "      <td>2779.00</td>\n",
       "    </tr>\n",
       "    <tr>\n",
       "      <th>41</th>\n",
       "      <td>15</td>\n",
       "      <td>1227</td>\n",
       "      <td>oneplus 8</td>\n",
       "      <td>iphone 8  256gb vermelho (muito bom)  mais bar...</td>\n",
       "      <td>2729.00</td>\n",
       "    </tr>\n",
       "    <tr>\n",
       "      <th>42</th>\n",
       "      <td>15</td>\n",
       "      <td>1230</td>\n",
       "      <td>oneplus 8</td>\n",
       "      <td>iphone 8 plus 256gb prateado excelente  trocafone</td>\n",
       "      <td>2709.00</td>\n",
       "    </tr>\n",
       "    <tr>\n",
       "      <th>43</th>\n",
       "      <td>15</td>\n",
       "      <td>1250</td>\n",
       "      <td>oneplus 8</td>\n",
       "      <td>iphone 8 plus 256gb cinza espacial excelente  ...</td>\n",
       "      <td>2679.00</td>\n",
       "    </tr>\n",
       "    <tr>\n",
       "      <th>44</th>\n",
       "      <td>15</td>\n",
       "      <td>1252</td>\n",
       "      <td>oneplus 8</td>\n",
       "      <td>iphone 8 plus 256gb vermelho excelente  trocafone</td>\n",
       "      <td>2679.00</td>\n",
       "    </tr>\n",
       "    <tr>\n",
       "      <th>45</th>\n",
       "      <td>15</td>\n",
       "      <td>1271</td>\n",
       "      <td>oneplus 8</td>\n",
       "      <td>iphone 8  256gb cinza espacial (bom)  mais bar...</td>\n",
       "      <td>2619.00</td>\n",
       "    </tr>\n",
       "    <tr>\n",
       "      <th>46</th>\n",
       "      <td>15</td>\n",
       "      <td>1301</td>\n",
       "      <td>oneplus 8</td>\n",
       "      <td>iphone 8 plus 256gb prateado muito bom  trocafone</td>\n",
       "      <td>2549.00</td>\n",
       "    </tr>\n",
       "    <tr>\n",
       "      <th>47</th>\n",
       "      <td>15</td>\n",
       "      <td>1302</td>\n",
       "      <td>oneplus 8</td>\n",
       "      <td>iphone 8 plus 256gb cinza espacial muito bom  ...</td>\n",
       "      <td>2549.00</td>\n",
       "    </tr>\n",
       "    <tr>\n",
       "      <th>48</th>\n",
       "      <td>15</td>\n",
       "      <td>1303</td>\n",
       "      <td>oneplus 8</td>\n",
       "      <td>iphone 8 plus 256gb dourado muito bom  trocafone</td>\n",
       "      <td>2549.00</td>\n",
       "    </tr>\n",
       "    <tr>\n",
       "      <th>49</th>\n",
       "      <td>15</td>\n",
       "      <td>1336</td>\n",
       "      <td>oneplus 8</td>\n",
       "      <td>iphone 8 256gb vermelho bom  trocafone</td>\n",
       "      <td>2489.00</td>\n",
       "    </tr>\n",
       "    <tr>\n",
       "      <th>50</th>\n",
       "      <td>15</td>\n",
       "      <td>1337</td>\n",
       "      <td>oneplus 8</td>\n",
       "      <td>iphone 8 plus 256gb vermelho muito bom  trocafone</td>\n",
       "      <td>2479.00</td>\n",
       "    </tr>\n",
       "    <tr>\n",
       "      <th>51</th>\n",
       "      <td>15</td>\n",
       "      <td>1379</td>\n",
       "      <td>oneplus 8</td>\n",
       "      <td>iphone 8 plus 256gb cinza espacial bom  trocafone</td>\n",
       "      <td>2359.00</td>\n",
       "    </tr>\n",
       "    <tr>\n",
       "      <th>52</th>\n",
       "      <td>15</td>\n",
       "      <td>1569</td>\n",
       "      <td>oneplus 8</td>\n",
       "      <td>iphone 8 256gb cinza espacial excelente  troca...</td>\n",
       "      <td>1999.00</td>\n",
       "    </tr>\n",
       "    <tr>\n",
       "      <th>53</th>\n",
       "      <td>15</td>\n",
       "      <td>1570</td>\n",
       "      <td>oneplus 8</td>\n",
       "      <td>iphone 8 256gb dourado excelente  trocafone</td>\n",
       "      <td>1999.00</td>\n",
       "    </tr>\n",
       "    <tr>\n",
       "      <th>54</th>\n",
       "      <td>15</td>\n",
       "      <td>1613</td>\n",
       "      <td>oneplus 8</td>\n",
       "      <td>iphone 8 256gb prateado excelente  trocafone</td>\n",
       "      <td>1959.00</td>\n",
       "    </tr>\n",
       "    <tr>\n",
       "      <th>55</th>\n",
       "      <td>15</td>\n",
       "      <td>1642</td>\n",
       "      <td>oneplus 8</td>\n",
       "      <td>iphone 8 256gb cinza espacial muito bom  troca...</td>\n",
       "      <td>1929.00</td>\n",
       "    </tr>\n",
       "    <tr>\n",
       "      <th>56</th>\n",
       "      <td>15</td>\n",
       "      <td>1672</td>\n",
       "      <td>oneplus 8</td>\n",
       "      <td>iphone 8 256gb vermelho muito bom  trocafone</td>\n",
       "      <td>1899.00</td>\n",
       "    </tr>\n",
       "  </tbody>\n",
       "</table>\n",
       "</div>"
      ],
      "text/plain": [
       "    index_from_1  matched_indexes             tudocelular  \\\n",
       "0             12              122  apple iphone se (2020)   \n",
       "1             15              133               oneplus 8   \n",
       "2             15              172               oneplus 8   \n",
       "3             15              741               oneplus 8   \n",
       "4             15              742               oneplus 8   \n",
       "5             15              783               oneplus 8   \n",
       "6             15              784               oneplus 8   \n",
       "7             15              853               oneplus 8   \n",
       "8             15              854               oneplus 8   \n",
       "9             15              855               oneplus 8   \n",
       "10            15              862               oneplus 8   \n",
       "11            15              872               oneplus 8   \n",
       "12            15              885               oneplus 8   \n",
       "13            15              887               oneplus 8   \n",
       "14            15              896               oneplus 8   \n",
       "15            15              925               oneplus 8   \n",
       "16            15              926               oneplus 8   \n",
       "17            15              927               oneplus 8   \n",
       "18            15              978               oneplus 8   \n",
       "19            15             1007               oneplus 8   \n",
       "20            15             1008               oneplus 8   \n",
       "21            15             1009               oneplus 8   \n",
       "22            15             1010               oneplus 8   \n",
       "23            15             1040               oneplus 8   \n",
       "24            15             1063               oneplus 8   \n",
       "25            15             1083               oneplus 8   \n",
       "26            15             1085               oneplus 8   \n",
       "27            15             1098               oneplus 8   \n",
       "28            15             1099               oneplus 8   \n",
       "29            15             1120               oneplus 8   \n",
       "30            15             1129               oneplus 8   \n",
       "31            15             1133               oneplus 8   \n",
       "32            15             1134               oneplus 8   \n",
       "33            15             1162               oneplus 8   \n",
       "34            15             1163               oneplus 8   \n",
       "35            15             1175               oneplus 8   \n",
       "36            15             1178               oneplus 8   \n",
       "37            15             1203               oneplus 8   \n",
       "38            15             1210               oneplus 8   \n",
       "39            15             1211               oneplus 8   \n",
       "40            15             1212               oneplus 8   \n",
       "41            15             1227               oneplus 8   \n",
       "42            15             1230               oneplus 8   \n",
       "43            15             1250               oneplus 8   \n",
       "44            15             1252               oneplus 8   \n",
       "45            15             1271               oneplus 8   \n",
       "46            15             1301               oneplus 8   \n",
       "47            15             1302               oneplus 8   \n",
       "48            15             1303               oneplus 8   \n",
       "49            15             1336               oneplus 8   \n",
       "50            15             1337               oneplus 8   \n",
       "51            15             1379               oneplus 8   \n",
       "52            15             1569               oneplus 8   \n",
       "53            15             1570               oneplus 8   \n",
       "54            15             1613               oneplus 8   \n",
       "55            15             1642               oneplus 8   \n",
       "56            15             1672               oneplus 8   \n",
       "\n",
       "                                            carrefour   prices  \n",
       "0                              iphone se 256gb  preto  4499.00  \n",
       "1       iphone 8  prata 256gb desbloqueado  mq7d2br a  4282.98  \n",
       "2                           iphone 8 plus 256gb gold   3690.00  \n",
       "3   iphone 11 pro 256gb dourado 4g tela 5 8 câmera...  7665.56  \n",
       "4   iphone 11 pro 256gb verde meia noite 4g tela 5...  7665.56  \n",
       "5   smartphone samsung galaxy note 10 plus prata 2...  5999.00  \n",
       "6   smartphone samsung galaxy note 10 plus preto 2...  5999.00  \n",
       "7   iphone xs  com 256gb tela super retina hd de 5...  4899.00  \n",
       "8   iphone 8 plus  cinza espacial 256gb desbloquea...  4894.98  \n",
       "9   iphone 8 plus  dourado 256gb desbloqueado  mq8...  4894.98  \n",
       "10  iphone 8 plus  prata 256gb desbloqueado  mq8q2...  4799.00  \n",
       "11         iphone 8  prata 256gb câmera 12 megapixels  4706.93  \n",
       "12   iphone 8 mq7c2bz a 256gb bra 4.7'' cinza espa...  4599.00  \n",
       "13                             iphone 8 dourado 256gb  4518.74  \n",
       "14  iphone 8  256gb cinza espacial tela retina hd ...  4475.51  \n",
       "15    iphone 8  dourado 256gb desbloqueado  mq7e2bz a  4282.98  \n",
       "16                            iphone 8 256gb  dourado  4282.98  \n",
       "17  iphone 8  cinza espacial 256gb desbloqueado  m...  4282.98  \n",
       "18  iphone 8 plus 256gb cinza espacial (excelente)...  3849.00  \n",
       "19  iphone 8 plus  256gb vermelho (muito bom)  mai...  3689.00  \n",
       "20  iphone 8 plus  256gb dourado (muito bom)  mais...  3689.00  \n",
       "21  iphone 8 plus  256gb prata (muito bom)  mais b...  3689.00  \n",
       "22  iphone 8 plus 256gb cinza espacial (muito bom)...  3689.00  \n",
       "23  iphone 8 plus 256gb space tela 5.5' 4g câmera ...  3500.00  \n",
       "24  iphone 8 plus 256gb prata tela 5.5' 4g câmera ...  3399.00  \n",
       "25  iphone 8 plus  256gb prata (excelente)  mais b...  3269.00  \n",
       "26  iphone 8 plus  256gb dourado (excelente)  mais...  3269.00  \n",
       "27  iphone 8 plus  256gb prata (bom)  mais barato ...  3199.00  \n",
       "28  iphone 8 plus 256gb cinza espacial (bom)  mais...  3199.00  \n",
       "29  iphone 8 silver mq7d2bz a tela de 4.7 256gb 12...  3079.00  \n",
       "30  iphone 8 plus  256gb vermelho (excelente)  mai...  3039.05  \n",
       "31  iphone 8 plus  cinza espacial 256gb desbloquea...  3009.00  \n",
       "32  iphone 8 plus  256gb dourado (bom)  mais barat...  3009.00  \n",
       "33  iphone 8  256gb cinza espacial (excelente)  ma...  2919.00  \n",
       "34  iphone 8  256gb dourado (excelente)  mais bara...  2919.00  \n",
       "35  iphone 8  256gb vermelho (excelente)  mais bar...  2899.00  \n",
       "36  iphone 8  256gb prata (excelente)  mais barato...  2879.00  \n",
       "37     iphone 8  256gb prata (bom)  mais barato store  2789.00  \n",
       "38  iphone 8  256gb dourado (muito bom)  mais bara...  2779.00  \n",
       "39  iphone 8  256gb cinza espacial (muito bom)  ma...  2779.00  \n",
       "40  iphone 8  256gb prata (muito bom)  mais barato...  2779.00  \n",
       "41  iphone 8  256gb vermelho (muito bom)  mais bar...  2729.00  \n",
       "42  iphone 8 plus 256gb prateado excelente  trocafone  2709.00  \n",
       "43  iphone 8 plus 256gb cinza espacial excelente  ...  2679.00  \n",
       "44  iphone 8 plus 256gb vermelho excelente  trocafone  2679.00  \n",
       "45  iphone 8  256gb cinza espacial (bom)  mais bar...  2619.00  \n",
       "46  iphone 8 plus 256gb prateado muito bom  trocafone  2549.00  \n",
       "47  iphone 8 plus 256gb cinza espacial muito bom  ...  2549.00  \n",
       "48   iphone 8 plus 256gb dourado muito bom  trocafone  2549.00  \n",
       "49             iphone 8 256gb vermelho bom  trocafone  2489.00  \n",
       "50  iphone 8 plus 256gb vermelho muito bom  trocafone  2479.00  \n",
       "51  iphone 8 plus 256gb cinza espacial bom  trocafone  2359.00  \n",
       "52  iphone 8 256gb cinza espacial excelente  troca...  1999.00  \n",
       "53        iphone 8 256gb dourado excelente  trocafone  1999.00  \n",
       "54       iphone 8 256gb prateado excelente  trocafone  1959.00  \n",
       "55  iphone 8 256gb cinza espacial muito bom  troca...  1929.00  \n",
       "56       iphone 8 256gb vermelho muito bom  trocafone  1899.00  "
      ]
     },
     "execution_count": 937,
     "metadata": {},
     "output_type": "execute_result"
    }
   ],
   "source": []
  },
  {
   "cell_type": "code",
   "execution_count": 923,
   "metadata": {
    "hidden": true
   },
   "outputs": [
    {
     "data": {
      "text/plain": [
       "('oneplus 8', 'iphone 8 plus 256gb gold ')"
      ]
     },
     "execution_count": 923,
     "metadata": {},
     "output_type": "execute_result"
    }
   ],
   "source": [
    "semdindin.loc[15], comdindin.loc[172]['title']"
   ]
  },
  {
   "cell_type": "code",
   "execution_count": 629,
   "metadata": {
    "hidden": true
   },
   "outputs": [],
   "source": [
    "gogogo = np.array(comdindin.title)"
   ]
  },
  {
   "cell_type": "code",
   "execution_count": 638,
   "metadata": {
    "hidden": true,
    "scrolled": true
   },
   "outputs": [
    {
     "data": {
      "text/plain": [
       "array(['128gb', '32gb', '256gb', '64gb', '512gb', '16gb', '8gb',\n",
       "       'não suporta', '4gb', '128mb', '10gbemmc 5.1', '32mbflash', '32mb',\n",
       "       '24mb', '4mb', '2,39mb', '256mb', '64mb', '512mb', '16mb', '5mb',\n",
       "       '16gbemmc 5.0', '32gbemmc 5.0', '64gbemmc 5.0', '16gbemmc 4.5',\n",
       "       '32gbemmc 4.5', '64gbemmc 4.5', '8mb', '20mb', '1gb', '300kb',\n",
       "       '78,39mb', '34mb', '20gb', '2gb', '1mb', '2,5gb', '50mb', '3gb',\n",
       "       '30mb', '43mb', '150mb', '2,33gb', '120mb', '10mb', '15mb',\n",
       "       '100mb', '100kb', '22mb', '18mb', '26mb', '40mb', '78mb', '45mb',\n",
       "       '140mb', '54mb', '90mb', '260mb', '270mb', '280mb', '42mb', '19mb',\n",
       "       '512kb', '500kb', '48mb', '4gbflash', '38mb', '118mb', '80mb',\n",
       "       '200mb', '110mb', '11mb', '600kb', '35mb', '96mb', '14mb', '2mb',\n",
       "       '12mb', '473kb', '1,78mb', '484kb', '400kb', '7mb', '610kb',\n",
       "       '800kb', '1kb'], dtype=object)"
      ]
     },
     "execution_count": 638,
     "metadata": {},
     "output_type": "execute_result"
    }
   ],
   "source": [
    "datajoin.memoria_interna.unique()"
   ]
  },
  {
   "cell_type": "markdown",
   "metadata": {},
   "source": [
    "# Wont have a deploy here"
   ]
  },
  {
   "cell_type": "markdown",
   "metadata": {
    "heading_collapsed": true
   },
   "source": [
    "## Useless properties (for now)"
   ]
  },
  {
   "cell_type": "code",
   "execution_count": 121,
   "metadata": {
    "hidden": true
   },
   "outputs": [
    {
     "data": {
      "text/plain": [
       "'\\n\\nIPhone 11 Pro Max Apple 64GB 6.5\" Desbloqueado Prata - Preços com até 15% de desconto  | JáCotei\\n\\n\\n\\n\\n\\n\\n\\n\\n\\n\\n\\n\\n\\n\\n\\n\\n\\n\\n\\n\\n\\n\\n\\n\\n\\n\\n\\n\\n\\n\\n\\n\\n\\n\\n\\n\\n\\n\\n\\n\\n\\n\\t\\t\\tjQuery.cookie=function(d,c,a){if(typeof c!=\"undefined\"){a=a||{};if(c===null)c=\"\",a.expires=-1;var b=\"\";if(a.expires&&(typeof a.expires==\"number\"||a.expires.toUTCString))typeof a.expires==\"number\"?(b=new Date,b.setTime(b.getTime()+a.expires*864E5)):b=a.expires,b=\"; expires=\"+b.toUTCString();var e=a.path?\"; path=\"+a.path:\"\",f=a.domain?\"; domain=\"+a.domain:\"\",a=a.secure?\"; secure\":\"\";document.cookie=[d,\"=\",encodeURIComponent(c),b,e,f,a].join(\"\")}else{c=null;if(document.cookie&&document.cookie!=\"\"){a=\\n\\t\\t\\tdocument.cookie.split(\";\");for(b=0;b<a.length;b++)if(e=jQuery.trim(a[b]),e.substring(0,d.length+1)==d+\"=\"){c=decodeURIComponent(e.substring(d.length+1));break}}return c}};\\n\\t\\t\\n\\n\\n\\n\\n\\n!function(f,b,e,v,n,t,s)\\n{if(f.fbq)return;n=f.fbq=function(){n.callMethod?\\nn.callMethod.apply(n,arguments):n.queue.push(arguments)};\\nif(!f._fbq)f._fbq=n;n.push=n;n.loaded=!0;n.version=\\'2.0\\';\\nn.queue=[];t=b.createElement(e);t.async=!0;\\nt.src=v;s=b.getElementsByTagName(e)[0];\\ns.parentNode.insertBefore(t,s)}(window,document,\\'script\\',\\n\\'https://connect.facebook.net/en_US/fbevents.js\\');\\n fbq(\\'init\\', \\'2074713706090161\\'); \\nfbq(\\'track\\', \\'PageView\\');\\n\\n\\n// <img alt height=\"1\" width=\"1\" src=\"https://www.facebook.com/tr?id=2074713706090161&ev=PageView&noscript=1\"/>\\n\\n\\n\\n\\n\\t    (function(w, d, s, l, i) {\\n\\t        w[l] = w[l] || [];\\n\\t        w[l].push({\\'gtm.start\\':\\n\\t                    new Date().getTime(), event: \\'gtm.js\\'});\\n\\t        var f = d.getElementsByTagName(s)[0],\\n\\t                j = d.createElement(s), dl = l != \\'dataLayer\\' ? \\'&l=\\' + l : \\'\\';\\n\\t        j.async = true;\\n\\t        j.src = \\'//www.googletagmanager.com/gtm.js?id=\\' + i + dl;\\n\\t        f.parentNode.insertBefore(j, f);\\n\\t    })(window, document, \\'script\\', \\'dataLayer\\', \\'GTM-NWGF55G\\');\\n\\t    \\n\\n\\n\\n\\n\\n\\n\\n\\n\\n\\n\\n\\nEletrodoméstico\\n\\n\\n\\n\\n\\n\\nGeladeira\\nLavadora de Roupas\\nMicroondas\\nVer tudo [+]\\n\\n\\n\\n\\n\\n\\n\\n\\nEletrônicos\\n\\n\\n\\n\\n\\n\\nTV\\nMicro System\\nHome Theater\\nVer tudo [+]\\n\\n\\n\\n\\n\\n\\n\\n\\nCelulares e telefones\\n\\n\\n\\n\\n\\n\\nCelular\\nTelefone\\nAcessórios para Celular\\nVer tudo [+]\\n\\n\\n\\n\\n\\n\\n\\n\\nInformática e escritório\\n\\n\\n\\n\\n\\n\\nNotebook\\nTablet\\nImpressora\\nVer tudo [+]\\n\\n\\n\\n\\n\\n\\n\\n\\nGames, jogos e brinquedos\\n\\n\\n\\n\\n\\n\\nConsole de Video Game\\nJogos para Video Game\\nTriciclo e Mini Carro\\nVer tudo [+]\\n\\n\\n\\n\\n\\n\\n\\n\\nAuto peças e acessórios\\n\\n\\n\\n\\n\\n\\nPneus p/ Carros\\nSom automotivo\\nGPS\\nVer tudo [+]\\n\\n\\n\\n\\n\\n\\n\\n\\nCasa e jardim\\n\\n\\n\\n\\n\\n\\nSofá e Estofados\\nCama de Casal\\nCadeira / Espreguiçadeiras\\nVer tudo [+]\\n\\n\\n\\n\\n\\n\\n\\n\\nEsporte e lazer\\n\\n\\n\\n\\n\\n\\nBicicleta\\nTiro e Caça\\nEsteira Elétrica\\nVer tudo [+]\\n\\n\\n\\n\\n\\n\\n\\n\\nUtilidades domésticas\\n\\n\\n\\n\\n\\n\\nPanelas\\nFiltros\\nFaqueiros\\nVer tudo [+]\\n\\n\\n\\n\\n\\n\\n\\n\\n+ Ver todas as categorias\\n\\n\\n\\n\\n\\n\\n\\n\\n\\t$(window).resize(function(){\\n\\t\\tvar telaAjusteMobile = $(window).width();\\n\\tif(telaAjusteMobile > 992){\\n\\t\\t$(\\'html\\').removeClass(\\'mm-opened \\');\\n\\t\\t$(\\'html\\').removeClass(\\'mm-blocking \\');\\n\\t\\t$(\\'html\\').removeClass(\\'mm-background \\');\\n\\t\\t$(\\'html\\').removeClass(\\'mm-opening\\');\\n\\t}\\n\\t});\\n\\n\\n\\n\\n\\n\\n\\n×Close\\n\\n\\n\\n\\n                        $(\\'#login-frame\\').load(function(){\\n                        \\tvar match = window.location.hostname.match(/(multiplus|smiles)/);\\n                        \\tif(match){\\n                        \\t\\tvar multiplusOrSmiles = match[1];\\n                        \\t\\tvar iframeWindow = this.contentWindow;\\n                        \\t\\tiframeWindow.postMessage(multiplusOrSmiles, \\'https://login.jacotei.com.br\\');\\n                        \\t}else{\\n                        \\t\\tvar iframeWindow = this.contentWindow;\\n                        \\t\\tiframeWindow.postMessage(\\'padrao\\', \\'https://login.jacotei.com.br\\');\\n                        \\t}\\n                        });\\n                    \\n\\n\\n\\n\\n\\n$(document).ready(function(){\\n\\t// coloca dominio correto no source do frame\\n\\t$(\"body\").on(\"show.bs.modal\", \"#login-modal\", function () {\\n        var src = \\'https://login.jacotei.com.br/\\';\\n        $(\"#login-frame\").attr(\\'src\\', src);\\n    });\\n\\t\\n\\t// abre modal do login\\n\\t$(\"body\").on(\"click\", \".click-login-2015\", function () {\\n        $(\\'#login-modal\\').modal(\"show\");\\n    });\\n});\\n\\n\\n\\n\\n\\n\\n×Close\\n\\n\\n\\t            Ganhe Smiles nesta compra!\\t            \\n\\n\\n\\n\\n\\n\\n\\n\\n\\t// $(\"iframe\").contents().find(\"#programa_recompensa_id option[value=\"3\"]\").css(\"diplay\", \"none\" );\\n\\t\\n\\t// $(\"#pedido-frame\").contents().find(\"#programa_recompensa_id option[value=\"3\"]\").attr(\"style\",\"display:none\")\\n\\n\\t// $(\\'iframe\\').load( function() {\\n\\t// \\t$(\\'iframe\\').contents().find(\"#programa_recompensa_id option[value=\"3\"]\")\\n\\t// \\t.append($(\"<style type=\\'text/css\\'>  .my-class{display:none;}  </style>\"));\\n\\t// });\\n\\n\\t// $(\"iframe\").find(\\'option[value=\"\\' + value + \\'\"]\\').attr(\"selected\", \"selected\");\\n\\n\\n\\n\\n\\n\\n\\n\\n\\n\\n\\n\\n\\n\\n\\n\\n\\n\\n\\n\\n\\n\\n\\n\\n\\n\\n\\nCotar\\n\\n\\n\\n\\n\\n\\n\\n\\n\\n\\nfunction pegarConteudo(){\\n\\tvar html = $(\\'.tt-dropdown-menu\\').html();\\n\\t$(this).html(html);\\n};\\n\\n$(document).ready(function(){\\n\\t$(window).scroll(function(){\\n\\t\\tif($(window).scrollTop() > 255){\\n\\t\\t\\t$(\\'#topo_principal_site\\').addClass(\\'fixar_topo_geral\\');\\n\\t\\t}else{\\n\\t\\t\\t$(\\'#topo_principal_site\\').removeClass(\\'fixar_topo_geral\\');\\n\\t\\t}\\n\\n\\t\\t//if($(window).scrollTop() > 520){\\n\\t\\t//}else{\\n\\t\\t\\t// $(\\'#topo_principal_site\\').css(\\'border-bottom\\',\\'2px solid #29683F\\');\\n\\t\\t//}\\n\\t});\\n\\n\\t$(\\'.carrossel_imagens .selo\\').each(function(){\\n\\t\\t  $(this).closest(\\'article\\').addClass(\\'boxSeloBlackFriday\\');\\n\\t});\\n});\\n\\n\\n\\n\\n\\n\\n\\n\\n\\n\\n\\n\\n\\n\\n\\n\\n\\n\\n\\n\\n\\n\\n\\n\\t\\t\\t\\t\\t\\t\\tMinha Conta\\n\\t\\t\\t\\t\\t\\t\\n\\n\\n\\n\\n\\t\\t\\t\\t\\t\\t\\tMinha lista\\n\\t\\t\\t\\t\\t\\t\\n\\n\\n\\n\\n\\t\\t\\t\\t\\t\\t\\tMeus Alertas\\n\\t\\t\\t\\t\\t\\t\\n\\n\\n\\n\\n\\t\\t\\t\\t\\t\\t\\tSair\\n\\t\\t\\t\\t\\t\\t\\n\\n\\n\\n\\n\\n\\n\\nMenu\\n\\n\\n\\n\\n\\n\\n\\n\\n\\t\\t\\t\\t\\t\\t\\tMinha Conta\\n\\t\\t\\t    \\t\\t\\n\\n\\n\\n\\n\\t\\t\\t\\t\\t\\t\\tMinha lista\\n\\t\\t\\t\\t\\t\\t\\n\\n\\n\\n\\n\\t\\t\\t\\t\\t\\t\\tMeus Alertas\\n\\t\\t\\t\\t\\t\\t\\n\\n\\n\\n\\n\\t\\t\\t\\t\\t\\t\\tSair \\n\\t\\t\\t\\t\\t\\t\\n\\n\\n\\n\\nOlá, \\n\\n\\n\\n\\n\\n\\n\\n\\n\\n\\n\\nEntrar\\n\\n\\n\\nEntre ou  cadastre-se \\n\\n\\n\\n\\n\\n\\n\\n\\n\\nx\\n\\n\\n\\nGanhe Smiles \\n\\n\\n\\n\\n\\n\\n\\n\\t$(document).ready(function(){\\n\\t\\t//$(\\'#logado_mobile_novo\\').click(function(){\\n\\t\\t//\\t$(this).closest(\\'.entrar-logar\\').next().toggleClass(\\'mostrarSubMenu\\');\\n\\t\\t//});\\n\\n\\t\\t$(\\'#menuClickDropMob\\').click(function(){\\n\\t\\t\\t$(\\'#dropdown-menu-mob\\').toggleClass(\\'mostrarSubMenu\\');\\n\\t\\t});\\n\\t});\\n\\n\\n\\n\\n\\n\\n\\n\\t$(document).ready(function(){\\n\\t\\t$(\".linkMmenu\").click(function() {\\n\\t\\t\\t$(\"#my-menu\").mmenu({\\n     \\t\\t\\t// Options\\n      \\t\\t\\t}, {\\n     \\t\\t\\t// configuration\\n     \\t\\t\\toffCanvas: {\\n        \\t\\t\\tpageNodetype: \"main\"\\n     \\t\\t\\t}\\n  \\t\\t\\t});\\n\\t\\t});\\n\\t\\t\\n\\t\\tif ($.cookie(\\'user\\')) {\\n\\t\\t\\t$(\\'#login_topo\\').addClass(\\'logadO\\');\\n\\t\\t}else{\\n\\t\\t\\t$(\\'#login_topo\\').removeClass(\\'logadO\\');\\n\\t\\t}\\n\\t\\t// $(\\'#input_busca_topo\\').focusout(function(){\\n\\t\\t// \\t$(\"#container_busca_topo_fixar\").removeClass(\\'fixar_busca_mobile_topo\\');\\n\\t\\t// \\t$(\\'#container_menu_topo\\').removeClass(\\'modal_busca_focus\\');\\n\\t\\t// });\\n\\t\\tvar validaLogin = function() {\\n\\t        // se usuario possui cookie\\n\\t        if ($.cookie(\\'user\\')) {\\n\\t            var user = $.parseJSON($.cookie(\\'user\\'));\\n\\t\\t\\t\\tvar nomeLogin = user.name;\\n\\t\\t\\t\\tvar alteraNomeMobile = nomeLogin.substring(0.10);\\n\\t\\t\\t\\t$(\\'#inicial_logado\\').text(alteraNomeMobile);\\n\\t        }\\n\\t    }\\n\\t    validaLogin();\\n\\n\\t\\tfunction topo_ajustes(valorPadding){\\n\\t\\t\\t// tamanho1 = $(\\'#menu_topo\\').width();\\n\\t\\t\\t// tamanho2 = $(\\'#logo_topo\\').width();\\n\\t\\t\\t// tamanho3 = $(\\'#login_topo\\').width();\\n\\t\\t\\t// tamanhoItens = tamanho1 + tamanho2 + tamanho3 + valorPadding;\\n\\t\\t\\t// valorContainer = $(\\'#topo_principal_site .container\\').width();\\n\\n\\t\\t\\t// totalParaBusca = valorContainer - tamanhoItens;\\n\\t\\t\\t// $(\\'#busca_topo\\').width(totalParaBusca);\\n\\t\\t}\\n\\t\\ttopo_ajustes(10);\\n\\t\\t$( window ).resize(function() {\\n\\t\\t\\tif ($(window).width() < 480) {\\n\\t\\t\\t   topo_ajustes(10);\\n\\t\\t\\t}\\n\\t\\t\\telse {\\n\\t\\t\\t   topo_ajustes(10);\\n\\t\\t\\t}\\n\\t\\t});\\n\\n\\t\\t$(\\'.box_busca\\').focus(function(){\\n\\t\\t   $(\\'#busca_topo\\').addClass(\\'focusBusca\\');\\n\\t\\t});\\n\\n\\t\\t$(\\'.box_busca\\').focusout(function(){\\n\\t\\t   $(\\'#busca_topo\\').removeClass(\\'focusBusca\\');\\n\\t\\t});\\n\\t\\t//Fixar menu mobile no rolagem e mostrar a busca quando o scroll for em direcao ao topo\\n\\t\\tvar scrollInicial = $(window).scrollTop();\\n\\t\\t$(window).scroll(function(){\\n\\t\\t\\tvar scrollSeguntaEtapa = $(window).scrollTop();\\n\\n\\t\\t\\tif(scrollInicial < scrollSeguntaEtapa){//indo pra direcao do bottom\\n\\t\\t\\t\\t// $(\"#container_busca_topo_fixar\").removeClass(\\'fixa_mobile_na_rolagem\\');\\n\\t\\t\\t\\t$(\\'#container_menu_topo\\').removeClass(\\'modal_busca_rolagem\\');\\n\\t\\t\\t\\t$(\\'#menu_fixado,#menu_fixo_mobile\\').addClass(\\'fixar_zero\\');\\n\\t\\t\\t\\tscrollInicial = $(window).scrollTop();\\n\\t\\t\\t}else if(scrollInicial > scrollSeguntaEtapa){//indo pro topo da página\\n\\t\\t\\t\\t// $(\"#container_busca_topo_fixar\").addClass(\\'fixa_mobile_na_rolagem\\');\\n\\t\\t\\t\\t$(\\'#container_menu_topo\\').addClass(\\'modal_busca_rolagem\\');\\n\\t\\t\\t\\t$(\\'#menu_fixado,#menu_fixo_mobile\\').removeClass(\\'fixar_zero\\');\\t\\n\\t\\t\\t\\tscrollInicial = $(window).scrollTop();\\n\\t\\t\\t\\t\\tif($(window).scrollTop() == 0){\\n\\t\\t\\t\\t\\t\\t// $(\"#container_busca_topo_fixar\").removeClass(\\'fixa_mobile_na_rolagem\\');\\n\\t\\t\\t\\t\\t\\t$(\\'#container_menu_topo\\').removeClass(\\'modal_busca_rolagem\\');\\n\\t\\t\\t\\t\\t\\t$(\\'#menu_fixado,#menu_fixo_mobile\\').removeClass(\\'fixar_zero\\');\\n\\t\\t\\t\\t\\t}\\n\\t\\t\\t}\\n\\n\\t\\t});\\n\\n\\n\\t\\tif ($.cookie(\\'user\\')) {\\n\\t\\t\\t $(\\'a.link_completa_cadastro\\').click(function (e) {\\n                 e.preventDefault();\\n                 return false;\\n             });\\n             $(\\'a.link_completa_cadastro_meujacotei\\').click(function (e) {\\n                 chamaTelaCompletaCadastro();\\n                 e.preventDefault();\\n                 return false;\\n             });\\n             $(\\'a.link_altera_senha\\').click(function (e) {\\n                 chamaTelaAlteraSenha();\\n                 e.preventDefault();\\n                 return false;\\n             });\\n\\t\\t}\\n\\t\\t\\n\\t});\\n\\n\\t$(document).keydown(function(e){\\n\\t    if (e.keyCode == 37) { \\n\\t      var htmlGerado = $(\\'.tt-dataset-suggest\\').html();\\n\\t      $(\\'body\\').prepend(htmlGerado);\\n\\t    }\\n\\t});\\n\\n\\n\\n\\n\\n\\n\\n\\n\\n\\n\\n\\n\\n\\n\\n\\n\\n\\n\\n\\n\\t\\t\\t\\t\\t\\t\\t\\tCotar\\n\\t\\t\\t\\t\\t\\t\\t\\n\\n\\n\\n\\n\\n\\n\\n\\n\\n\\n\\nGuia de compras\\n\\n\\n\\n\\n\\n\\nBaixe o aplicativo\\n\\n\\n\\n\\n\\n\\n\\nFale Conosco\\n\\n\\n\\n\\n\\n\\n\\n\\n\\n\\n\\n\\n\\n\\n\\t\\t\\t\\t\\t\\t\\tMeu Jacotei \\n\\n\\n\\n\\n\\t\\t\\t        \\t\\tSair  \\n\\n\\n\\n\\n\\n\\n\\n\\n\\n\\n\\n\\t\\t\\t\\t\\t\\t\\tMeu JáCotei\\n\\t\\t\\t\\t\\t\\t\\t\\n\\n\\n\\n\\n\\n\\n\\n\\n\\t\\t\\t\\t\\t\\t\\tMinha Conta\\n\\t\\t\\t    \\t\\t\\n\\n\\n\\n\\n\\t\\t\\t\\t\\t\\t\\tMinha lista\\n\\t\\t\\t\\t\\t\\t\\n\\n\\n\\n\\n\\t\\t\\t\\t\\t\\t\\tMeus Alertas\\n\\t\\t\\t\\t\\t\\t\\n\\n\\n\\n\\n\\t\\t\\t\\t\\t\\t\\tSair\\n\\t\\t\\t        \\t\\n\\n\\n\\n\\n\\n\\n\\n\\n\\n\\n\\nEntre ou cadastre\\n\\n\\n\\n\\n\\n\\n\\nx\\n\\n\\n\\nGanhe \\n\\n\\n\\n\\n\\n\\n\\n\\n\\n\\n\\n\\n\\n\\n\\n\\n\\n\\n\\t\\t\\t\\t\\tTodas as Categorias\\n\\t\\t\\t\\t\\n\\n\\n\\n\\n\\n\\t\\t\\t\\tEletrodomésticos\\n\\t\\t\\t\\t\\n\\n\\n\\n\\nEletrodomésticos\\nGeladeira\\nLavadora de Roupas\\nFogão\\nMicroondas\\nCuidados Pessoais\\nAr Condicionado\\nVentilador e Circulador\\nCafeteiras Elétrica\\nForno Elétrico / à Gás\\nBebedouro e Purificador de Água\\nVer tudo [+]\\n\\n\\n\\n\\n\\n\\n\\n\\n\\n\\n\\n\\n\\nVeja o menor preço!\\n\\n\\n\\n\\n\\n\\n\\n\\t\\t\\t\\tCelulares e telefones\\n\\t\\t\\t\\t\\n\\n\\n\\n\\nCelulares, Smartphones e Telefones\\nCelular\\nTelefone\\nAcessórios para Celular\\nHeadsets\\nFones de Ouvido\\nDock Station\\nVer tudo [+]\\n\\n\\n\\n\\n\\n\\n\\n\\n\\n\\n\\n\\n\\t\\t\\t\\t\\t\\t\\t\\tVeja o menor preço!\\n\\t\\t\\t\\t\\t\\t\\t\\n\\n\\n\\n\\n\\n\\n\\n\\t\\t\\t\\tEletrônicos\\n\\t\\t\\t\\t\\n\\n\\n\\n\\nEletrônicos\\nTV\\nCaixas Amplificadas\\nMicro System\\nHome Theater\\nRádio Portátil\\nCaixas Acústicas\\nAntenas e Decodificadores\\nDVD Player\\nFones de Ouvido\\nConversor Digital\\nVer tudo [+]\\n\\n\\n\\n\\n\\n\\n\\n\\n\\n\\n\\nVeja o menor preço!\\n\\n\\n\\n\\n\\n\\n\\n\\t\\t\\t\\tInformática e escritório\\n\\t\\t\\t\\t\\n\\n\\n\\n\\nInformática e Escritório\\nNotebook\\nImpressora\\nTablet\\nRoteador\\nMonitor\\nCartucho de Tinta\\nComputador\\nHD\\nPen Drive\\nProjetor\\nVer tudo [+]\\n\\n\\n\\n\\n\\n\\n\\n\\n\\n\\n\\n\\n\\t\\t\\t\\t\\t\\t\\t\\tVeja o menor preço!\\n\\t\\t\\t\\t\\t\\t\\t\\n\\n\\n\\n\\n\\n\\n\\n\\t\\t\\t\\tCasa e jardim\\n\\t\\t\\t\\t\\n\\n\\n\\n\\nCasa e Jardim\\nFerramentas\\nSofá e Estofados\\nColchão\\nCama de Casal\\nGuarda-Roupas\\nCama de Solteiro\\nMesas\\nRack\\nArmário\\nSapateira\\nVer tudo [+]\\n\\n\\n\\n\\n\\n\\n\\n\\n\\n\\n\\n\\n\\n\\n\\n\\n\\n\\n\\n\\t\\t\\t\\tGames, jogos e brinquedos\\n\\t\\t\\t\\t\\n\\n\\n\\n\\nGames, Jogos e Brinquedos\\nVídeo Games\\nBonecas e Acessórios\\nMini Veículos\\nBrincadeiras de Menina\\nBrincadeiras de Menino\\nPlayground\\nPatinetes\\nConstruir e Montar\\nPatins\\nVer tudo [+]\\n\\n\\n\\n\\n\\n\\n\\n\\n\\n\\n\\n\\n\\n\\n\\n\\n\\n\\n\\n\\t\\t\\t\\tBebês\\n\\t\\t\\t\\t\\n\\n\\n\\n\\nBebês\\nFraldas\\nCadeira para Auto e Bebê Conforto\\nCarrinho de Bebê\\nBerços e Cercados\\nCadeira de Refeição e Balanço\\nBanheiras\\nAndador\\nBabá Eletrônica\\nPara as Mães\\nVer tudo [+]\\n\\n\\n\\n\\n\\n\\n\\n\\n\\n\\n\\n\\n\\n\\n\\n\\n\\n\\n\\n\\t\\t\\t\\tEsporte e lazer\\n\\t\\t\\t\\t\\n\\n\\n\\n\\nEsporte e Lazer\\nBicicleta e Ciclismo\\nAcademia\\nEsportes de Aventura\\nCamping\\nAcessórios Esportivos\\nSuplementos Nutricionais Esportivos\\nMonitores Cardíacos\\nEsportes de Quadra / Campo\\nJogos de Mesa\\nVer tudo [+]\\n\\n\\n\\n\\n\\n\\n\\n\\n\\n\\n\\n\\n\\n\\n\\n\\n\\n\\n\\n\\t\\t\\t\\tUtilidades domésticas\\n\\t\\t\\t\\t\\n\\n\\n\\n\\nUtilidades Domésticas\\nPanelas\\nFaqueiros\\nJogos de Jantar\\nEscadas\\nFiltros\\nSuportes / Porta Utensílios\\nChaleiras\\nTábua de Passar Roupa\\nMoedores\\nFrigideiras\\nVer tudo [+]\\n\\n\\n\\n\\n\\n\\n\\n\\n\\n\\n\\n\\n\\n\\n\\n\\n\\n\\n\\n\\t\\t\\t\\tAuto peças e acessórios\\n\\t\\t\\t\\t\\n\\n\\n\\n\\nAuto Peças e Acessórios\\nPneus p/ Carros\\nPneus p/ Motos\\nSom automotivo\\nDvd Automotivo\\nAlto Falantes\\nGPS\\nCadeirinha/Bebê Conforto\\nCapacetes\\nVer tudo [+]\\n\\n\\n\\n\\n\\n\\n\\n\\n\\n\\n\\n\\n\\n\\n\\n\\n\\n\\n\\n\\n\\t\\t\\t\\t\\t+ Ver todas as categorias \\n\\t\\t\\t\\t\\t\\n\\n\\n\\n\\n\\nAlimentos e Bebidas\\nArtigos Diversos\\nAutos, Peças e Acessórios\\nBebês\\nBrinquedos, Jogos e Games\\nCama, Mesa e Banho\\nCasa e Jardim\\nCD, DVD e Blu-Ray\\nCine e Foto\\nConstrução\\nEletrodomésticos\\nEletrônicos\\nEsporte e Lazer\\n\\n\\n\\n\\nFarmácia e Saúde\\nIndústria e Comércio\\nInformática e Escritório\\nInstrumentos Musicais\\nJoalheria, Tabacaria e Presentes\\nLivraria\\nModa e Acessórios\\nPapelaria\\nPerfumaria e Cosméticos\\nPet Shop\\nCelulares e Telefones\\nUtilidades Domésticas\\n[+] Ver todas as categorias\\n\\n\\n\\n\\n\\n\\n \\n\\n\\n\\n\\n\\nVocê está em:&nbsp\\n\\n JáCotei\\n\\n\\n\\n\\n\\n\\nTelefonia\\n\\n\\n\\n\\n\\n\\nCelular\\n\\n\\n\\n\\n\\n\\n\\n\\n\\n\\n\\n\\n\\n\\n\\n\\nCriar um alerta de preço\\n\\n\\n\\nReceba um e-mail quando o produto ficar com o preço que você escolher:\\n\\nPreço atual: R$ 6.599,00\\n\\n\\n\\n\\nPreço desejado:\\nClique para alterar\\n\\n\\n\\n\\n\\n\\n\\n\\n\\n\\n1%\\nRedução desejada \\n99%\\n\\n\\n\\n\\n\\n\\n\\n\\nExcluir alerta\\nCriar Alerta\\n\\n\\n\\n\\n\\n\\n\\n\\n\\nprecoOriginalModal = parseFloat(6599).toFixed(2);\\nprecoAtualModal = 0;\\nporcentagemDescontoModal = 10;\\n\\n$(document).ready(function () {\\n\\n\\t// simula o change ao perder o foco para calcular os valores digitados\\n\\t$(\\'#preco_desejado_alerta_modal\\').blur(function(){\\n\\t\\t$(\\'#preco_desejado_alerta_modal\\').change();\\n\\t});\\n\\n\\t// ajusta porcemtagem baseado no preco digitado\\n\\t$(\\'#preco_desejado_alerta_modal\\').change(function(){\\n\\n\\t\\t// pega dado digitado\\n\\t\\tvalorDigitado = $(this).val();\\n\\n\\t\\t// prepara dados digitados\\n\\t\\tvalorDigitado = valorDigitado.replace(\\'R$ \\', \\'\\');\\n\\t\\tvalorDigitado = valorDigitado.replace(\\'.\\', \\'\\');\\n\\t\\tvalorDigitado = valorDigitado.replace(\\'.\\', \\'\\');\\n\\t\\tvalorDigitado = valorDigitado.replace(\\',\\', \\'.\\');\\n\\n\\t\\t// calcula uma nova porcentagem e atribui o valor\\n\\t\\tporcentagemDescontoModal = valorPorcentagem(precoOriginalModal, valorDigitado);\\n\\n\\t\\t// verifica limites\\n\\t\\tif (porcentagemDescontoModal < 1){\\n\\t\\t\\tporcentagemDescontoModal = 1;\\n\\t\\t}\\n\\t\\tif (porcentagemDescontoModal > 99){\\n\\t\\t\\tporcentagemDescontoModal = 99;\\n\\t\\t}\\n\\n\\t\\tvalorAlerta = $(\\'#preco_desejado_alerta_modal\\').val();\\n\\t\\tvalorAlerta = valorAlerta.replace(\\'R$ \\', \\'\\');\\n\\t\\tvalorAlerta = valorAlerta.replace(\\'.\\', \\'\\');\\n\\t\\tvalorAlerta = valorAlerta.replace(\\',\\', \\'.\\');\\n\\t\\tprecoAtualModal = valorAlerta;\\n\\t\\t// chama a funcao core para atualizar dados\\n\\t\\t//$(\\'#price-range_modal\\').val(porcentagemDescontoModal).change();\\n\\t});\\n\\n\\t// ajusta preco baseado no slide\\n\\t$(\\'#price-range_modal\\').change(function(){\\n\\t\\t// label\\n\\t\\t$(\\'#pctResultModal\\').text(\\'(\\'+$(this).val()+\\'%)\\');\\n\\n\\t\\t// calculos\\n\\t\\tpctValor = porcentagemValor($(this).val(), precoOriginalModal);\\n\\t\\tvalor = parseFloat(precoOriginalModal) - parseFloat(pctValor);\\n\\n\\t\\tif (isNaN(valor)){\\n\\t\\t\\tvalor = 0;\\n\\t\\t}\\n\\n\\t\\t// vars atualizaveis\\n\\t\\tprecoAtualModal = valor.toFixed(2);\\n\\t\\tporcentagemDescontoModal = $(this).val();\\n\\n\\t\\t// exibicao\\n\\t\\tputValueInput(\\'preco_desejado_alerta_modal\\', valor);\\n\\t});\\n\\n\\t// ajusta preco baseado no quadro (+)\\n\\t$(\\'.menos_pct_modal\\').click(function(){\\n\\t\\t// pega a porcentagem atual e calcula\\n\\t\\tporcentagemDescontoModal = parseInt(porcentagemDescontoModal) - 10;\\n\\n\\t\\t// verifica limites\\n\\t\\tif (porcentagemDescontoModal < 1){\\n\\t\\t\\tporcentagemDescontoModal = 1;\\n\\t\\t}\\n\\n\\t\\t// chama a funcao core para atualizar dados\\n\\t\\t$(\\'#price-range_modal\\').val(porcentagemDescontoModal).change();\\n\\t});\\n\\n\\t// ajusta preco baseado no quadro (-)\\n\\t$(\\'.mais_pct_modal\\').click(function(){\\n\\t\\t// pega a porcentagem atual e calcula\\n\\t\\tporcentagemDescontoModal = parseInt(porcentagemDescontoModal) + 10;\\n\\n\\t\\t// verifica limites\\n\\t\\tif (porcentagemDescontoModal > 99){\\n\\t\\t\\tporcentagemDescontoModal = 99;\\n\\t\\t}\\n\\n\\t\\t// chama a funcao core para atualizar dados\\n\\t\\t$(\\'#price-range_modal\\').val(porcentagemDescontoModal).change();\\n\\t});\\n\\n\\t// salva o alerta\\n\\t$(\\'#criar_alerta_modal\\').click(function(){\\n\\n\\t\\tif ($.cookie(\\'user\\')) {\\n\\t\\t\\tvar produtoId \\t\\t= \\'15920470\\';\\n\\t\\t\\tvar lojaId \\t\\t\\t= 0; // qualquer loja\\n\\t\\t\\tvar valorProduto\\t= \\'6599\\';\\n\\t\\t\\tvar menorPreco \\t\\t= \\'6599\\';\\n\\t\\t\\tvar valorAlerta\\t\\t= precoAtualModal;\\n\\n\\t\\t\\tvalorProduto = parseFloat(valorProduto);\\n\\t\\t\\tmenorPreco = parseFloat(menorPreco);\\n\\t\\t\\tvalorAlerta = parseFloat(valorAlerta);\\n\\n\\t\\t\\tif (isNaN(valorProduto)){\\n\\t\\t\\t\\tvalorProduto = 0;\\n\\t\\t\\t}\\n\\t\\t\\tif (isNaN(menorPreco)){\\n\\t\\t\\t\\tmenorPreco = 0;\\n\\t\\t\\t}\\n\\t\\t\\tif (isNaN(valorAlerta) || valorAlerta == 0 || valorAlerta == \\'\\'){\\n\\t\\t\\t\\tvalorAlerta = $(\\'#preco_desejado_alerta_modal\\').val();\\n\\t\\t\\t\\tvalorAlerta = valorAlerta.replace(\\'R$ \\', \\'\\');\\n\\t\\t\\t\\tvalorAlerta = valorAlerta.replace(\\'.\\', \\'\\');\\n\\t\\t\\t\\tvalorAlerta = valorAlerta.replace(\\',\\', \\'.\\');\\n\\n\\t\\t\\t}\\n\\n\\t\\t\\tretorno = adicionarAlertaPreco(lojaId, produtoId, valorProduto, menorPreco, valorAlerta);\\n\\t\\t}else{\\n\\t\\t\\tlocalStorage.setItem(\\'alerta_preco_prod_id\\', \\'15920470\\');\\n\\t\\t\\tlocalStorage.setItem(\\'alerta_preco_prod_valor\\', precoAtualModal);\\n\\t\\t\\t$(\\'.click-login-2015\\').click();\\n\\t\\t}\\n\\n\\t});\\n\\n\\t// excluir o alerta\\n\\t$(\\'#excluir_alerta_modal\\').click(function(){\\n\\t\\tif ($.cookie(\\'user\\')) {\\n\\t\\t\\tvar produtoId \\t= \\'15920470\\';\\n\\t\\t\\tretorno = excluirAlertaPreco(produtoId);\\n\\t\\t}else{\\n\\t\\t\\t$(\\'.click-login-2015\\').click();\\n\\t\\t}\\n\\t});\\n\\n\\tif ($.cookie(\\'user\\')) {\\n    \\t// se tiver na listagem\\n    \\tvar alerta_preco_prod_id = localStorage.getItem(\\'alerta_preco_prod_id\\');\\n    \\tlocalStorage.removeItem(\\'alerta_preco_prod_id\\');\\n\\tconsole.log(\\'jacoteiM\\');\\n    \\tif (parseInt(alerta_preco_prod_id) > 0){\\n    \\t\\tprecoAtualModal = localStorage.getItem(\\'alerta_preco_prod_valor\\');\\n    \\t\\tlocalStorage.removeItem(\\'alerta_preco_prod_valor\\');\\n    \\t\\t$(\\'#criar_alerta_modal\\').click();\\n    \\t}\\n\\t};\\n\\n\\t// inicializa slider com valores\\n\\t$(\\'#price-range_modal\\').val(porcentagemDescontoModal).change();\\n\\n});\\n\\n\\n$(window).resize(function() {\\n\\tvar tela_verifica = window.innerWidth;\\n\\t\\tif(tela_verifica <=767){\\n\\t\\t\\t$(\\'#usu-deslogado .entrar-logar\\').val(\"Entrar\");\\n\\t\\t}else{\\n\\t\\t\\t$(\\'#usu-deslogado .entrar-logar\\').val(\"Faça login ou cadastre-se\");\\n\\t\\t}\\n});\\n\\n\\n\\n\\n\\n\\n\\n\\n\\nIPhone 11 Pro Max Apple 64GB 6.5 Desbloqueado Prata\\n(15920470)\\n\\n\\n        \\tMarca:\\n            \\n\\t\\t\\t\\tApple            \\n\\n\\n\\t\\t            \\tComparando preço de IPhone 11 Pro Max Apple 64GB 6.5\" Desbloqueado Prata em\\n\\t\\t            \\t8 lojas \\n\\n\\n\\n\\nà vista\\n\\nDe R$ 6.599,00\\n\\n\\nAté R$ 7.799,00\\n\\n\\na prazo\\n\\n\\nDe\\n\\nR$ 6.598,92\\t\\t\\t\\t\\t\\n(12x de R$ 549,91)\\n\\n\\n\\n\\nAté\\n\\nR$ 7.799,00\\t\\t        \\t\\n(10x de R$ 779,90)\\n\\n\\n\\n\\n\\n\\n\\nSalvo na Lista de Desejos\\n\\n\\n\\n\\nSalvar na Lista de Desejos\\n\\n\\n\\nCriar um Alerta de Preços\\n\\n\\n\\n\\n\\n\\n\\n\\t\\t\\t$(document).ready(function(){\\n\\n\\t\\t\\t\\t// Fixa topo\\n\\t\\t\\t\\t$(window).scroll(function() {\\n\\t\\t\\t\\t\\tposicaoDivCompara = $(\\'#container_ordenacao\\').offset().top ;\\n\\t\\t\\t\\t\\tposicaoScroll = $(window).scrollTop();\\n\\t\\t\\t\\t\\tif ( posicaoScroll>= posicaoDivCompara ) {\\n\\t\\t\\t\\t\\t\\t$(\\'#menu_fixado\\').addClass(\\'fixar_menu_novo\\');\\n\\t\\t\\t\\t\\t} else {\\n\\t\\t\\t\\t\\t\\t$(\\'#menu_fixado\\').removeClass(\\'fixar_menu_novo\\');\\n\\t\\t\\t\\t\\t};\\n\\t\\t\\t\\t});\\n\\t\\t\\t\\t// menu fixo - tela\\n\\n\\t\\t\\t\\t$(window).scroll(function(){\\n\\t\\t\\t\\t\\tposicaofertas = $(\\'#secao_produtos\\').offset().top;\\n\\t\\t\\t\\t\\tposicaoGrafico = $(\\'#grafico\\').offset().top;\\n\\t\\t\\t\\t\\tposicaoDescricao = $(\\'#descricao\\').offset().top;\\n\\t\\t\\t\\t\\tposicaoAvaliacoes = $(\\'#avaliacoes\\').offset().top;\\n\\t\\t\\t\\t\\tposicaofooter = $(\\'footer\\').offset().top;\\n\\n\\t\\t\\t\\t\\tposicaoScroll34= $(window).scrollTop();\\n\\n\\t\\t\\t\\t\\tif(posicaoScroll34 >= posicaofertas && posicaoScroll34 <= posicaoGrafico -100){\\n\\t\\t\\t\\t\\t\\t$(\\'#precos_menu\\').addClass(\\'active_menu_section\\');\\n\\t\\t\\t\\t\\t\\t$(\\'#rolagem_precos_menu\\').addClass(\\'active_menu_section\\');\\n\\t\\t\\t\\t\\t}else{\\n\\t\\t\\t\\t\\t\\t$(\\'#precos_menu\\').removeClass(\\'active_menu_section\\');\\n\\t\\t\\t\\t\\t\\t$(\\'#rolagem_precos_menu\\').removeClass(\\'active_menu_section\\');\\n\\t\\t\\t\\t\\t}\\n\\n\\t\\t\\t\\t\\tif(posicaoScroll34 >= posicaoGrafico && posicaoScroll34 <= posicaoDescricao -200 ){\\n\\t\\t\\t\\t\\t\\t$(\\'#grafico_menu_fixo\\').addClass(\\'active_menu_section\\');\\n\\t\\t\\t\\t\\t\\t$(\\'#rolagem_grafico_menu\\').addClass(\\'active_menu_section\\');\\n\\t\\t\\t\\t\\t}else{\\n\\t\\t\\t\\t\\t\\t$(\\'#grafico_menu_fixo\\').removeClass(\\'active_menu_section\\');\\n\\t\\t\\t\\t\\t\\t$(\\'#rolagem_grafico_menu\\').removeClass(\\'active_menu_section\\');\\n\\t\\t\\t\\t\\t}\\n\\n\\t\\t\\t\\t\\tif(posicaoScroll34 >= posicaoDescricao && posicaoScroll34 <= posicaoAvaliacoes -250 ){\\n\\t\\t\\t\\t\\t\\t$(\\'#descricao_menu_fixo\\').addClass(\\'active_menu_section\\');\\n\\t\\t\\t\\t\\t\\t$(\\'#rolagem_descricao_menu\\').addClass(\\'active_menu_section\\');\\n\\t\\t\\t\\t\\t}else{\\n\\t\\t\\t\\t\\t\\t$(\\'#descricao_menu_fixo\\').removeClass(\\'active_menu_section\\');\\n\\t\\t\\t\\t\\t\\t$(\\'#rolagem_descricao_menu\\').removeClass(\\'active_menu_section\\');\\n\\t\\t\\t\\t\\t}\\n\\n\\t\\t\\t\\t\\tvar poisi =$(window).scrollTop();\\n\\t\\t\\t\\t\\tif( poisi >= posicaoAvaliacoes){\\n\\t\\t\\t\\t\\t\\t$(\\'#avaliacoes_menu_fixo\\').addClass(\\'active_menu_section\\');\\n\\t\\t\\t\\t\\t\\t$(\\'#avaliacoes_menu_fixo_mobile\\').addClass(\\'active_menu_section\\');\\n\\t\\t\\t\\t\\t}else{\\n\\t\\t\\t\\t\\t\\t$(\\'#avaliacoes_menu_fixo\\').removeClass(\\'active_menu_section\\');\\n\\t\\t\\t\\t\\t\\t$(\\'#avaliacoes_menu_fixo_mobile\\').removeClass(\\'active_menu_section\\');\\n\\t\\t\\t\\t\\t}\\n\\t\\t\\t\\t});\\n\\n\\t\\t\\t});\\n\\t\\t\\t\\n\\n\\n\\n\\n\\n\\n\\n\\t\\t\\t    Publicidade\\n\\t\\t\\t\\n\\n\\n\\n\\n\\t$(function () {\\n\\t  $(\\'[data-toggle=\"tooltip\"]\\').tooltip()\\n\\t});\\n\\n    $(document).ready(function() {\\n    \\t\\n        // salva na lista de desejos\\n    \\t$(\\'.btn_lista_desejos\\').click(function(){\\n    \\t\\tif ($.cookie(\\'user\\')) {\\n    \\t\\t\\tvar produtoId \\t\\t= \\'15920470\\';\\n    \\t\\t\\tvar valorProduto\\t= \\'6599\\';\\n\\n        \\t\\tif (valorProduto == \\'\\'){\\n        \\t\\t\\tvalorProduto = \\'0,00\\';\\n        \\t\\t}\\n\\n    \\t\\t\\tretorno = adicionarListaDesejos(produtoId, valorProduto);\\n    \\t\\t\\t\\n    \\t\\t}else{\\n        \\t\\t// coloca o produto na listagem para abrir automaticamente\\n    \\t\\t\\tlocalStorage.setItem(\\'lista_desejo_prod_id\\', \\'15920470\\');\\n    \\t\\t\\t$(\\'.click-login-2015\\').click();\\n    \\t\\t}\\n    \\t\\t$(\\'#salva_mobile_menu_fixo\\').removeClass(\\'btn_lista_desejos\\');\\n    \\t\\t$(\\'#salva_mobile_menu_fixo\\').addClass(\\'btn_deletar_lista_desejos\\');\\n        });\\n\\n    \\tif ($.cookie(\\'user\\')) {\\n\\t    \\t// se tiver na listagem\\n\\t    \\tvar lista_desejo_prod_id = localStorage.getItem(\\'lista_desejo_prod_id\\');\\n\\t    \\tlocalStorage.removeItem(\\'lista_desejo_prod_id\\');\\n\\t    \\tif (parseInt(lista_desejo_prod_id) > 0){\\n\\t    \\t\\t$(\\'#btn_lista_desejos\\').click();\\n\\t    \\t}\\n    \\t};\\n    \\t\\n        // retira da lista de desejos\\n        $(\\'.btn_deletar_lista_desejos\\').click(function(){\\n\\n        \\tif ($.cookie(\\'user\\')) {\\n            \\tvar produtoId \\t\\t= \\'15920470\\';\\n        \\t\\tretorno = excluirListaDesejos(produtoId);\\n        \\t}else{\\n    \\t\\t\\t$(\\'.click-login-2015\\').click();\\n    \\t\\t}\\n    \\t\\t$(\\'#salva_mobile_menu_fixo\\').addClass(\\'btn_lista_desejos\\');\\n    \\t\\t$(\\'#salva_mobile_menu_fixo\\').removeClass(\\'btn_deletar_lista_desejos\\');\\n        });\\n    });\\n\\n    function listaDesejoJaCadastrado(){\\n    \\t$(\\'.lista_nao_salva\\').hide();\\n\\t\\t$(\\'.lista_salva\\').show();\\n\\t\\t$(\\'#salva_mobile_menu_fixo\\').removeClass(\\'cinza_apagado\\');\\n\\t\\t$(\\'#salva_mobile_menu_fixo\\').removeClass(\\'btn_lista_desejos\\');\\n\\t\\t$(\\'#salva_mobile_menu_fixo,.lista_salva_mobile\\').addClass(\\'laranja_padrao\\');\\n\\n\\t\\t$(\\'#salva_mobile_menu_fixo span\\').text(\\'Salvo\\');\\n    }\\n\\n\\n\\n\\n\\n\\n\\n\\n\\n\\n\\nIPhone 11 Pro Max Apple 64GB 6.5\" Desbloqueado Prata\\t\\t\\t                (15920470)\\n\\n\\n\\nà vista\\nDe R$ \\n\\t    \\t\\t\\n\\t    \\t\\t\\t6.599,00\\t    \\t\\t\\n\\nAté\\n\\t    \\t\\tR$ 7.799,00\\n\\n\\n\\na prazo\\n\\n\\n\\t    \\t\\t\\t12x de R$ 549,91\\t    \\t\\t\\n\\nAté\\n\\t    \\t\\t\\n\\t    \\t\\t\\t10x de R$ 779,90\\t    \\t\\t\\n\\n\\n\\n\\nem \\n\\t    \\t\\t\\n\\t    \\t\\t\\t8 lojas\\t    \\t\\t\\n\\n\\n\\n\\n\\nCriar Alerta de Preços\\n\\n\\n\\n\\nAlerta de Preços criado\\n\\n\\n\\n\\n\\n\\n\\n\\n\\n\\n\\n\\n\\nPreços\\n\\n\\n\\n\\n\\nGráfico de Preços\\n\\n\\n\\n\\n\\nDescrição do Produto\\n\\n\\n\\n\\n\\nSalvar na Lista de Desejos\\n\\n\\n\\nSalvo na Lista de Desejos\\n\\n\\n\\n\\n\\nCriar um Alerta de Preços\\n\\n\\n\\n\\n\\n\\n\\n\\n\\n\\n\\n\\nPreços\\n\\n\\n\\n\\n\\n\\n\\n\\nGráfico de Preços\\n\\n\\n\\n\\n\\n\\n\\n\\n\\nDescrição do Produto\\n\\n\\n\\n\\n\\n\\n\\nSalvar na Lista de Desejos\\n\\n\\n\\nSalvo na Lista de Desejos\\n\\n\\n\\n\\n\\nCriar um Alerta de Preços\\n\\n\\n\\n\\n\\n\\n\\n\\n\\n\\n\\n\\n\\n\\n\\n\\n\\n\\nPreços\\n\\n\\n\\n\\n\\n\\n\\nHistórico\\n\\n\\n\\n\\n\\n\\n\\nDescrição\\n\\n\\n\\n\\n\\n\\n\\nSalvar\\n\\n\\n\\nSalvo\\n\\n\\n\\n\\n\\n\\n\\n\\n\\n\\n\\n$(document).ready(function(){\\n\\t\\n\\t\\n});\\n\\n\\n\\n\\nOrdenar por:\\n\\n\\n\\t\\t\\t\\tMenor preço à vista\\t\\t\\t\\n\\n\\n\\n\\n\\n\\n\\nMenor preço à vista\\n\\n\\nMaior preço à vista\\n\\n\\nMenor preço a prazo\\n\\n\\nMaior preço a prazo\\n\\n\\nMenor número de parcelas\\n\\n\\nMaior número de parcelas\\n\\n\\nMenor valor das parcelas\\n\\n\\nMaior valor das parcelas\\n\\n\\n\\n\\n\\n\\n\\n\\n\\nOrdenar\\n\\n\\n\\nMenor preço à vista\\n\\n\\nMaior preço à vista\\n\\n\\nMenor preço a prazo\\n\\n\\nMaior preço a prazo\\n\\n\\nMenor número de parcelas\\n\\n\\nMaior número de parcelas\\n\\n\\nMenor valor das parcelas\\n\\n\\nMaior valor das parcelas\\n\\n\\n\\n\\n\\n\\n/*\\n\\t\\t\\t.modalclienteVolta {\\n\\t\\t\\t\\tmax-width: 400px;\\n\\t\\t\\t\\ttext-align: center;\\n\\t\\t\\t\\tbackground: #fff;\\n\\t\\t\\t\\tborder-radius: 10px;\\n\\t\\t\\t\\tbox-shadow: 1px 3px 10px #0000001f;\\n\\t\\t\\t\\twidth: 100%;\\n\\t\\t\\t\\tpadding: 24px;\\n\\t\\t\\t\\topacity: 0;\\n\\t\\t\\t\\tposition: absolute;\\n\\t\\t\\t\\tz-index: 900;\\n\\t\\t\\t\\tleft: 0;\\n\\t\\t\\t\\tright: 0;\\n\\t\\t\\t        margin: 0 auto;\\n\\t\\t\\t\\ttop: 20%;\\n\\t\\t\\t\\tvisibility: hidden;\\n\\t\\t\\t\\ttransition: transform .3s ease-out;\\n\\t\\t\\t\\ttransform: translate(0,-25%);\\n\\t\\t\\t\\t\\n\\t\\t\\t}\\n\\n\\t\\t\\t.modalclienteVolta h2 {\\n\\t\\t\\t\\tcolor: #e45d00;\\n\\t\\t\\t\\tfont-weight: 900;\\n\\t\\t\\t\\tfont-family: Montserrat-Bold;\\n\\t\\t\\t}\\n\\n\\t\\t\\t.modalclienteVolta p {\\n\\t\\t\\t\\tfont-weight: 600; \\n\\t\\t\\t\\tcolor: #e45d00;\\n\\t\\t\\t\\tmax-width: 260px;\\n\\t\\t\\t\\tmargin: 30px auto 30px auto;\\n\\t\\t\\t}\\n\\n\\t\\t\\t.modalclienteVolta p span {\\n\\t\\t\\t\\tfont-family: Montserrat-Bold;\\n\\t\\t\\t}\\n\\n\\t\\t\\tspan.clouseModal {\\n\\t\\t\\t\\tcolor: transparent;\\n\\t\\t\\t\\tposition: relative;\\n\\t\\t\\t}\\n\\n\\t\\t\\tspan.clouseModal {\\n\\t\\t\\t\\tposition: absolute;\\n\\t\\t\\t\\twidth: 35px;\\n\\t\\t\\t\\theight: 35px;\\n\\t\\t\\t\\tbackground: #e45d00;\\n\\t\\t\\t\\tborder-radius: 50px;\\n\\t\\t\\t\\tright: 30px;\\n\\t\\t\\t\\tcursor: pointer;\\n\\t\\t\\t}\\n\\n\\t\\t\\tspan.clouseModal:after {\\n\\t\\t\\t\\tcontent: \\'\\';\\n\\t\\t\\t\\tdisplay: block;\\n\\t\\t\\t\\tposition: absolute;\\n\\t\\t\\t\\twidth: 4px;\\n\\t\\t\\t\\tbackground: #fff;\\n\\t\\t\\t\\theight: 20px;\\n\\t\\t\\t\\tz-index: 2;\\n\\t\\t\\t\\tleft: 17px;\\n\\t\\t\\t\\ttop: 8px;\\n\\t\\t\\t\\tborder-radius: 30px;\\n\\t\\t\\t\\ttransform: rotate(45deg);\\n\\t\\t\\t}\\n\\n\\t\\t\\tspan.clouseModal:before {\\n\\t\\t\\t\\tcontent: \\'\\';\\n\\t\\t\\t\\tdisplay: block;\\n\\t\\t\\t\\tposition: absolute;\\n\\t\\t\\t\\t width: 3px;\\n\\t\\t\\t\\twidth: 0.3rem;\\n\\t\\t\\t\\tbackground: #fff;\\n\\t\\t\\t\\theight: 15px;\\n\\t\\t\\t\\tz-index: 2;\\n\\t\\t\\t\\tleft: 11px;\\n\\t\\t\\t\\ttop: 5px;\\n\\t\\t\\t\\tborder-radius: 30px;\\n\\t\\t\\t\\ttransform: rotate(-45deg);\\n\\t\\t\\t}\\n\\n\\t\\t\\tspan.clouseModal:before {\\n\\t\\t\\t\\tcontent: \\'\\';\\n\\t\\t\\t\\tdisplay: block;\\n\\t\\t\\t\\tposition: absolute;\\n\\t\\t\\t\\twidth: 3px;\\n\\t\\t\\t\\tbackground: #fff;\\n\\t\\t\\t\\theight: 20px;\\n\\t\\t\\t\\tz-index: 2;\\n\\t\\t\\t\\tleft: 17px;\\n\\t\\t\\t\\ttop: 8px;\\n\\t\\t\\t\\tborder-radius: 30px;\\n\\t\\t\\t\\ttransform: rotate(-45deg);\\n\\t\\t\\t}\\n\\n\\t\\t\\tbutton.btn__modal {\\n\\t\\t\\t\\twidth: 90%;\\n\\t\\t\\t\\tbackground: #e45e24;\\n\\t\\t\\t\\tdisplay: block;\\n\\t\\t\\t\\tmargin: 0 auto;\\n\\t\\t\\t\\tpadding: 1px;\\n\\t\\t\\t\\tborder-radius: 10px;\\n\\t\\t\\t\\tcolor: #fff !important;\\n\\t\\t\\t\\tfont-size: 24px;\\n\\t\\t\\t\\tfont-weight: 900;\\n\\t\\t\\t\\ttext-decoration: none;\\n\\t\\t\\t\\tborder: 1px solid transparent;\\n\\t\\t\\t\\ttransition: .3s;\\n\\t\\t\\t\\tposition: relative;\\n\\n\\t\\t\\t}\\n\\n\\t\\t\\tbutton.btn__modal:hover {\\n\\t\\t\\t\\tborder: 1px solid #e45e24;\\n\\t\\t\\t\\tbackground: transparent;\\n\\t\\t\\t\\ttransition: .3s;\\n\\t\\t\\t\\tcolor: #e45e24 !important;\\n\\t\\t\\t}\\n\\n\\t\\t\\tbutton.btn__modal:after {\\n\\t\\t\\t\\tcontent: \\'\\';\\n\\t\\t\\t\\tdisplay: block;\\n\\t\\t\\t\\twidth: 4px;\\n\\t\\t\\t\\theight: 15px;\\n\\t\\t\\t\\tbackground: #fff;\\n\\t\\t\\t\\ttransform: rotate(45deg);\\n\\t\\t\\t\\tposition: absolute;\\n\\t\\t\\t\\tright: 50px;\\n\\t\\t\\t\\ttop: 16px;\\n\\t\\t\\t\\tborder-radius: 10px;\\n\\t\\t\\t}\\n\\n\\t\\t\\tbutton.btn__modal:before {\\n\\t\\t\\t\\tcontent: \\'\\';\\n\\t\\t\\t\\tdisplay: block;\\n\\t\\t\\t\\twidth: 4px;\\n\\t\\t\\t\\theight: 15px;\\n\\t\\t\\t\\tbackground: #fff;\\n\\t\\t\\t\\ttransform: rotate(-45deg);\\n\\t\\t\\t\\tposition: absolute;\\n\\t\\t\\t\\tright: 50px;\\n\\t\\t\\t\\ttop: 5px;\\n\\t\\t\\t\\tborder-radius: 10px;\\n\\t\\t\\t}\\n\\n\\t\\t\\tbutton.btn__modal:hover:after,\\n\\t\\t\\tbutton.btn__modal:hover:before {\\n\\t\\t\\t\\tbackground: #e45e24;\\n\\t\\t\\t}\\n\\n\\t\\t\\t.modalclienteVolta h2:after {\\n\\t\\t\\t\\tcontent: \\'\\';\\n\\t\\t\\t\\tdisplay: block;\\n\\t\\t\\t\\twidth: 100%;\\n\\t\\t\\t\\theight: 1px;\\n\\t\\t\\t\\tbackground: #00000040;\\n\\t\\t\\t\\tleft: 0px;\\n\\t\\t\\t\\tright: 0;\\n\\t\\t\\t\\ttop: 74px;\\n\\t\\t\\t\\tmargin: 0 auto;\\n\\t\\t\\t\\ttext-align: center;\\n\\t\\t\\t\\tposition: absolute;\\n\\t\\t\\t}\\n\\n\\t\\t\\t.modalclienteVolta.addModal {\\n\\t\\t\\t\\topacity: 1;\\n                                visibility: visible;\\n                                transition: transform .3s ease-out;   \\n                             \\ttransform: translate(0,0%);\\n\\n\\t\\t\\t}\\n\\t\\t\\t.fundoModal{\\n       \\t\\t\\t\\topacity: 0;\\n        \\t\\t\\tvisibility: hidden;\\n        \\t\\t\\t\\n      \\t\\t\\t}\\n      \\t\\t\\t.fundoModal:before {\\n        \\t\\t\\tcontent: \"\";\\n        \\t\\t\\tdisplay: block;\\n        \\t\\t\\twidth: 100%;\\n        \\t\\t\\theight: 100vh;\\n        \\t\\t\\tbackground: #0009;\\n        \\t\\t\\ttop: 0;\\n        \\t\\t\\tleft: 0;\\n        \\t\\t\\tright: 0;\\n        \\t\\t\\tposition: absolute;\\n        \\t\\t\\tz-index: 99;\\n      \\t\\t\\t}\\n      \\t\\t\\t.fundoModal.activeModalV{\\n        \\t\\t\\topacity: 1;\\n        \\t\\t\\tvisibility: visible;\\n        \\t\\t\\t\\n      \\t\\t\\t}\\n*/\\n\\t\\t\\n\\n\\n\\n\\n\\n\\n\\n\\n\\n\\n\\n\\niPhone 11 Pro Max 64GB Prateado iOS 4G + Wi-Fi Câmera 12M\\t\\t\\t\\t\\t\\t\\n\\n\\n\\n\\n\\n\\n\\n\\n\\n \\n\\n\\n\\t\\t\\t\\t\\t\\tNo JáCotei desde 01/2002\\t\\t\\t\\t\\t\\n\\n\\n\\n \\n\\t\\t\\t\\t\\t\\tValor atualizado\\n\\t\\t\\t\\t\\t\\t\\n\\nà vista\\n\\n\\nR$ 6.599,00\\n\\n\\n\\n\\n\\n\\n\\nà vista\\n\\nR$ 6.599,00\\n\\n\\n Valor atualizado\\n\\t\\t\\t\\t\\t\\t\\n\\n\\n Valor atualizado\\n\\t\\t\\t\\t\\t\\t\\n\\na prazo\\n\\naté\\nou\\n\\n12x de \\nR$ 549,91\\nTotal:\\n\\nR$ 6.598,92 \\n\\n\\n\\n\\n\\n\\n\\n\\nSem estoque.\\n\\t\\t\\t\\t\\t\\t\\n\\n\\n\\n\\n\\nUse o cupom\\n\\n\\t\\t\\t\\t\\t\\t\\t\\tcupom-code\\n\\t\\t\\t\\t\\t\\t\\t\\n\\n\\n\\n\\t\\t\\t\\t\\t\\t\\t\\tEntrar  na loja \\n\\t\\t\\t\\t\\t\\t\\t\\n\\n\\n\\n\\n\\n\\n\\n\\n\\n\\n\\n\\nLoja não participa do JáComprei JáGanhei\\n\\n\\n\\n\\n\\n\\n\\n\\n\\n\\n\\n\\n\\n\\niPhone 11 Pro Max 64GB Prateado iOS 4G + Wi-Fi Câmera 12M\\t\\t\\t\\t\\t\\t\\n\\n\\n\\n\\n\\n\\n\\n\\n\\n \\n\\n\\n\\t\\t\\t\\t\\t\\tNo JáCotei desde 01/2002\\t\\t\\t\\t\\t\\n\\n\\n\\n \\n\\t\\t\\t\\t\\t\\tValor atualizado\\n\\t\\t\\t\\t\\t\\t\\n\\nà vista\\n\\n\\nR$ 6.599,00\\n\\n\\n\\n\\n\\n\\n\\nà vista\\n\\nR$ 6.599,00\\n\\n\\n Valor atualizado\\n\\t\\t\\t\\t\\t\\t\\n\\n\\n Valor atualizado\\n\\t\\t\\t\\t\\t\\t\\n\\na prazo\\n\\naté\\nou\\n\\n12x de \\nR$ 549,91\\nTotal:\\n\\nR$ 6.598,92 \\n\\n\\n\\n\\n\\n\\n\\n\\nSem estoque.\\n\\t\\t\\t\\t\\t\\t\\n\\n\\n\\n\\n\\nUse o cupom\\n\\n\\t\\t\\t\\t\\t\\t\\t\\tcupom-code\\n\\t\\t\\t\\t\\t\\t\\t\\n\\n\\n\\n\\t\\t\\t\\t\\t\\t\\t\\tEntrar  na loja \\n\\t\\t\\t\\t\\t\\t\\t\\n\\n\\n\\n\\n\\n\\n\\n\\n\\n\\n\\n\\nLoja não participa do JáComprei JáGanhei\\n\\n\\n\\n\\n\\n\\n\\n\\n\\n\\n\\n\\n\\n\\nApple iPhone 11 Pro Max de 64 GB  Prateado\\t\\t\\t\\t\\t\\t\\n\\n\\n\\n\\n\\n\\n\\n\\n\\n \\n\\n\\n\\t\\t\\t\\t\\t\\tNo JáCotei desde 06/2014\\t\\t\\t\\t\\t\\n\\n\\n\\n \\n\\t\\t\\t\\t\\t\\tValor atualizado\\n\\t\\t\\t\\t\\t\\t\\n\\nà vista\\n\\n\\nR$ 6.839,10\\n\\n\\n\\n\\n\\n\\n\\nà vista\\n\\nR$ 6.839,10\\n\\n\\n Valor atualizado\\n\\t\\t\\t\\t\\t\\t\\n\\n\\n Valor atualizado\\n\\t\\t\\t\\t\\t\\t\\n\\na prazo\\n\\naté\\nou\\n\\n12x de \\nR$ 633,25\\nTotal:\\n\\nR$ 7.599,00 \\n\\n\\n\\n\\n\\n\\n\\n\\nSem estoque.\\n\\t\\t\\t\\t\\t\\t\\n\\n\\n\\n\\n\\nUse o cupom\\n\\n\\t\\t\\t\\t\\t\\t\\t\\tcupom-code\\n\\t\\t\\t\\t\\t\\t\\t\\n\\n\\n\\n\\t\\t\\t\\t\\t\\t\\t\\tEntrar  na loja \\n\\t\\t\\t\\t\\t\\t\\t\\n\\n\\n\\n\\n\\n\\n\\n\\n\\n\\n\\n\\nLoja não participa do JáComprei JáGanhei\\n\\n\\n\\n\\n\\n\\n\\n\\n\\n\\n\\n\\n\\n\\niPhone 11 Pro Max Apple com 64GB, Tela Retina HD de 6,5”, iOS 13, Tripla Câmera Traseira, Resistente à Água e Bateria de Longa Duração - Prateado\\t\\t\\t\\t\\t\\t\\n\\n\\n\\n\\n\\n\\n\\n\\n\\n \\n\\n\\n\\t\\t\\t\\t\\t\\tNo JáCotei desde 01/2002\\t\\t\\t\\t\\t\\n\\n\\n\\n \\n\\t\\t\\t\\t\\t\\tValor atualizado\\n\\t\\t\\t\\t\\t\\t\\n\\nà vista\\n\\n\\nR$ 7.067,07\\n\\n\\n\\n\\n\\n\\n\\nà vista\\n\\nR$ 7.067,07\\n\\n\\n Valor atualizado\\n\\t\\t\\t\\t\\t\\t\\n\\n\\n Valor atualizado\\n\\t\\t\\t\\t\\t\\t\\n\\na prazo\\n\\naté\\nou\\n\\n12x de \\nR$ 633,25\\nTotal:\\n\\nR$ 7.599,00 \\n\\n\\n\\n\\n\\n\\n\\n\\nSem estoque.\\n\\t\\t\\t\\t\\t\\t\\n\\n\\n\\n\\n\\nUse o cupom\\n\\n\\t\\t\\t\\t\\t\\t\\t\\tcupom-code\\n\\t\\t\\t\\t\\t\\t\\t\\n\\n\\n\\n\\t\\t\\t\\t\\t\\t\\t\\tEntrar  na loja \\n\\t\\t\\t\\t\\t\\t\\t\\n\\n\\n\\n\\n\\n\\n\\n\\n\\n\\n\\n\\n\\n\\n                            JáComprei JáGanhei\\n                        \\n\\n1236 milhas\\n\\n\\n\\n\\nou\\n\\n\\n1236 pontos\\n\\n\\n\\nCadastre seu pedido\\n\\n\\n\\n\\n\\n\\n\\n\\n\\n\\n\\n\\n\\n\\n\\niPhone 11 Pro Max Apple com 64GB, Tela Retina HD de 6,5”, iOS 13, Tripla Câmera Traseira, Resistente à Água e Bateria de Longa Duração - Prateado\\t\\t\\t\\t\\t\\t\\n\\n\\n\\n\\n\\n\\n\\n\\n\\n \\n\\n\\n\\t\\t\\t\\t\\t\\tNo JáCotei desde 08/2009\\t\\t\\t\\t\\t\\n\\n\\n\\n \\n\\t\\t\\t\\t\\t\\tValor atualizado\\n\\t\\t\\t\\t\\t\\t\\n\\nà vista\\n\\n\\nR$ 7.067,07\\n\\n\\n\\n\\n\\n\\n\\nà vista\\n\\nR$ 7.067,07\\n\\n\\n Valor atualizado\\n\\t\\t\\t\\t\\t\\t\\n\\n\\n Valor atualizado\\n\\t\\t\\t\\t\\t\\t\\n\\na prazo\\n\\naté\\nou\\n\\n12x de \\nR$ 633,25\\nTotal:\\n\\nR$ 7.599,00 \\n\\n\\n\\n\\n\\n\\n\\n\\nSem estoque.\\n\\t\\t\\t\\t\\t\\t\\n\\n\\n\\n\\n\\nUse o cupom\\n\\n\\t\\t\\t\\t\\t\\t\\t\\tcupom-code\\n\\t\\t\\t\\t\\t\\t\\t\\n\\n\\n\\n\\t\\t\\t\\t\\t\\t\\t\\tEntrar  na loja \\n\\t\\t\\t\\t\\t\\t\\t\\n\\n\\n\\n\\n\\n\\n\\n\\n\\n\\n\\n\\n\\n\\n                            JáComprei JáGanhei\\n                        \\n\\n1236 milhas\\n\\n\\n\\n\\nou\\n\\n\\n1236 pontos\\n\\n\\n\\nCadastre seu pedido\\n\\n\\n\\n\\n\\n\\n\\n\\n\\n\\n\\n\\n\\n\\n\\nIphone 11 Pro Max 64Gb - Prateado\\t\\t\\t\\t\\t\\t\\n\\n\\n\\n\\n\\n\\n\\n\\n\\n \\n\\n\\n\\t\\t\\t\\t\\t\\tNo JáCotei desde 11/2013\\t\\t\\t\\t\\t\\n\\n\\n\\n \\n\\t\\t\\t\\t\\t\\tValor atualizado\\n\\t\\t\\t\\t\\t\\t\\n\\nà vista\\n\\n\\nR$ 7.369,00\\n\\n\\n\\n\\n\\n\\n\\nà vista\\n\\nR$ 7.369,00\\n\\n\\n Valor atualizado\\n\\t\\t\\t\\t\\t\\t\\n\\n\\n Valor atualizado\\n\\t\\t\\t\\t\\t\\t\\n\\na prazo\\nPreço não informado pela loja\\n\\n\\n\\n\\n\\n\\n\\nSem estoque.\\n\\t\\t\\t\\t\\t\\t\\n\\n\\n\\n\\n\\nUse o cupom\\n\\n\\t\\t\\t\\t\\t\\t\\t\\tcupom-code\\n\\t\\t\\t\\t\\t\\t\\t\\n\\n\\n\\n\\t\\t\\t\\t\\t\\t\\t\\tEntrar  na loja \\n\\t\\t\\t\\t\\t\\t\\t\\n\\n\\n\\n\\n\\n\\n\\n\\n\\n\\n\\n\\nLoja não participa do JáComprei JáGanhei\\n\\n\\n\\n\\n\\n\\n\\n\\n\\n\\n\\n\\n\\n\\niPhone 11 Pro Max 64GB Prateado iOS 4G + Wi-Fi Câmera 12M\\t\\t\\t\\t\\t\\t\\n\\n\\n\\n\\n\\n\\n\\n\\n\\n \\n\\n\\n\\t\\t\\t\\t\\t\\tNo JáCotei desde 01/2002\\t\\t\\t\\t\\t\\n\\n\\n\\n \\n\\t\\t\\t\\t\\t\\tValor atualizado\\n\\t\\t\\t\\t\\t\\t\\n\\nà vista\\n\\n\\nR$ 7.599,00\\n\\n\\n\\n\\n\\n\\n\\nà vista\\n\\nR$ 7.599,00\\n\\n\\n Valor atualizado\\n\\t\\t\\t\\t\\t\\t\\n\\n\\n Valor atualizado\\n\\t\\t\\t\\t\\t\\t\\n\\na prazo\\n\\naté\\nou\\n\\n12x de \\nR$ 633,25\\nTotal:\\n\\nR$ 7.599,00 \\n\\n\\n\\n\\n\\n\\n\\n\\nSem estoque.\\n\\t\\t\\t\\t\\t\\t\\n\\n\\n\\n\\n\\nUse o cupom\\n\\n\\t\\t\\t\\t\\t\\t\\t\\tcupom-code\\n\\t\\t\\t\\t\\t\\t\\t\\n\\n\\n\\n\\t\\t\\t\\t\\t\\t\\t\\tEntrar  na loja \\n\\t\\t\\t\\t\\t\\t\\t\\n\\n\\n\\n\\n\\n\\n\\n\\n\\n\\n\\n\\nLoja não participa do JáComprei JáGanhei\\n\\n\\n\\n\\n\\n\\n\\n\\n\\n\\n\\n\\n\\n\\nIphone 11 Pro Max 64Gb - Prateado\\t\\t\\t\\t\\t\\t\\n\\n\\n\\n\\n\\n\\n\\n\\n\\n \\n\\n\\n\\t\\t\\t\\t\\t\\tNo JáCotei desde 03/2010\\t\\t\\t\\t\\t\\n\\n\\n\\n \\n\\t\\t\\t\\t\\t\\tValor atualizado\\n\\t\\t\\t\\t\\t\\t\\n\\nà vista\\n\\n\\nR$ 7.799,00\\n\\n\\n\\n\\n\\n\\n\\nà vista\\n\\nR$ 7.799,00\\n\\n\\n Valor atualizado\\n\\t\\t\\t\\t\\t\\t\\n\\n\\n Valor atualizado\\n\\t\\t\\t\\t\\t\\t\\n\\na prazo\\n\\naté\\nou\\n\\n10x de \\nR$ 779,90\\nTotal:\\n\\nR$ 7.799,00 \\n\\n\\n\\n\\n\\n\\n\\n\\nSem estoque.\\n\\t\\t\\t\\t\\t\\t\\n\\n\\n\\n\\n\\nUse o cupom\\n\\n\\t\\t\\t\\t\\t\\t\\t\\tcupom-code\\n\\t\\t\\t\\t\\t\\t\\t\\n\\n\\n\\n\\t\\t\\t\\t\\t\\t\\t\\tEntrar  na loja \\n\\t\\t\\t\\t\\t\\t\\t\\n\\n\\n\\n\\n\\n\\n\\n\\n\\n\\n\\n\\n\\n\\n                            JáComprei JáGanhei\\n                        \\n\\n4289 milhas\\n\\n\\n\\n\\nou\\n\\n\\n4289 pontos\\n\\n\\n\\nCadastre seu pedido\\n\\n\\n\\n\\n\\n\\n\\n\\n\\n\\n\\n\\n\\tfunction addLocalStorage(id, valor){\\n\\t\\tlocalStorage.setItem(id, valor);\\n\\t}\\n\\n\\t// function shopback ( valor ) {\\n\\t// \\t _st_account = 1298;\\n\\t// \\t _cv_data = {\\'order_id\\': 0, \\'valor\\': valor };\\n\\t// \\t (function () {\\n\\t// \\t  var ss = document.createElement(\\'script\\');\\n\\t// \\t  ss.type = \\'text/javascript\\';\\n\\t// \\t  ss.async = true;\\n\\t// \\t  ss.src = \\'//app.shoptarget.com.br/js/tracking.js\\';\\n\\t// \\t  var sc = document.getElementsByTagName(\\'script\\')[0];\\n\\t// \\t  sc.parentNode.insertBefore(ss, sc);\\n\\t// \\t })();\\n\\t// }\\n\\n\\t$(\".btn-loja\").click(function(){\\n\\n\\t\\t//shopback( $(this).attr(\\'data-produto_preco_formatado\\') );\\n\\n\\t});\\n\\n\\t// $(document).ready(function () {\\n\\t// \\tfunction verificarTamanhoOfertas(){// pegar a altura das divs e mostrar as 5 primeiras\\n\\t// \\t\\t\\t// \\t\\t//padrao_padding = ;\\n\\t// \\t\\taltura_final = altura_padrao_box_ofertas ;//+ padrao_padding;\\n\\n\\t// \\t\\t$(\\'#secao_produtos\\').css(\\'height\\',altura_final);\\n\\t// \\t\\tBotao para mostrar mais ofertas\\n\\t// \\t\\t$(\\'#mostrar_mais_lojas\\').click(function(){\\n\\t// \\t\\t\\t$(\\'#secao_produtos\\').css(\\'height\\',\\'auto\\');\\n\\t// \\t\\t\\t$(this).hide();\\n\\t// \\t\\t});\\n\\t// \\t}\\n\\t\\t\\n\\t//\\tverificarTamanhoOfertas();\\n\\t\\t\\n\\t\\tfunction re_check_tamanho(){\\n\\t\\t\\tvar alturaTotal = null;\\n\\t\\t\\tfor (i=0; i<8;i++){\\n\\t\\t\\t\\tnome_art = \\'.article_\\'+i;\\n\\t\\t\\t\\ttamanhoDiv = $(nome_art).height()\\n\\t\\t\\t\\talturaTotal = alturaTotal + tamanhoDiv;\\n\\t\\t\\t}\\n\\t\\t\\t$(\\'#secao_produtos\\').height(alturaTotal);\\n\\t\\t}\\n\\t\\t$(\\'.loja_nao_participa\\').parent().addClass(\\'ajusteAlturaNaoParticipa\\');\\n\\t\\t// $(\\'.ajusteAlturaNaoParticipa\\').css(\\'max-width\\',\\'190px\\');\\n\\t\\t// $(\\'.ajusteAlturaNaoParticipa\\').css(\\'width\\',\\'100%\\');\\n\\t\\t// modal de cadastro de pontos\\n\\t\\tif($.cookie(\\'user\\')){\\n\\t\\t\\tvar programDisabled = \\'\\';\\n\\t\\t\\t// se clicou no botao de cadastro de pedido\\n\\t\\t\\tif(programDisabled){\\n\\t\\t\\t\\t$(\".abrir_cadastro_pedidos\").click(function(){\\n\\t\\t\\t\\t\\turl  = \\'/user\\';\\n\\t\\t\\t\\t\\tsrc  = \\'\\';\\n\\n\\t\\t\\t\\t\\toffer = \\'.offer_id_\\'+$(this).attr(\\'data-offer_id\\');\\n\\t\\t\\t\\t\\thash = $(offer).attr(\\'href\\');\\n\\n\\t\\t\\t\\t\\tvar hostname = window.location.hostname;\\n\\n\\t\\t\\t\\t\\tif (hostname.indexOf(\".local\") != -1){\\n\\t\\t\\t\\t\\t\\tres = hash.replace(\"https://track2.jacotei.com.br/r?h=\", \"\");\\n\\t\\t\\t\\t\\t\\thost = \"track2.jacotei.com.br\";\\n\\n\\t\\t\\t\\t\\t} else if (hostname.indexOf(\"rc\") != -1){\\n\\t\\t\\t\\t\\t\\tres = hash.replace(\"https://track2.jacotei.com.br/r?h=\", \"\");\\n\\t\\t\\t\\t\\t\\thost = \"track2.jacotei.com.br\";\\n\\t\\t\\t\\t\\t} else {\\n\\t\\t\\t\\t\\t\\tres = hash.replace(\"https://track2.jacotei.com.br/r?h=\", \"\");\\n\\t\\t\\t\\t\\t\\thost = \"track2.jacotei.com.br\";\\n\\t\\t\\t\\t\\t}\\n\\n\\t\\t\\t\\t\\tsrc = \\'https://\\'+host+\\'/cadastro.php?h=\\'+res+\\'&stopo=1\\';\\n\\n\\t\\t\\t\\t\\tconsole.log(src);\\n\\n\\t\\t\\t\\t\\t$.post(url,function(retornoPontos){\\n\\t\\t\\t\\t\\t\\t$(\"#pedido-frame\").attr(\\'src\\', src);\\n\\t\\t\\t\\t\\t\\t$(\\'#pedido-modal\\').modal(\"show\");\\n\\t\\t\\t\\t\\t});\\n\\t\\t\\t\\t});\\n\\t\\t\\t\\t$(\\'.abrir_cadastro_pedidos\\').css(\\'display\\',\\'block\\');\\n\\t\\t\\t\\t$(\\'.verificaLogado_programas\\').addClass(\\'box-jacotei-jacomprei-pontos\\');\\n\\t\\t\\t\\t$(\\'.loja_nao_participa\\').parent().removeClass(\\'box-jacotei-jacomprei-pontos\\');\\n\\t\\t\\t\\t$(\\'.container_hover_logar\\').removeClass(\\'classParticipaPrograma\\');\\n\\t\\t}\\n\\t\\t\\tre_check_tamanho();\\t\\n\\t\\t}else{\\n\\t\\t\\t$(\".button_entrar_loja_click\").click(function(){\\n\\t\\t\\t\\tlocalStorage.setItem(\\'oferta_click\\', $(this).attr(\\'data-oferta_id\\'));\\n\\t\\t\\t\\t$(\\'#login-modal\\').modal(\\'show\\');\\n\\t\\t\\t});\\n\\t\\t\\tre_check_tamanho();\\n\\t\\t}\\n\\n\\t\\t// se foi pra loja abre o cadastro de pedido\\n\\t\\t$(\".button_entrar_loja_click\").click(function(){\\n\\t\\t\\tvar offer = $(this).attr(\\'data-oferta_id\\');\\n\\t\\t\\t//localStorage.setItem(\\'oferta_click\\', offer);\\n\\t\\t\\t// simular click no cadastro de pedidos da oferta\\n\\t\\t\\t$(\".abrir_cadastro_pedidos[data-offer_id=\\'\"+offer+\"\\']\").click();\\n\\n\\n\\t\\t});\\n\\n\\t\\tif($.cookie(\\'user\\')){\\n\\t\\t\\tvar offer = localStorage.getItem(\\'oferta_click\\');\\n\\t\\t\\tlocalStorage.removeItem(\\'oferta_click\\');\\n\\t\\t\\t\\t\\t\\t\\n\\t\\t\\tif (offer){\\n\\t\\t\\t\\t// simular click no cadastro de pedidos da oferta\\n\\t\\t\\t\\tlocalStorage.removeItem(\\'oferta_click\\');\\n\\t\\t\\t\\t$(\".abrir_cadastro_pedidos[data-offer_id=\\'\"+offer+\"\\']\").click();\\n\\t\\t\\t\\n\\t\\t\\t}\\n\\t\\t}\\n\\n\\tvar telaGeral = document.querySelector(\"html\");\\nvar modalVolta = document.querySelector(\".modalclienteVolta\");\\nvar btnFechaModal = document.querySelector(\"span.clouseModal\");\\nvar fundoModal = document.querySelector(\".fundoModal\");\\nvar allBody = document.querySelector(\"body\");\\n//SessionStorage\\n\\n//Executa tempo para abrir Modal\\n\\nvar mouseHover = function() {\\n  \\n\\n  if (!localStorage.getItem(\"leave\")) {\\n    setTimeout(function() {\\n      modalVolta.classList.add(\"addModal\");\\n      fundoModal.classList.add(\"activeModalV\");\\n      allBody.classList.add(\\'modal-open\\');\\n      window.scrollTo(0, 0);\\t\\n      \\n    }, 500);\\n    \\t\\n  }\\n};\\n\\ntelaGeral.addEventListener(\"mouseleave\", mouseHover);\\n\\n//Function para fehcar Modal\\nvar fechaModal = function() {\\n  modalVolta.classList.remove(\"addModal\");\\n  fundoModal.classList.remove(\"activeModalV\");\\n  allBody.classList.remove(\\'modal-open\\');\\n  localStorage.setItem(\"leave\", true);\\n  \\n};\\nbtnFechaModal.addEventListener(\"click\", fechaModal);\\n\\nvar btnAlerta = document.querySelector(\".btn__modal\");\\n\\n//Executa outros Alertas\\nvar outrosAlertas = function() {\\n  console.log(\"ALER OUTRO!!!\");\\n\\n  $(\"#alerta_modal\").modal(\"show\");\\n  fechaModal();\\n};\\n\\nbtnAlerta.addEventListener(\"click\", outrosAlertas);\\n\\n//Executa a cada 5 horas\\nfunction limpastorage() {\\n  setTimeout(function(){ localStorage.removeItem(\\'leave\\');  }, 18000);\\n}\\n\\n\\n//window.addEventListener(\"load\", function() {\\n  //localStorage.removeItem(\\'leave\\');\\n  //var opa = 1;\\n  //limpastorage();\\n // var imgFinal = document.querySelectorAll(\\'.bx-viewport .sliderMobile .slide img\\');\\n // imgFinal.forEach(function(imgSolo){\\n  //    imgSolo.src = imgSolo.dataset.original;  \\n // });\\n\\n  \\t\\n});\\n\\n\\n\\n\\n\\n\\n\\n\\n\\nGráfico de Preços\\nConfira o histórico de preços do produto, sabendo a hora certa de comprar.\\n\\n\\n\\n\\n\\nMenor preço no período:\\nR$ 5.524,15\\nem 24/03/2020\\n\\n\\n\\n\\t\\t\\t\\t\\t$(document).ready(function(){\\n\\n\\t\\t\\t\\t\\t\\t$(\\'#rolagem_grafico\\').click(function(){\\n\\t\\t\\t\\t\\t\\t\\t$(\"#preco_desejado_alerta\").focus();\\n\\t\\t\\t\\t\\t\\t});\\n\\n\\t\\t\\t\\t\\t\\t$(\\'.criar_alerta\\').click(function(){\\n\\t\\t\\t\\t\\t\\t\\tsetTimeout(function(){\\n\\t\\t\\t\\t\\t\\t\\t\\t$(\\'.focusInput\\').focus();\\n\\t\\t\\t\\t\\t\\t\\t},500)\\t\\t\\t\\t\\t\\n\\t\\t\\t\\t\\t\\t});\\n\\n\\n\\n\\t\\t\\t\\t\\t\\tvar canvas = $(\\'#cvs\\');\\n\\t\\t\\t\\t\\t\\t$janela = $(document).width();\\n\\n\\t\\t\\t\\t\\t\\tif ($janela >= 600) {\\n\\t\\t\\t\\t\\t\\t\\t$tamanho = 600;\\n\\t\\t\\t\\t\\t\\t} else {\\n\\t\\t\\t\\t\\t\\t\\t$tamanho = (($(document).width() / 100) * 90);\\n\\t\\t\\t\\t\\t\\t}\\n\\t\\t\\t\\t\\t\\t$(canvas).attr(\\'width\\', $tamanho + \\'px\\');\\n\\n\\t\\t\\t\\t\\t\\tfunction grafico(){\\n\\t\\t\\t\\t\\t\\t\\tvar line1 = new RGraph\\n\\t\\t\\t\\t\\t\\t\\t.Line(\\'cvs\\', [7750.98,7750.98,7750.98,7750.98,7750.98,7750.98,7750.98,7750.98,7750.98,7750.98,7750.98,7603.71,7603.71,7603.71,11200,7603.71,7599.99,7906,7906,7731.55,7724.98,7899,9999.99,7599,7599,7799,7799,7799],[6687.12,6459.15,6459.15,6459.15,6459.15,6687.12,6459.15,6459.15,6289.15,5949.15,5669.09,5779.15,5914.08,6119.15,6119.15,6119.15,6459.15,5779.15,5524.15,5849.1,5999,5949.15,5949.15,6204.15,6204.15,6459.15,6537.76,6599])\\n\\t\\t\\t\\t\\t\\t\\t.Set(\\'hmargin\\', 15)\\n\\t\\t\\t\\t\\t\\t\\t.Set(\\'gutter.left\\', 75)\\n\\t\\t\\t\\t\\t\\t\\t.Set(\\'gutter.bottom\\', 60)\\n\\t\\t\\t\\t\\t\\t\\t.Set(\\'linewidth\\', 3)\\n\\t\\t\\t\\t\\t\\t\\t.Set(\\'labels\\', [\"24\\\\/11\\\\/19\",\"19\\\\/05\\\\/20\"])\\n\\t\\t\\t\\t\\t\\t\\t.Set(\\'tooltips\\', [\"<p><strong>Maior<\\\\/strong> pre\\\\u00e7o: R$ 7.750,98<\\\\/p><p><strong>Menor<\\\\/strong> pre\\\\u00e7o: R$ 6.687,12<\\\\/p>\",\"<p><strong>Maior<\\\\/strong> pre\\\\u00e7o: R$ 7.750,98<\\\\/p><p><strong>Menor<\\\\/strong> pre\\\\u00e7o: R$ 6.459,15<\\\\/p>\",\"<p><strong>Maior<\\\\/strong> pre\\\\u00e7o: R$ 7.750,98<\\\\/p><p><strong>Menor<\\\\/strong> pre\\\\u00e7o: R$ 6.459,15<\\\\/p>\",\"<p><strong>Maior<\\\\/strong> pre\\\\u00e7o: R$ 7.750,98<\\\\/p><p><strong>Menor<\\\\/strong> pre\\\\u00e7o: R$ 6.459,15<\\\\/p>\",\"<p><strong>Maior<\\\\/strong> pre\\\\u00e7o: R$ 7.750,98<\\\\/p><p><strong>Menor<\\\\/strong> pre\\\\u00e7o: R$ 6.459,15<\\\\/p>\",\"<p><strong>Maior<\\\\/strong> pre\\\\u00e7o: R$ 7.750,98<\\\\/p><p><strong>Menor<\\\\/strong> pre\\\\u00e7o: R$ 6.687,12<\\\\/p>\",\"<p><strong>Maior<\\\\/strong> pre\\\\u00e7o: R$ 7.750,98<\\\\/p><p><strong>Menor<\\\\/strong> pre\\\\u00e7o: R$ 6.459,15<\\\\/p>\",\"<p><strong>Maior<\\\\/strong> pre\\\\u00e7o: R$ 7.750,98<\\\\/p><p><strong>Menor<\\\\/strong> pre\\\\u00e7o: R$ 6.459,15<\\\\/p>\",\"<p><strong>Maior<\\\\/strong> pre\\\\u00e7o: R$ 7.750,98<\\\\/p><p><strong>Menor<\\\\/strong> pre\\\\u00e7o: R$ 6.289,15<\\\\/p>\",\"<p><strong>Maior<\\\\/strong> pre\\\\u00e7o: R$ 7.750,98<\\\\/p><p><strong>Menor<\\\\/strong> pre\\\\u00e7o: R$ 5.949,15<\\\\/p>\",\"<p><strong>Maior<\\\\/strong> pre\\\\u00e7o: R$ 7.750,98<\\\\/p><p><strong>Menor<\\\\/strong> pre\\\\u00e7o: R$ 5.669,09<\\\\/p>\",\"<p><strong>Maior<\\\\/strong> pre\\\\u00e7o: R$ 7.603,71<\\\\/p><p><strong>Menor<\\\\/strong> pre\\\\u00e7o: R$ 5.779,15<\\\\/p>\",\"<p><strong>Maior<\\\\/strong> pre\\\\u00e7o: R$ 7.603,71<\\\\/p><p><strong>Menor<\\\\/strong> pre\\\\u00e7o: R$ 5.914,08<\\\\/p>\",\"<p><strong>Maior<\\\\/strong> pre\\\\u00e7o: R$ 7.603,71<\\\\/p><p><strong>Menor<\\\\/strong> pre\\\\u00e7o: R$ 6.119,15<\\\\/p>\",\"<p><strong>Maior<\\\\/strong> pre\\\\u00e7o: R$ 11.200,00<\\\\/p><p><strong>Menor<\\\\/strong> pre\\\\u00e7o: R$ 6.119,15<\\\\/p>\",\"<p><strong>Maior<\\\\/strong> pre\\\\u00e7o: R$ 7.603,71<\\\\/p><p><strong>Menor<\\\\/strong> pre\\\\u00e7o: R$ 6.119,15<\\\\/p>\",\"<p><strong>Maior<\\\\/strong> pre\\\\u00e7o: R$ 7.599,99<\\\\/p><p><strong>Menor<\\\\/strong> pre\\\\u00e7o: R$ 6.459,15<\\\\/p>\",\"<p><strong>Maior<\\\\/strong> pre\\\\u00e7o: R$ 7.906,00<\\\\/p><p><strong>Menor<\\\\/strong> pre\\\\u00e7o: R$ 5.779,15<\\\\/p>\",\"<p><strong>Maior<\\\\/strong> pre\\\\u00e7o: R$ 7.906,00<\\\\/p><p><strong>Menor<\\\\/strong> pre\\\\u00e7o: R$ 5.524,15<\\\\/p>\",\"<p><strong>Maior<\\\\/strong> pre\\\\u00e7o: R$ 7.731,55<\\\\/p><p><strong>Menor<\\\\/strong> pre\\\\u00e7o: R$ 5.849,10<\\\\/p>\",\"<p><strong>Maior<\\\\/strong> pre\\\\u00e7o: R$ 7.724,98<\\\\/p><p><strong>Menor<\\\\/strong> pre\\\\u00e7o: R$ 5.999,00<\\\\/p>\",\"<p><strong>Maior<\\\\/strong> pre\\\\u00e7o: R$ 7.899,00<\\\\/p><p><strong>Menor<\\\\/strong> pre\\\\u00e7o: R$ 5.949,15<\\\\/p>\",\"<p><strong>Maior<\\\\/strong> pre\\\\u00e7o: R$ 9.999,99<\\\\/p><p><strong>Menor<\\\\/strong> pre\\\\u00e7o: R$ 5.949,15<\\\\/p>\",\"<p><strong>Maior<\\\\/strong> pre\\\\u00e7o: R$ 7.599,00<\\\\/p><p><strong>Menor<\\\\/strong> pre\\\\u00e7o: R$ 6.204,15<\\\\/p>\",\"<p><strong>Maior<\\\\/strong> pre\\\\u00e7o: R$ 7.599,00<\\\\/p><p><strong>Menor<\\\\/strong> pre\\\\u00e7o: R$ 6.204,15<\\\\/p>\",\"<p><strong>Maior<\\\\/strong> pre\\\\u00e7o: R$ 7.799,00<\\\\/p><p><strong>Menor<\\\\/strong> pre\\\\u00e7o: R$ 6.459,15<\\\\/p>\",\"<p><strong>Maior<\\\\/strong> pre\\\\u00e7o: R$ 7.799,00<\\\\/p><p><strong>Menor<\\\\/strong> pre\\\\u00e7o: R$ 6.537,76<\\\\/p>\",\"<p><strong>Maior<\\\\/strong> pre\\\\u00e7o: R$ 7.799,00<\\\\/p><p><strong>Menor<\\\\/strong> pre\\\\u00e7o: R$ 6.599,00<\\\\/p>\"])\\n\\t\\t\\t\\t\\t\\t\\t.Set(\\'ymin\\',2762.075)\\n\\t\\t\\t\\t\\t\\t\\t.Set(\\'ymax\\',13962.075)\\n\\t\\t\\t\\t\\t\\t\\t.Set(\\'colors\\', [\\'#2A563B\\', \\'#F05A22\\'])\\n\\t\\t\\t\\t\\t\\t\\t.Set(\\'key\\', [\\'Maior preço\\', \\'Menor preço\\'])\\n\\t\\t\\t\\t\\t\\t\\t.Set(\\'key.position\\', \\'gutter\\')\\n\\t\\t\\t\\t\\t\\t\\t.Set(\\'key.position.gutter.boxed\\', false)\\n\\t\\t\\t\\t\\t\\t\\t.Set(\\'scale.thousand\\', \\'\\')\\n\\t\\t\\t\\t\\t\\t\\t.Set(\\'scale.point\\', \\',\\')\\n\\t\\t\\t\\t\\t\\t\\t.Set(\\'scale.decimals\\', 2)\\n\\t\\t\\t\\t\\t\\t\\t.Set(\\'units.pre\\', \\'R$ \\')\\n\\t\\t\\t\\t\\t\\t\\t.Set(\\'text.angle\\', 45)\\n\\t\\t\\t\\t\\t\\t\\t.Set(\\'tooltips.hotspot.xonly\\', true)\\n\\t\\t\\t\\t\\t\\t\\t.Set(\\'crosshairs\\', true)\\n\\t\\t\\t\\t\\t\\t\\t.Set(\\'tooltips.hotspot.size\\', 200)\\n\\t\\t\\t\\t\\t\\t\\t.Set(\\'crosshairs.hline\\', false)\\n\\t\\t\\t\\t\\t\\t\\t.Set(\\'tickmarks\\', \\'circle\\')\\n\\t\\t\\t\\t\\t\\t\\t.Draw();\\n\\t\\t\\t\\t\\t\\t}\\n\\t\\t\\t\\t\\t\\twindow.onload = grafico();\\n\\n\\t\\t\\t\\t\\t});\\n\\n\\t\\t\\t\\t\\t$(document).resize(function() {\\n\\t\\t\\t\\t\\t\\tcanvas.clear();\\n\\t\\t\\t\\t\\t\\t$janela = $(document).width();\\n\\t\\t\\t\\t\\t\\tif ($janela >= 600) {\\n\\t\\t\\t\\t\\t\\t\\t$tamanho = 600;\\n\\t\\t\\t\\t\\t\\t} else {\\n\\t\\t\\t\\t\\t\\t\\t$tamanho = (($(document).width() / 100) * 90);\\n\\t\\t\\t\\t\\t\\t}\\n\\t\\t\\t\\t\\t\\t$(canvas).attr(\\'width\\', $tamanho + \\'px\\');\\n\\t\\t\\t\\t\\t\\tgrafico();\\n\\t\\t\\t\\t\\t});\\n\\t\\t\\t\\t\\n\\n\\n\\n[No canvas support]\\n\\nLegenda:\\n\\nMenor Preço\\n\\n\\nMaior Preço\\n\\n\\n\\n\\n\\n\\nVer Ofertas\\n\\n\\n\\n\\n\\t\\t\\t\\t\\t$(function() {\\n\\t\\t\\t\\t\\t\\t$(\\'#grafico_de_preco_semanal_produto\\').highcharts({\\n\\t\\t\\t\\t\\t\\t\\tchart: {\\n\\t\\t\\t\\t\\t\\t\\t\\ttype: \\'line\\'\\n\\t\\t\\t\\t\\t\\t\\t},\\n\\t\\t\\t\\t\\t\\t\\tplotOptions: {\\n\\t\\t\\t\\t\\t\\t\\t\\tseries: {\\n\\t\\t\\t\\t\\t\\t\\t\\t\\tevents: {\\n\\t\\t\\t\\t\\t\\t\\t\\t\\t\\tlegendItemClick: function() {\\n\\t\\t\\t\\t\\t\\t\\t\\t\\t\\t\\treturn false;\\n\\t\\t\\t\\t\\t\\t\\t\\t\\t\\t}\\n\\t\\t\\t\\t\\t\\t\\t\\t\\t}\\n\\t\\t\\t\\t\\t\\t\\t\\t}\\n\\t\\t\\t\\t\\t\\t\\t},\\n\\t\\t\\t\\t\\t\\t\\ttitle: {\\n\\t\\t\\t\\t\\t\\t\\t\\ttext: null,\\n\\t\\t\\t\\t\\t\\t\\t},\\n\\t\\t\\t\\t\\t\\t\\tsubtitle: {\\n\\t\\t\\t\\t\\t\\t\\t\\ttext: null,\\n\\t\\t\\t\\t\\t\\t\\t},\\n\\t\\t\\t\\t\\t\\t\\txAxis: {\\n\\t\\t\\t\\t\\t\\t\\t\\tcategories: [\"2019-11-24\",\"2019-12-06\",\"2019-12-08\",\"2019-12-17\",\"2019-12-22\",\"2019-12-29\",\"2020-01-03\",\"2020-01-05\",\"2020-01-17\",\"2020-01-25\",\"2020-01-30\",\"2020-02-06\",\"2020-02-11\",\"2020-02-19\",\"2020-02-28\",\"2020-03-01\",\"2020-03-09\",\"2020-03-20\",\"2020-03-24\",\"2020-03-29\",\"2020-04-06\",\"2020-04-18\",\"2020-04-24\",\"2020-05-02\",\"2020-05-07\",\"2020-05-13\",\"2020-05-17\",\"2020-05-19\"],\\n\\t\\t\\t\\t\\t\\t\\t\\ttitle: {\\n\\t\\t\\t\\t\\t\\t\\t\\t\\ttext: \\'\\'\\n\\t\\t\\t\\t\\t\\t\\t\\t},\\n\\t\\t\\t\\t\\t\\t\\t\\tlabels: {\\n\\t\\t\\t\\t\\t\\t\\t\\t\\tformatter: function() {\\n\\t\\t\\t\\t\\t\\t\\t\\t\\t\\tvar dataString = this.value;\\n\\t\\t\\t\\t\\t\\t\\t\\t\\t\\treturn  moment(dataString).format(\\'L\\');\\n\\t\\t\\t\\t\\t\\t\\t\\t\\t},\\n\\t\\t\\t\\t\\t\\t\\t\\t\\trotation: -90,\\n\\t\\t\\t\\t\\t\\t\\t\\t},\\n\\t\\t\\t\\t\\t\\t\\t},\\n\\t\\t\\t\\t\\t\\t\\tyAxis: {\\n\\t\\t\\t\\t\\t\\t\\t\\ttitle: {\\n\\t\\t\\t\\t\\t\\t\\t\\t\\ttext: \\'Preço em R$\\'\\n\\t\\t\\t\\t\\t\\t\\t\\t},\\n\\t\\t\\t\\t\\t\\t\\t\\tlabels: {\\n\\t\\t\\t\\t\\t\\t\\t\\t\\tformatter: function() {\\n\\t\\t\\t\\t\\t\\t\\t\\t\\t\\treturn  \\'R$ \\' + this.value;\\n\\t\\t\\t\\t\\t\\t\\t\\t\\t}\\n\\t\\t\\t\\t\\t\\t\\t\\t},\\n\\t\\t\\t\\t\\t\\t\\t},\\n\\t\\t\\t\\t\\t\\t\\tseries: [{\\n\\t\\t\\t\\t\\t\\t\\t\\t\\tname: \\'Menor Preço\\',\\n\\t\\t\\t\\t\\t\\t\\t\\t\\tdata: [6687.12,6459.15,6459.15,6459.15,6459.15,6687.12,6459.15,6459.15,6289.15,5949.15,5669.09,5779.15,5914.08,6119.15,6119.15,6119.15,6459.15,5779.15,5524.15,5849.1,5999,5949.15,5949.15,6204.15,6204.15,6459.15,6537.76,6599]\\t\\t\\t\\t\\t\\t\\t\\t}],\\n\\t\\t\\t\\t\\t\\t\\ttooltip: {\\n\\t\\t\\t\\t\\t\\t\\t\\tformatter: function() {\\n\\t\\t\\t\\t\\t\\t\\t\\t\\tvar nomeDaSerie = this.series.name;\\n\\t\\t\\t\\t\\t\\t\\t\\t\\tvar valorX = this.x;\\n\\t\\t\\t\\t\\t\\t\\t\\t\\tvar valorY = Highcharts.numberFormat(this.y, 2, \\',\\', \\'.\\');\\n\\t\\t\\t\\t\\t\\t\\t\\t\\tvar mDate = moment(valorX);\\n\\t\\t\\t\\t\\t\\t\\t\\t\\tvar dataCurta = mDate.format(\\'L\\');\\n\\t\\t\\t\\t\\t\\t\\t\\t\\tvar semanaDoAno = mDate.week();\\n\\t\\t\\t\\t\\t\\t\\t\\t\\tvar ano = mDate.year();\\n\\t\\t\\t\\t\\t\\t\\t\\t\\treturn nomeDaSerie + \\': R$ \\' + valorY;\\n\\t\\t\\t\\t\\t\\t\\t\\t}\\n\\t\\t\\t\\t\\t\\t\\t},\\n\\t\\t\\t\\t\\t\\t});\\n\\t\\t\\t\\t\\t});\\n\\t\\t\\t\\t\\n\\n\\n\\n\\n Criar um alerta de preço\\nReceba um e-mail quando o produto ficar com o preço que você escolher:\\n\\nMenor preço no período:\\n\\nR$ 5.524,15\\n(em 24/03/2020)\\n\\n\\n\\n\\n\\n\\nPreço atual:\\nR$\\n\\t\\t\\t\\t\\t\\t\\t\\t\\t6.599,00\\t\\t\\t\\t\\t\\t\\t\\t\\n\\n\\n\\n\\n\\n\\nPreço desejado:\\n\\n(Clique para alterar)\\n\\n\\n\\n\\n\\n\\n\\n\\n\\nMáximo\\n\\nMínimo\\n\\n\\n\\n\\n\\n\\n\\n\\n\\nExcluir Alerta\\nCriar Alerta \\n\\n\\n\\n\\n\\n\\n\\n\\n\\nprecoOriginal = parseFloat(6599).toFixed(2);\\nprecoAtual = 0;\\nporcentagemDesconto = 10;\\n\\n$(document).ready(function () {\\n\\n\\t// simula o change ao perder o foco para calcular os valores digitados\\n\\t$(\\'#preco_desejado_alerta\\').blur(function(){\\n\\t\\t$(\\'#preco_desejado_alerta\\').change();\\n\\t});\\n\\n\\t// ajusta porcemtagem baseado no preco digitado\\n\\t$(\\'#preco_desejado_alerta\\').change(function(){\\n\\n\\t\\t// pega dado digitado\\n\\t\\tvalorDigitado = $(this).val();\\n\\n\\t\\t// prepara dados digitados\\n\\t\\tvalorDigitado = valorDigitado.replace(\\'R$ \\', \\'\\');\\n\\t\\tvalorDigitado = valorDigitado.replace(\\'.\\', \\'\\');\\n\\t\\tvalorDigitado = valorDigitado.replace(\\'.\\', \\'\\');\\n\\t\\tvalorDigitado = valorDigitado.replace(\\',\\', \\'.\\');\\n\\n\\t\\t// calcula uma nova porcentagem e atribui o valor\\n\\t\\tporcentagemDesconto = valorPorcentagem(precoOriginal, valorDigitado);\\n\\n\\t\\t// verifica limites\\n\\t\\tif (porcentagemDesconto < 1){\\n\\t\\t\\tporcentagemDesconto = 1;\\n\\t\\t}\\n\\t\\tif (porcentagemDesconto > 99){\\n\\t\\t\\tporcentagemDesconto = 99;\\n\\t\\t}\\n\\n\\t\\t// chama a funcao core para atualizar dados\\n\\t\\t//$(\\'#price-range\\').val(porcentagemDesconto).change();\\n\\t});\\n\\n\\t// ajusta preco baseado no slide\\n\\t$(\\'#price-range\\').change(function(){\\n\\t\\t// label\\n\\t\\t$(\\'#pctResult\\').text(\\'(\\'+$(this).val()+\\'%)\\');\\n\\n\\t\\t// calculos\\n\\t\\tpctValor = porcentagemValor($(this).val(), precoOriginal);\\n\\t\\tvalor = parseFloat(precoOriginal) - parseFloat(pctValor);\\n\\n\\t\\t// vars atualizaveis\\n\\t\\tprecoAtual = valor.toFixed(2);\\n\\t\\tporcentagemDesconto = $(this).val();\\n\\n\\t\\t// exibicao\\n\\t\\tputValueInput(\\'preco_desejado_alerta\\', valor);\\n\\t});\\n\\n\\t// ajusta preco baseado no quadro (+)\\n\\t$(\\'.menos_pct\\').click(function(){\\n\\t\\t// pega a porcentagem atual e calcula\\n\\t\\tporcentagemDesconto = parseInt(porcentagemDesconto) - 10;\\n\\n\\t\\t// verifica limites\\n\\t\\tif (porcentagemDesconto < 1){\\n\\t\\t\\tporcentagemDesconto = 1;\\n\\t\\t}\\n\\n\\t\\t// chama a funcao core para atualizar dados\\n\\t\\t$(\\'#price-range\\').val(porcentagemDesconto).change();\\n\\t});\\n\\n\\t// ajusta preco baseado no quadro (-)\\n\\t$(\\'.mais_pct\\').click(function(){\\n\\t\\t// pega a porcentagem atual e calcula\\n\\t\\tporcentagemDesconto = parseInt(porcentagemDesconto) + 10;\\n\\n\\t\\t// verifica limites\\n\\t\\tif (porcentagemDesconto > 99){\\n\\t\\t\\tporcentagemDesconto = 99;\\n\\t\\t}\\n\\n\\t\\t// chama a funcao core para atualizar dados\\n\\t\\t$(\\'#price-range\\').val(porcentagemDesconto).change();\\n\\t});\\n\\n\\t// salva o alerta\\n\\t$(\\'#criar_alerta_lateral\\').click(function(){\\n\\n\\t\\tif ($.cookie(\\'user\\')) {\\n\\t\\t\\tvar produtoId \\t\\t= \\'15920470\\';\\n\\t\\t\\tvar lojaId \\t\\t\\t= 0; // qualquer loja\\n\\t\\t\\tvar valorProduto\\t= \\'6599\\';\\n\\t\\t\\tvar menorPreco \\t\\t= \\'5524.15\\';\\n\\t\\t\\tvar valorAlerta\\t\\t= precoAtual;\\n\\n\\t\\t\\tretorno = adicionarAlertaPreco(lojaId, produtoId, valorProduto, menorPreco, valorAlerta);\\n\\t\\t}else{\\n\\t\\t\\t$(\\'.click-login-2015\\').click();\\n\\t\\t}\\n\\t});\\n\\n\\t// excluir o alerta\\n\\t$(\\'#excluir_alerta_lateral\\').click(function(){\\n\\t\\tif ($.cookie(\\'user\\')) {\\n\\t\\t\\tvar produtoId \\t= \\'15920470\\';\\n\\t\\t\\tretorno = excluirAlertaPreco(produtoId);\\n\\t\\t}else{\\n\\t\\t\\t$(\\'.click-login-2015\\').click();\\n\\t\\t}\\n\\n\\t});\\n\\t//hover do botao ir para a loja\\n\\tif (!$.cookie(\\'user\\')) {\\n\\t\\t\\t$(\\'.container_hover_logar\\').addClass(\\'button_laranja_entrar_loja_logado\\');\\n\\t\\t}\\n\\n\\n\\t// inicializa slider com valores\\n\\t$(\\'#price-range\\').val(porcentagemDesconto).change();\\n\\n\\n\\n});\\n\\n\\n\\n\\n\\n\\nDescrição do Produto\\n\\n\\n\\n\\n\\n\\n\\n\\n    \\n       \\tIPhone 11 Pro Max Apple 64GB 6.5\" Desbloqueado Prata    \\n\\n\\n\\n\\n                Especificações técnicas de IPhone 11 Pro Max Apple 64GB 6.5\" Desbloqueado Prata            \\n\\n\\n\\n\\nSmartphone\\nSim\\n\\n\\nTela\\n6.5\"\\n\\n\\nTouchscreen\\nSim\\n\\n\\n4G\\nSim\\n\\n\\n3G\\nSim\\n\\n\\nCâmera Traseira\\n12 Megapixels\\n\\n\\nCâmera Selfie\\n12 Megapixels\\n\\n\\nNFC\\nSim\\n\\n\\nGravação de Vídeo\\n4K, HD\\n\\n\\nConexões\\nBluetooth, Micro USB, Wi-fi\\n\\n\\nFunções\\nAlarme, E-mail, GPS, MP3, Viva Voz, Vídeo\\n\\n\\nDual Chip\\nNão\\n\\n\\nRecursos da Tela\\nFull HD\\n\\n\\nAltura\\n15.8cm\\n\\n\\nLargura\\n7.7cm\\n\\n\\nProfundidade\\n0.80cm\\n\\n\\nFormato\\nBarra\\n\\n\\nFlash Embutido\\nSim\\n\\n\\nMemória Interna\\n64GB\\n\\n\\nModelo\\nIPhone 11 Pro Max\\n\\n\\nOperadora\\nSem Operadora\\n\\n\\nPeso\\n224g\\n\\n\\nSistema Operacional\\niOS 13\\n\\n\\nSugestões\\nApple iPhone\\n\\n\\n\\n \\n\\nAVISO LEGAL: O JáCotei é um site de publicidade na internet, não é uma loja  e não vende produtos ou serviços para seus usuários. Seu uso é GRATUITO, mas antes, você deverá ler e aceitar nossas Condições de Uso. Se não aceitá-las, por favor, não use o JáCotei. As informações sobre os produtos são capturadas diariamente nas lojas por programas criados pelo JáCotei e podem ter sido modificadas pelas mesmas da hora da captura até este momento, ou por outros problemas técnicos. Em função disso, você concorda que as informações das lojas são as que devem ser validadas para sua decisão de compra, não responsabilizando o JáCotei por eventuais divergências ou problemas com a compra. Sugerimos: Exija sempre a nota fiscal da loja.\\n        \\n\\n\\n\\n        $(document).ready(function(){\\n            // verifica se o alerta ta cadastrado\\n            verificarAlertaPreco(\\'15920470\\');\\n\\n         // verifica se o produto esta cadastrado na lista de desejos\\n        \\tverificarListaDesejos(\\'15920470\\');\\n        });\\n     \\n\\n\\n\\n\\nEstamos verificando se as lojas atualizaram\\nos preços nos últimos minutos...\\n\\n\\n\\nAguarde alguns segundos...\\n\\nFechar\\n\\n\\n\\n\\n\\n\\t\\tvar widgetrec1;\\n\\t\\n\\t\\tvar newsrec1;\\n\\n\\t\\tvar onloadCallback = function() {\\n\\t\\n\\t\\t\\n\\t\\t\\n\\t\\twidgetrec1 = grecaptcha.render(\\'recaptcha\\', {\\n\\t\\t\\t\\'sitekey\\'\\t: \\'6LckSg8UAAAAAK8r4_hfVIXHCP22I9aqJNcOm14Z\\',\\n\\t\\t\\t\\'hl\\' \\t \\t: \\'pt-BR\\',\\n\\t\\t\\t\\'size\\' \\t \\t: \\'compact\\'\\n\\t\\t});\\n\\n\\t\\tif(document.getElementById(\\'recaptcha_news\\')){\\n\\t\\t\\t\\tnewsrec1 = grecaptcha.render(\\'recaptcha_news\\', {\\n\\t\\t\\t\\t\\'sitekey\\'\\t: \\'6LckSg8UAAAAAK8r4_hfVIXHCP22I9aqJNcOm14Z\\',\\n\\t\\t\\t\\t\\'hl\\'     \\t: \\'pt-BR\\',\\n\\t\\t\\t\\t\\'size\\'\\t\\t: \\'compact\\'\\n\\t\\t\\t});\\n\\t\\t}\\n\\t\\t\\n\\t\\n\\t};\\n\\n\\n\\n\\n\\n\\n\\n\\n\\nTem alguma dúvida?\\nNos ajude a melhorar!\\nNos envie suas críticas, sugestões ou dificuldades. Sua dúvida pode nos ajudar a melhorar nossos serviços.\\n\\n\\n\\n\\n\\n\\n\\n\\n\\n\\n\\n\\n\\n\\n\\t$(\\'#enviarFaleConosco\\').click( function (e){\\n\\t\\te.preventDefault();\\n\\n\\t\\tSEPARADORDECIMAL = \\'.\\';\\n\\t\\tFORMATODATA = 0;\\n\\n\\t\\t$(\\'#nomeFormFaleConosco\\').val($.trim( $(\\'#nomeFormFaleConosco\\').val() ));\\n\\t\\t$(\\'#emailFormFaleConosco\\').val($.trim( $(\\'#emailFormFaleConosco\\').val() ));\\n\\n\\t\\tobjForm = document.formfaleconosco;\\n\\n\\t\\tif (!fn_checkthis(\\'Nome:\\', 0, true, objForm.name, \\'\\', \\'\\')) {\\n\\t\\t\\tobjForm.name.focus();\\n\\t\\t\\treturn false;\\n\\t\\t}\\n\\n\\t\\tif (!fn_checkthis(\\'E-mail:\\', 10, true, objForm.email, \\'\\', \\'\\')) {\\n\\t\\t\\tobjForm.email.focus();\\n\\t\\t\\treturn false;\\n\\t\\t}\\n\\n\\t\\tif (!fn_checkthis(\\'Mensagem:\\', 0, true, objForm.message, \\'\\', \\'\\')) {\\n\\t\\t\\tobjForm.message.focus();\\n\\t\\t\\treturn false;\\n\\t\\t}\\n\\n\\t\\tvar v = grecaptcha.getResponse(widgetrec1);\\n\\t\\t\\n\\t\\tif(v.length == 0) {\\n\\t\\t\\talert(\"Não deixe o código Captcha vazio\");\\n\\t\\t\\treturn false;\\n\\t\\t}\\n\\n\\t\\t$(\\'#loadingRodape\\').show();\\n\\t\\t$.post( \"/faleconosco/email_ajax\", $( \"#formfaleconosco\" ).serialize())\\n\\n\\t\\t.done( function ( data ) {\\n\\t\\t\\t$(\\'#loadingRodape\\').hide();\\n\\t\\t\\tif(data.match(/sucesso/)){\\n\\t\\t\\t\\t$(\\'.apagar\\').val(\\'\\');\\n\\t\\t\\t}\\n\\t\\t\\talert( data );\\n\\t\\t});\\n\\t});\\n\\n\\n\\t$(document).ready(function(){\\n\\t\\t$(\\'#botaoAbrir\\').click(function(){\\n\\t\\t\\t$(\\'#fale_conosco_flutuante\\').toggleClass(\\'mostrar_fale_conosco\\', 1000 );\\n\\t\\t});\\n\\t});\\n\\n\\n\\n\\n\\n\\n\\n\\n\\n\\n\\n\\n\\n\\n\\n\\n\\n\\n\\n\\n   \\n\\n\\n\\n\\n\\n\\n\\n\\n\\n\\t\\t\\t\\t\\n\\t\\t\\t\\t$(\"img.lazy\").lazyload({\\n\\t\\t\\t\\t\\tskip_invisible : true,\\n\\t\\t\\t\\t\\teffect : \"fadeIn\"\\n\\t\\t\\t\\t});\\n\\t\\t\\t\\t$(document).ready(function() {\\n\\n\\t\\t\\t\\t\\tvar logado = false;\\n\\t\\t\\t\\t\\t\\t\\n\\t\\t\\t\\t\\t\\t$(\"body\").on(\"hidden.bs.modal\", \"#login-modal\", function (e) {\\n\\t\\t\\t\\t\\t\\t\\tvalidaLogin();\\n\\t\\t\\t\\t\\t\\t});\\n\\t\\t\\t\\t\\t\\n\\t\\t\\t\\t\\t\\tvar validaLogin = function() {\\n\\t\\t\\t\\t\\t\\t\\t// se usuario possui cookie\\n\\t\\t\\t\\t\\t\\t\\tif ($.cookie(\\'user\\')) {\\n\\t\\t\\t\\t\\t\\t\\t\\tvar user = $.parseJSON($.cookie(\\'user\\'));\\n\\t\\t\\t\\t\\t\\t\\t\\t$(\\'.usu-logado\\').show();\\n\\t\\t\\t\\t\\t\\t\\t\\t$(\\'.usu-deslogado\\').hide();\\n\\t\\t\\t\\t\\t\\t\\t\\t$(\\'#span-login\\').attr(\\'title\\', user.name);\\n\\t\\t\\t\\t\\t\\t\\t\\t$(\\'#span-login\\').text(user.name.split(\\' \\')[0]);\\n\\t\\t\\t\\t\\t\\t\\t} else {\\n\\t\\t\\t\\t\\t\\t\\t\\t$(\\'.usu-logado\\').hide();\\n\\t\\t\\t\\t\\t\\t\\t\\t$(\\'.usu-deslogado\\').show();\\n\\t\\t\\t\\t\\t\\t\\t}\\n\\t\\t\\t\\t\\t\\t}\\n\\t\\t\\t\\t\\t\\tvalidaLogin();\\n\\t\\t\\t\\t\\t\\n\\t\\t\\t\\t\\t\\t// click para mostrar/esconder menu de usuário logado\\n\\t\\t\\t\\t\\t\\tjQuery(\\'#menuClickDrop\\').click(function () {\\n\\t\\t\\t\\t\\t\\t\\tjQuery(\\'.mostrarMenu\\').toggle();\\n\\t\\t\\t\\t\\t\\t});\\n\\t\\t\\t\\t\\t\\t\\n\\t\\t\\t\\t\\t$(\\'.mm-page\\').css(\\'position\\', \\'inherit\\');\\n\\n\\t\\t\\t\\t\\t// a pedido da vitrio\\n\\t\\t\\t\\t\\t$(\\'#verficar_oferta_loja_button\\').click(function(e){\\n\\t\\t\\t\\t\\t\\te.preventDefault();\\n\\t\\t\\t\\t\\t});\\n\\t\\t\\t\\t});\\n\\t\\t\\t\\n\\n\\t\\t\\t\\t\\t\\n\\n\\t\\t$(\\'#fechar_x,#fechar_modal\\').click(function(){\\n\\t\\t\\t$(\\'#container_mensagem_negociando\\').hide();\\n\\t\\t});\\n\\n\\t\\t// inicia\\n\\t\\tfunction preparaDados(response){\\n\\n\\t\\t\\t// cria objeto q armazena dados\\n\\t\\t\\tvar indice = {};\\n\\n\\t\\t\\t// loop no retornotopo_principal_site\\n\\t\\t\\tfor (x = 0; x < response.offers.length ; x++) {\\n\\t\\t\\t\\tvar data = {};\\n\\t\\t\\t\\tdata.checked            = response.offers[x].checked;\\n\\t\\t\\t\\tdata.productId          = response.offers[x].productId;\\n\\t\\t\\t\\tdata.id                 = response.offers[x].id;\\n\\t\\t\\t\\tdata.shopId             = response.offers[x].shopId;\\n\\t\\t\\t\\tdata.shopLogo           = response.offers[x].shopLogo;\\n\\t\\t\\t\\tdata.sku                = response.offers[x].sku;\\n\\t\\t\\t\\tdata.name               = response.offers[x].name;\\n\\t\\t\\t\\tdata.url                = response.offers[x].url;\\n\\t\\t\\t\\tdata.imgUrl             = response.offers[x].imgUrl;\\n\\t\\t\\t\\tdata.price              = parseFloat(response.offers[x].price);\\n\\t\\t\\t\\tdata.installmentPrice   = parseFloat(response.offers[x].installmentPrice);\\n\\t\\t\\t\\tdata.installments       = response.offers[x].installments;\\n\\t\\t\\t\\tdata.points             = response.offers[x].points;\\n\\t\\t\\t\\tdata.result             = response.offers[x].result;\\n\\n\\t\\t\\t\\tdata.smiles = 0;\\n\\t\\t\\t\\tdata.multiplus = 0;\\n\\t\\t\\t\\t\\n\\t\\t\\t\\tfor (y = 0; y < data.points.length ; y++) {\\n\\t\\t\\t\\t\\tif (data.points[y].name == \\'Smiles\\'){\\n\\t\\t\\t\\t\\t\\tdata.smiles = data.points[y];\\n\\t\\t\\t\\t\\t}else{\\n\\t\\t\\t\\t\\t\\tdata.multiplus = data.points[y];\\n\\t\\t\\t\\t\\t}\\n\\t\\t\\t\\t}\\n\\n\\t\\t\\t\\t// se o indice ja existe\\n\\t\\t\\t\\tif (data.shopId in indice){\\n\\t\\t\\t\\t\\tif ( ( parseFloat(data.price) > 0 && parseFloat(data.price) < parseFloat(indice[data.shopId].price) ) || parseFloat(indice[data.shopId].price) == 0 ){\\n\\t\\t\\t\\t\\t\\tindice[data.shopId] = data;\\n\\t\\t\\t\\t\\t}\\n\\t\\t\\t\\t// cria novo indice\\n\\t\\t\\t\\t}else{\\n\\t\\t\\t\\t\\tindice[data.shopId] = data;\\n\\t\\t\\t\\t}\\n\\t\\t\\t}\\n\\n\\t\\t\\t$(\\'.verficar_oferta_loja\\').hide();\\n\\t\\t\\t$(\\'.verficar_na_loja\\').show();\\n\\t\\t\\t\\n\\t\\t\\t// percorre os dados do indice para sobrepor info na tela\\n\\t\\t\\t$.each(indice, function( lojaID, obj ){\\n\\n\\t\\t\\t\\tif(obj.result == \"UNKNOWN\"){\\n\\t\\t\\t\\t\\treturn true;\\n\\t\\t\\t\\t}\\n\\n\\t\\t\\t\\tvar id = \\'\\';\\n\\n\\t\\t\\t\\t// valor do produto a vista\\n\\t\\t\\t\\tif(obj.result != \"ERROR\"){\\n\\t\\t\\t\\t\\tid = \\'.loja_id_\\'+lojaID;\\n\\t\\t\\t\\t\\t$(id).text(\\'R$ \\' + formataMoney(obj.price));\\n\\n\\t\\t\\t\\t\\tid = \".mensagem_atualizada_avista_loja_id_\"+lojaID;\\n\\t\\t\\t\\t\\t$(id).show();\\n\\t\\t\\t\\t\\t$(id).removeClass(\\'esconder\\');\\n\\t\\t\\t\\t}\\n\\t\\t\\t\\t\\n\\t\\t\\t\\t//Se tiver valor de parcelamento\\n\\t\\t\\t\\tif (parseInt(obj.installments) > 1){\\n\\t\\t\\t\\t\\t\\n\\t\\t\\t\\t\\tvar calculo = (parseFloat(obj.installmentPrice) * parseFloat(obj.installments)) / parseFloat(obj.price);\\n\\t\\t\\t\\t\\t\\n\\t\\t\\t\\t\\tvar str = \\t\"até <span class=\\'qtd-parcela verdePrecos\\'><b>\"+obj.installments+\"x </b></span>\"+\\n\\t\\t\\t\\t\\t\\t\\t\\t\"de <span class=\\'vlr-parcela verdePrecos\\'><b><span class=\\'font-12\\'>R$</span> \"+formataMoney(obj.installmentPrice)+\"</b></span><br>\"+\\n\\t\\t\\t\\t\\t\\t\\t\\t\"<p class=\\'font13Total tot\\'><span>Total: </span>\"+\\n\\t\\t\\t\\t\\t\\t\\t\\t\"<span class=\\'total-produto verdePrecos\\'><b><span class=\\'font-12\\'>R$</span> \"+formataMoney((parseFloat(obj.installmentPrice) * parseInt(obj.installments)).toFixed(2))+\"</b>\"+\\n\\t\\t\\t\\t\\t\\t\\t\\t\"</span></p>\";\\n\\t\\t\\t\\t\\t\\t\\t\\t\\t\\t\\t\\t\\n\\t\\t\\t\\t\\tid = \\'.loja_id_aprazo_\\'+lojaID;\\n\\t\\t\\t\\t\\t\\n\\t\\t\\t\\t\\t$(id).html(str);\\n\\t\\t\\t\\t\\t$(id).next(\\'.tot\\').html(\\'\\');\\n\\n\\t\\t\\t\\t\\tid = \".mensagem_atualizada_aprazo_loja_id_\"+lojaID;\\n\\t\\t\\t\\t\\t$(id).show();\\n\\t\\t\\t\\t\\t$(id).removeClass(\\'esconder\\');\\n\\t\\t\\t\\t\\t\\n\\t\\t\\t\\t}\\n\\n\\t\\t\\t\\tid = \".mensagem_atualizada_mob_aprazo_loja_id_\"+lojaID;\\n\\t\\t\\t\\t$(id).show();\\n\\t\\t\\t\\t$(id).removeClass(\\'esconder\\');\\n\\t\\t\\t\\n\\t\\t\\t\\t// url\\n\\t\\t\\t\\tid = \\'.oferta_data_loja_id_\\'+lojaID;\\n\\t\\t\\t\\t$(id).attr(\\'href\\', obj.url);\\n\\t\\t\\t\\t$(id).attr(\\'data-produto_preco\\', obj.price);\\n\\n\\t\\t\\t\\t// prog pontos\\n\\t\\t\\t\\tid = \\'.pts_smiles_loja_id_\\'+lojaID;\\n\\t\\t\\t\\t$(id).text(obj.smiles.points);\\n\\n\\t\\t\\t\\tid = \\'.pts_multiplus_loja_id_\\'+lojaID;\\n\\t\\t\\t\\t$(id).text(obj.multiplus.points);\\n\\n\\t\\t\\t\\t// altera botoes\\n\\t\\t\\t\\t$(\\'#verficar_oferta_loja_button\\').addClass(\\'preco_foi_atualizado\\');\\n\\t\\t\\t\\t$(\\'#verficar_oferta_loja_button\\').hide();\\n\\t\\t\\t\\t$(\\'#preco_atualizado_button\\').show();\\n\\n\\t\\t\\t\\tif(obj.result == \"SOLD_OUT\"){\\n\\t\\t\\t\\t\\tid = \\'.preco_sem_estoque_triste_loja_id_\\'+lojaID;\\n\\t\\t\\t\\t\\t$(id).hide();\\n\\t\\t\\t\\t\\t$(id).addClass(\\'esconder\\');\\n\\t\\t\\t\\t\\t\\n\\t\\t\\t\\t\\tid = \\'.preco_sem_estoque_triste_loja_id_\\'+lojaID;\\n\\t\\t\\t\\t\\t$(id).show();\\n\\t\\t\\t\\t\\t$(id).removeClass(\\'esconder\\');\\n\\t\\t\\t\\t\\t\\n\\t\\t\\t\\t\\tid = \\'.linha_loja_id_\\'+lojaID;\\n\\t\\t\\t\\t\\t$(id).addClass(\\'apagar_linha_produto\\');\\n\\t\\t\\t\\t\\t\\n\\t\\t\\t\\t\\t$(\\'.apagar_linha_produto\\').css(\\'rgba\\',\\'0,0,0,0.5\\')\\n\\t\\t\\t\\t\\t$(\\'.apagar_linha_produto .largura-box-imagem\\').css(\\'opacity\\',\\'0.5\\');\\n\\t\\t\\t\\t\\t$(\\'.apagar_linha_produto .largura-box-titulo\\').css(\\'opacity\\',\\'0.5\\');\\n\\t\\t\\t\\t\\t$(\\'.apagar_linha_produto .verificaLogado_programas\\').css(\\'opacity\\',\\'0.5\\');\\n\\t\\t\\t\\t\\t$(\\'.apagar_linha_produto .parcelamento_largura\\').css(\\'opacity\\',\\'0.5\\');\\n\\t\\t\\t\\t\\t$(\\'.apagar_linha_produto .precos_larg\\').css(\\'opacity\\',\\'0.5\\');\\n\\t\\t\\t\\t\\t$(\\'.apagar_linha_produto .button_laranja_entrar_loja_logado\\').css(\\'opacity\\',\\'0.5\\');\\n\\t\\t\\t\\t\\tid = \\'.preco_sem_estoque_triste_loja_id_\\'+lojaID;\\n\\t\\t\\t\\t\\t$(id).removeClass(\\'semEstoqueEscondido\\');\\n\\t\\t\\n\\t\\t\\t\\t}else if(obj.result == \"ERROR\"){\\n\\t\\t\\t\\t\\t\\tid = \\'.preco_sem_estoque_triste_loja_id_\\'+lojaID;\\n\\t\\t\\t\\t\\t\\t$(id).hide();\\n\\t\\t\\t\\t\\t\\t$(id).addClass(\\'semEstoqueEscondido\\');\\n\\t\\t\\t\\t\\t\\t\\n\\t\\t\\t\\t\\t\\tid = \".mensagem_atualizada_avista_loja_id_\"+lojaID;\\n\\t\\t\\t\\t\\t\\t$(id).hide();\\n\\t\\t\\t\\t\\t\\t$(id).addClass(\\'semEstoqueEscondido\\');\\n\\n\\t\\t\\t\\t\\t\\tid = \".mensagem_atualizada_aprazo_loja_id_\"+lojaID;\\n\\t\\t\\t\\t\\t\\t$(id).hide();\\n\\t\\t\\t\\t\\t\\t$(id).addClass(\\'semEstoqueEscondido\\');\\n\\t\\t\\t\\t}\\n\\t\\t\\t});\\n\\t\\t\\n\\t\\t}\\n\\n\\t\\t$(document).ready(function(){\\n\\n\\t\\t\\t$(\\'#verficar_oferta_loja_button\\').click(function(){\\n\\t\\t\\t\\tvar url = \\'/compliance/verifyProduct/\\' + 15920470 + \\'?\\'+(new Date()).getTime();\\n\\t\\t\\n\\t\\t\\t\\t$(\\'#container_mensagem_negociando\\').fadeIn();\\n\\t\\t\\t\\t\\n\\t\\t\\t\\tvar srcs = [], images = $(\\'.img-lojas\\');\\n\\t\\t\\t\\timages.each( function ( index ){\\n\\t\\t\\t\\t\\tsrcs[ index ] = $( this ).attr(\\'src\\')\\n\\t\\t\\t\\t\\t$(\\'#bxsliderCompliance\\').append(\\'<li> <img src=\"\\'+srcs[index]+\\'\" /></li>\\');\\n\\t\\t\\t\\t});\\n\\t\\t\\n\\t\\t\\t\\t$(\\'#bxsliderCompliance\\').bxSlider({\\n\\t\\t\\t\\t\\tminSlides: 1,\\n\\t\\t\\t\\t\\tmaxSlides: 1,\\n\\t\\t\\t\\t\\tslideWidth: 130,\\n\\t\\t\\t\\t\\tauto: true,\\n\\t\\t\\t\\t\\tspeed: 200,\\n\\t\\t\\t\\t\\tadaptiveHeight: true,\\n\\t\\t\\t\\t\\tslideMargin: 10\\n\\t\\t\\t\\t});\\n\\t\\t\\t\\t\\t\\n\\t\\t\\t\\t$.ajax({\\n\\t\\t\\t\\t\\turl: url,\\n\\t\\t\\t\\t\\tmethod: \"GET\",\\n\\t\\t\\t\\t\\tdataType: \"json\",\\n\\t\\t\\t\\t\\txhrFields: {\\n\\t\\t\\t\\t\\t\\twithCredentials: true\\n\\t\\t\\t\\t\\t}\\n\\t\\t\\t\\t})\\n\\t\\t\\t\\t.done(function( response ){\\n\\t\\t\\t\\t\\tpreparaDados( response );\\n\\t\\t\\t\\t})\\n\\t\\t\\t\\t.fail( function( jqXHR, textStatus, errorThrown ) {\\n\\t\\t\\t\\t\\tconsole.log(\"erro layout compliance :\" + textStatus );\\n\\t\\t\\t\\t})\\n\\t\\t\\t\\t.always(function() {\\n\\t\\t\\t\\t\\t$(\\'#container_mensagem_negociando\\').fadeOut();\\n\\t\\t\\t\\t});\\n\\t\\t\\t});     \\n\\t\\t});\\n\\n\\t\\t\\t\\n\\n\\n\\t\\t\\t\\t<!--//<![CDATA[\\n\\t\\t\\t\\t\\tvar m3_u = (location.protocol==\\'https:\\'?\\'https://ad.jacotei.com.br/www/delivery/ajs.php\\':\\'https://ad.jacotei.com.br/www/delivery/ajs.php\\');\\n\\t\\t\\t\\t\\tvar m3_r = Math.floor(Math.random()*99999999999);\\n\\t\\t\\t\\t\\t\\n\\t\\t\\t\\t\\tif (!document.MAX_used) document.MAX_used = \\',\\';\\n\\t\\t\\t\\t\\t\\n\\t\\t\\t\\t\\tvar doc = \\'\\';\\n\\t\\t\\t\\t\\t\\n\\t\\t\\t\\t\\tdoc += (\\'<scr\\'+\"ipt type=\\'text/javascript\\' src=\\'\"+m3_u);\\n\\t\\t\\t\\t\\tdoc += (\\'?zoneid=234&amp;target=_blank\\');\\n\\t\\t\\t\\t\\tdoc += (\\'&amp;cb=\\' + m3_r);\\n\\t\\t\\t\\t\\tdoc += (\\'&amp;source=/telefonia/celular\\');\\n\\t\\t\\t\\t\\tif (document.MAX_used != \\',\\') doc += (\\'&amp;exclude=\\' + document.MAX_used);\\n\\t\\t\\t\\t\\tdoc += (document.charset ? \\'&amp;charset=\\'+document.charset : (document.characterSet ? \\'&amp;charset=\\'+document.characterSet : \\'\\'));\\n\\t\\t\\t\\t\\tdoc += (\\'&amp;loc=\\' + escape(window.location));\\n\\t\\t\\t\\t\\tif (document.referrer) doc += (\\'&amp;referer=\\' + escape(document.referrer));\\n\\t\\t\\t\\t\\tif (document.context) doc += (\\'&context=\\' + escape(document.context));\\n\\t\\t\\t\\t\\tif (document.mmm_fo) doc += (\\'&amp;mmm_fo=1\\');\\n\\t\\t\\t\\t\\tdoc += (\"\\'><\\\\/scr\"+\\'ipt>\\');\\n\\t\\t\\t\\t\\t\\n\\t\\t\\t\\t\\tdocument.write(\\'<div id=\"openx-container\">\\'+doc+\\'</div>\\');\\n\\t\\t\\t\\t\\t\\n\\t\\t\\t\\t\\t$(document).ready(function(){\\n\\t\\t\\t\\t\\t\\t$(document).load(m3_u, function(){\\n\\t\\t\\t\\t\\t\\t\\t$(\\'#ad-banner-replace\\').html( $(\\'#openx-container\\').detach() );\\n\\t\\t\\t\\t\\t\\t});\\n\\t\\t\\t\\t\\t});\\n\\t\\t\\t\\t\\t\\n\\t\\t\\t\\t//]]>-->\\n\\t\\t\\t\\t\\n\\n\\n\\n\\n\\n\\n\\n\\n\\n\\nJáCotei\\n\\n\\nBlack Friday\\n\\n\\nCondições de uso\\n\\n\\nGuia de produtos\\n\\n\\nLoja JáCotei e-comprei\\n\\n\\nAssessoria de imprensa\\n\\n\\nExtensão JáCotei Chrome\\n\\n\\nApp JáCotei Android\\n\\n\\nApp JáCotei IOS\\n\\n\\nMapa do Site\\n\\n\\n\\n\\n\\n\\nUsuário\\n\\n\\nCadastre-se\\n\\n\\nRecursos exclusivos\\n\\n\\n\\n\\n\\n\\nEmpresas\\n\\n\\nAnuncie conosco\\n\\n\\nVenda de relatórios\\n\\n\\n\\n\\n\\n\\nFale conosco\\n\\n\\nDúvidas frequentes\\n\\n\\nTrabalhe conosco\\n\\n\\n\\n\\n\\n\\nSiga-nos\\n\\n\\n\\n\\n\\n\\n\\n\\n\\n\\n\\n\\n\\n\\n\\n\\n\\n\\n\\n\\n\\n\\n\\n\\n\\n\\n\\n\\nDND - Desenvolvimento de Negócios Digitais\\nCNPJ: 63.268.163/0001-70\\nAv. Brigadeiro Luiz Antônio, 2503 - 10° andar - São Paulo - SP\\n\\n\\n\\n\\n\\n\\n                            JáCotei - O comparador de preços das melhores lojas. JáCotei ® É uma marca registrada.\\n                        \\n\\n\\n\\n\\n\\n\\n\\n\\nsetInterval(function() {$(\"img.lazy:visible:not(.lazy-enabled)\").addClass(\\'lazy-enabled\\').lazyload();}, 500)\\n\\n\\n        $(document).ready(function(){\\n            $(\"body\").on(\"hidden.bs.modal\", \"#login-modal\", function (e) {\\n                validaLogin();\\n            });\\n\\n            var validaLogin = function() {\\n                // se usuario possui cookie\\n                if ($.cookie(\\'user\\')) {\\n                    var user = $.parseJSON($.cookie(\\'user\\'));\\n                    $(\\'.usu-logado\\').show();\\n                    $(\\'.usu-deslogado\\').hide();\\n                    $(\\'#span-login\\').attr(\\'title\\', user.name);\\n                    $(\\'#span-login\\').text(user.name.split(\\' \\')[0]);\\n                    $(\\'.click-login-2015\\').each(function(){\\n                        $(this).removeClass(\\'click-login-2015\\')\\n                        $(this).addClass(\\'jaTaLogado\\');\\n                    });\\n                    $(\\'.jaTaLogado\\').click(function(event){\\n                            alert(\\'Você já está logado. Pode aproveitar o programa de pontos.\\');\\n                            event.stopPropagation();\\n                        });\\n\\n                } else {\\n                    $(\\'.usu-logado\\').hide();\\n                    $(\\'.usu-deslogado\\').show();\\n                }\\n            }\\n            validaLogin();\\n        })\\n\\t/*\\n\\tvar telaGeral = document.querySelector(\"html\");\\n\\tvar modalVolta = document.querySelector(\".modalclienteVolta\");\\n\\tvar btnFechaModal = document.querySelector(\"span.clouseModal\");\\n\\n\\tvar mouseHover = function() {\\n  \\tsetTimeout(function() {\\n    \\t\\tmodalVolta.classList.add(\"addModal\");\\n  \\t}, 5000);\\n\\t};\\n\\n\\ttelaGeral.addEventListener(\"mouseleave\", mouseHover);\\n\\n\\tvar fechaModal = function() {\\n  \\t\\tmodalVolta.classList.remove(\"addModal\");\\n\\t};\\n\\tbtnFechaModal.addEventListener(\"click\", fechaModal);\\n\\t*/\\n\\n    \\n\\n\\t\\t\\t\\t\\t\\t\\t\\t//var _st_account = 1298;\\n\\t\\t\\t\\t//(function (){\\n\\t\\t\\t\\t//\\tvar ss = document.createElement(\\'script\\'); ss.type = \\'text/javascript\\'; ss.async = true; ss.src = \\'//app.shoptarget.com.br/js/tracking.js\\'; var sc = document.getElementsByTagName(\\'script\\')[0]; sc.parentNode.insertBefore(ss, sc); }\\n\\t\\t\\t\\t//)();\\n\\t\\t\\t\\n\\n\\n\\n$(document).ready(function(){\\n\\t$(function() { $.smartbanner({\\n\\t\\t\\t\\ttitle : \"JáCotei\",\\n\\t\\t\\t\\tauthor : \"O comparador de preços\",\\n\\t\\t\\t\\tprice \\t: \"Grátis\",\\n\\t\\t\\t\\ticon\\t: \"https://img.ijacotei.com.br/app_jacotei/icon.png\",\\n\\t\\t\\t\\tinGooglePlay : \"no Google Play\",\\n\\t\\t\\t\\tbutton \\t\\t\\t: \"Abrir\",\\n\\t\\t\\t\\tdaysHidden : 0,\\n\\t\\t\\t\\tdaysReminder : 0\\n\\t\\t\\t}) } );\\n})\\n \\n\\t\\t\\t\\t\\t\\t\\t\\t/*\\n\\t\\t\\t\\t* Já Cotei - Product Pages\\n\\t\\t\\t\\t*\\n\\t\\t\\t\\t* @see https://www.vitrio.com.br/\\n\\t\\t\\t\\t* @last 25.08.2016\\n\\t\\t\\t\\t* @author Vitrio Tag Team <tag@vitrio.com.br>\\n\\t\\t\\t\\t*\\n\\t\\t\\t\\t* Copyright (c) 2016, Vitrio Enhanced Results.\\n\\t\\t\\t\\t* All Rights Reserved\\n\\t\\t\\t\\t*/\\n\\n\\t\\t\\t\\twindow.dataLayer = window.dataLayer || [];\\n\\t\\t\\t\\tdataLayer.push({\\n\\t\\t\\t\\t\\t\\'jacoteiInfo\\': {\\n\\t\\t\\t\\t\\t\\t\\'jacoteiPage\\': {\\n\\t\\t\\t\\t\\t\\t\\t\\'pageType\\': \\'product\\'\\n\\t\\t\\t\\t\\t\\t},\\n\\t\\t\\t\\t\\t\\t\\'jacoteiProduct\\': { \\n\\t\\t\\t\\t\\t\\t\\t\\'name\\': \\'IPhone 11 Pro Max Apple 64GB 6.5\\\\\" Desbloqueado Prata\\',\\n\\t\\t\\t\\t\\t\\t\\t\\'sku\\': \\'15920470\\',\\n\\t\\t\\t\\t\\t\\t\\t\\'brand\\': \\'Apple\\',\\n\\t\\t\\t\\t\\t\\t\\t\\'category\\': \\'Celular\\',\\n\\t\\t\\t\\t\\t\\t\\t\\'price\\': 6599.00,\\n\\t\\t\\t\\t\\t\\t\\t\\'image\\': \\'https://img.ijacotei.com.br/produtos/200/200/70/04/15920470.jpg\\',\\n\\t\\t\\t\\t\\t\\t\\t\\'url\\': \\'https://www.jacotei.com.br/iphone-11-pro-max-apple-64gb-6-5-desbloqueado-prata/p/15920470\\'\\n\\t\\t\\t\\t\\t\\t}\\n\\t\\t\\t\\t\\t},\\n\\t\\t\\t\\t\\t\\'pageCategory\\': \\'IPhone 11 Pro Max Apple 64GB 6.5\\\\\" Desbloqueado Prata\\'\\t\\n\\t\\t\\t\\t});\\n\\n\\t\\t\\t\\t// criteo \\n\\t\\t\\t\\t// var u = $.parseJSON($.cookie(\\'user\\'));\\n\\t\\t\\t\\t// dataLayer.push({\\n\\t\\t\\t\\t// \\t\\'site_type\\': (/iPad/.test(navigator.userAgent) ? \"t\" : (/Mobile|iP(hone|od)|Android|BlackBerry|IEMobile/.test(navigator.userAgent) ? \"m\" : \"d\")),\\n\\t\\t\\t\\t// \\t\\'PageType\\': \\'ProductPage\\',\\n\\t\\t\\t\\t// \\t\\'email\\': (u != null) ? u.email : \\'\\',\\n\\t\\t\\t\\t//\\t\\'ProductID\\': \\'15920470\\'\\n\\t\\t\\t\\t// });\\n\\t\\t\\t\\n\\n\\n\\n\\n\\n\\n\\n\\t\\t\\t    (function(i) {\\n\\t\\t\\t    \\tvar ts = document.createElement(\\'script\\');\\n\\t\\t\\t    \\tts.type = \\'text/javascript\\';\\n\\t\\t\\t    \\tts.async = true;\\n\\t\\t\\t    \\tts.src = (\\'https:\\' == document.location.protocol ? \\'https://\\' : \\'https://\\') + \\'tags.t.tailtarget.com/t3m.js?i=\\' + i;\\n\\t\\t\\t    \\tvar s = document.getElementsByTagName(\\'script\\')[0];\\n\\t\\t\\t    \\ts.parentNode.insertBefore(ts, s);\\n\\t\\t\\t    })(\\'TT-12342-0/CT-931\\');\\n\\t\\t\\t\\n\\n\\n\\n'"
      ]
     },
     "execution_count": 121,
     "metadata": {},
     "output_type": "execute_result"
    }
   ],
   "source": [
    "soup"
   ]
  },
  {
   "cell_type": "code",
   "execution_count": 115,
   "metadata": {
    "code_folding": [
     0
    ],
    "hidden": true
   },
   "outputs": [],
   "source": [
    "# HERE ARE THE USELESS (FOR NOW)\n",
    "# 9-Antena: useless for now\n",
    "# 13 e 14: sistema operacional não interessa muito ja que mesmo um tendo um anterior ao outro é passivel de atualização.\n",
    "# isso seria uma informação que conteria no release date\n",
    "# 32 frequencias, bandas: has no info\n",
    "# 43 'mensagens': os unicos que diferem é o tipo de SMS, mas retirar nao removeria informacao útil\n",
    "# 46-Controle de chamada: irrelevante por enquanto\n",
    "# 52-Distancia focal: alguns celulares nao tem especificação pra isso, irrelevante por enquanto\n",
    "# 53-Tamanho sensor: irrelevante por enquanto\n",
    "# 55-Autofocus: irrelevante por enquanto\n",
    "# 56-Touch focus:  irrelevante por enquanto\n",
    "# 59-Face/smile detection: irrelevante por enquanto\n",
    "# 66-Abertura focal.1: camera da frente, irrelevante por enquanto\n",
    "# 66-Abertura focal.1:  camera da frente, irrelevante por enquanto\n",
    "# 67-Distancia focal.1:  camera da frente, irrelevante por enquanto\n",
    "# 68-Tamanho sensor.1:  camera da frente, irrelevante por enquanto\n",
    "# 69-Tamanho pixel.1:  camera da frente, irrelevante por enquanto\n",
    "# 70-Radio: irrelevante por enquanto\n",
    "# 71-TV: irrelevante por enquanto\n",
    "# 72-Formatos de video: irrelevante por enquanto\n",
    "# 73-Formatos de audio: irrelevante por enquanto\n",
    "# 74-USB: irrelevante por enquanto\n",
    "# 76-Saida para audio: irrelevante por enquanto\n",
    "# 81-GPS: irrelevante por enquanto (nao tem mtas diferenças)\n",
    "# 85-Toques, ringtones: irrelevante por enquanto\n",
    "# 95-SAR 1.6W/kg (EUA, Argentina, etc.): não usaremos já que há para o brazil\n",
    "\n",
    "\n",
    "\n",
    "######## take a look later:\n",
    "# 54-Tamanho pixel: esse é o tamanho pixel da camera, ainda n sei o como diferenciasr <<<<<<<<<<<<<<"
   ]
  },
  {
   "cell_type": "code",
   "execution_count": 146,
   "metadata": {
    "hidden": true
   },
   "outputs": [
    {
     "data": {
      "text/plain": [
       "(2821, 98)"
      ]
     },
     "execution_count": 146,
     "metadata": {},
     "output_type": "execute_result"
    }
   ],
   "source": [
    "tecnical.shape"
   ]
  },
  {
   "cell_type": "code",
   "execution_count": 148,
   "metadata": {
    "hidden": true
   },
   "outputs": [],
   "source": [
    "# columns_to_drop = [9,13,14,32,43,46,52,53,55,56,59,66,66,67,68,69,70,71,72,73,74,76,81,85,95]\n",
    "# columns_to_drop = tecnical.iloc[:,columns_to_drop].columns.tolist()\n",
    "# tecnical.drop(columns=columns_to_drop, inplace=True)"
   ]
  },
  {
   "cell_type": "code",
   "execution_count": 149,
   "metadata": {
    "hidden": true
   },
   "outputs": [
    {
     "data": {
      "text/plain": [
       "(2821, 74)"
      ]
     },
     "execution_count": 149,
     "metadata": {},
     "output_type": "execute_result"
    }
   ],
   "source": [
    "tecnical.shape"
   ]
  },
  {
   "cell_type": "markdown",
   "metadata": {},
   "source": [
    "## Modifying Properties"
   ]
  },
  {
   "cell_type": "code",
   "execution_count": null,
   "metadata": {},
   "outputs": [],
   "source": [
    "# Changin properties to avoid get_dummies\n",
    "#33 to 42: sobre frequencias, se 2G, 3G, 4G, 5G, etc. melhor trocar isso por 'frequencia_suportada' e colocar 2,3,4 e 5...\n",
    "# 44 e 45 trocar por: suporta viva voz e suporta video chamada com booleanos\n",
    "# 57-Estabilizacao de imagem: da para colocar escala de 0-5\n",
    "# 58-Zoom: da para colocar escala de 0-5\n",
    "# 60-Sensor BSI: se tem é bom"
   ]
  },
  {
   "cell_type": "code",
   "execution_count": 130,
   "metadata": {},
   "outputs": [],
   "source": [
    "# tecnical.loc[tecnical.loc[:,'Teclado Qwerty fisico'] == 'Teclado QWERTY Fixo']"
   ]
  }
 ],
 "metadata": {
  "kernelspec": {
   "display_name": "Python 3",
   "language": "python",
   "name": "python3"
  },
  "language_info": {
   "codemirror_mode": {
    "name": "ipython",
    "version": 3
   },
   "file_extension": ".py",
   "mimetype": "text/x-python",
   "name": "python",
   "nbconvert_exporter": "python",
   "pygments_lexer": "ipython3",
   "version": "3.8.1"
  },
  "toc": {
   "base_numbering": 1,
   "nav_menu": {},
   "number_sections": true,
   "sideBar": true,
   "skip_h1_title": false,
   "title_cell": "Table of Contents",
   "title_sidebar": "Contents",
   "toc_cell": false,
   "toc_position": {},
   "toc_section_display": true,
   "toc_window_display": false
  },
  "varInspector": {
   "cols": {
    "lenName": 16,
    "lenType": 16,
    "lenVar": 40
   },
   "kernels_config": {
    "python": {
     "delete_cmd_postfix": "",
     "delete_cmd_prefix": "del ",
     "library": "var_list.py",
     "varRefreshCmd": "print(var_dic_list())"
    },
    "r": {
     "delete_cmd_postfix": ") ",
     "delete_cmd_prefix": "rm(",
     "library": "var_list.r",
     "varRefreshCmd": "cat(var_dic_list()) "
    }
   },
   "types_to_exclude": [
    "module",
    "function",
    "builtin_function_or_method",
    "instance",
    "_Feature"
   ],
   "window_display": false
  }
 },
 "nbformat": 4,
 "nbformat_minor": 4
}
