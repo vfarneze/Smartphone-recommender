{
 "cells": [
  {
   "cell_type": "markdown",
   "metadata": {},
   "source": [
    "05-19-2020: Por enquanto, as tentativas de unir dados das bases de dados esta sendo difícil já que boa parte das informações de celulares não consegue ser encaixada com os seus respectivos preços. Por isso, optou-se por usar dados do site Jacotei.com,\n",
    "já que ele forneceria um MVP (Mínimo Produto Viável - É uma espécie de produto simplificado e sem implementação de todas as funcionalidade para teste de mercado/hipóteses de funcionalidade/etc) e com isso um protótipo do pipeline do modelo de ML"
   ]
  },
  {
   "cell_type": "code",
   "execution_count": 1,
   "metadata": {},
   "outputs": [],
   "source": [
    "import requests\n",
    "from bs4 import BeautifulSoup\n",
    "from tqdm import tqdm\n",
    "import numpy as np\n",
    "import pandas as pd\n",
    "import re\n",
    "from datetime import datetime\n",
    "import time\n",
    "from selenium import webdriver\n",
    "import math\n",
    "import matplotlib.pyplot as plt\n",
    "from unidecode import unidecode\n",
    "from sklearn.cluster import KMeans\n",
    "from sklearn.preprocessing import StandardScaler\n",
    "from sklearn.decomposition import PCA\n",
    "import seaborn as sns\n"
   ]
  },
  {
   "cell_type": "markdown",
   "metadata": {},
   "source": [
    "# Data extraction for Jacotei.com PART B"
   ]
  },
  {
   "cell_type": "markdown",
   "metadata": {},
   "source": [
    "## Data extraction"
   ]
  },
  {
   "cell_type": "markdown",
   "metadata": {},
   "source": [
    "Juntar as tabelas se mostrou infrutifero, a ideia agora é usar o jacotei..."
   ]
  },
  {
   "cell_type": "code",
   "execution_count": 2,
   "metadata": {
    "code_folding": [
     0
    ]
   },
   "outputs": [],
   "source": [
    "def get_soup_from_url(url):\n",
    "    \"\"\"This function gets an url and returns a bs4 soup\"\"\"\n",
    "    \n",
    "    headers = {\n",
    "            'user-agent': 'Mozilla/5.0 (Macintosh; Intel Mac OS X 10_11_6) AppleWebKit/537.36 (KHTML, like Gecko) Chrome/56.0.2924.87 Safari/537.36',\n",
    "        }\n",
    "    response = requests.get(url,headers=headers)\n",
    "    soup = BeautifulSoup(response.content)\n",
    "    return soup"
   ]
  },
  {
   "cell_type": "code",
   "execution_count": 3,
   "metadata": {
    "code_folding": [
     0
    ]
   },
   "outputs": [],
   "source": [
    "def plain_columns(dataframe):\n",
    "    \"\"\"This function removes accentuation from columns names and lowers letters.\n",
    "    Receives a dataframe and returns the treated DataFrame\"\"\"\n",
    "\n",
    "    \n",
    "    from unidecode import unidecode\n",
    "    \n",
    "    unidecode_dict = {}\n",
    "    for col in dataframe.columns.tolist():\n",
    "        unidecode_dict[col] = unidecode(col).lower()\n",
    "    dataframe.rename(columns=unidecode_dict, inplace=True)        \n",
    "    \n",
    "    return dataframe"
   ]
  },
  {
   "cell_type": "code",
   "execution_count": 4,
   "metadata": {},
   "outputs": [],
   "source": [
    "jacotei = pd.read_csv('../pipeline/data_storage/temp/toDB2020-05-21.csv', encoding='cp1252')"
   ]
  },
  {
   "cell_type": "code",
   "execution_count": 5,
   "metadata": {
    "code_folding": [
     0
    ]
   },
   "outputs": [],
   "source": [
    "def extract_data_from_each_smartphone_link(main_dataframe, link_column_name, backup_path):\n",
    "    \"\"\"This function receives a dataframe result from the extractions of the main pages of smartphones from\n",
    "    maiscelular.com and extract information from each smartphone and returns it as a dataframe.\n",
    "    It also saves a dataframe in a backup. It there is no backup, it starts from the beginning,\n",
    "    however, in the contrary case, it loads the backup and restarts from where it stopped.\"\"\"\n",
    "    \n",
    "    # load backup\n",
    "    try:\n",
    "        backup = pd.read_csv(backup_path, encoding='utf-8')\n",
    "    except:\n",
    "        columns = ['link']\n",
    "        backup = pd.DataFrame(columns = columns)\n",
    "    \n",
    "    new_results = backup.copy()\n",
    "    \n",
    "    # check which links will be searched\n",
    "    links_already_searched = backup.link.unique()\n",
    "    mask = main_dataframe.loc[:,link_column_name].apply(lambda x: x not in links_already_searched)\n",
    "    links_not_searched = main_dataframe.loc[mask].loc[:,link_column_name]\n",
    "    \n",
    "    if len(links_not_searched) == 0:\n",
    "        print('There are no new smartphones to extract!')\n",
    "        return backup \n",
    "    \n",
    "    print(f'Extracting information from {len(links_not_searched)} new smartphones...')\n",
    "    time.sleep(1)\n",
    "    \n",
    "    for link in tqdm(links_not_searched):\n",
    "        \n",
    "        try:\n",
    "            #extract\n",
    "            df_html = pd.read_html(link,encoding='utf-8')[0]\n",
    "            #treat\n",
    "            df_html = df_html.set_index(df_html.columns[0]).T\n",
    "            df_html = plain_columns(df_html)\n",
    "            df_html['html_error'] = False\n",
    "        except:\n",
    "            df_html = pd.DataFrame({'html_error': True}, index=[0])\n",
    "        \n",
    "        #add link\n",
    "        df_html['link'] = link\n",
    "        \n",
    "        # add to the final result and backup\n",
    "        new_results = pd.concat([new_results, df_html], ignore_index=True).reset_index(drop=True)\n",
    "        new_results.to_csv(backup_path, encoding='utf-8', index=False)\n",
    "    \n",
    "    return new_results"
   ]
  },
  {
   "cell_type": "code",
   "execution_count": 6,
   "metadata": {},
   "outputs": [
    {
     "name": "stdout",
     "output_type": "stream",
     "text": [
      "Extracting information from 3 new smartphones...\n"
     ]
    },
    {
     "name": "stderr",
     "output_type": "stream",
     "text": [
      "100%|██████████| 3/3 [00:05<00:00,  1.75s/it]\n"
     ]
    }
   ],
   "source": [
    "extracted = extract_data_from_each_smartphone_link(main_dataframe=jacotei,\n",
    "                                                    link_column_name = 'link_anuncio',\n",
    "                                                    backup_path='jacotei_backup.csv')"
   ]
  },
  {
   "cell_type": "markdown",
   "metadata": {},
   "source": [
    "## Merging data with original DataFrame & removing failed extracted rows"
   ]
  },
  {
   "cell_type": "code",
   "execution_count": 7,
   "metadata": {},
   "outputs": [],
   "source": [
    "data = pd.merge(left=jacotei, right=extracted,left_on='link_anuncio', right_on='link')\n",
    "\n",
    "#filtering the smartphones which the extraction did work\n",
    "data = data.loc[~data.html_error]"
   ]
  },
  {
   "cell_type": "code",
   "execution_count": 8,
   "metadata": {},
   "outputs": [],
   "source": [
    "backup = data.copy()"
   ]
  },
  {
   "cell_type": "markdown",
   "metadata": {},
   "source": [
    "## Treating data"
   ]
  },
  {
   "cell_type": "code",
   "execution_count": 9,
   "metadata": {
    "code_folding": []
   },
   "outputs": [],
   "source": [
    "# lower all strings and remove accentuation\n",
    "data = data.applymap(lambda x: unidecode(x.lower()) if type(x) == str else x)\n",
    "\n",
    "#columns with 99% missing data and bateria em conversacao (88% missing)\n",
    "delcols = ['processador','tamanho da tela','resolucao da tela','tecnologia da tela','slot de expansao',\n",
    "           'marca','1x','2x','3x','4x','5x','6x','7x','8x','9x','10x','total de r$ 629,00 parcelado sem juros',\n",
    "           'nome','garantia (meses)','peso produto','cest','unidade de medida','cor principal','bateria em conversacao',\n",
    "           'quantidade de imeis','lastro','camada','certificado anatel','dimensoes do produto','bateria']\n",
    "\n",
    "data = data.drop(columns=delcols)\n",
    "\n",
    "#unused columns: they are irrelevant to the scope\n",
    "data = data.drop(columns=['link','sugestoes','maior_preco','destino_do_link', 'link_anuncio', \n",
    "                          'timestamp', 'smartphone','modelo', 'operadora','html_error'])\n",
    "\n",
    "#remove cents from prices and convert price for integer\n",
    "data.loc[:, 'menor_preco'] = data.loc[:, 'menor_preco'].apply(lambda x: x.split(',')[0].split('r$')[1].strip())\n",
    "data.loc[:, 'menor_preco'] = data.loc[:, 'menor_preco'].apply(lambda x: int(x.split('.')[0] + x.split('.')[1]) if '.' in x else int(x))\n",
    "\n",
    "#change all commas to dots\n",
    "data = data.applymap(lambda x: x.replace(',','.') if ',' in str(x) else x)\n",
    "\n",
    "#mudar parametros numericos (com unidades) para floats apenas\n",
    "# tela:polegada,camera traseira:megapixels, camera selfie:megapixels, \n",
    "# altura:cm, largura:cm, profundidade:cm, memoria interna:GB, peso:g\n",
    "colunas_numéricas = ['tela', 'camera traseira', 'camera selfie', 'altura', 'largura', 'profundidade', 'memoria interna', 'peso']\n",
    "\n",
    "#recording columns of memoria interna which are in MB and change them later to GB\n",
    "mask_megabytes = data.loc[:,'memoria interna'].apply(lambda x: 'MB' in str(x))\n",
    "data.loc[:,colunas_numéricas] = data.loc[:,colunas_numéricas].applymap(lambda x: float(re.sub('[^0-9.\\-]','',x)) if type(x) == str else x)\n",
    "\n",
    "#converting MG to GB\n",
    "data.loc[mask_megabytes,'memoria interna'] = data.loc[mask_megabytes,'memoria interna']/1024\n",
    "\n",
    "#simplifying the 'data_anuncio': getting only the years\n",
    "data.loc[:,'data_anuncio'] = data.loc[:,'data_anuncio'].apply(lambda x: int(x.split('/')[1]))\n",
    "\n",
    "# replace info in sistema operacional: x for 10\n",
    "data.loc[:,'sistema operacional'] = data.loc[:,'sistema operacional'].apply(lambda x: x.replace('x','10') if 'x' in str(x) else x)"
   ]
  },
  {
   "cell_type": "markdown",
   "metadata": {},
   "source": [
    "**arranging operational system**"
   ]
  },
  {
   "cell_type": "code",
   "execution_count": 10,
   "metadata": {
    "code_folding": [
     0
    ]
   },
   "outputs": [],
   "source": [
    "def osys(x, os):\n",
    "    \n",
    "    if os in str(x):\n",
    "        try:\n",
    "            return float(re.sub('[^0-9.\\-]','',x))\n",
    "        except:\n",
    "            if 'oreo' in str(x):\n",
    "                return 8.0\n",
    "    else:\n",
    "        return 0"
   ]
  },
  {
   "cell_type": "code",
   "execution_count": 11,
   "metadata": {
    "code_folding": [
     0
    ]
   },
   "outputs": [],
   "source": [
    "# adding operational system\n",
    "data['android'] = data.loc[:,'sistema operacional'].apply(lambda x: osys(x,'android'))\n",
    "data['ios'] = data.loc[:,'sistema operacional'].apply(lambda x: osys(x,'ios'))\n",
    "data['wind'] = data.loc[:,'sistema operacional'].apply(lambda x: osys(x,'wind'))\n",
    "data = data.drop(columns='sistema operacional')"
   ]
  },
  {
   "cell_type": "markdown",
   "metadata": {},
   "source": [
    "**Changing Yes for 1 and No for zero**"
   ]
  },
  {
   "cell_type": "code",
   "execution_count": 12,
   "metadata": {},
   "outputs": [],
   "source": [
    "#changing 'Sim' for 1. Notice! NaN were converted to zero!\n",
    "data.iloc[:,[4, 5, 6, 9, 13,18]] = data.iloc[:,[4, 5, 6, 9, 13,18]].applymap(lambda x: 1 if 'sim' in str(x) else 0)"
   ]
  },
  {
   "cell_type": "markdown",
   "metadata": {},
   "source": [
    "**removal of 'conexoes', 'funcoes'**"
   ]
  },
  {
   "cell_type": "code",
   "execution_count": 13,
   "metadata": {},
   "outputs": [],
   "source": [
    "#those columns will be removed for now but can be used to generate more info later\n",
    "data = data.drop(columns = ['conexoes', 'funcoes'])"
   ]
  },
  {
   "cell_type": "markdown",
   "metadata": {},
   "source": [
    "**Removal of 'altura' and 'largura' (both 20% missing)**\n",
    "They are correlated to the size of the screen (tela)"
   ]
  },
  {
   "cell_type": "code",
   "execution_count": 14,
   "metadata": {},
   "outputs": [],
   "source": [
    "data = data.drop(columns = ['altura', 'largura'])"
   ]
  },
  {
   "cell_type": "markdown",
   "metadata": {},
   "source": [
    "### **Feature Generation: Let's check some variables that can be kept, modified or created**"
   ]
  },
  {
   "cell_type": "markdown",
   "metadata": {},
   "source": [
    "#### Generating variable: brand of smartphones (iphone, samsung, huawei, other_brand)"
   ]
  },
  {
   "cell_type": "markdown",
   "metadata": {},
   "source": [
    "This was based on the top 10 brands in the brazilian market (as of 2020)."
   ]
  },
  {
   "cell_type": "code",
   "execution_count": 15,
   "metadata": {
    "code_folding": [
     0
    ]
   },
   "outputs": [],
   "source": [
    "def brandfilter(x):\n",
    "    \"\"\"Receives a string of device information and returns a string related to the device brand that device belongs\"\"\"\n",
    "    \n",
    "    \n",
    "    topmarcas = ['samsung', 'apple', 'motorola', 'asus', 'lg', 'huawei', 'xiaomi', 'sony', 'lg', 'positivo', 'nokia']\n",
    "    \n",
    "    if 'iphone' in x:\n",
    "        return 'apple'\n",
    "    \n",
    "    else:\n",
    "        for marca in topmarcas:\n",
    "            if marca in x:\n",
    "                return marca\n",
    "        \n",
    "    return 'other'"
   ]
  },
  {
   "cell_type": "code",
   "execution_count": 16,
   "metadata": {},
   "outputs": [],
   "source": [
    "data['brand'] = data.loc[:,'modelo_celular'].apply(lambda x: brandfilter(x))"
   ]
  },
  {
   "cell_type": "markdown",
   "metadata": {},
   "source": [
    "#### *'recursos da tela'* ~60% missing"
   ]
  },
  {
   "cell_type": "markdown",
   "metadata": {},
   "source": [
    "são propriedades de um celular, é de se esperar que o nan seja que não foi importande cadastrar features na pagina do smartphone talvez?\n",
    "\n",
    "\n",
    "[nan, 'full hd', \"resistente a respingos d'agua\",\n",
    "'auto rotacao. full hd. multitouch', 'auto rotacao',\n",
    "\"auto rotacao. multitouch. resistente a respingos d'agua\",\n",
    "'force touch', 'curva', \"full hd. resistente a respingos d'agua\",\n",
    "'auto rotacao. multitouch. resistente a arranhoes',\n",
    "'resistente a arranhoes', 'auto rotacao. full hd', 'multitouch',\n",
    "'resistente a queda', '3d']"
   ]
  },
  {
   "cell_type": "code",
   "execution_count": 17,
   "metadata": {},
   "outputs": [],
   "source": [
    "data.loc[:,'recursos da tela'] = data.loc[:,'recursos da tela'].fillna('sem_recurso')"
   ]
  },
  {
   "cell_type": "code",
   "execution_count": 18,
   "metadata": {},
   "outputs": [],
   "source": [
    "features = ['sem_recurso','auto rotacao', 'multitouch', \"resistente a respingos d'agua\", 'force touch', 'curva', 'full hd', 'multitouch',\n",
    "'resistente a arranhoes', 'resistente a queda', '3d']"
   ]
  },
  {
   "cell_type": "code",
   "execution_count": 19,
   "metadata": {},
   "outputs": [],
   "source": [
    "for feature in features:\n",
    "    data[feature] = data.loc[:,'recursos da tela'].apply(lambda x: 1 if feature in x else 0)"
   ]
  },
  {
   "cell_type": "code",
   "execution_count": 20,
   "metadata": {},
   "outputs": [],
   "source": [
    "data = data.drop(columns='recursos da tela')"
   ]
  },
  {
   "cell_type": "markdown",
   "metadata": {},
   "source": [
    "#### Peso: fill with mean of each year\n",
    "Fill up NaNs based on the mean weight of each anuncio_year"
   ]
  },
  {
   "cell_type": "code",
   "execution_count": 21,
   "metadata": {},
   "outputs": [],
   "source": [
    "for year in data.data_anuncio.unique():\n",
    "    year_mask = data.data_anuncio == year\n",
    "    mean_of_year = data.loc[year_mask].peso.mean()\n",
    "    data.loc[year_mask, 'peso'] = data.loc[year_mask, 'peso'].fillna(mean_of_year)"
   ]
  },
  {
   "cell_type": "markdown",
   "metadata": {},
   "source": [
    "#### Profundidade: fill with mean of each year\n",
    "Fill up NaNs based on the mean width of each anuncio_year"
   ]
  },
  {
   "cell_type": "code",
   "execution_count": 22,
   "metadata": {},
   "outputs": [],
   "source": [
    "for year in data.data_anuncio.unique():\n",
    "    year_mask = data.data_anuncio == year\n",
    "    mean_of_year = data.loc[year_mask].profundidade.mean()\n",
    "    data.loc[year_mask, 'profundidade'] = data.loc[year_mask, 'profundidade'].fillna(mean_of_year)"
   ]
  },
  {
   "cell_type": "markdown",
   "metadata": {},
   "source": [
    "#### Cameras: fill with zero"
   ]
  },
  {
   "cell_type": "markdown",
   "metadata": {},
   "source": [
    "We will assume that the capabilities of the cameras that were not found (NaN) can be considered that the device does not has a camera:"
   ]
  },
  {
   "cell_type": "code",
   "execution_count": 23,
   "metadata": {},
   "outputs": [],
   "source": [
    "data.loc[:,['camera traseira','camera selfie']] = data.loc[:,['camera traseira','camera selfie']].fillna(0)"
   ]
  },
  {
   "cell_type": "markdown",
   "metadata": {},
   "source": [
    "#### **Other missing**"
   ]
  },
  {
   "cell_type": "markdown",
   "metadata": {},
   "source": [
    "Here the approach would be to fill the missing values with 'not_informed'. The idea is that if the jacotei team did not fill certain information about a smartphone, that information is not that valuable for that smartphone..."
   ]
  },
  {
   "cell_type": "markdown",
   "metadata": {},
   "source": [
    "**Fill tecnologia with 'tec_not_informed'**"
   ]
  },
  {
   "cell_type": "code",
   "execution_count": 24,
   "metadata": {},
   "outputs": [],
   "source": [
    "data.loc[:, 'tecnologia'] = data.loc[:, 'tecnologia'].fillna('tec_not_informed')"
   ]
  },
  {
   "cell_type": "markdown",
   "metadata": {},
   "source": [
    "**Fill 'gravacao de video' with 'rec_capacity_not_informed'"
   ]
  },
  {
   "cell_type": "code",
   "execution_count": 25,
   "metadata": {},
   "outputs": [],
   "source": [
    "data.loc[:,'gravacao de video'] = data.loc[:,'gravacao de video'].fillna('rec_capacity_not_informed')"
   ]
  },
  {
   "cell_type": "markdown",
   "metadata": {},
   "source": [
    "**Fill 'memoria interna' based on 'modelo_celular**"
   ]
  },
  {
   "cell_type": "markdown",
   "metadata": {},
   "source": [
    "Some smartphone title (modelo_celular) have the amount of internal memmory which can be caught and used to fill the 'memoria interna' column"
   ]
  },
  {
   "cell_type": "code",
   "execution_count": 26,
   "metadata": {},
   "outputs": [],
   "source": [
    "def memmory(x):\n",
    "    \n",
    "    if 'gb' in x:\n",
    "        return int(re.findall('\\d+gb',x)[0].split('gb')[0])\n",
    "        \n",
    "    else:\n",
    "        return np.nan"
   ]
  },
  {
   "cell_type": "code",
   "execution_count": 27,
   "metadata": {},
   "outputs": [],
   "source": [
    "nan_mask = data.loc[:,'memoria interna'].isna()\n",
    "data.loc[nan_mask,'memoria interna'] = data.loc[nan_mask,'modelo_celular'].apply(lambda x:  memmory(x))"
   ]
  },
  {
   "cell_type": "markdown",
   "metadata": {},
   "source": [
    "#### Final check"
   ]
  },
  {
   "cell_type": "markdown",
   "metadata": {},
   "source": [
    "**Dropping any columns that has more than 95% missing**"
   ]
  },
  {
   "cell_type": "code",
   "execution_count": 28,
   "metadata": {},
   "outputs": [],
   "source": [
    "data = data.drop(columns=data.loc[:,data.isna().sum()/data.shape[0]*100 > 95].columns)"
   ]
  },
  {
   "cell_type": "code",
   "execution_count": 29,
   "metadata": {},
   "outputs": [
    {
     "data": {
      "text/plain": [
       "array(['barra', 'flip', nan, 'slider'], dtype=object)"
      ]
     },
     "execution_count": 29,
     "metadata": {},
     "output_type": "execute_result"
    }
   ],
   "source": [
    "data.formato.unique()"
   ]
  },
  {
   "cell_type": "code",
   "execution_count": 30,
   "metadata": {},
   "outputs": [
    {
     "name": "stdout",
     "output_type": "stream",
     "text": [
      "Percentage of Missing values: \n",
      "\n"
     ]
    },
    {
     "data": {
      "text/plain": [
       "tela               3.594771\n",
       "formato            1.225490\n",
       "memoria interna    6.372549\n",
       "dtype: float64"
      ]
     },
     "execution_count": 30,
     "metadata": {},
     "output_type": "execute_result"
    }
   ],
   "source": [
    "columns_with_nan = data.loc[:, data.isna().sum()/data.shape[0] > 0].columns\n",
    "print('Percentage of Missing values: \\n')\n",
    "data[columns_with_nan].isna().sum()/data.shape[0]*100"
   ]
  },
  {
   "cell_type": "markdown",
   "metadata": {},
   "source": [
    "**Adding the links back**"
   ]
  },
  {
   "cell_type": "code",
   "execution_count": 31,
   "metadata": {},
   "outputs": [
    {
     "data": {
      "text/html": [
       "<div>\n",
       "<style scoped>\n",
       "    .dataframe tbody tr th:only-of-type {\n",
       "        vertical-align: middle;\n",
       "    }\n",
       "\n",
       "    .dataframe tbody tr th {\n",
       "        vertical-align: top;\n",
       "    }\n",
       "\n",
       "    .dataframe thead th {\n",
       "        text-align: right;\n",
       "    }\n",
       "</style>\n",
       "<table border=\"1\" class=\"dataframe\">\n",
       "  <thead>\n",
       "    <tr style=\"text-align: right;\">\n",
       "      <th></th>\n",
       "      <th>index</th>\n",
       "      <th>link_anuncio</th>\n",
       "    </tr>\n",
       "  </thead>\n",
       "  <tbody>\n",
       "    <tr>\n",
       "      <th>0</th>\n",
       "      <td>0</td>\n",
       "      <td>https://www.jacotei.com.br/smartphone-samsung-...</td>\n",
       "    </tr>\n",
       "    <tr>\n",
       "      <th>1</th>\n",
       "      <td>1</td>\n",
       "      <td>https://www.jacotei.com.br/smartphone-huawei-p...</td>\n",
       "    </tr>\n",
       "    <tr>\n",
       "      <th>2</th>\n",
       "      <td>13</td>\n",
       "      <td>https://www.jacotei.com.br/iphone-11-pro-max-a...</td>\n",
       "    </tr>\n",
       "    <tr>\n",
       "      <th>3</th>\n",
       "      <td>14</td>\n",
       "      <td>https://www.jacotei.com.br/iphone-x-apple-256g...</td>\n",
       "    </tr>\n",
       "    <tr>\n",
       "      <th>4</th>\n",
       "      <td>18</td>\n",
       "      <td>https://www.jacotei.com.br/iphone-11-pro-max-a...</td>\n",
       "    </tr>\n",
       "  </tbody>\n",
       "</table>\n",
       "</div>"
      ],
      "text/plain": [
       "   index                                       link_anuncio\n",
       "0      0  https://www.jacotei.com.br/smartphone-samsung-...\n",
       "1      1  https://www.jacotei.com.br/smartphone-huawei-p...\n",
       "2     13  https://www.jacotei.com.br/iphone-11-pro-max-a...\n",
       "3     14  https://www.jacotei.com.br/iphone-x-apple-256g...\n",
       "4     18  https://www.jacotei.com.br/iphone-11-pro-max-a..."
      ]
     },
     "execution_count": 31,
     "metadata": {},
     "output_type": "execute_result"
    }
   ],
   "source": [
    "backup.loc[:,['link_anuncio']].head().reset_index()"
   ]
  },
  {
   "cell_type": "code",
   "execution_count": 32,
   "metadata": {},
   "outputs": [],
   "source": [
    "results = pd.merge(data,backup.loc[:,['link_anuncio']],left_index=True, right_index=True)"
   ]
  },
  {
   "cell_type": "markdown",
   "metadata": {},
   "source": [
    "**Storing changes**"
   ]
  },
  {
   "cell_type": "code",
   "execution_count": 33,
   "metadata": {},
   "outputs": [],
   "source": [
    "results.to_csv('devices.csv')"
   ]
  }
 ],
 "metadata": {
  "kernelspec": {
   "display_name": "Python 3",
   "language": "python",
   "name": "python3"
  },
  "language_info": {
   "codemirror_mode": {
    "name": "ipython",
    "version": 3
   },
   "file_extension": ".py",
   "mimetype": "text/x-python",
   "name": "python",
   "nbconvert_exporter": "python",
   "pygments_lexer": "ipython3",
   "version": "3.8.1"
  },
  "toc": {
   "base_numbering": 1,
   "nav_menu": {},
   "number_sections": true,
   "sideBar": true,
   "skip_h1_title": false,
   "title_cell": "Table of Contents",
   "title_sidebar": "Contents",
   "toc_cell": false,
   "toc_position": {},
   "toc_section_display": true,
   "toc_window_display": false
  },
  "varInspector": {
   "cols": {
    "lenName": 16,
    "lenType": 16,
    "lenVar": 40
   },
   "kernels_config": {
    "python": {
     "delete_cmd_postfix": "",
     "delete_cmd_prefix": "del ",
     "library": "var_list.py",
     "varRefreshCmd": "print(var_dic_list())"
    },
    "r": {
     "delete_cmd_postfix": ") ",
     "delete_cmd_prefix": "rm(",
     "library": "var_list.r",
     "varRefreshCmd": "cat(var_dic_list()) "
    }
   },
   "types_to_exclude": [
    "module",
    "function",
    "builtin_function_or_method",
    "instance",
    "_Feature"
   ],
   "window_display": false
  }
 },
 "nbformat": 4,
 "nbformat_minor": 4
}
