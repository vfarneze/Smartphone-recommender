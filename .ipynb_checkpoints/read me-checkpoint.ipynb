{
 "cells": [
  {
   "cell_type": "markdown",
   "metadata": {},
   "source": [
    "# Projeto final - app de receitas"
   ]
  },
  {
   "cell_type": "code",
   "execution_count": null,
   "metadata": {},
   "outputs": [],
   "source": [
    "to do list:\n",
    "    - pegar a estatistica de quais motivos levam pessoas a buscarem novos celulares\n",
    "    - estatistica de venda de celulares no e-commerce e lojas físicas"
   ]
  },
  {
   "cell_type": "markdown",
   "metadata": {},
   "source": [
    "### Do que se trata?"
   ]
  },
  {
   "cell_type": "markdown",
   "metadata": {},
   "source": [
    "App de recomendação de smartphone. Um aplicativo onde o usuário insere o preço que quer pagar no seu próximo smartphone e o aplicativo o recomenda um aparelho com o melhor custo-benefício e com preço mais próximo possível do desejado."
   ]
  },
  {
   "cell_type": "markdown",
   "metadata": {},
   "source": [
    "### Como tomei a decisão de usar esse app como projeto final?"
   ]
  },
  {
   "cell_type": "markdown",
   "metadata": {},
   "source": [
    "Inicialmente, eu gostaria de criar algo que fosse útil a sociedade e com aplicação prática."
   ]
  },
  {
   "cell_type": "markdown",
   "metadata": {},
   "source": [
    "### O que pretendo atingir com essa ideia?"
   ]
  },
  {
   "cell_type": "markdown",
   "metadata": {},
   "source": [
    "- Facilitar a vida das pessoas que não possuem tempo ou paciência para para pesquisar sobre celulares.\n",
    "- Ajudar as pessoas sem muito recursos a conseguirem o melhor smartphone pelo menor preço.\n",
    "- Facilitar o acesso à informações de celulares e disponibilizar seus preços e tendências o mais completo possível."
   ]
  },
  {
   "cell_type": "markdown",
   "metadata": {},
   "source": [
    "### De onde a ideia surgiu?"
   ]
  },
  {
   "cell_type": "markdown",
   "metadata": {},
   "source": [
    "Essa ideia surgiu a partir de uma experiência que tive no início do ano, em que meu celular quebrou e com a necessidade de adquirir um novo, não havia tempo para pesquisar a fundo o aparelho com melhor custo benefício para o quanto eu estava podendo pagar.Se deslocar até um shopping center, conversar com diversos vendedores e pesquisar preços pode gastar uma tarde inteira..."
   ]
  },
  {
   "cell_type": "markdown",
   "metadata": {},
   "source": [
    "### Por que app?"
   ]
  },
  {
   "cell_type": "markdown",
   "metadata": {},
   "source": [
    "Smartphones hoje são peças fundamentais no dia a dia do mundo globalizado e suas funcionalidades aumentam nossa qualidade de vida cada dia mais. Ao mesmo tempo, nossa dependência a eles aumenta dia a dia e é imprático não possuir um."
   ]
  },
  {
   "cell_type": "markdown",
   "metadata": {},
   "source": [
    "A situação de pandemia global está convertendo parte do comércio presencial para plataformas online. Isso diminui a disponibilidade de vendedores que possam orientar clientes em suas compras, o que aumenta a importancia do acesso à informação nas plataformas online."
   ]
  },
  {
   "cell_type": "code",
   "execution_count": null,
   "metadata": {},
   "outputs": [],
   "source": []
  },
  {
   "cell_type": "code",
   "execution_count": null,
   "metadata": {},
   "outputs": [],
   "source": [
    "- A pessoa tem que poder colocar poucas coisas ou tudo!\n",
    "- qual celular voce tem? (marca)\n",
    "- Como variam os precos de celulares no brasil? o que influenciam os preços\n",
    "- gera em graficos quais\n",
    "- quais e-commerces vendem mais caro celular? quais os barateiros?\n",
    "- qual melhor momento de comprar celulares?\n"
   ]
  },
  {
   "cell_type": "code",
   "execution_count": null,
   "metadata": {},
   "outputs": [],
   "source": []
  },
  {
   "cell_type": "markdown",
   "metadata": {},
   "source": [
    "Old notes\n",
    "\n",
    "problemas encontrados:\n",
    "    - cada website tem html diferente\n",
    "    - cada website da dados de forma diferente\n",
    "    - Propor uma estrutura de flow de dados\n",
    "    - que colunas usar?\n",
    "    \n",
    "Problemas velhos que foram deixados de lado, depois que passei a usar o jacotei como main source para o pipeline e modelo.\n",
    "- fichas tecnicas dos celulares\n",
    "- linkar com os celulares obtidos nos sites que vendem\n",
    "- bug das colunas clonadas (solucionado: foi uma gambiarra que fiz no codigo que gerava isso)\n",
    "- estrategia: se houvesse uma prop. no passado que nao tem nos atuais, ela eh descartada\n",
    "- descobri maneira interessantes de add novas infos p/ df final. + facil transformar em dict e dempois addicionar (esse problema nao acontece com pd.concat, ja que ele cria as colunas para todos e os rows que nao tem infos para essas colunas o pandas preenche com NaN)\n",
    "- diff: saber qual propriedade técnica é importante/relevante e como traduzila ao modelo. Algumas qualidades sao traduzidas por custo/ano de lançamento (?)"
   ]
  },
  {
   "cell_type": "code",
   "execution_count": null,
   "metadata": {},
   "outputs": [],
   "source": []
  },
  {
   "cell_type": "markdown",
   "metadata": {},
   "source": [
    "### Inicio da jornada"
   ]
  },
  {
   "cell_type": "markdown",
   "metadata": {},
   "source": [
    "Planejou-se inicialmente:\n",
    "- webs craping de alguns websites para "
   ]
  },
  {
   "cell_type": "code",
   "execution_count": null,
   "metadata": {},
   "outputs": [],
   "source": []
  },
  {
   "cell_type": "markdown",
   "metadata": {},
   "source": [
    "A ideia começou simples, reduzir desperdício de alimentos que estão na geladeira, e tem destino de ir pro lixo, pq não sabemos como utilizá-los sem outros ingredientes específicos das receitas de sempre. Bom, não precisamos mais ficar presos à essas receitas."
   ]
  },
  {
   "cell_type": "markdown",
   "metadata": {},
   "source": [
    "Precisamos de um app simples, fácil de mexer, que traga receitas bacanas, de forma padronizada, para que todos consigam fazer em casa, e com imagens, para quem tiver vendo poder saber como fica o resultado final.\n",
    "Melhor ainda se todos puderem compartilhar receitas de sucesso, ou de familia uns com os outros."
   ]
  },
  {
   "cell_type": "markdown",
   "metadata": {},
   "source": [
    "Obs. A principio estou fazendo um site para o projeto, mas a ideia, é dar continuidade nesse projeto depois do curso."
   ]
  },
  {
   "cell_type": "markdown",
   "metadata": {},
   "source": [
    "### Como deve ser o app?"
   ]
  },
  {
   "cell_type": "markdown",
   "metadata": {},
   "source": [
    "Pegar um site ou dataset com receitas selecionadas (dentro de certos padrões) para divulgar pelo app no intuito de oferecer melhores soluções pra quem usa o app. "
   ]
  },
  {
   "cell_type": "markdown",
   "metadata": {},
   "source": [
    "Usar receitas de outros países, que não sejam tão conhecidas aqui no Brasil, mas que possam ser feitas a partir de ingredientes fáceis de encontrar em qualquer mercado próximo"
   ]
  },
  {
   "cell_type": "markdown",
   "metadata": {},
   "source": [
    "Ter um perfil no app pra cada pessoa, para que as receitas fiquem salvas no app, pra poder acessá-la novamente com facilidade."
   ]
  },
  {
   "cell_type": "markdown",
   "metadata": {},
   "source": [
    "Fazer com que o app, seja, além de um app de receitas, uma rede social também, dessa forma, é possível adicionar novas pessoas (cada uma com uma nova “playlist” de receitas."
   ]
  },
  {
   "cell_type": "markdown",
   "metadata": {},
   "source": [
    "Obs. A principio estou fazendo um site para o projeto, mas a ideia, é dar continuidade nesse projeto depois do curso."
   ]
  },
  {
   "cell_type": "markdown",
   "metadata": {},
   "source": [
    "### Como usar o app?"
   ]
  },
  {
   "cell_type": "markdown",
   "metadata": {},
   "source": [
    "- Fazer um cadastro no site (ou app)\n",
    "- logar na conta\n",
    "- Busca de receitas\n",
    "- Ter sugestões de receitas selecionadas"
   ]
  },
  {
   "cell_type": "markdown",
   "metadata": {},
   "source": [
    "### Para depois do projeto na Ironhack"
   ]
  },
  {
   "cell_type": "markdown",
   "metadata": {},
   "source": [
    "- Baixar o app\n",
    "- Fazer o cadastro (pode ser pelo Facebook)\n",
    "- Recebe automaticamente um email de boas vindas mostrando os primeiros passos pra usar o app e um vídeo \n",
    "- Ao acessar o app, selecionar 1 das 3 telas e navegar pelo site\n",
    "- Criar FAQ com vídeos de “Como postar uma receita” \n",
    "- Criar aba de técnicas culinárias"
   ]
  },
  {
   "cell_type": "markdown",
   "metadata": {},
   "source": [
    "### Como padronizar as receitas? (caso possibilite das pessoas postarem receitas próprias)"
   ]
  },
  {
   "cell_type": "markdown",
   "metadata": {},
   "source": [
    "- Criar um forms pra quem quiser postar a receita, seguir os mesmos padrões. \n",
    "- Os ingredientes devem aparecer para serem cadastrados no app como tópicos (como lista no ‘keep’)\n",
    "- O app deve reconhecer palavras como “xícara”, e substituir por ‘xic’ e “colher” por ‘col’ ou pelo desenho da xícara e da colher por exemplo.\n",
    "- O modo de preparo também deve ser colocado como tópicos, com frases.\n",
    "- podem ser postadas no máximo 2 ou 3 fotos por receita, e no máximo 1 vídeo de até 5 minutos. ( podendo ser atualizado pelo criador a qualquer momento\n",
    "- Setar o app para que todos os itens da receita fiquem na mesma ordem.\n"
   ]
  },
  {
   "cell_type": "markdown",
   "metadata": {},
   "source": [
    "### Como é formado o banco de dados? (a principio, selecionado por mim)"
   ]
  },
  {
   "cell_type": "markdown",
   "metadata": {},
   "source": [
    "- Dani Noce (youtube + livro)\n",
    "- Raiza Costa (youtube + livro)\n",
    "- Ana Maria Braga (usa receitas de outras pessoas - devo usar?)  - (livro)\n",
    "- Rita lobo (TV + Livros + youtube)\n",
    "- Preppy kitchen (youtube)\n",
    "\n",
    "- Obs. 1 - Selecionar receitas que sejam realmente boas, com poucos ingredientes e um modo de preparo não tão difícil. \n",
    "- Obs. 2 - Checar possibilidade do usuário selecionar receita pelo nivel facil, medio ou dificil\n"
   ]
  },
  {
   "cell_type": "markdown",
   "metadata": {},
   "source": [
    "### Montando o código:"
   ]
  },
  {
   "cell_type": "markdown",
   "metadata": {},
   "source": [
    "- Localizar sites para extrair a informação (webscraping) \n",
    "- limpar os datasets (tratar os dados)\n",
    "- Criar código para que o usuario digite o ingred. e localize a receita pelo ingred. \n",
    "- Criar sistema de recomendação de receitas pra essa pessoa\n",
    "- Importar mais receitas (aumentar o Dataset) - opcional\n",
    "- Fazer Deploy\n",
    "- Montar apresentação\n"
   ]
  },
  {
   "cell_type": "markdown",
   "metadata": {},
   "source": [
    "### Metas de alcance de pessoas com o app"
   ]
  },
  {
   "cell_type": "markdown",
   "metadata": {},
   "source": [
    "- O maior app de receitas por ingredientes no Brasil hoje (19/05), tem aproximadamente 50 mil downloads. \n",
    "- Meta 1 - \n",
    "- Meta 2 - \n",
    "- Meta 3 - \n",
    "- Meta 4 - "
   ]
  },
  {
   "cell_type": "markdown",
   "metadata": {},
   "source": [
    "### Ideias futuras para esse projeto"
   ]
  },
  {
   "cell_type": "markdown",
   "metadata": {},
   "source": [
    "- busca de receita\n",
    "- rede social\n",
    "- sistema de recomendação\n",
    "- verificador de preços"
   ]
  },
  {
   "cell_type": "code",
   "execution_count": null,
   "metadata": {},
   "outputs": [],
   "source": []
  }
 ],
 "metadata": {
  "kernelspec": {
   "display_name": "Python 3",
   "language": "python",
   "name": "python3"
  },
  "language_info": {
   "codemirror_mode": {
    "name": "ipython",
    "version": 3
   },
   "file_extension": ".py",
   "mimetype": "text/x-python",
   "name": "python",
   "nbconvert_exporter": "python",
   "pygments_lexer": "ipython3",
   "version": "3.8.1"
  },
  "toc": {
   "base_numbering": 1,
   "nav_menu": {},
   "number_sections": true,
   "sideBar": true,
   "skip_h1_title": false,
   "title_cell": "Table of Contents",
   "title_sidebar": "Contents",
   "toc_cell": false,
   "toc_position": {},
   "toc_section_display": true,
   "toc_window_display": false
  },
  "varInspector": {
   "cols": {
    "lenName": 16,
    "lenType": 16,
    "lenVar": 40
   },
   "kernels_config": {
    "python": {
     "delete_cmd_postfix": "",
     "delete_cmd_prefix": "del ",
     "library": "var_list.py",
     "varRefreshCmd": "print(var_dic_list())"
    },
    "r": {
     "delete_cmd_postfix": ") ",
     "delete_cmd_prefix": "rm(",
     "library": "var_list.r",
     "varRefreshCmd": "cat(var_dic_list()) "
    }
   },
   "types_to_exclude": [
    "module",
    "function",
    "builtin_function_or_method",
    "instance",
    "_Feature"
   ],
   "window_display": false
  }
 },
 "nbformat": 4,
 "nbformat_minor": 4
}
