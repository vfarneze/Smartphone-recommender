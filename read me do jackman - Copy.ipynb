{
 "cells": [
  {
   "cell_type": "markdown",
   "metadata": {},
   "source": [
    "# Projeto final - app de receitas"
   ]
  },
  {
   "cell_type": "markdown",
   "metadata": {},
   "source": [
    "### Do que se trata?"
   ]
  },
  {
   "cell_type": "markdown",
   "metadata": {},
   "source": [
    "App de receitas, que permite buscar a receita tanto pelo nome da receita quanto por ingredientes aleatórios. Uma das ideias do app é trazer comodidade pro usuario,m ao mesmo tempo que disponibiliza que o cliente busque uma receita pra que algum ingrediente nao estrague no armário ou na geladeira."
   ]
  },
  {
   "cell_type": "markdown",
   "metadata": {},
   "source": [
    "### Como tomei a decisão de usar esse app como projeto final?"
   ]
  },
  {
   "cell_type": "markdown",
   "metadata": {},
   "source": [
    "A princípio, eu estava em duvida entre um app de economia, que mostre o quão saudável está a economia que tem, considerando ganhos e gastos periódicos, ou esse app de culinária, que mostra receitas a partir de ingredientes que se tem em casa."
   ]
  },
  {
   "cell_type": "markdown",
   "metadata": {},
   "source": [
    "Optei pelo app de receitas, por ser uma paixão, algo que sempre vai falar mais alto em mim. "
   ]
  },
  {
   "cell_type": "markdown",
   "metadata": {},
   "source": [
    "### O que pretendo atingir com essa ideia?"
   ]
  },
  {
   "cell_type": "markdown",
   "metadata": {},
   "source": [
    "- Facilitar a vida de pessoas responsáveis pela cozinha em casa\n",
    "- Criar um novo estilo de vida no Brasil\n",
    "- Aumentar o repertório de receitas feitas em casa\n",
    "- Compartilhar as melhores receitas de família\n",
    "- Diminuir o desperdício de alimentos nos lares brasileiras"
   ]
  },
  {
   "cell_type": "markdown",
   "metadata": {},
   "source": [
    "### De onde a ideia surgiu?"
   ]
  },
  {
   "cell_type": "markdown",
   "metadata": {},
   "source": [
    "O que me inspirou a criar esse app, foi ver que em casa, a gente sempre comia as mesmas coisas, toda semana, os mesmos pratos, ou com carne moída ou com frango ou linguiça, sempre preparados da mesma maneira, e sempre com arroz, feijão, e as vezes uma batata ou xuxu. Em certo momento, eu sentia que estava comendo ração, só pra me alimentar mesmo. O que me incomodava, era saber que existiam muitas outras possibilidades, e varios programas de culinaria na tv, fazer pratos diversificados com os mesmos ingredientes, isso ampliava os horizontes, novos sabores, novos tempeiros, varios canais de culinaria no youtube. \n",
    "\n"
   ]
  },
  {
   "cell_type": "markdown",
   "metadata": {},
   "source": [
    "### Por que app?"
   ]
  },
  {
   "cell_type": "markdown",
   "metadata": {},
   "source": [
    "Tv eh algo que prende um pouco a gente, com horarios e dias certos pra ver a receita, mas a vontade de comer algo bom, não tem dia e hora… no youtube, os apresentadores não postam as receitas certinhas, pois querem fzer com que a gente entre no site deles. É hora de uma nova alternativa!"
   ]
  },
  {
   "cell_type": "markdown",
   "metadata": {},
   "source": [
    "Obs. A principio estou fazendo um site para o projeto, mas a ideia, é dar continuidade nesse projeto depois do curso."
   ]
  },
  {
   "cell_type": "markdown",
   "metadata": {},
   "source": [
    "### Inicio da jornada"
   ]
  },
  {
   "cell_type": "markdown",
   "metadata": {},
   "source": [
    "A ideia começou simples, reduzir desperdício de alimentos que estão na geladeira, e tem destino de ir pro lixo, pq não sabemos como utilizá-los sem outros ingredientes específicos das receitas de sempre. Bom, não precisamos mais ficar presos à essas receitas."
   ]
  },
  {
   "cell_type": "markdown",
   "metadata": {},
   "source": [
    "Precisamos de um app simples, fácil de mexer, que traga receitas bacanas, de forma padronizada, para que todos consigam fazer em casa, e com imagens, para quem tiver vendo poder saber como fica o resultado final.\n",
    "Melhor ainda se todos puderem compartilhar receitas de sucesso, ou de familia uns com os outros."
   ]
  },
  {
   "cell_type": "markdown",
   "metadata": {},
   "source": [
    "### Como deve ser o app?"
   ]
  },
  {
   "cell_type": "markdown",
   "metadata": {},
   "source": [
    "Pegar um site ou dataset com receitas selecionadas (dentro de certos padrões) para divulgar pelo app no intuito de oferecer melhores soluções pra quem usa o app. "
   ]
  },
  {
   "cell_type": "markdown",
   "metadata": {},
   "source": [
    "Usar receitas de outros países, que não sejam tão conhecidas aqui no Brasil, mas que possam ser feitas a partir de ingredientes fáceis de encontrar em qualquer mercado próximo"
   ]
  },
  {
   "cell_type": "markdown",
   "metadata": {},
   "source": [
    "Ter um perfil no app pra cada pessoa, para que as receitas fiquem salvas no app, pra poder acessá-la novamente com facilidade."
   ]
  },
  {
   "cell_type": "markdown",
   "metadata": {},
   "source": [
    "Fazer com que o app, seja, além de um app de receitas, uma rede social também, dessa forma, é possível adicionar novas pessoas (cada uma com uma nova “playlist” de receitas."
   ]
  },
  {
   "cell_type": "markdown",
   "metadata": {},
   "source": [
    "Obs. A principio estou fazendo um site para o projeto, mas a ideia, é dar continuidade nesse projeto depois do curso."
   ]
  },
  {
   "cell_type": "markdown",
   "metadata": {},
   "source": [
    "### Como usar o app?"
   ]
  },
  {
   "cell_type": "markdown",
   "metadata": {},
   "source": [
    "- Fazer um cadastro no site (ou app)\n",
    "- logar na conta\n",
    "- Busca de receitas\n",
    "- Ter sugestões de receitas selecionadas"
   ]
  },
  {
   "cell_type": "markdown",
   "metadata": {},
   "source": [
    "### Para depois do projeto na Ironhack"
   ]
  },
  {
   "cell_type": "markdown",
   "metadata": {},
   "source": [
    "- Baixar o app\n",
    "- Fazer o cadastro (pode ser pelo Facebook)\n",
    "- Recebe automaticamente um email de boas vindas mostrando os primeiros passos pra usar o app e um vídeo \n",
    "- Ao acessar o app, selecionar 1 das 3 telas e navegar pelo site\n",
    "- Criar FAQ com vídeos de “Como postar uma receita” \n",
    "- Criar aba de técnicas culinárias"
   ]
  },
  {
   "cell_type": "markdown",
   "metadata": {},
   "source": [
    "### Como padronizar as receitas? (caso possibilite das pessoas postarem receitas próprias)"
   ]
  },
  {
   "cell_type": "markdown",
   "metadata": {},
   "source": [
    "- Criar um forms pra quem quiser postar a receita, seguir os mesmos padrões. \n",
    "- Os ingredientes devem aparecer para serem cadastrados no app como tópicos (como lista no ‘keep’)\n",
    "- O app deve reconhecer palavras como “xícara”, e substituir por ‘xic’ e “colher” por ‘col’ ou pelo desenho da xícara e da colher por exemplo.\n",
    "- O modo de preparo também deve ser colocado como tópicos, com frases.\n",
    "- podem ser postadas no máximo 2 ou 3 fotos por receita, e no máximo 1 vídeo de até 5 minutos. ( podendo ser atualizado pelo criador a qualquer momento\n",
    "- Setar o app para que todos os itens da receita fiquem na mesma ordem.\n"
   ]
  },
  {
   "cell_type": "markdown",
   "metadata": {},
   "source": [
    "### Como é formado o banco de dados? (a principio, selecionado por mim)"
   ]
  },
  {
   "cell_type": "markdown",
   "metadata": {},
   "source": [
    "- Dani Noce (youtube + livro)\n",
    "- Raiza Costa (youtube + livro)\n",
    "- Ana Maria Braga (usa receitas de outras pessoas - devo usar?)  - (livro)\n",
    "- Rita lobo (TV + Livros + youtube)\n",
    "- Preppy kitchen (youtube)\n",
    "\n",
    "- Obs. 1 - Selecionar receitas que sejam realmente boas, com poucos ingredientes e um modo de preparo não tão difícil. \n",
    "- Obs. 2 - Checar possibilidade do usuário selecionar receita pelo nivel facil, medio ou dificil\n"
   ]
  },
  {
   "cell_type": "markdown",
   "metadata": {},
   "source": [
    "### Montando o código:"
   ]
  },
  {
   "cell_type": "markdown",
   "metadata": {},
   "source": [
    "- Localizar sites para extrair a informação (webscraping) \n",
    "- limpar os datasets (tratar os dados)\n",
    "- Criar código para que o usuario digite o ingred. e localize a receita pelo ingred. \n",
    "- Criar sistema de recomendação de receitas pra essa pessoa\n",
    "- Importar mais receitas (aumentar o Dataset) - opcional\n",
    "- Fazer Deploy\n",
    "- Montar apresentação\n"
   ]
  },
  {
   "cell_type": "markdown",
   "metadata": {},
   "source": [
    "### Metas de alcance de pessoas com o app"
   ]
  },
  {
   "cell_type": "markdown",
   "metadata": {},
   "source": [
    "- O maior app de receitas por ingredientes no Brasil hoje (19/05), tem aproximadamente 50 mil downloads. \n",
    "- Meta 1 - \n",
    "- Meta 2 - \n",
    "- Meta 3 - \n",
    "- Meta 4 - "
   ]
  },
  {
   "cell_type": "markdown",
   "metadata": {},
   "source": [
    "### Ideias futuras para esse projeto"
   ]
  },
  {
   "cell_type": "markdown",
   "metadata": {},
   "source": [
    "- busca de receita\n",
    "- rede social\n",
    "- sistema de recomendação\n",
    "- verificador de preços"
   ]
  },
  {
   "cell_type": "code",
   "execution_count": null,
   "metadata": {},
   "outputs": [],
   "source": []
  }
 ],
 "metadata": {
  "kernelspec": {
   "display_name": "Python 3",
   "language": "python",
   "name": "python3"
  },
  "language_info": {
   "codemirror_mode": {
    "name": "ipython",
    "version": 3
   },
   "file_extension": ".py",
   "mimetype": "text/x-python",
   "name": "python",
   "nbconvert_exporter": "python",
   "pygments_lexer": "ipython3",
   "version": "3.7.6"
  }
 },
 "nbformat": 4,
 "nbformat_minor": 4
}
